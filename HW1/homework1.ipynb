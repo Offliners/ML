{
  "nbformat": 4,
  "nbformat_minor": 0,
  "metadata": {
    "colab": {
      "name": "Untitled0.ipynb",
      "provenance": [],
      "toc_visible": true,
      "include_colab_link": true
    },
    "kernelspec": {
      "name": "python3",
      "display_name": "Python 3"
    },
    "accelerator": "GPU"
  },
  "cells": [
    {
      "cell_type": "markdown",
      "metadata": {
        "id": "view-in-github",
        "colab_type": "text"
      },
      "source": [
        "<a href=\"https://colab.research.google.com/github/Offliners/ML/blob/main/HW1/homework1.ipynb\" target=\"_parent\"><img src=\"https://colab.research.google.com/assets/colab-badge.svg\" alt=\"Open In Colab\"/></a>"
      ]
    },
    {
      "cell_type": "markdown",
      "metadata": {
        "id": "rPx9a5xqxyad"
      },
      "source": [
        "# **Homework 1: COVID-19 Cases Prediction (Regression)**\n",
        "\n",
        "Source: Delphi group @ CMU : A daily survey since April 2020 via facebook."
      ]
    },
    {
      "cell_type": "code",
      "metadata": {
        "colab": {
          "base_uri": "https://localhost:8080/"
        },
        "id": "CdNJJuSwxxq3",
        "outputId": "e8e28ae6-0a9a-4883-c345-75367fbde7e3"
      },
      "source": [
        "tr_path = 'covid.train.csv'  # path to training data\n",
        "tt_path = 'covid.test.csv'   # path to testing data\n",
        "\n",
        "!gdown --id '19CCyCgJrUxtvgZF53vnctJiOJ23T5mqF' --output covid.train.csv\n",
        "!gdown --id '1CE240jLm2npU-tdz81-oVKEF3T2yfT1O' --output covid.test.csv"
      ],
      "execution_count": 81,
      "outputs": [
        {
          "output_type": "stream",
          "text": [
            "Downloading...\n",
            "From: https://drive.google.com/uc?id=19CCyCgJrUxtvgZF53vnctJiOJ23T5mqF\n",
            "To: /content/covid.train.csv\n",
            "100% 2.00M/2.00M [00:00<00:00, 31.5MB/s]\n",
            "Downloading...\n",
            "From: https://drive.google.com/uc?id=1CE240jLm2npU-tdz81-oVKEF3T2yfT1O\n",
            "To: /content/covid.test.csv\n",
            "100% 651k/651k [00:00<00:00, 10.2MB/s]\n"
          ],
          "name": "stdout"
        }
      ]
    },
    {
      "cell_type": "markdown",
      "metadata": {
        "id": "nBx0SXcYx519"
      },
      "source": [
        "## **Import Some Packages**"
      ]
    },
    {
      "cell_type": "code",
      "metadata": {
        "id": "3DWPCjdEx8l1"
      },
      "source": [
        "# PyTorch\n",
        "import torch\n",
        "import torch.nn as nn\n",
        "from torch.utils.data import Dataset, DataLoader\n",
        "\n",
        "# For data preprocess\n",
        "import numpy as np\n",
        "import csv\n",
        "import os\n",
        "\n",
        "# For plotting\n",
        "import matplotlib.pyplot as plt\n",
        "from matplotlib.pyplot import figure\n",
        "\n",
        "myseed = 42069  # set a random seed for reproducibility\n",
        "torch.backends.cudnn.deterministic = True\n",
        "torch.backends.cudnn.benchmark = False\n",
        "np.random.seed(myseed)\n",
        "torch.manual_seed(myseed)\n",
        "if torch.cuda.is_available():\n",
        "    torch.cuda.manual_seed_all(myseed)"
      ],
      "execution_count": 82,
      "outputs": []
    },
    {
      "cell_type": "markdown",
      "metadata": {
        "id": "dbL79oVPyAcr"
      },
      "source": [
        "## **Some Utilities**"
      ]
    },
    {
      "cell_type": "code",
      "metadata": {
        "id": "1Ir0GGJeyCrE"
      },
      "source": [
        "def get_device():\n",
        "    ''' Get device (if GPU is available, use GPU) '''\n",
        "    return 'cuda' if torch.cuda.is_available() else 'cpu'\n",
        "\n",
        "def plot_learning_curve(loss_record, title=''):\n",
        "    ''' Plot learning curve of your DNN (train & dev loss) '''\n",
        "    total_steps = len(loss_record['train'])\n",
        "    x_1 = range(total_steps)\n",
        "    x_2 = x_1[::len(loss_record['train']) // len(loss_record['dev'])]\n",
        "    figure(figsize=(6, 4))\n",
        "    plt.plot(x_1, loss_record['train'], c='tab:red', label='train')\n",
        "    plt.plot(x_2, loss_record['dev'], c='tab:cyan', label='dev')\n",
        "    plt.ylim(0.0, 5.)\n",
        "    plt.xlabel('Training steps')\n",
        "    plt.ylabel('MSE loss')\n",
        "    plt.title('Learning curve of {}'.format(title))\n",
        "    plt.legend()\n",
        "    plt.grid()\n",
        "    plt.show()\n",
        "\n",
        "\n",
        "def plot_pred(dv_set, model, device, lim=35., preds=None, targets=None):\n",
        "    ''' Plot prediction of your DNN '''\n",
        "    if preds is None or targets is None:\n",
        "        model.eval()\n",
        "        preds, targets = [], []\n",
        "        for x, y in dv_set:\n",
        "            x, y = x.to(device), y.to(device)\n",
        "            with torch.no_grad():\n",
        "                pred = model(x)\n",
        "                preds.append(pred.detach().cpu())\n",
        "                targets.append(y.detach().cpu())\n",
        "        preds = torch.cat(preds, dim=0).numpy()\n",
        "        targets = torch.cat(targets, dim=0).numpy()\n",
        "\n",
        "    figure(figsize=(5, 5))\n",
        "    plt.scatter(targets, preds, c='r', alpha=0.5)\n",
        "    plt.plot([-0.2, lim], [-0.2, lim], c='b')\n",
        "    plt.xlim(-0.2, lim)\n",
        "    plt.ylim(-0.2, lim)\n",
        "    plt.xlabel('ground truth value')\n",
        "    plt.ylabel('predicted value')\n",
        "    plt.title('Ground Truth v.s. Prediction')\n",
        "    plt.grid()\n",
        "    plt.show()"
      ],
      "execution_count": 83,
      "outputs": []
    },
    {
      "cell_type": "markdown",
      "metadata": {
        "id": "qzhfgvkNyElA"
      },
      "source": [
        "## **Preprocess**\n",
        "\n",
        "We have three kinds of datasets:\n",
        "* `train`: for training\n",
        "* `dev`: for validation\n",
        "* `test`: for testing (w/o target value)\n",
        "\n",
        "## **Dataset**\n",
        "\n",
        "The `COVID19Dataset` below does:\n",
        "* read `.csv` files\n",
        "* extract features\n",
        "* split `covid.train.csv` into train/dev sets\n",
        "* normalize features"
      ]
    },
    {
      "cell_type": "code",
      "metadata": {
        "id": "PlFj6Q7zyHIj"
      },
      "source": [
        "class COVID19Dataset(Dataset):\n",
        "    ''' Dataset for loading and preprocessing the COVID19 dataset '''\n",
        "    def __init__(self,\n",
        "                 path,\n",
        "                 mode='train',\n",
        "                 target_only=False):\n",
        "        self.mode = mode\n",
        "\n",
        "        # Read data into numpy arrays\n",
        "        with open(path, 'r') as fp:\n",
        "            data = list(csv.reader(fp))\n",
        "            data = np.array(data[1:])[:, 1:].astype(float)\n",
        "        \n",
        "        if not target_only:\n",
        "            feats = list(range(93))\n",
        "        else:\n",
        "            # TODO: Using 40 states & 2 tested_positive features (indices = 57 & 75)\n",
        "            # feats = [40, 41, 42, 43, 57, 58, 59, 60, 61, 75, 76, 77, 78, 79]\n",
        "            feats = list(range(40)) + [40, 41, 42, 43, 57, 58, 59, 60, 61, 75, 76, 77, 78, 79]\n",
        "            pass\n",
        "\n",
        "        if mode == 'test':\n",
        "            # Testing data\n",
        "            # data: 893 x 93 (40 states + day 1 (18) + day 2 (18) + day 3 (17))\n",
        "            data = data[:, feats]\n",
        "            self.data = torch.FloatTensor(data)\n",
        "        else:\n",
        "            # Training data (train/dev sets)\n",
        "            # data: 2700 x 94 (40 states + day 1 (18) + day 2 (18) + day 3 (18))\n",
        "            target = data[:, -1]\n",
        "            data = data[:, feats]\n",
        "            \n",
        "            # Splitting training data into train & dev sets\n",
        "            if mode == 'train':\n",
        "                indices = [i for i in range(len(data)) if i % 10 != 3]\n",
        "            elif mode == 'dev':\n",
        "                indices = [i for i in range(len(data)) if i % 10 == 3]\n",
        "            \n",
        "            # Convert data into PyTorch tensors\n",
        "            self.data = torch.FloatTensor(data[indices])\n",
        "            self.target = torch.FloatTensor(target[indices])\n",
        "\n",
        "        # Normalize features (you may remove this part to see what will happen)\n",
        "        # self.data[:, 40:] = \\\n",
        "        #     (self.data[:, 40:] - self.data[:, 40:].mean(dim=0, keepdim=True)) \\\n",
        "        #     / self.data[:, 40:].std(dim=0, keepdim=True)\n",
        "\n",
        "        self.dim = self.data.shape[1]\n",
        "\n",
        "        print('Finished reading the {} set of COVID19 Dataset ({} samples found, each dim = {})'\n",
        "              .format(mode, len(self.data), self.dim))\n",
        "\n",
        "    def __getitem__(self, index):\n",
        "        # Returns one sample at a time\n",
        "        if self.mode in ['train', 'dev']:\n",
        "            # For training\n",
        "            return self.data[index], self.target[index]\n",
        "        else:\n",
        "            # For testing (no target)\n",
        "            return self.data[index]\n",
        "\n",
        "    def __len__(self):\n",
        "        # Returns the size of the dataset\n",
        "        return len(self.data)"
      ],
      "execution_count": 84,
      "outputs": []
    },
    {
      "cell_type": "markdown",
      "metadata": {
        "id": "znkb_-poyJof"
      },
      "source": [
        "## **DataLoader**\n",
        "\n",
        "A `DataLoader` loads data from a given `Dataset` into batches."
      ]
    },
    {
      "cell_type": "code",
      "metadata": {
        "id": "U7sNitKJyL6L"
      },
      "source": [
        "def prep_dataloader(path, mode, batch_size, n_jobs=0, target_only=False):\n",
        "    ''' Generates a dataset, then is put into a dataloader. '''\n",
        "    dataset = COVID19Dataset(path, mode=mode, target_only=target_only)  # Construct dataset\n",
        "    dataloader = DataLoader(\n",
        "        dataset, batch_size,\n",
        "        shuffle=(mode == 'train'), drop_last=False,\n",
        "        num_workers=n_jobs, pin_memory=True)                            # Construct dataloader\n",
        "    return dataloader"
      ],
      "execution_count": 85,
      "outputs": []
    },
    {
      "cell_type": "markdown",
      "metadata": {
        "id": "CgKgOHJ1yNlr"
      },
      "source": [
        "## **Deep Neural Network**\n",
        "\n",
        "`NeuralNet` is an `nn.Module` designed for regression.\n",
        "The DNN consists of 2 fully-connected layers with ReLU activation.\n",
        "This module also included a function `cal_loss` for calculating loss."
      ]
    },
    {
      "cell_type": "code",
      "metadata": {
        "id": "UAuOQUbLyPXM"
      },
      "source": [
        "class NeuralNet(nn.Module):\n",
        "    ''' A simple fully-connected deep neural network '''\n",
        "    def __init__(self, input_dim):\n",
        "        super(NeuralNet, self).__init__()\n",
        "\n",
        "        # Define your neural network here\n",
        "        # TODO: How to modify this model to achieve better performance?\n",
        "        self.net = nn.Sequential(\n",
        "            nn.Linear(input_dim, 32),\n",
        "            nn.LeakyReLU(),\n",
        "            nn.Linear(32, 1)\n",
        "        )\n",
        "\n",
        "        # Mean squared error loss\n",
        "        self.criterion = nn.MSELoss(reduction='mean')\n",
        "\n",
        "    def forward(self, x):\n",
        "        ''' Given input of size (batch_size x input_dim), compute output of the network '''\n",
        "        return self.net(x).squeeze(1)\n",
        "\n",
        "    def cal_loss(self, pred, target):\n",
        "        ''' Calculate loss '''\n",
        "        # TODO: you may implement L2 regularization here\n",
        "        return self.criterion(pred, target)"
      ],
      "execution_count": 86,
      "outputs": []
    },
    {
      "cell_type": "markdown",
      "metadata": {
        "id": "UcGuOHgHyRSJ"
      },
      "source": [
        "## **Training**"
      ]
    },
    {
      "cell_type": "code",
      "metadata": {
        "id": "2cd65eGhyTFL"
      },
      "source": [
        "def train(tr_set, dv_set, model, config, device):\n",
        "    ''' DNN training '''\n",
        "\n",
        "    n_epochs = config['n_epochs']  # Maximum number of epochs\n",
        "\n",
        "    # Setup optimizer\n",
        "    optimizer = getattr(torch.optim, config['optimizer'])(\n",
        "        model.parameters(), **config['optim_hparas'])\n",
        "\n",
        "    min_mse = 1000.\n",
        "    loss_record = {'train': [], 'dev': []}      # for recording training loss\n",
        "    early_stop_cnt = 0\n",
        "    epoch = 0\n",
        "    while epoch < n_epochs:\n",
        "        model.train()                           # set model to training mode\n",
        "        for x, y in tr_set:                     # iterate through the dataloader\n",
        "            optimizer.zero_grad()               # set gradient to zero\n",
        "            x, y = x.to(device), y.to(device)   # move data to device (cpu/cuda)\n",
        "            pred = model(x)                     # forward pass (compute output)\n",
        "            mse_loss = model.cal_loss(pred, y)  # compute loss\n",
        "            mse_loss.backward()                 # compute gradient (backpropagation)\n",
        "            optimizer.step()                    # update model with optimizer\n",
        "            loss_record['train'].append(mse_loss.detach().cpu().item())\n",
        "\n",
        "        # After each epoch, test your model on the validation (development) set.\n",
        "        dev_mse = dev(dv_set, model, device)\n",
        "        if dev_mse < min_mse:\n",
        "            # Save model if your model improved\n",
        "            min_mse = dev_mse\n",
        "            print('Saving model (epoch = {:4d}, loss = {:.4f})'\n",
        "                .format(epoch + 1, min_mse))\n",
        "            torch.save(model.state_dict(), config['save_path'])  # Save model to specified path\n",
        "            early_stop_cnt = 0\n",
        "        else:\n",
        "            early_stop_cnt += 1\n",
        "\n",
        "        epoch += 1\n",
        "        loss_record['dev'].append(dev_mse)\n",
        "        if early_stop_cnt > config['early_stop']:\n",
        "            # Stop training if your model stops improving for \"config['early_stop']\" epochs.\n",
        "            break\n",
        "\n",
        "    print('Finished training after {} epochs'.format(epoch))\n",
        "    return min_mse, loss_record"
      ],
      "execution_count": 87,
      "outputs": []
    },
    {
      "cell_type": "markdown",
      "metadata": {
        "id": "icZPQKrxyUj8"
      },
      "source": [
        "## **Validation**"
      ]
    },
    {
      "cell_type": "code",
      "metadata": {
        "id": "uk4eTZYcyXrz"
      },
      "source": [
        "def dev(dv_set, model, device):\n",
        "    model.eval()                                # set model to evalutation mode\n",
        "    total_loss = 0\n",
        "    for x, y in dv_set:                         # iterate through the dataloader\n",
        "        x, y = x.to(device), y.to(device)       # move data to device (cpu/cuda)\n",
        "        with torch.no_grad():                   # disable gradient calculation\n",
        "            pred = model(x)                     # forward pass (compute output)\n",
        "            mse_loss = model.cal_loss(pred, y)  # compute loss\n",
        "        total_loss += mse_loss.detach().cpu().item() * len(x)  # accumulate loss\n",
        "    total_loss = total_loss / len(dv_set.dataset)              # compute averaged loss\n",
        "\n",
        "    return total_loss"
      ],
      "execution_count": 88,
      "outputs": []
    },
    {
      "cell_type": "markdown",
      "metadata": {
        "id": "i2yA3xFEyZSo"
      },
      "source": [
        "## **Testing**"
      ]
    },
    {
      "cell_type": "code",
      "metadata": {
        "id": "QtWewwH6yb71"
      },
      "source": [
        "def test(tt_set, model, device):\n",
        "    model.eval()                                # set model to evalutation mode\n",
        "    preds = []\n",
        "    for x in tt_set:                            # iterate through the dataloader\n",
        "        x = x.to(device)                        # move data to device (cpu/cuda)\n",
        "        with torch.no_grad():                   # disable gradient calculation\n",
        "            pred = model(x)                     # forward pass (compute output)\n",
        "            preds.append(pred.detach().cpu())   # collect prediction\n",
        "    preds = torch.cat(preds, dim=0).numpy()     # concatenate all predictions and convert to a numpy array\n",
        "    return preds"
      ],
      "execution_count": 89,
      "outputs": []
    },
    {
      "cell_type": "markdown",
      "metadata": {
        "id": "d8wMEPbxydhJ"
      },
      "source": [
        "## **Setup Hyper-parameters**\n",
        "`config` contains hyper-parameters for training and the path to save your model."
      ]
    },
    {
      "cell_type": "code",
      "metadata": {
        "id": "G8wecHOcyfeO"
      },
      "source": [
        "device = get_device()                 # get the current available device ('cpu' or 'cuda')\n",
        "os.makedirs('models', exist_ok=True)  # The trained model will be saved to ./models/\n",
        "target_only = True                    # TODO: Using 40 states & 2 tested_positive features\n",
        "\n",
        "# TODO: How to tune these hyper-parameters to improve your model's performance?\n",
        "config = {\n",
        "    'n_epochs': 100000,                # maximum number of epochs\n",
        "    'batch_size': 32,               # mini-batch size for dataloader\n",
        "    'optimizer': 'Adam',              # optimization algorithm (optimizer in torch.optim)\n",
        "    'optim_hparas': {                # hyper-parameters for the optimizer (depends on which optimizer you are using)\n",
        "        'lr': 1e-4,                 # learning rate of SGD\n",
        "        # 'momentum': 0.9,              # momentum for SGD\n",
        "        'weight_decay': 1e-3\n",
        "    },\n",
        "    'early_stop': 300,               # early stopping epochs (the number epochs since your model's last improvement)\n",
        "    'save_path': 'models/model.pth'  # your model will be saved here\n",
        "}"
      ],
      "execution_count": 90,
      "outputs": []
    },
    {
      "cell_type": "markdown",
      "metadata": {
        "id": "vGF7WF6tyhBZ"
      },
      "source": [
        "## **Load data and model**"
      ]
    },
    {
      "cell_type": "code",
      "metadata": {
        "colab": {
          "base_uri": "https://localhost:8080/"
        },
        "id": "daAq9YNtyixz",
        "outputId": "ee9a44b7-ce69-469e-efa4-c5e71f3c1f58"
      },
      "source": [
        "tr_set = prep_dataloader(tr_path, 'train', config['batch_size'], target_only=target_only)\n",
        "dv_set = prep_dataloader(tr_path, 'dev', config['batch_size'], target_only=target_only)\n",
        "tt_set = prep_dataloader(tt_path, 'test', config['batch_size'], target_only=target_only)"
      ],
      "execution_count": 91,
      "outputs": [
        {
          "output_type": "stream",
          "text": [
            "Finished reading the train set of COVID19 Dataset (2430 samples found, each dim = 54)\n",
            "Finished reading the dev set of COVID19 Dataset (270 samples found, each dim = 54)\n",
            "Finished reading the test set of COVID19 Dataset (893 samples found, each dim = 54)\n"
          ],
          "name": "stdout"
        }
      ]
    },
    {
      "cell_type": "code",
      "metadata": {
        "id": "MdLR93Jh0IxC"
      },
      "source": [
        "model = NeuralNet(tr_set.dataset.dim).to(device)  # Construct model and move to device"
      ],
      "execution_count": 92,
      "outputs": []
    },
    {
      "cell_type": "markdown",
      "metadata": {
        "id": "AIhiz0VHykzJ"
      },
      "source": [
        "## **Start Training!**"
      ]
    },
    {
      "cell_type": "code",
      "metadata": {
        "colab": {
          "base_uri": "https://localhost:8080/"
        },
        "id": "KXs-P87GynRS",
        "outputId": "72384604-c041-4c84-8b13-8edb80802203"
      },
      "source": [
        "model_loss, model_loss_record = train(tr_set, dv_set, model, config, device)"
      ],
      "execution_count": 93,
      "outputs": [
        {
          "output_type": "stream",
          "text": [
            "Saving model (epoch =    1, loss = 231.4456)\n",
            "Saving model (epoch =    2, loss = 145.9085)\n",
            "Saving model (epoch =    3, loss = 78.4681)\n",
            "Saving model (epoch =    4, loss = 36.3647)\n",
            "Saving model (epoch =    5, loss = 17.5009)\n",
            "Saving model (epoch =    6, loss = 11.1747)\n",
            "Saving model (epoch =    7, loss = 9.5731)\n",
            "Saving model (epoch =    8, loss = 9.1496)\n",
            "Saving model (epoch =    9, loss = 8.9152)\n",
            "Saving model (epoch =   10, loss = 8.7591)\n",
            "Saving model (epoch =   11, loss = 8.6199)\n",
            "Saving model (epoch =   12, loss = 8.4830)\n",
            "Saving model (epoch =   13, loss = 8.3421)\n",
            "Saving model (epoch =   14, loss = 8.1837)\n",
            "Saving model (epoch =   15, loss = 8.0347)\n",
            "Saving model (epoch =   16, loss = 7.8768)\n",
            "Saving model (epoch =   17, loss = 7.7163)\n",
            "Saving model (epoch =   18, loss = 7.5510)\n",
            "Saving model (epoch =   19, loss = 7.3716)\n",
            "Saving model (epoch =   20, loss = 7.1863)\n",
            "Saving model (epoch =   21, loss = 7.0018)\n",
            "Saving model (epoch =   22, loss = 6.8261)\n",
            "Saving model (epoch =   23, loss = 6.6195)\n",
            "Saving model (epoch =   24, loss = 6.4243)\n",
            "Saving model (epoch =   25, loss = 6.2234)\n",
            "Saving model (epoch =   26, loss = 6.0245)\n",
            "Saving model (epoch =   27, loss = 5.8159)\n",
            "Saving model (epoch =   28, loss = 5.5835)\n",
            "Saving model (epoch =   29, loss = 5.3827)\n",
            "Saving model (epoch =   30, loss = 5.1763)\n",
            "Saving model (epoch =   31, loss = 4.9512)\n",
            "Saving model (epoch =   32, loss = 4.7211)\n",
            "Saving model (epoch =   33, loss = 4.4870)\n",
            "Saving model (epoch =   34, loss = 4.2813)\n",
            "Saving model (epoch =   35, loss = 4.0601)\n",
            "Saving model (epoch =   36, loss = 3.8459)\n",
            "Saving model (epoch =   37, loss = 3.6722)\n",
            "Saving model (epoch =   38, loss = 3.4434)\n",
            "Saving model (epoch =   39, loss = 3.2527)\n",
            "Saving model (epoch =   40, loss = 3.0546)\n",
            "Saving model (epoch =   41, loss = 2.8902)\n",
            "Saving model (epoch =   42, loss = 2.6992)\n",
            "Saving model (epoch =   43, loss = 2.5449)\n",
            "Saving model (epoch =   44, loss = 2.3953)\n",
            "Saving model (epoch =   45, loss = 2.2398)\n",
            "Saving model (epoch =   46, loss = 2.1407)\n",
            "Saving model (epoch =   47, loss = 1.9818)\n",
            "Saving model (epoch =   48, loss = 1.9266)\n",
            "Saving model (epoch =   49, loss = 1.7832)\n",
            "Saving model (epoch =   50, loss = 1.6866)\n",
            "Saving model (epoch =   51, loss = 1.6158)\n",
            "Saving model (epoch =   52, loss = 1.5402)\n",
            "Saving model (epoch =   53, loss = 1.4644)\n",
            "Saving model (epoch =   54, loss = 1.4012)\n",
            "Saving model (epoch =   55, loss = 1.3588)\n",
            "Saving model (epoch =   56, loss = 1.3157)\n",
            "Saving model (epoch =   57, loss = 1.2755)\n",
            "Saving model (epoch =   58, loss = 1.2439)\n",
            "Saving model (epoch =   59, loss = 1.2221)\n",
            "Saving model (epoch =   60, loss = 1.2097)\n",
            "Saving model (epoch =   61, loss = 1.1924)\n",
            "Saving model (epoch =   63, loss = 1.1597)\n",
            "Saving model (epoch =   64, loss = 1.1441)\n",
            "Saving model (epoch =   65, loss = 1.1375)\n",
            "Saving model (epoch =   66, loss = 1.1311)\n",
            "Saving model (epoch =   68, loss = 1.1291)\n",
            "Saving model (epoch =   69, loss = 1.1182)\n",
            "Saving model (epoch =   70, loss = 1.1095)\n",
            "Saving model (epoch =   71, loss = 1.1046)\n",
            "Saving model (epoch =   72, loss = 1.1032)\n",
            "Saving model (epoch =   73, loss = 1.0956)\n",
            "Saving model (epoch =   75, loss = 1.0924)\n",
            "Saving model (epoch =   76, loss = 1.0901)\n",
            "Saving model (epoch =   77, loss = 1.0827)\n",
            "Saving model (epoch =   78, loss = 1.0820)\n",
            "Saving model (epoch =   81, loss = 1.0728)\n",
            "Saving model (epoch =   82, loss = 1.0695)\n",
            "Saving model (epoch =   86, loss = 1.0689)\n",
            "Saving model (epoch =   88, loss = 1.0667)\n",
            "Saving model (epoch =   90, loss = 1.0587)\n",
            "Saving model (epoch =   93, loss = 1.0512)\n",
            "Saving model (epoch =   95, loss = 1.0425)\n",
            "Saving model (epoch =   97, loss = 1.0398)\n",
            "Saving model (epoch =   98, loss = 1.0317)\n",
            "Saving model (epoch =  101, loss = 1.0264)\n",
            "Saving model (epoch =  102, loss = 1.0185)\n",
            "Saving model (epoch =  103, loss = 1.0159)\n",
            "Saving model (epoch =  104, loss = 1.0141)\n",
            "Saving model (epoch =  109, loss = 1.0047)\n",
            "Saving model (epoch =  113, loss = 0.9979)\n",
            "Saving model (epoch =  114, loss = 0.9967)\n",
            "Saving model (epoch =  116, loss = 0.9934)\n",
            "Saving model (epoch =  117, loss = 0.9919)\n",
            "Saving model (epoch =  119, loss = 0.9911)\n",
            "Saving model (epoch =  120, loss = 0.9894)\n",
            "Saving model (epoch =  121, loss = 0.9867)\n",
            "Saving model (epoch =  122, loss = 0.9856)\n",
            "Saving model (epoch =  125, loss = 0.9847)\n",
            "Saving model (epoch =  127, loss = 0.9825)\n",
            "Saving model (epoch =  130, loss = 0.9798)\n",
            "Saving model (epoch =  133, loss = 0.9711)\n",
            "Saving model (epoch =  137, loss = 0.9671)\n",
            "Saving model (epoch =  138, loss = 0.9642)\n",
            "Saving model (epoch =  140, loss = 0.9636)\n",
            "Saving model (epoch =  142, loss = 0.9588)\n",
            "Saving model (epoch =  144, loss = 0.9565)\n",
            "Saving model (epoch =  145, loss = 0.9560)\n",
            "Saving model (epoch =  146, loss = 0.9547)\n",
            "Saving model (epoch =  151, loss = 0.9479)\n",
            "Saving model (epoch =  153, loss = 0.9470)\n",
            "Saving model (epoch =  154, loss = 0.9456)\n",
            "Saving model (epoch =  156, loss = 0.9440)\n",
            "Saving model (epoch =  162, loss = 0.9377)\n",
            "Saving model (epoch =  165, loss = 0.9317)\n",
            "Saving model (epoch =  167, loss = 0.9315)\n",
            "Saving model (epoch =  169, loss = 0.9276)\n",
            "Saving model (epoch =  174, loss = 0.9261)\n",
            "Saving model (epoch =  178, loss = 0.9188)\n",
            "Saving model (epoch =  183, loss = 0.9155)\n",
            "Saving model (epoch =  184, loss = 0.9122)\n",
            "Saving model (epoch =  193, loss = 0.9053)\n",
            "Saving model (epoch =  194, loss = 0.9044)\n",
            "Saving model (epoch =  195, loss = 0.9024)\n",
            "Saving model (epoch =  197, loss = 0.9018)\n",
            "Saving model (epoch =  199, loss = 0.9003)\n",
            "Saving model (epoch =  200, loss = 0.8973)\n",
            "Saving model (epoch =  202, loss = 0.8952)\n",
            "Saving model (epoch =  208, loss = 0.8920)\n",
            "Saving model (epoch =  212, loss = 0.8909)\n",
            "Saving model (epoch =  213, loss = 0.8852)\n",
            "Saving model (epoch =  215, loss = 0.8830)\n",
            "Saving model (epoch =  218, loss = 0.8829)\n",
            "Saving model (epoch =  219, loss = 0.8823)\n",
            "Saving model (epoch =  228, loss = 0.8738)\n",
            "Saving model (epoch =  229, loss = 0.8716)\n",
            "Saving model (epoch =  231, loss = 0.8714)\n",
            "Saving model (epoch =  233, loss = 0.8682)\n",
            "Saving model (epoch =  235, loss = 0.8667)\n",
            "Saving model (epoch =  238, loss = 0.8648)\n",
            "Saving model (epoch =  240, loss = 0.8624)\n",
            "Saving model (epoch =  242, loss = 0.8618)\n",
            "Saving model (epoch =  243, loss = 0.8616)\n",
            "Saving model (epoch =  248, loss = 0.8612)\n",
            "Saving model (epoch =  254, loss = 0.8566)\n",
            "Saving model (epoch =  255, loss = 0.8531)\n",
            "Saving model (epoch =  256, loss = 0.8507)\n",
            "Saving model (epoch =  260, loss = 0.8492)\n",
            "Saving model (epoch =  263, loss = 0.8479)\n",
            "Saving model (epoch =  266, loss = 0.8459)\n",
            "Saving model (epoch =  267, loss = 0.8427)\n",
            "Saving model (epoch =  274, loss = 0.8397)\n",
            "Saving model (epoch =  277, loss = 0.8384)\n",
            "Saving model (epoch =  279, loss = 0.8361)\n",
            "Saving model (epoch =  284, loss = 0.8358)\n",
            "Saving model (epoch =  285, loss = 0.8317)\n",
            "Saving model (epoch =  287, loss = 0.8304)\n",
            "Saving model (epoch =  291, loss = 0.8298)\n",
            "Saving model (epoch =  293, loss = 0.8274)\n",
            "Saving model (epoch =  294, loss = 0.8257)\n",
            "Saving model (epoch =  298, loss = 0.8239)\n",
            "Saving model (epoch =  299, loss = 0.8229)\n",
            "Saving model (epoch =  301, loss = 0.8216)\n",
            "Saving model (epoch =  305, loss = 0.8202)\n",
            "Saving model (epoch =  307, loss = 0.8186)\n",
            "Saving model (epoch =  310, loss = 0.8172)\n",
            "Saving model (epoch =  312, loss = 0.8171)\n",
            "Saving model (epoch =  314, loss = 0.8159)\n",
            "Saving model (epoch =  317, loss = 0.8135)\n",
            "Saving model (epoch =  324, loss = 0.8101)\n",
            "Saving model (epoch =  328, loss = 0.8091)\n",
            "Saving model (epoch =  331, loss = 0.8084)\n",
            "Saving model (epoch =  335, loss = 0.8046)\n",
            "Saving model (epoch =  339, loss = 0.8024)\n",
            "Saving model (epoch =  345, loss = 0.8002)\n",
            "Saving model (epoch =  349, loss = 0.7991)\n",
            "Saving model (epoch =  351, loss = 0.7974)\n",
            "Saving model (epoch =  354, loss = 0.7972)\n",
            "Saving model (epoch =  356, loss = 0.7968)\n",
            "Saving model (epoch =  358, loss = 0.7963)\n",
            "Saving model (epoch =  359, loss = 0.7944)\n",
            "Saving model (epoch =  366, loss = 0.7922)\n",
            "Saving model (epoch =  373, loss = 0.7920)\n",
            "Saving model (epoch =  375, loss = 0.7894)\n",
            "Saving model (epoch =  380, loss = 0.7868)\n",
            "Saving model (epoch =  385, loss = 0.7866)\n",
            "Saving model (epoch =  387, loss = 0.7844)\n",
            "Saving model (epoch =  389, loss = 0.7840)\n",
            "Saving model (epoch =  394, loss = 0.7803)\n",
            "Saving model (epoch =  395, loss = 0.7791)\n",
            "Saving model (epoch =  397, loss = 0.7791)\n",
            "Saving model (epoch =  401, loss = 0.7771)\n",
            "Saving model (epoch =  410, loss = 0.7735)\n",
            "Saving model (epoch =  412, loss = 0.7731)\n",
            "Saving model (epoch =  419, loss = 0.7714)\n",
            "Saving model (epoch =  420, loss = 0.7713)\n",
            "Saving model (epoch =  424, loss = 0.7707)\n",
            "Saving model (epoch =  425, loss = 0.7701)\n",
            "Saving model (epoch =  426, loss = 0.7700)\n",
            "Saving model (epoch =  428, loss = 0.7695)\n",
            "Saving model (epoch =  430, loss = 0.7686)\n",
            "Saving model (epoch =  434, loss = 0.7676)\n",
            "Saving model (epoch =  439, loss = 0.7669)\n",
            "Saving model (epoch =  441, loss = 0.7668)\n",
            "Saving model (epoch =  446, loss = 0.7651)\n",
            "Saving model (epoch =  449, loss = 0.7641)\n",
            "Saving model (epoch =  452, loss = 0.7633)\n",
            "Saving model (epoch =  456, loss = 0.7632)\n",
            "Saving model (epoch =  457, loss = 0.7630)\n",
            "Saving model (epoch =  459, loss = 0.7617)\n",
            "Saving model (epoch =  466, loss = 0.7607)\n",
            "Saving model (epoch =  474, loss = 0.7596)\n",
            "Saving model (epoch =  476, loss = 0.7586)\n",
            "Saving model (epoch =  478, loss = 0.7582)\n",
            "Saving model (epoch =  485, loss = 0.7571)\n",
            "Saving model (epoch =  488, loss = 0.7563)\n",
            "Saving model (epoch =  490, loss = 0.7561)\n",
            "Saving model (epoch =  493, loss = 0.7556)\n",
            "Saving model (epoch =  496, loss = 0.7552)\n",
            "Saving model (epoch =  498, loss = 0.7545)\n",
            "Saving model (epoch =  508, loss = 0.7529)\n",
            "Saving model (epoch =  516, loss = 0.7518)\n",
            "Saving model (epoch =  518, loss = 0.7512)\n",
            "Saving model (epoch =  519, loss = 0.7511)\n",
            "Saving model (epoch =  524, loss = 0.7499)\n",
            "Saving model (epoch =  526, loss = 0.7494)\n",
            "Saving model (epoch =  530, loss = 0.7486)\n",
            "Saving model (epoch =  533, loss = 0.7481)\n",
            "Saving model (epoch =  543, loss = 0.7470)\n",
            "Saving model (epoch =  547, loss = 0.7470)\n",
            "Saving model (epoch =  551, loss = 0.7455)\n",
            "Saving model (epoch =  554, loss = 0.7452)\n",
            "Saving model (epoch =  560, loss = 0.7450)\n",
            "Saving model (epoch =  566, loss = 0.7440)\n",
            "Saving model (epoch =  569, loss = 0.7438)\n",
            "Saving model (epoch =  573, loss = 0.7431)\n",
            "Saving model (epoch =  574, loss = 0.7430)\n",
            "Saving model (epoch =  577, loss = 0.7424)\n",
            "Saving model (epoch =  595, loss = 0.7412)\n",
            "Saving model (epoch =  604, loss = 0.7402)\n",
            "Saving model (epoch =  608, loss = 0.7395)\n",
            "Saving model (epoch =  628, loss = 0.7392)\n",
            "Saving model (epoch =  629, loss = 0.7381)\n",
            "Saving model (epoch =  640, loss = 0.7372)\n",
            "Saving model (epoch =  651, loss = 0.7369)\n",
            "Saving model (epoch =  655, loss = 0.7365)\n",
            "Saving model (epoch =  658, loss = 0.7362)\n",
            "Saving model (epoch =  663, loss = 0.7358)\n",
            "Saving model (epoch =  695, loss = 0.7353)\n",
            "Saving model (epoch =  708, loss = 0.7344)\n",
            "Saving model (epoch =  713, loss = 0.7340)\n",
            "Saving model (epoch =  727, loss = 0.7336)\n",
            "Saving model (epoch =  746, loss = 0.7331)\n",
            "Saving model (epoch =  755, loss = 0.7327)\n",
            "Saving model (epoch =  764, loss = 0.7327)\n",
            "Saving model (epoch =  770, loss = 0.7318)\n",
            "Saving model (epoch =  777, loss = 0.7317)\n",
            "Saving model (epoch =  779, loss = 0.7317)\n",
            "Saving model (epoch =  780, loss = 0.7317)\n",
            "Saving model (epoch =  790, loss = 0.7315)\n",
            "Saving model (epoch =  799, loss = 0.7312)\n",
            "Saving model (epoch =  817, loss = 0.7303)\n",
            "Saving model (epoch =  842, loss = 0.7301)\n",
            "Saving model (epoch =  847, loss = 0.7293)\n",
            "Saving model (epoch =  876, loss = 0.7292)\n",
            "Saving model (epoch =  877, loss = 0.7289)\n",
            "Saving model (epoch =  894, loss = 0.7288)\n",
            "Saving model (epoch =  904, loss = 0.7283)\n",
            "Saving model (epoch =  921, loss = 0.7281)\n",
            "Saving model (epoch =  922, loss = 0.7280)\n",
            "Saving model (epoch =  924, loss = 0.7278)\n",
            "Saving model (epoch =  928, loss = 0.7276)\n",
            "Saving model (epoch =  950, loss = 0.7276)\n",
            "Saving model (epoch =  954, loss = 0.7274)\n",
            "Saving model (epoch =  965, loss = 0.7271)\n",
            "Saving model (epoch =  993, loss = 0.7270)\n",
            "Saving model (epoch =  998, loss = 0.7267)\n",
            "Saving model (epoch = 1011, loss = 0.7265)\n",
            "Saving model (epoch = 1036, loss = 0.7264)\n",
            "Saving model (epoch = 1043, loss = 0.7258)\n",
            "Saving model (epoch = 1089, loss = 0.7255)\n",
            "Saving model (epoch = 1104, loss = 0.7251)\n",
            "Saving model (epoch = 1114, loss = 0.7250)\n",
            "Saving model (epoch = 1122, loss = 0.7247)\n",
            "Saving model (epoch = 1126, loss = 0.7245)\n",
            "Saving model (epoch = 1127, loss = 0.7245)\n",
            "Saving model (epoch = 1193, loss = 0.7242)\n",
            "Saving model (epoch = 1198, loss = 0.7241)\n",
            "Saving model (epoch = 1230, loss = 0.7241)\n",
            "Saving model (epoch = 1233, loss = 0.7238)\n",
            "Saving model (epoch = 1237, loss = 0.7236)\n",
            "Saving model (epoch = 1299, loss = 0.7236)\n",
            "Saving model (epoch = 1308, loss = 0.7228)\n",
            "Saving model (epoch = 1463, loss = 0.7222)\n",
            "Saving model (epoch = 1615, loss = 0.7218)\n",
            "Saving model (epoch = 1644, loss = 0.7215)\n",
            "Saving model (epoch = 1761, loss = 0.7215)\n",
            "Saving model (epoch = 1818, loss = 0.7212)\n",
            "Saving model (epoch = 1827, loss = 0.7211)\n",
            "Saving model (epoch = 1967, loss = 0.7211)\n",
            "Saving model (epoch = 1985, loss = 0.7209)\n",
            "Saving model (epoch = 2111, loss = 0.7203)\n",
            "Saving model (epoch = 2174, loss = 0.7198)\n",
            "Saving model (epoch = 2332, loss = 0.7197)\n",
            "Saving model (epoch = 2388, loss = 0.7197)\n",
            "Saving model (epoch = 2507, loss = 0.7195)\n",
            "Saving model (epoch = 2586, loss = 0.7194)\n",
            "Saving model (epoch = 2830, loss = 0.7191)\n",
            "Saving model (epoch = 2893, loss = 0.7191)\n",
            "Saving model (epoch = 3042, loss = 0.7188)\n",
            "Saving model (epoch = 3137, loss = 0.7186)\n",
            "Saving model (epoch = 3251, loss = 0.7185)\n",
            "Saving model (epoch = 3266, loss = 0.7185)\n",
            "Finished training after 3567 epochs\n"
          ],
          "name": "stdout"
        }
      ]
    },
    {
      "cell_type": "code",
      "metadata": {
        "colab": {
          "base_uri": "https://localhost:8080/",
          "height": 295
        },
        "id": "MeSDrwHLy_Ln",
        "outputId": "62596205-1871-41a0-e1e9-f395ffbf1675"
      },
      "source": [
        "plot_learning_curve(model_loss_record, title='deep model')"
      ],
      "execution_count": 94,
      "outputs": [
        {
          "output_type": "display_data",
          "data": {
            "image/png": "[encoded data removed]",
            "text/plain": [
              "<Figure size 432x288 with 1 Axes>"
            ]
          },
          "metadata": {
            "tags": [],
            "needs_background": "light"
          }
        }
      ]
    },
    {
      "cell_type": "code",
      "metadata": {
        "colab": {
          "base_uri": "https://localhost:8080/",
          "height": 350
        },
        "id": "2CESNTaQzAu1",
        "outputId": "51374b3e-8350-4ac2-99d8-675299663cae"
      },
      "source": [
        "del model\n",
        "model = NeuralNet(tr_set.dataset.dim).to(device)\n",
        "ckpt = torch.load(config['save_path'], map_location='cpu')  # Load your best model\n",
        "model.load_state_dict(ckpt)\n",
        "plot_pred(dv_set, model, device)  # Show prediction on the validation set"
      ],
      "execution_count": 95,
      "outputs": [
        {
          "output_type": "display_data",
          "data": {
            "image/png": "[encoded data removed]",
            "text/plain": [
              "<Figure size 360x360 with 1 Axes>"
            ]
          },
          "metadata": {
            "tags": [],
            "needs_background": "light"
          }
        }
      ]
    },
    {
      "cell_type": "markdown",
      "metadata": {
        "id": "OI_dMbtNzCbq"
      },
      "source": [
        "## **Testing**\n",
        "The predictions of your model on testing set will be stored at `pred.csv`."
      ]
    },
    {
      "cell_type": "code",
      "metadata": {
        "colab": {
          "base_uri": "https://localhost:8080/"
        },
        "id": "om4VzdWRzDDH",
        "outputId": "6a16590d-e4aa-46e7-8a22-1c8b79b612c7"
      },
      "source": [
        "def save_pred(preds, file):\n",
        "    ''' Save predictions to specified file '''\n",
        "    print('Saving results to {}'.format(file))\n",
        "    with open(file, 'w') as fp:\n",
        "        writer = csv.writer(fp)\n",
        "        writer.writerow(['id', 'tested_positive'])\n",
        "        for i, p in enumerate(preds):\n",
        "            writer.writerow([i, p])\n",
        "\n",
        "preds = test(tt_set, model, device)  # predict COVID-19 cases with your model\n",
        "save_pred(preds, 'pred.csv')         # save prediction file to pred.csv"
      ],
      "execution_count": 96,
      "outputs": [
        {
          "output_type": "stream",
          "text": [
            "Saving results to pred.csv\n"
          ],
          "name": "stdout"
        }
      ]
    },
    {
      "cell_type": "markdown",
      "metadata": {
        "id": "oiabyHdmzEuK"
      },
      "source": [
        "## **Reference**\n",
        "Source: Heng-Jui Chang @ NTUEE (https://github.com/ga642381/ML2021-Spring/blob/main/HW01/HW01.ipynb)"
      ]
    }
  ]
}