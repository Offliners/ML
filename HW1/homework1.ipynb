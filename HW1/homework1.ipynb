{
  "nbformat": 4,
  "nbformat_minor": 0,
  "metadata": {
    "colab": {
      "name": "Copy of Untitled4.ipynb",
      "provenance": [],
      "collapsed_sections": [],
      "toc_visible": true,
      "include_colab_link": true
    },
    "kernelspec": {
      "name": "python3",
      "display_name": "Python 3"
    },
    "accelerator": "GPU"
  },
  "cells": [
    {
      "cell_type": "markdown",
      "metadata": {
        "id": "view-in-github",
        "colab_type": "text"
      },
      "source": [
        "<a href=\"https://colab.research.google.com/github/Offliners/ML/blob/main/HW1/homework1.ipynb\" target=\"_parent\"><img src=\"https://colab.research.google.com/assets/colab-badge.svg\" alt=\"Open In Colab\"/></a>"
      ]
    },
    {
      "cell_type": "markdown",
      "metadata": {
        "id": "MJeAxxvOw4zo"
      },
      "source": [
        "# **Homework 1: COVID-19 Cases Prediction (Regression)**\r\n",
        "\r\n",
        "Source: Delphi group @ CMU : A daily survey since April 2020 via facebook.\r\n"
      ]
    },
    {
      "cell_type": "markdown",
      "metadata": {
        "id": "ItOHwIrDxX6F"
      },
      "source": [
        "## **Download Data**"
      ]
    },
    {
      "cell_type": "code",
      "metadata": {
        "colab": {
          "base_uri": "https://localhost:8080/"
        },
        "id": "DaLzrpaLw3uM",
        "outputId": "899d6fbb-85e5-4ae9-ad6b-cbc7256eab5f"
      },
      "source": [
        "tr_path = 'covid.train.csv'  # path to training data\r\n",
        "tt_path = 'covid.test.csv'   # path to testing data\r\n",
        "\r\n",
        "!gdown --id '19CCyCgJrUxtvgZF53vnctJiOJ23T5mqF' --output covid.train.csv\r\n",
        "!gdown --id '1CE240jLm2npU-tdz81-oVKEF3T2yfT1O' --output covid.test.csv"
      ],
      "execution_count": 29,
      "outputs": [
        {
          "output_type": "stream",
          "text": [
            "Downloading...\n",
            "From: https://drive.google.com/uc?id=19CCyCgJrUxtvgZF53vnctJiOJ23T5mqF\n",
            "To: /content/covid.train.csv\n",
            "100% 2.00M/2.00M [00:00<00:00, 133MB/s]\n",
            "Downloading...\n",
            "From: https://drive.google.com/uc?id=1CE240jLm2npU-tdz81-oVKEF3T2yfT1O\n",
            "To: /content/covid.test.csv\n",
            "100% 651k/651k [00:00<00:00, 63.7MB/s]\n"
          ],
          "name": "stdout"
        }
      ]
    },
    {
      "cell_type": "markdown",
      "metadata": {
        "id": "wupnvWGaxsQ3"
      },
      "source": [
        "## **Import Some Packages**"
      ]
    },
    {
      "cell_type": "code",
      "metadata": {
        "id": "RBmUSABexxeZ"
      },
      "source": [
        "# PyTorch\r\n",
        "import torch\r\n",
        "import torch.nn as nn\r\n",
        "from torch.utils.data import Dataset, DataLoader\r\n",
        "\r\n",
        "# For data preprocess\r\n",
        "import numpy as np\r\n",
        "import csv\r\n",
        "import os\r\n",
        "\r\n",
        "# For plotting\r\n",
        "import matplotlib.pyplot as plt\r\n",
        "from matplotlib.pyplot import figure\r\n",
        "\r\n",
        "myseed = 42069  # set a random seed for reproducibility\r\n",
        "torch.backends.cudnn.deterministic = True\r\n",
        "torch.backends.cudnn.benchmark = False\r\n",
        "np.random.seed(myseed)\r\n",
        "torch.manual_seed(myseed)\r\n",
        "if torch.cuda.is_available():\r\n",
        "    torch.cuda.manual_seed_all(myseed)"
      ],
      "execution_count": 30,
      "outputs": []
    },
    {
      "cell_type": "markdown",
      "metadata": {
        "id": "Fg_EItEAx1gZ"
      },
      "source": [
        "## **Some Utilities**"
      ]
    },
    {
      "cell_type": "code",
      "metadata": {
        "id": "j3jSevQYx47x"
      },
      "source": [
        "def get_device():\r\n",
        "    ''' Get device (if GPU is available, use GPU) '''\r\n",
        "    return 'cuda' if torch.cuda.is_available() else 'cpu'\r\n",
        "\r\n",
        "def plot_learning_curve(loss_record, title=''):\r\n",
        "    ''' Plot learning curve of your DNN (train & dev loss) '''\r\n",
        "    total_steps = len(loss_record['train'])\r\n",
        "    x_1 = range(total_steps)\r\n",
        "    x_2 = x_1[::len(loss_record['train']) // len(loss_record['dev'])]\r\n",
        "    figure(figsize=(6, 4))\r\n",
        "    plt.plot(x_1, loss_record['train'], c='tab:red', label='train')\r\n",
        "    plt.plot(x_2, loss_record['dev'], c='tab:cyan', label='dev')\r\n",
        "    plt.ylim(0.0, 5.)\r\n",
        "    plt.xlabel('Training steps')\r\n",
        "    plt.ylabel('MSE loss')\r\n",
        "    plt.title('Learning curve of {}'.format(title))\r\n",
        "    plt.legend()\r\n",
        "    plt.grid()\r\n",
        "    plt.show()\r\n",
        "\r\n",
        "\r\n",
        "def plot_pred(dv_set, model, device, lim=35., preds=None, targets=None):\r\n",
        "    ''' Plot prediction of your DNN '''\r\n",
        "    if preds is None or targets is None:\r\n",
        "        model.eval()\r\n",
        "        preds, targets = [], []\r\n",
        "        for x, y in dv_set:\r\n",
        "            x, y = x.to(device), y.to(device)\r\n",
        "            with torch.no_grad():\r\n",
        "                pred = model(x)\r\n",
        "                preds.append(pred.detach().cpu())\r\n",
        "                targets.append(y.detach().cpu())\r\n",
        "        preds = torch.cat(preds, dim=0).numpy()\r\n",
        "        targets = torch.cat(targets, dim=0).numpy()\r\n",
        "\r\n",
        "    figure(figsize=(5, 5))\r\n",
        "    plt.scatter(targets, preds, c='r', alpha=0.5)\r\n",
        "    plt.plot([-0.2, lim], [-0.2, lim], c='b')\r\n",
        "    plt.xlim(-0.2, lim)\r\n",
        "    plt.ylim(-0.2, lim)\r\n",
        "    plt.xlabel('ground truth value')\r\n",
        "    plt.ylabel('predicted value')\r\n",
        "    plt.title('Ground Truth v.s. Prediction')\r\n",
        "    plt.grid()\r\n",
        "    plt.show()"
      ],
      "execution_count": 31,
      "outputs": []
    },
    {
      "cell_type": "markdown",
      "metadata": {
        "id": "b_bXJgTgx8xt"
      },
      "source": [
        "## **Preprocess**\r\n",
        "\r\n",
        "We have three kinds of datasets:\r\n",
        "* `train`: for training\r\n",
        "* `dev`: for validation\r\n",
        "* `test`: for testing (w/o target value)\r\n",
        "\r\n",
        "## **Dataset**\r\n",
        "\r\n",
        "The `COVID19Dataset` below does:\r\n",
        "* read `.csv` files\r\n",
        "* extract features\r\n",
        "* split `covid.train.csv` into train/dev sets\r\n",
        "* normalize features"
      ]
    },
    {
      "cell_type": "code",
      "metadata": {
        "id": "JEQpQAdNyKU9"
      },
      "source": [
        "class COVID19Dataset(Dataset):\r\n",
        "    ''' Dataset for loading and preprocessing the COVID19 dataset '''\r\n",
        "    def __init__(self,\r\n",
        "                 path,\r\n",
        "                 mode='train',\r\n",
        "                 target_only=False):\r\n",
        "        self.mode = mode\r\n",
        "\r\n",
        "        # Read data into numpy arrays\r\n",
        "        with open(path, 'r') as fp:\r\n",
        "            data = list(csv.reader(fp))\r\n",
        "            data = np.array(data[1:])[:, 1:].astype(float)\r\n",
        "        \r\n",
        "        if not target_only:\r\n",
        "            feats = list(range(93))\r\n",
        "        else:\r\n",
        "            # TODO: Using 40 states & 2 tested_positive features (indices = 57 & 75)\r\n",
        "            feats = [40, 41, 42, 43, 57, 58, 59, 60, 61, 75, 76, 77, 78, 79]\r\n",
        "            # feats = list(range(40, 93))\r\n",
        "            pass\r\n",
        "\r\n",
        "        if mode == 'test':\r\n",
        "            # Testing data\r\n",
        "            # data: 893 x 93 (40 states + day 1 (18) + day 2 (18) + day 3 (17))\r\n",
        "            data = data[:, feats]\r\n",
        "            self.data = torch.FloatTensor(data)\r\n",
        "        else:\r\n",
        "            # Training data (train/dev sets)\r\n",
        "            # data: 2700 x 94 (40 states + day 1 (18) + day 2 (18) + day 3 (18))\r\n",
        "            target = data[:, -1]\r\n",
        "            data = data[:, feats]\r\n",
        "            \r\n",
        "            # Splitting training data into train & dev sets\r\n",
        "            if mode == 'train':\r\n",
        "                indices = [i for i in range(len(data)) if i % 10 != 0]\r\n",
        "            elif mode == 'dev':\r\n",
        "                indices = [i for i in range(len(data)) if i % 10 == 0]\r\n",
        "            \r\n",
        "            # Convert data into PyTorch tensors\r\n",
        "            self.data = torch.FloatTensor(data[indices])\r\n",
        "            self.target = torch.FloatTensor(target[indices])      \r\n",
        "        \r\n",
        "        # Normalize features (you may remove this part to see what will happen)\r\n",
        "        self.data[:, 40:] = \\\r\n",
        "            (self.data[:, 40:] - self.data[:, 40:].mean(dim=0, keepdim=True)) \\\r\n",
        "            / self.data[:, 40:].std(dim=0, keepdim=True)\r\n",
        "\r\n",
        "        self.dim = self.data.shape[1]\r\n",
        "\r\n",
        "        print('Finished reading the {} set of COVID19 Dataset ({} samples found, each dim = {})'\r\n",
        "              .format(mode, len(self.data), self.dim))\r\n",
        "\r\n",
        "    def __getitem__(self, index):\r\n",
        "        # Returns one sample at a time\r\n",
        "        if self.mode in ['train', 'dev']:\r\n",
        "            # For training\r\n",
        "            return self.data[index], self.target[index]\r\n",
        "        else:\r\n",
        "            # For testing (no target)\r\n",
        "            return self.data[index]\r\n",
        "\r\n",
        "    def __len__(self):\r\n",
        "        # Returns the size of the dataset\r\n",
        "        return len(self.data)"
      ],
      "execution_count": 32,
      "outputs": []
    },
    {
      "cell_type": "markdown",
      "metadata": {
        "id": "lohmDpmJyWQZ"
      },
      "source": [
        "## **DataLoader**\r\n",
        "\r\n",
        "A `DataLoader` loads data from a given `Dataset` into batches."
      ]
    },
    {
      "cell_type": "code",
      "metadata": {
        "id": "rOwjzVYiyY-Y"
      },
      "source": [
        "def prep_dataloader(path, mode, batch_size, n_jobs=0, target_only=False):\r\n",
        "    ''' Generates a dataset, then is put into a dataloader. '''\r\n",
        "    dataset = COVID19Dataset(path, mode=mode, target_only=target_only)  # Construct dataset\r\n",
        "    dataloader = DataLoader(\r\n",
        "        dataset, batch_size,\r\n",
        "        shuffle=(mode == 'train'), drop_last=False,\r\n",
        "        num_workers=n_jobs, pin_memory=True)                            # Construct dataloader\r\n",
        "    return dataloader"
      ],
      "execution_count": 33,
      "outputs": []
    },
    {
      "cell_type": "markdown",
      "metadata": {
        "id": "w-deK1g2yZu6"
      },
      "source": [
        "## **Deep Neural Network**\r\n",
        "\r\n",
        "`NeuralNet` is an `nn.Module` designed for regression.\r\n",
        "The DNN consists of 2 fully-connected layers with ReLU activation.\r\n",
        "This module also included a function `cal_loss` for calculating loss."
      ]
    },
    {
      "cell_type": "code",
      "metadata": {
        "id": "rg-zGj5Wyg85"
      },
      "source": [
        "class NeuralNet(nn.Module):\r\n",
        "    ''' A simple fully-connected deep neural network '''\r\n",
        "    def __init__(self, input_dim):\r\n",
        "        super(NeuralNet, self).__init__()\r\n",
        "\r\n",
        "        # Define your neural network here\r\n",
        "        # TODO: How to modify this model to achieve better performance?\r\n",
        "        self.net = nn.Sequential(\r\n",
        "            nn.Linear(input_dim, 128),\r\n",
        "            nn.LeakyReLU(),\r\n",
        "            nn.Linear(128, 64),\r\n",
        "            nn.LeakyReLU(),\r\n",
        "            nn.Linear(64, 1)\r\n",
        "        )\r\n",
        "\r\n",
        "        # Mean squared error loss\r\n",
        "        self.criterion = nn.MSELoss(reduction='mean')\r\n",
        "\r\n",
        "        # SmoothL1Loss\r\n",
        "        # self.criterion = nn.SmoothL1Loss(reduction='mean',  beta=0.1)\r\n",
        "\r\n",
        "    def forward(self, x):\r\n",
        "        ''' Given input of size (batch_size x input_dim), compute output of the network '''\r\n",
        "        \r\n",
        "        return self.net(x).squeeze(1)\r\n",
        "\r\n",
        "    def cal_loss(self, pred, target):\r\n",
        "        ''' Calculate loss '''\r\n",
        "        # TODO: you may implement L2 regularization here\r\n",
        "\r\n",
        "        return self.criterion(pred, target)"
      ],
      "execution_count": 34,
      "outputs": []
    },
    {
      "cell_type": "markdown",
      "metadata": {
        "id": "xu3iy3HeytMg"
      },
      "source": [
        "## **Training**"
      ]
    },
    {
      "cell_type": "code",
      "metadata": {
        "id": "vg4f-Smbyu_k"
      },
      "source": [
        "def train(tr_set, dv_set, model, config, device):\r\n",
        "    ''' DNN training '''\r\n",
        "\r\n",
        "    n_epochs = config['n_epochs']  # Maximum number of epochs\r\n",
        "\r\n",
        "    # Setup optimizer\r\n",
        "    optimizer = getattr(torch.optim, config['optimizer'])(\r\n",
        "        model.parameters(), **config['optim_hparas'])\r\n",
        "\r\n",
        "    min_mse = 1000.\r\n",
        "    loss_record = {'train': [], 'dev': []}      # for recording training loss\r\n",
        "    early_stop_cnt = 0\r\n",
        "    epoch = 0\r\n",
        "    while epoch < n_epochs:\r\n",
        "        model.train()                           # set model to training mode\r\n",
        "        for x, y in tr_set:                     # iterate through the dataloader\r\n",
        "            optimizer.zero_grad()               # set gradient to zero\r\n",
        "            x, y = x.to(device), y.to(device)   # move data to device (cpu/cuda)\r\n",
        "            pred = model(x)                     # forward pass (compute output)\r\n",
        "            mse_loss = model.cal_loss(pred, y)  # compute loss\r\n",
        "            mse_loss.backward()                 # compute gradient (backpropagation)\r\n",
        "            optimizer.step()                    # update model with optimizer\r\n",
        "            loss_record['train'].append(mse_loss.detach().cpu().item())\r\n",
        "\r\n",
        "        # After each epoch, test your model on the validation (development) set.\r\n",
        "        dev_mse = dev(dv_set, model, device)\r\n",
        "        if dev_mse < min_mse:\r\n",
        "            # Save model if your model improved\r\n",
        "            min_mse = dev_mse\r\n",
        "            print('Saving model (epoch = {:4d}, loss = {:.4f})'\r\n",
        "                .format(epoch + 1, min_mse))\r\n",
        "            torch.save(model.state_dict(), config['save_path'])  # Save model to specified path\r\n",
        "            early_stop_cnt = 0\r\n",
        "        else:\r\n",
        "            early_stop_cnt += 1\r\n",
        "\r\n",
        "        epoch += 1\r\n",
        "        loss_record['dev'].append(dev_mse)\r\n",
        "        if early_stop_cnt > config['early_stop']:\r\n",
        "            # Stop training if your model stops improving for \"config['early_stop']\" epochs.\r\n",
        "            break\r\n",
        "\r\n",
        "    print('Finished training after {} epochs'.format(epoch))\r\n",
        "    return min_mse, loss_record"
      ],
      "execution_count": 35,
      "outputs": []
    },
    {
      "cell_type": "markdown",
      "metadata": {
        "id": "IQzKQy8vyxIV"
      },
      "source": [
        "## **Validation**"
      ]
    },
    {
      "cell_type": "code",
      "metadata": {
        "id": "Qr2NrkEEyzox"
      },
      "source": [
        "def dev(dv_set, model, device):\r\n",
        "    model.eval()                                # set model to evalutation mode\r\n",
        "    total_loss = 0\r\n",
        "    for x, y in dv_set:                         # iterate through the dataloader\r\n",
        "        x, y = x.to(device), y.to(device)       # move data to device (cpu/cuda)\r\n",
        "        with torch.no_grad():                   # disable gradient calculation\r\n",
        "            pred = model(x)                     # forward pass (compute output)\r\n",
        "            mse_loss = model.cal_loss(pred, y)  # compute loss\r\n",
        "        total_loss += mse_loss.detach().cpu().item() * len(x)  # accumulate loss\r\n",
        "    total_loss = total_loss / len(dv_set.dataset)              # compute averaged loss\r\n",
        "\r\n",
        "    return total_loss"
      ],
      "execution_count": 36,
      "outputs": []
    },
    {
      "cell_type": "markdown",
      "metadata": {
        "id": "n-gEsuYZy1Vb"
      },
      "source": [
        "## **Testing**"
      ]
    },
    {
      "cell_type": "code",
      "metadata": {
        "id": "Dz_VBVHAy3u2"
      },
      "source": [
        "def test(tt_set, model, device):\r\n",
        "    model.eval()                                # set model to evalutation mode\r\n",
        "    preds = []\r\n",
        "    for x in tt_set:                            # iterate through the dataloader\r\n",
        "        x = x.to(device)                        # move data to device (cpu/cuda)\r\n",
        "        with torch.no_grad():                   # disable gradient calculation\r\n",
        "            pred = model(x)                     # forward pass (compute output)\r\n",
        "            preds.append(pred.detach().cpu())   # collect prediction\r\n",
        "    preds = torch.cat(preds, dim=0).numpy()     # concatenate all predictions and convert to a numpy array\r\n",
        "    return preds"
      ],
      "execution_count": 37,
      "outputs": []
    },
    {
      "cell_type": "markdown",
      "metadata": {
        "id": "f4Sos50my5RN"
      },
      "source": [
        "## **Setup Hyper-parameters**\r\n",
        "`config` contains hyper-parameters for training and the path to save your model."
      ]
    },
    {
      "cell_type": "code",
      "metadata": {
        "id": "tvfemQHcy99g"
      },
      "source": [
        "device = get_device()                 # get the current available device ('cpu' or 'cuda')\r\n",
        "os.makedirs('models', exist_ok=True)  # The trained model will be saved to ./models/\r\n",
        "target_only = True                    # TODO: Using 40 states & 2 tested_positive features\r\n",
        "\r\n",
        "# TODO: How to tune these hyper-parameters to improve your model's performance?\r\n",
        "config = {\r\n",
        "    'n_epochs': 100000,               # maximum number of epochs\r\n",
        "    'batch_size': 64,               # mini-batch size for dataloader\r\n",
        "    'optimizer': 'SGD',              # optimization algorithm (optimizer in torch.optim)\r\n",
        "    'optim_hparas': {                # hyper-parameters for the optimizer (depends on which optimizer you are using)\r\n",
        "        'lr': 1e-3,                 # learning rate of SGD\r\n",
        "        'momentum': 0.9,             # momentum for SGD\r\n",
        "        'weight_decay': 0.01,\r\n",
        "        'nesterov': True\r\n",
        "    },\r\n",
        "    'early_stop': 2000,               # early stopping epochs (the number epochs since your model's last improvement)\r\n",
        "    'save_path': 'models/model.pth'  # your model will be saved here\r\n",
        "}"
      ],
      "execution_count": 38,
      "outputs": []
    },
    {
      "cell_type": "markdown",
      "metadata": {
        "id": "iSZZjxd7y_3U"
      },
      "source": [
        "## **Load data and model**"
      ]
    },
    {
      "cell_type": "code",
      "metadata": {
        "colab": {
          "base_uri": "https://localhost:8080/"
        },
        "id": "IzFLuU50zEio",
        "outputId": "3c5c1339-149b-4214-d2bd-291d07222b9e"
      },
      "source": [
        "tr_set = prep_dataloader(tr_path, 'train', config['batch_size'], target_only=target_only)\r\n",
        "dv_set = prep_dataloader(tr_path, 'dev', config['batch_size'], target_only=target_only)\r\n",
        "tt_set = prep_dataloader(tt_path, 'test', config['batch_size'], target_only=target_only)\r\n",
        "\r\n",
        "model = NeuralNet(tr_set.dataset.dim).to(device)  # Construct model and move to device"
      ],
      "execution_count": 39,
      "outputs": [
        {
          "output_type": "stream",
          "text": [
            "Finished reading the train set of COVID19 Dataset (2430 samples found, each dim = 14)\n",
            "Finished reading the dev set of COVID19 Dataset (270 samples found, each dim = 14)\n",
            "Finished reading the test set of COVID19 Dataset (893 samples found, each dim = 14)\n"
          ],
          "name": "stdout"
        }
      ]
    },
    {
      "cell_type": "markdown",
      "metadata": {
        "id": "d-S5SrtbzJm5"
      },
      "source": [
        "## **Start Training!**"
      ]
    },
    {
      "cell_type": "code",
      "metadata": {
        "id": "LxIA6nP-zO8B"
      },
      "source": [
        "model_loss, model_loss_record = train(tr_set, dv_set, model, config, device)"
      ],
      "execution_count": null,
      "outputs": []
    },
    {
      "cell_type": "code",
      "metadata": {
        "id": "ml3n_r2g0HMp"
      },
      "source": [
        "plot_learning_curve(model_loss_record, title='deep model')"
      ],
      "execution_count": null,
      "outputs": []
    },
    {
      "cell_type": "code",
      "metadata": {
        "id": "dNYdctmK0CtP"
      },
      "source": [
        "del model\r\n",
        "model = NeuralNet(tr_set.dataset.dim).to(device)\r\n",
        "ckpt = torch.load(config['save_path'], map_location='cpu')  # Load your best model\r\n",
        "model.load_state_dict(ckpt)\r\n",
        "plot_pred(dv_set, model, device)  # Show prediction on the validation set"
      ],
      "execution_count": null,
      "outputs": []
    },
    {
      "cell_type": "markdown",
      "metadata": {
        "id": "VZdOe6jUzQvO"
      },
      "source": [
        "## **Testing**\r\n",
        "The predictions of your model on testing set will be stored at `pred.csv`."
      ]
    },
    {
      "cell_type": "code",
      "metadata": {
        "id": "pNk5sDLjzaMp"
      },
      "source": [
        "def save_pred(preds, file):\r\n",
        "    ''' Save predictions to specified file '''\r\n",
        "    print('Saving results to {}'.format(file))\r\n",
        "    with open(file, 'w') as fp:\r\n",
        "        writer = csv.writer(fp)\r\n",
        "        writer.writerow(['id', 'tested_positive'])\r\n",
        "        for i, p in enumerate(preds):\r\n",
        "            writer.writerow([i, p])\r\n",
        "\r\n",
        "preds = test(tt_set, model, device)  # predict COVID-19 cases with your model\r\n",
        "save_pred(preds, 'pred.csv')         # save prediction file to pred.csv"
      ],
      "execution_count": null,
      "outputs": []
    },
    {
      "cell_type": "markdown",
      "metadata": {
        "id": "I7llbZOw0XsX"
      },
      "source": [
        "## **Reference**\r\n",
        "Source: Heng-Jui Chang @ NTUEE (https://github.com/ga642381/ML2021-Spring/blob/main/HW01/HW01.ipynb)"
      ]
    }
  ]
}