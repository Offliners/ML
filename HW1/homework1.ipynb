{
  "nbformat": 4,
  "nbformat_minor": 0,
  "metadata": {
    "colab": {
      "name": "Untitled0.ipynb",
      "provenance": [],
      "toc_visible": true,
      "include_colab_link": true
    },
    "kernelspec": {
      "name": "python3",
      "display_name": "Python 3"
    },
    "accelerator": "GPU"
  },
  "cells": [
    {
      "cell_type": "markdown",
      "metadata": {
        "id": "view-in-github",
        "colab_type": "text"
      },
      "source": [
        "<a href=\"https://colab.research.google.com/github/Offliners/ML/blob/main/HW1/homework1.ipynb\" target=\"_parent\"><img src=\"https://colab.research.google.com/assets/colab-badge.svg\" alt=\"Open In Colab\"/></a>"
      ]
    },
    {
      "cell_type": "markdown",
      "metadata": {
        "id": "rPx9a5xqxyad"
      },
      "source": [
        "# **Homework 1: COVID-19 Cases Prediction (Regression)**\n",
        "\n",
        "Source: Delphi group @ CMU : A daily survey since April 2020 via facebook."
      ]
    },
    {
      "cell_type": "code",
      "metadata": {
        "colab": {
          "base_uri": "https://localhost:8080/"
        },
        "id": "CdNJJuSwxxq3",
        "outputId": "fe0685f6-1551-484f-f86a-6cbd4085be22"
      },
      "source": [
        "tr_path = 'covid.train.csv'  # path to training data\n",
        "tt_path = 'covid.test.csv'   # path to testing data\n",
        "\n",
        "!gdown --id '19CCyCgJrUxtvgZF53vnctJiOJ23T5mqF' --output covid.train.csv\n",
        "!gdown --id '1CE240jLm2npU-tdz81-oVKEF3T2yfT1O' --output covid.test.csv"
      ],
      "execution_count": 65,
      "outputs": [
        {
          "output_type": "stream",
          "text": [
            "Downloading...\n",
            "From: https://drive.google.com/uc?id=19CCyCgJrUxtvgZF53vnctJiOJ23T5mqF\n",
            "To: /content/covid.train.csv\n",
            "100% 2.00M/2.00M [00:00<00:00, 31.2MB/s]\n",
            "Downloading...\n",
            "From: https://drive.google.com/uc?id=1CE240jLm2npU-tdz81-oVKEF3T2yfT1O\n",
            "To: /content/covid.test.csv\n",
            "100% 651k/651k [00:00<00:00, 10.2MB/s]\n"
          ],
          "name": "stdout"
        }
      ]
    },
    {
      "cell_type": "markdown",
      "metadata": {
        "id": "nBx0SXcYx519"
      },
      "source": [
        "## **Import Some Packages**"
      ]
    },
    {
      "cell_type": "code",
      "metadata": {
        "id": "3DWPCjdEx8l1"
      },
      "source": [
        "# PyTorch\n",
        "import torch\n",
        "import torch.nn as nn\n",
        "from torch.utils.data import Dataset, DataLoader\n",
        "\n",
        "# For data preprocess\n",
        "import numpy as np\n",
        "import csv\n",
        "import os\n",
        "\n",
        "# For plotting\n",
        "import matplotlib.pyplot as plt\n",
        "from matplotlib.pyplot import figure\n",
        "\n",
        "myseed = 42069  # set a random seed for reproducibility\n",
        "torch.backends.cudnn.deterministic = True\n",
        "torch.backends.cudnn.benchmark = False\n",
        "np.random.seed(myseed)\n",
        "torch.manual_seed(myseed)\n",
        "if torch.cuda.is_available():\n",
        "    torch.cuda.manual_seed_all(myseed)"
      ],
      "execution_count": 66,
      "outputs": []
    },
    {
      "cell_type": "markdown",
      "metadata": {
        "id": "dbL79oVPyAcr"
      },
      "source": [
        "## **Some Utilities**"
      ]
    },
    {
      "cell_type": "code",
      "metadata": {
        "id": "1Ir0GGJeyCrE"
      },
      "source": [
        "def get_device():\n",
        "    ''' Get device (if GPU is available, use GPU) '''\n",
        "    return 'cuda' if torch.cuda.is_available() else 'cpu'\n",
        "\n",
        "def plot_learning_curve(loss_record, title=''):\n",
        "    ''' Plot learning curve of your DNN (train & dev loss) '''\n",
        "    total_steps = len(loss_record['train'])\n",
        "    x_1 = range(total_steps)\n",
        "    x_2 = x_1[::len(loss_record['train']) // len(loss_record['dev'])]\n",
        "    figure(figsize=(6, 4))\n",
        "    plt.plot(x_1, loss_record['train'], c='tab:red', label='train')\n",
        "    plt.plot(x_2, loss_record['dev'], c='tab:cyan', label='dev')\n",
        "    plt.ylim(0.0, 5.)\n",
        "    plt.xlabel('Training steps')\n",
        "    plt.ylabel('MSE loss')\n",
        "    plt.title('Learning curve of {}'.format(title))\n",
        "    plt.legend()\n",
        "    plt.grid()\n",
        "    plt.show()\n",
        "\n",
        "\n",
        "def plot_pred(dv_set, model, device, lim=35., preds=None, targets=None):\n",
        "    ''' Plot prediction of your DNN '''\n",
        "    if preds is None or targets is None:\n",
        "        model.eval()\n",
        "        preds, targets = [], []\n",
        "        for x, y in dv_set:\n",
        "            x, y = x.to(device), y.to(device)\n",
        "            with torch.no_grad():\n",
        "                pred = model(x)\n",
        "                preds.append(pred.detach().cpu())\n",
        "                targets.append(y.detach().cpu())\n",
        "        preds = torch.cat(preds, dim=0).numpy()\n",
        "        targets = torch.cat(targets, dim=0).numpy()\n",
        "\n",
        "    figure(figsize=(5, 5))\n",
        "    plt.scatter(targets, preds, c='r', alpha=0.5)\n",
        "    plt.plot([-0.2, lim], [-0.2, lim], c='b')\n",
        "    plt.xlim(-0.2, lim)\n",
        "    plt.ylim(-0.2, lim)\n",
        "    plt.xlabel('ground truth value')\n",
        "    plt.ylabel('predicted value')\n",
        "    plt.title('Ground Truth v.s. Prediction')\n",
        "    plt.grid()\n",
        "    plt.show()"
      ],
      "execution_count": 67,
      "outputs": []
    },
    {
      "cell_type": "markdown",
      "metadata": {
        "id": "qzhfgvkNyElA"
      },
      "source": [
        "## **Preprocess**\n",
        "\n",
        "We have three kinds of datasets:\n",
        "* `train`: for training\n",
        "* `dev`: for validation\n",
        "* `test`: for testing (w/o target value)\n",
        "\n",
        "## **Dataset**\n",
        "\n",
        "The `COVID19Dataset` below does:\n",
        "* read `.csv` files\n",
        "* extract features\n",
        "* split `covid.train.csv` into train/dev sets\n",
        "* normalize features"
      ]
    },
    {
      "cell_type": "code",
      "metadata": {
        "id": "PlFj6Q7zyHIj"
      },
      "source": [
        "class COVID19Dataset(Dataset):\n",
        "    ''' Dataset for loading and preprocessing the COVID19 dataset '''\n",
        "    def __init__(self,\n",
        "                 path,\n",
        "                 mode='train',\n",
        "                 target_only=False):\n",
        "        self.mode = mode\n",
        "\n",
        "        # Read data into numpy arrays\n",
        "        with open(path, 'r') as fp:\n",
        "            data = list(csv.reader(fp))\n",
        "            data = np.array(data[1:])[:, 1:].astype(float)\n",
        "        \n",
        "        if not target_only:\n",
        "            feats = list(range(93))\n",
        "        else:\n",
        "            # TODO: Using 40 states & 2 tested_positive features (indices = 57 & 75)\n",
        "            # feats = [40, 41, 42, 43, 57, 58, 59, 60, 61, 75, 76, 77, 78, 79]\n",
        "            feats = list(range(40)) + [40, 41, 42, 43, 57, 58, 59, 60, 61, 75, 76, 77, 78, 79]\n",
        "            pass\n",
        "\n",
        "        if mode == 'test':\n",
        "            # Testing data\n",
        "            # data: 893 x 93 (40 states + day 1 (18) + day 2 (18) + day 3 (17))\n",
        "            data = data[:, feats]\n",
        "            self.data = torch.FloatTensor(data)\n",
        "        else:\n",
        "            # Training data (train/dev sets)\n",
        "            # data: 2700 x 94 (40 states + day 1 (18) + day 2 (18) + day 3 (18))\n",
        "            target = data[:, -1]\n",
        "            data = data[:, feats]\n",
        "            \n",
        "            # Splitting training data into train & dev sets\n",
        "            if mode == 'train':\n",
        "                indices = [i for i in range(len(data)) if i % 7 != 0]\n",
        "            elif mode == 'dev':\n",
        "                indices = [i for i in range(len(data)) if i % 7 == 0]\n",
        "            \n",
        "            # Convert data into PyTorch tensors\n",
        "            self.data = torch.FloatTensor(data[indices])\n",
        "            self.target = torch.FloatTensor(target[indices])\n",
        "\n",
        "        # Normalize features (you may remove this part to see what will happen)\n",
        "        # self.data[:, 40:] = \\\n",
        "        #     (self.data[:, 40:] - self.data[:, 40:].mean(dim=0, keepdim=True)) \\\n",
        "        #     / self.data[:, 40:].std(dim=0, keepdim=True)\n",
        "\n",
        "        self.dim = self.data.shape[1]\n",
        "\n",
        "        print('Finished reading the {} set of COVID19 Dataset ({} samples found, each dim = {})'\n",
        "              .format(mode, len(self.data), self.dim))\n",
        "\n",
        "    def __getitem__(self, index):\n",
        "        # Returns one sample at a time\n",
        "        if self.mode in ['train', 'dev']:\n",
        "            # For training\n",
        "            return self.data[index], self.target[index]\n",
        "        else:\n",
        "            # For testing (no target)\n",
        "            return self.data[index]\n",
        "\n",
        "    def __len__(self):\n",
        "        # Returns the size of the dataset\n",
        "        return len(self.data)"
      ],
      "execution_count": 68,
      "outputs": []
    },
    {
      "cell_type": "markdown",
      "metadata": {
        "id": "znkb_-poyJof"
      },
      "source": [
        "## **DataLoader**\n",
        "\n",
        "A `DataLoader` loads data from a given `Dataset` into batches."
      ]
    },
    {
      "cell_type": "code",
      "metadata": {
        "id": "U7sNitKJyL6L"
      },
      "source": [
        "def prep_dataloader(path, mode, batch_size, n_jobs=0, target_only=False):\n",
        "    ''' Generates a dataset, then is put into a dataloader. '''\n",
        "    dataset = COVID19Dataset(path, mode=mode, target_only=target_only)  # Construct dataset\n",
        "    dataloader = DataLoader(\n",
        "        dataset, batch_size,\n",
        "        shuffle=(mode == 'train'), drop_last=False,\n",
        "        num_workers=n_jobs, pin_memory=True)                            # Construct dataloader\n",
        "    return dataloader"
      ],
      "execution_count": 69,
      "outputs": []
    },
    {
      "cell_type": "markdown",
      "metadata": {
        "id": "CgKgOHJ1yNlr"
      },
      "source": [
        "## **Deep Neural Network**\n",
        "\n",
        "`NeuralNet` is an `nn.Module` designed for regression.\n",
        "The DNN consists of 2 fully-connected layers with ReLU activation.\n",
        "This module also included a function `cal_loss` for calculating loss."
      ]
    },
    {
      "cell_type": "code",
      "metadata": {
        "id": "UAuOQUbLyPXM"
      },
      "source": [
        "class NeuralNet(nn.Module):\n",
        "    ''' A simple fully-connected deep neural network '''\n",
        "    def __init__(self, input_dim):\n",
        "        super(NeuralNet, self).__init__()\n",
        "\n",
        "        # Define your neural network here\n",
        "        # TODO: How to modify this model to achieve better performance?\n",
        "        self.net = nn.Sequential(\n",
        "            nn.Linear(input_dim, 32),\n",
        "            nn.LeakyReLU(),\n",
        "            nn.Linear(32, 1)\n",
        "        )\n",
        "\n",
        "        # Mean squared error loss\n",
        "        self.criterion = nn.MSELoss(reduction='mean')\n",
        "\n",
        "    def forward(self, x):\n",
        "        ''' Given input of size (batch_size x input_dim), compute output of the network '''\n",
        "        return self.net(x).squeeze(1)\n",
        "\n",
        "    def cal_loss(self, pred, target):\n",
        "        ''' Calculate loss '''\n",
        "        # TODO: you may implement L2 regularization here\n",
        "        return self.criterion(pred, target)"
      ],
      "execution_count": 70,
      "outputs": []
    },
    {
      "cell_type": "markdown",
      "metadata": {
        "id": "UcGuOHgHyRSJ"
      },
      "source": [
        "## **Training**"
      ]
    },
    {
      "cell_type": "code",
      "metadata": {
        "id": "2cd65eGhyTFL"
      },
      "source": [
        "def train(tr_set, dv_set, model, config, device):\n",
        "    ''' DNN training '''\n",
        "\n",
        "    n_epochs = config['n_epochs']  # Maximum number of epochs\n",
        "\n",
        "    # Setup optimizer\n",
        "    optimizer = getattr(torch.optim, config['optimizer'])(\n",
        "        model.parameters(), **config['optim_hparas'])\n",
        "\n",
        "    min_mse = 1000.\n",
        "    loss_record = {'train': [], 'dev': []}      # for recording training loss\n",
        "    early_stop_cnt = 0\n",
        "    epoch = 0\n",
        "    while epoch < n_epochs:\n",
        "        model.train()                           # set model to training mode\n",
        "        for x, y in tr_set:                     # iterate through the dataloader\n",
        "            optimizer.zero_grad()               # set gradient to zero\n",
        "            x, y = x.to(device), y.to(device)   # move data to device (cpu/cuda)\n",
        "            pred = model(x)                     # forward pass (compute output)\n",
        "            mse_loss = model.cal_loss(pred, y)  # compute loss\n",
        "            mse_loss.backward()                 # compute gradient (backpropagation)\n",
        "            optimizer.step()                    # update model with optimizer\n",
        "            loss_record['train'].append(mse_loss.detach().cpu().item())\n",
        "\n",
        "        # After each epoch, test your model on the validation (development) set.\n",
        "        dev_mse = dev(dv_set, model, device)\n",
        "        if dev_mse < min_mse:\n",
        "            # Save model if your model improved\n",
        "            min_mse = dev_mse\n",
        "            print('Saving model (epoch = {:4d}, loss = {:.4f})'\n",
        "                .format(epoch + 1, min_mse))\n",
        "            torch.save(model.state_dict(), config['save_path'])  # Save model to specified path\n",
        "            early_stop_cnt = 0\n",
        "        else:\n",
        "            early_stop_cnt += 1\n",
        "\n",
        "        epoch += 1\n",
        "        loss_record['dev'].append(dev_mse)\n",
        "        if early_stop_cnt > config['early_stop']:\n",
        "            # Stop training if your model stops improving for \"config['early_stop']\" epochs.\n",
        "            break\n",
        "\n",
        "    print('Finished training after {} epochs'.format(epoch))\n",
        "    return min_mse, loss_record"
      ],
      "execution_count": 71,
      "outputs": []
    },
    {
      "cell_type": "markdown",
      "metadata": {
        "id": "icZPQKrxyUj8"
      },
      "source": [
        "## **Validation**"
      ]
    },
    {
      "cell_type": "code",
      "metadata": {
        "id": "uk4eTZYcyXrz"
      },
      "source": [
        "def dev(dv_set, model, device):\n",
        "    model.eval()                                # set model to evalutation mode\n",
        "    total_loss = 0\n",
        "    for x, y in dv_set:                         # iterate through the dataloader\n",
        "        x, y = x.to(device), y.to(device)       # move data to device (cpu/cuda)\n",
        "        with torch.no_grad():                   # disable gradient calculation\n",
        "            pred = model(x)                     # forward pass (compute output)\n",
        "            mse_loss = model.cal_loss(pred, y)  # compute loss\n",
        "        total_loss += mse_loss.detach().cpu().item() * len(x)  # accumulate loss\n",
        "    total_loss = total_loss / len(dv_set.dataset)              # compute averaged loss\n",
        "\n",
        "    return total_loss"
      ],
      "execution_count": 72,
      "outputs": []
    },
    {
      "cell_type": "markdown",
      "metadata": {
        "id": "i2yA3xFEyZSo"
      },
      "source": [
        "## **Testing**"
      ]
    },
    {
      "cell_type": "code",
      "metadata": {
        "id": "QtWewwH6yb71"
      },
      "source": [
        "def test(tt_set, model, device):\n",
        "    model.eval()                                # set model to evalutation mode\n",
        "    preds = []\n",
        "    for x in tt_set:                            # iterate through the dataloader\n",
        "        x = x.to(device)                        # move data to device (cpu/cuda)\n",
        "        with torch.no_grad():                   # disable gradient calculation\n",
        "            pred = model(x)                     # forward pass (compute output)\n",
        "            preds.append(pred.detach().cpu())   # collect prediction\n",
        "    preds = torch.cat(preds, dim=0).numpy()     # concatenate all predictions and convert to a numpy array\n",
        "    return preds"
      ],
      "execution_count": 73,
      "outputs": []
    },
    {
      "cell_type": "markdown",
      "metadata": {
        "id": "d8wMEPbxydhJ"
      },
      "source": [
        "## **Setup Hyper-parameters**\n",
        "`config` contains hyper-parameters for training and the path to save your model."
      ]
    },
    {
      "cell_type": "code",
      "metadata": {
        "id": "G8wecHOcyfeO"
      },
      "source": [
        "device = get_device()                 # get the current available device ('cpu' or 'cuda')\n",
        "os.makedirs('models', exist_ok=True)  # The trained model will be saved to ./models/\n",
        "target_only = True                    # TODO: Using 40 states & 2 tested_positive features\n",
        "\n",
        "# TODO: How to tune these hyper-parameters to improve your model's performance?\n",
        "config = {\n",
        "    'n_epochs': 100000,                # maximum number of epochs\n",
        "    'batch_size': 32,               # mini-batch size for dataloader\n",
        "    'optimizer': 'Adam',              # optimization algorithm (optimizer in torch.optim)\n",
        "    'optim_hparas': {                # hyper-parameters for the optimizer (depends on which optimizer you are using)\n",
        "        'lr': 1e-4,                 # learning rate of SGD\n",
        "        # 'momentum': 0.9,              # momentum for SGD\n",
        "        'weight_decay': 1e-3\n",
        "    },\n",
        "    'early_stop': 200,               # early stopping epochs (the number epochs since your model's last improvement)\n",
        "    'save_path': 'models/model.pth'  # your model will be saved here\n",
        "}"
      ],
      "execution_count": 74,
      "outputs": []
    },
    {
      "cell_type": "markdown",
      "metadata": {
        "id": "vGF7WF6tyhBZ"
      },
      "source": [
        "## **Load data and model**"
      ]
    },
    {
      "cell_type": "code",
      "metadata": {
        "colab": {
          "base_uri": "https://localhost:8080/"
        },
        "id": "daAq9YNtyixz",
        "outputId": "5cc99b1b-d9bd-4dee-b53e-03047545a2b5"
      },
      "source": [
        "tr_set = prep_dataloader(tr_path, 'train', config['batch_size'], target_only=target_only)\n",
        "dv_set = prep_dataloader(tr_path, 'dev', config['batch_size'], target_only=target_only)\n",
        "tt_set = prep_dataloader(tt_path, 'test', config['batch_size'], target_only=target_only)"
      ],
      "execution_count": 75,
      "outputs": [
        {
          "output_type": "stream",
          "text": [
            "Finished reading the train set of COVID19 Dataset (2314 samples found, each dim = 54)\n",
            "Finished reading the dev set of COVID19 Dataset (386 samples found, each dim = 54)\n",
            "Finished reading the test set of COVID19 Dataset (893 samples found, each dim = 54)\n"
          ],
          "name": "stdout"
        }
      ]
    },
    {
      "cell_type": "code",
      "metadata": {
        "id": "MdLR93Jh0IxC"
      },
      "source": [
        "model = NeuralNet(tr_set.dataset.dim).to(device)  # Construct model and move to device"
      ],
      "execution_count": 76,
      "outputs": []
    },
    {
      "cell_type": "markdown",
      "metadata": {
        "id": "AIhiz0VHykzJ"
      },
      "source": [
        "## **Start Training!**"
      ]
    },
    {
      "cell_type": "code",
      "metadata": {
        "colab": {
          "base_uri": "https://localhost:8080/"
        },
        "id": "KXs-P87GynRS",
        "outputId": "0a2aeff0-24dc-49ee-9868-127308711bd2"
      },
      "source": [
        "model_loss, model_loss_record = train(tr_set, dv_set, model, config, device)"
      ],
      "execution_count": 77,
      "outputs": [
        {
          "output_type": "stream",
          "text": [
            "Saving model (epoch =    1, loss = 238.8546)\n",
            "Saving model (epoch =    2, loss = 154.4102)\n",
            "Saving model (epoch =    3, loss = 86.7728)\n",
            "Saving model (epoch =    4, loss = 42.3272)\n",
            "Saving model (epoch =    5, loss = 20.7293)\n",
            "Saving model (epoch =    6, loss = 12.6689)\n",
            "Saving model (epoch =    7, loss = 10.3370)\n",
            "Saving model (epoch =    8, loss = 9.6484)\n",
            "Saving model (epoch =    9, loss = 9.3535)\n",
            "Saving model (epoch =   10, loss = 9.1545)\n",
            "Saving model (epoch =   11, loss = 9.0024)\n",
            "Saving model (epoch =   12, loss = 8.8607)\n",
            "Saving model (epoch =   13, loss = 8.7177)\n",
            "Saving model (epoch =   14, loss = 8.5715)\n",
            "Saving model (epoch =   15, loss = 8.4220)\n",
            "Saving model (epoch =   16, loss = 8.2643)\n",
            "Saving model (epoch =   17, loss = 8.1057)\n",
            "Saving model (epoch =   18, loss = 7.9398)\n",
            "Saving model (epoch =   19, loss = 7.7671)\n",
            "Saving model (epoch =   20, loss = 7.5903)\n",
            "Saving model (epoch =   21, loss = 7.4118)\n",
            "Saving model (epoch =   22, loss = 7.2260)\n",
            "Saving model (epoch =   23, loss = 7.0357)\n",
            "Saving model (epoch =   24, loss = 6.8413)\n",
            "Saving model (epoch =   25, loss = 6.6355)\n",
            "Saving model (epoch =   26, loss = 6.4333)\n",
            "Saving model (epoch =   27, loss = 6.2282)\n",
            "Saving model (epoch =   28, loss = 6.0136)\n",
            "Saving model (epoch =   29, loss = 5.7991)\n",
            "Saving model (epoch =   30, loss = 5.5840)\n",
            "Saving model (epoch =   31, loss = 5.3646)\n",
            "Saving model (epoch =   32, loss = 5.1527)\n",
            "Saving model (epoch =   33, loss = 4.9301)\n",
            "Saving model (epoch =   34, loss = 4.7143)\n",
            "Saving model (epoch =   35, loss = 4.4954)\n",
            "Saving model (epoch =   36, loss = 4.2779)\n",
            "Saving model (epoch =   37, loss = 4.0864)\n",
            "Saving model (epoch =   38, loss = 3.8597)\n",
            "Saving model (epoch =   39, loss = 3.6600)\n",
            "Saving model (epoch =   40, loss = 3.4520)\n",
            "Saving model (epoch =   41, loss = 3.2600)\n",
            "Saving model (epoch =   42, loss = 3.0785)\n",
            "Saving model (epoch =   43, loss = 2.8969)\n",
            "Saving model (epoch =   44, loss = 2.7260)\n",
            "Saving model (epoch =   45, loss = 2.5659)\n",
            "Saving model (epoch =   46, loss = 2.4154)\n",
            "Saving model (epoch =   47, loss = 2.2988)\n",
            "Saving model (epoch =   48, loss = 2.1452)\n",
            "Saving model (epoch =   49, loss = 2.0216)\n",
            "Saving model (epoch =   50, loss = 1.9121)\n",
            "Saving model (epoch =   51, loss = 1.8108)\n",
            "Saving model (epoch =   52, loss = 1.7244)\n",
            "Saving model (epoch =   53, loss = 1.6427)\n",
            "Saving model (epoch =   54, loss = 1.5615)\n",
            "Saving model (epoch =   55, loss = 1.5002)\n",
            "Saving model (epoch =   56, loss = 1.4398)\n",
            "Saving model (epoch =   57, loss = 1.4011)\n",
            "Saving model (epoch =   58, loss = 1.3488)\n",
            "Saving model (epoch =   59, loss = 1.3180)\n",
            "Saving model (epoch =   60, loss = 1.2827)\n",
            "Saving model (epoch =   61, loss = 1.2637)\n",
            "Saving model (epoch =   62, loss = 1.2331)\n",
            "Saving model (epoch =   63, loss = 1.2201)\n",
            "Saving model (epoch =   64, loss = 1.1997)\n",
            "Saving model (epoch =   65, loss = 1.1864)\n",
            "Saving model (epoch =   66, loss = 1.1760)\n",
            "Saving model (epoch =   67, loss = 1.1684)\n",
            "Saving model (epoch =   68, loss = 1.1624)\n",
            "Saving model (epoch =   69, loss = 1.1588)\n",
            "Saving model (epoch =   70, loss = 1.1481)\n",
            "Saving model (epoch =   71, loss = 1.1467)\n",
            "Saving model (epoch =   72, loss = 1.1402)\n",
            "Saving model (epoch =   73, loss = 1.1374)\n",
            "Saving model (epoch =   75, loss = 1.1295)\n",
            "Saving model (epoch =   76, loss = 1.1262)\n",
            "Saving model (epoch =   77, loss = 1.1233)\n",
            "Saving model (epoch =   78, loss = 1.1225)\n",
            "Saving model (epoch =   79, loss = 1.1186)\n",
            "Saving model (epoch =   80, loss = 1.1153)\n",
            "Saving model (epoch =   81, loss = 1.1133)\n",
            "Saving model (epoch =   82, loss = 1.1105)\n",
            "Saving model (epoch =   83, loss = 1.1084)\n",
            "Saving model (epoch =   88, loss = 1.1068)\n",
            "Saving model (epoch =   90, loss = 1.0949)\n",
            "Saving model (epoch =   92, loss = 1.0934)\n",
            "Saving model (epoch =   93, loss = 1.0912)\n",
            "Saving model (epoch =   94, loss = 1.0876)\n",
            "Saving model (epoch =   95, loss = 1.0845)\n",
            "Saving model (epoch =   96, loss = 1.0826)\n",
            "Saving model (epoch =   97, loss = 1.0795)\n",
            "Saving model (epoch =  101, loss = 1.0708)\n",
            "Saving model (epoch =  102, loss = 1.0680)\n",
            "Saving model (epoch =  105, loss = 1.0624)\n",
            "Saving model (epoch =  107, loss = 1.0583)\n",
            "Saving model (epoch =  109, loss = 1.0548)\n",
            "Saving model (epoch =  112, loss = 1.0548)\n",
            "Saving model (epoch =  113, loss = 1.0513)\n",
            "Saving model (epoch =  114, loss = 1.0500)\n",
            "Saving model (epoch =  117, loss = 1.0499)\n",
            "Saving model (epoch =  118, loss = 1.0443)\n",
            "Saving model (epoch =  119, loss = 1.0415)\n",
            "Saving model (epoch =  123, loss = 1.0368)\n",
            "Saving model (epoch =  124, loss = 1.0360)\n",
            "Saving model (epoch =  127, loss = 1.0318)\n",
            "Saving model (epoch =  130, loss = 1.0313)\n",
            "Saving model (epoch =  132, loss = 1.0303)\n",
            "Saving model (epoch =  133, loss = 1.0262)\n",
            "Saving model (epoch =  136, loss = 1.0252)\n",
            "Saving model (epoch =  138, loss = 1.0218)\n",
            "Saving model (epoch =  140, loss = 1.0173)\n",
            "Saving model (epoch =  142, loss = 1.0153)\n",
            "Saving model (epoch =  143, loss = 1.0140)\n",
            "Saving model (epoch =  146, loss = 1.0107)\n",
            "Saving model (epoch =  147, loss = 1.0089)\n",
            "Saving model (epoch =  151, loss = 1.0059)\n",
            "Saving model (epoch =  158, loss = 1.0019)\n",
            "Saving model (epoch =  159, loss = 0.9972)\n",
            "Saving model (epoch =  160, loss = 0.9967)\n",
            "Saving model (epoch =  166, loss = 0.9909)\n",
            "Saving model (epoch =  168, loss = 0.9903)\n",
            "Saving model (epoch =  170, loss = 0.9872)\n",
            "Saving model (epoch =  173, loss = 0.9847)\n",
            "Saving model (epoch =  175, loss = 0.9831)\n",
            "Saving model (epoch =  177, loss = 0.9820)\n",
            "Saving model (epoch =  180, loss = 0.9788)\n",
            "Saving model (epoch =  183, loss = 0.9771)\n",
            "Saving model (epoch =  185, loss = 0.9768)\n",
            "Saving model (epoch =  186, loss = 0.9745)\n",
            "Saving model (epoch =  191, loss = 0.9696)\n",
            "Saving model (epoch =  194, loss = 0.9674)\n",
            "Saving model (epoch =  197, loss = 0.9657)\n",
            "Saving model (epoch =  199, loss = 0.9651)\n",
            "Saving model (epoch =  201, loss = 0.9620)\n",
            "Saving model (epoch =  203, loss = 0.9616)\n",
            "Saving model (epoch =  205, loss = 0.9592)\n",
            "Saving model (epoch =  208, loss = 0.9578)\n",
            "Saving model (epoch =  211, loss = 0.9551)\n",
            "Saving model (epoch =  215, loss = 0.9533)\n",
            "Saving model (epoch =  217, loss = 0.9514)\n",
            "Saving model (epoch =  218, loss = 0.9505)\n",
            "Saving model (epoch =  219, loss = 0.9493)\n",
            "Saving model (epoch =  223, loss = 0.9477)\n",
            "Saving model (epoch =  224, loss = 0.9467)\n",
            "Saving model (epoch =  225, loss = 0.9452)\n",
            "Saving model (epoch =  228, loss = 0.9447)\n",
            "Saving model (epoch =  229, loss = 0.9435)\n",
            "Saving model (epoch =  231, loss = 0.9417)\n",
            "Saving model (epoch =  234, loss = 0.9411)\n",
            "Saving model (epoch =  235, loss = 0.9410)\n",
            "Saving model (epoch =  236, loss = 0.9386)\n",
            "Saving model (epoch =  239, loss = 0.9378)\n",
            "Saving model (epoch =  242, loss = 0.9362)\n",
            "Saving model (epoch =  244, loss = 0.9345)\n",
            "Saving model (epoch =  246, loss = 0.9321)\n",
            "Saving model (epoch =  250, loss = 0.9312)\n",
            "Saving model (epoch =  256, loss = 0.9269)\n",
            "Saving model (epoch =  260, loss = 0.9256)\n",
            "Saving model (epoch =  261, loss = 0.9239)\n",
            "Saving model (epoch =  265, loss = 0.9236)\n",
            "Saving model (epoch =  267, loss = 0.9194)\n",
            "Saving model (epoch =  270, loss = 0.9177)\n",
            "Saving model (epoch =  271, loss = 0.9173)\n",
            "Saving model (epoch =  273, loss = 0.9167)\n",
            "Saving model (epoch =  274, loss = 0.9160)\n",
            "Saving model (epoch =  280, loss = 0.9130)\n",
            "Saving model (epoch =  282, loss = 0.9128)\n",
            "Saving model (epoch =  283, loss = 0.9121)\n",
            "Saving model (epoch =  286, loss = 0.9105)\n",
            "Saving model (epoch =  288, loss = 0.9096)\n",
            "Saving model (epoch =  292, loss = 0.9079)\n",
            "Saving model (epoch =  293, loss = 0.9077)\n",
            "Saving model (epoch =  297, loss = 0.9057)\n",
            "Saving model (epoch =  300, loss = 0.9046)\n",
            "Saving model (epoch =  301, loss = 0.9039)\n",
            "Saving model (epoch =  302, loss = 0.9038)\n",
            "Saving model (epoch =  304, loss = 0.9038)\n",
            "Saving model (epoch =  305, loss = 0.9027)\n",
            "Saving model (epoch =  308, loss = 0.9019)\n",
            "Saving model (epoch =  310, loss = 0.9011)\n",
            "Saving model (epoch =  312, loss = 0.8998)\n",
            "Saving model (epoch =  314, loss = 0.8989)\n",
            "Saving model (epoch =  316, loss = 0.8988)\n",
            "Saving model (epoch =  318, loss = 0.8974)\n",
            "Saving model (epoch =  321, loss = 0.8964)\n",
            "Saving model (epoch =  325, loss = 0.8961)\n",
            "Saving model (epoch =  326, loss = 0.8947)\n",
            "Saving model (epoch =  330, loss = 0.8930)\n",
            "Saving model (epoch =  333, loss = 0.8927)\n",
            "Saving model (epoch =  336, loss = 0.8924)\n",
            "Saving model (epoch =  337, loss = 0.8909)\n",
            "Saving model (epoch =  344, loss = 0.8900)\n",
            "Saving model (epoch =  346, loss = 0.8883)\n",
            "Saving model (epoch =  350, loss = 0.8882)\n",
            "Saving model (epoch =  352, loss = 0.8871)\n",
            "Saving model (epoch =  353, loss = 0.8867)\n",
            "Saving model (epoch =  354, loss = 0.8860)\n",
            "Saving model (epoch =  360, loss = 0.8847)\n",
            "Saving model (epoch =  365, loss = 0.8830)\n",
            "Saving model (epoch =  371, loss = 0.8819)\n",
            "Saving model (epoch =  372, loss = 0.8816)\n",
            "Saving model (epoch =  376, loss = 0.8811)\n",
            "Saving model (epoch =  379, loss = 0.8793)\n",
            "Saving model (epoch =  387, loss = 0.8775)\n",
            "Saving model (epoch =  389, loss = 0.8772)\n",
            "Saving model (epoch =  392, loss = 0.8766)\n",
            "Saving model (epoch =  399, loss = 0.8756)\n",
            "Saving model (epoch =  400, loss = 0.8748)\n",
            "Saving model (epoch =  406, loss = 0.8746)\n",
            "Saving model (epoch =  409, loss = 0.8729)\n",
            "Saving model (epoch =  415, loss = 0.8724)\n",
            "Saving model (epoch =  417, loss = 0.8714)\n",
            "Saving model (epoch =  420, loss = 0.8705)\n",
            "Saving model (epoch =  424, loss = 0.8700)\n",
            "Saving model (epoch =  429, loss = 0.8688)\n",
            "Saving model (epoch =  439, loss = 0.8676)\n",
            "Saving model (epoch =  443, loss = 0.8666)\n",
            "Saving model (epoch =  446, loss = 0.8660)\n",
            "Saving model (epoch =  453, loss = 0.8654)\n",
            "Saving model (epoch =  458, loss = 0.8653)\n",
            "Saving model (epoch =  462, loss = 0.8651)\n",
            "Saving model (epoch =  464, loss = 0.8650)\n",
            "Saving model (epoch =  468, loss = 0.8632)\n",
            "Saving model (epoch =  471, loss = 0.8630)\n",
            "Saving model (epoch =  475, loss = 0.8628)\n",
            "Saving model (epoch =  476, loss = 0.8619)\n",
            "Saving model (epoch =  477, loss = 0.8617)\n",
            "Saving model (epoch =  483, loss = 0.8614)\n",
            "Saving model (epoch =  484, loss = 0.8611)\n",
            "Saving model (epoch =  486, loss = 0.8611)\n",
            "Saving model (epoch =  491, loss = 0.8608)\n",
            "Saving model (epoch =  495, loss = 0.8597)\n",
            "Saving model (epoch =  496, loss = 0.8591)\n",
            "Saving model (epoch =  497, loss = 0.8590)\n",
            "Saving model (epoch =  498, loss = 0.8587)\n",
            "Saving model (epoch =  500, loss = 0.8586)\n",
            "Saving model (epoch =  512, loss = 0.8572)\n",
            "Saving model (epoch =  519, loss = 0.8569)\n",
            "Saving model (epoch =  520, loss = 0.8566)\n",
            "Saving model (epoch =  538, loss = 0.8549)\n",
            "Saving model (epoch =  542, loss = 0.8543)\n",
            "Saving model (epoch =  544, loss = 0.8542)\n",
            "Saving model (epoch =  550, loss = 0.8538)\n",
            "Saving model (epoch =  556, loss = 0.8536)\n",
            "Saving model (epoch =  566, loss = 0.8535)\n",
            "Saving model (epoch =  569, loss = 0.8533)\n",
            "Saving model (epoch =  575, loss = 0.8521)\n",
            "Saving model (epoch =  576, loss = 0.8519)\n",
            "Saving model (epoch =  580, loss = 0.8518)\n",
            "Saving model (epoch =  589, loss = 0.8515)\n",
            "Saving model (epoch =  603, loss = 0.8503)\n",
            "Saving model (epoch =  611, loss = 0.8500)\n",
            "Saving model (epoch =  613, loss = 0.8495)\n",
            "Saving model (epoch =  619, loss = 0.8491)\n",
            "Saving model (epoch =  637, loss = 0.8485)\n",
            "Saving model (epoch =  646, loss = 0.8483)\n",
            "Saving model (epoch =  652, loss = 0.8475)\n",
            "Saving model (epoch =  661, loss = 0.8475)\n",
            "Saving model (epoch =  668, loss = 0.8468)\n",
            "Saving model (epoch =  683, loss = 0.8464)\n",
            "Saving model (epoch =  686, loss = 0.8464)\n",
            "Saving model (epoch =  691, loss = 0.8461)\n",
            "Saving model (epoch =  701, loss = 0.8460)\n",
            "Saving model (epoch =  707, loss = 0.8459)\n",
            "Saving model (epoch =  717, loss = 0.8455)\n",
            "Saving model (epoch =  719, loss = 0.8449)\n",
            "Saving model (epoch =  721, loss = 0.8447)\n",
            "Saving model (epoch =  726, loss = 0.8445)\n",
            "Saving model (epoch =  756, loss = 0.8438)\n",
            "Saving model (epoch =  760, loss = 0.8435)\n",
            "Saving model (epoch =  769, loss = 0.8434)\n",
            "Saving model (epoch =  770, loss = 0.8433)\n",
            "Saving model (epoch =  781, loss = 0.8427)\n",
            "Saving model (epoch =  792, loss = 0.8421)\n",
            "Saving model (epoch =  794, loss = 0.8421)\n",
            "Saving model (epoch =  808, loss = 0.8419)\n",
            "Saving model (epoch =  813, loss = 0.8417)\n",
            "Saving model (epoch =  820, loss = 0.8414)\n",
            "Saving model (epoch =  822, loss = 0.8412)\n",
            "Saving model (epoch =  830, loss = 0.8411)\n",
            "Saving model (epoch =  834, loss = 0.8409)\n",
            "Saving model (epoch =  843, loss = 0.8405)\n",
            "Saving model (epoch =  862, loss = 0.8402)\n",
            "Saving model (epoch =  873, loss = 0.8400)\n",
            "Saving model (epoch =  874, loss = 0.8400)\n",
            "Saving model (epoch =  876, loss = 0.8395)\n",
            "Saving model (epoch =  903, loss = 0.8391)\n",
            "Saving model (epoch =  928, loss = 0.8388)\n",
            "Saving model (epoch =  931, loss = 0.8387)\n",
            "Saving model (epoch =  940, loss = 0.8385)\n",
            "Saving model (epoch =  942, loss = 0.8385)\n",
            "Saving model (epoch =  957, loss = 0.8385)\n",
            "Saving model (epoch =  958, loss = 0.8383)\n",
            "Saving model (epoch =  959, loss = 0.8383)\n",
            "Saving model (epoch =  964, loss = 0.8381)\n",
            "Saving model (epoch =  990, loss = 0.8379)\n",
            "Saving model (epoch =  997, loss = 0.8372)\n",
            "Saving model (epoch = 1028, loss = 0.8372)\n",
            "Saving model (epoch = 1036, loss = 0.8368)\n",
            "Saving model (epoch = 1042, loss = 0.8368)\n",
            "Saving model (epoch = 1047, loss = 0.8367)\n",
            "Saving model (epoch = 1052, loss = 0.8367)\n",
            "Saving model (epoch = 1064, loss = 0.8363)\n",
            "Saving model (epoch = 1078, loss = 0.8363)\n",
            "Saving model (epoch = 1085, loss = 0.8362)\n",
            "Saving model (epoch = 1116, loss = 0.8357)\n",
            "Saving model (epoch = 1130, loss = 0.8355)\n",
            "Saving model (epoch = 1163, loss = 0.8352)\n",
            "Saving model (epoch = 1182, loss = 0.8349)\n",
            "Saving model (epoch = 1201, loss = 0.8346)\n",
            "Saving model (epoch = 1204, loss = 0.8341)\n",
            "Saving model (epoch = 1218, loss = 0.8339)\n",
            "Saving model (epoch = 1227, loss = 0.8336)\n",
            "Saving model (epoch = 1229, loss = 0.8333)\n",
            "Saving model (epoch = 1245, loss = 0.8329)\n",
            "Saving model (epoch = 1254, loss = 0.8321)\n",
            "Saving model (epoch = 1263, loss = 0.8318)\n",
            "Saving model (epoch = 1274, loss = 0.8314)\n",
            "Saving model (epoch = 1278, loss = 0.8313)\n",
            "Saving model (epoch = 1300, loss = 0.8311)\n",
            "Saving model (epoch = 1303, loss = 0.8308)\n",
            "Saving model (epoch = 1317, loss = 0.8306)\n",
            "Saving model (epoch = 1348, loss = 0.8302)\n",
            "Saving model (epoch = 1370, loss = 0.8301)\n",
            "Saving model (epoch = 1389, loss = 0.8300)\n",
            "Saving model (epoch = 1399, loss = 0.8295)\n",
            "Saving model (epoch = 1435, loss = 0.8292)\n",
            "Saving model (epoch = 1443, loss = 0.8292)\n",
            "Saving model (epoch = 1445, loss = 0.8290)\n",
            "Saving model (epoch = 1449, loss = 0.8288)\n",
            "Saving model (epoch = 1468, loss = 0.8283)\n",
            "Saving model (epoch = 1489, loss = 0.8282)\n",
            "Saving model (epoch = 1500, loss = 0.8266)\n",
            "Saving model (epoch = 1504, loss = 0.8248)\n",
            "Saving model (epoch = 1508, loss = 0.8245)\n",
            "Saving model (epoch = 1510, loss = 0.8244)\n",
            "Saving model (epoch = 1511, loss = 0.8229)\n",
            "Saving model (epoch = 1515, loss = 0.8218)\n",
            "Saving model (epoch = 1518, loss = 0.8212)\n",
            "Saving model (epoch = 1520, loss = 0.8208)\n",
            "Saving model (epoch = 1529, loss = 0.8205)\n",
            "Saving model (epoch = 1530, loss = 0.8202)\n",
            "Saving model (epoch = 1531, loss = 0.8202)\n",
            "Saving model (epoch = 1536, loss = 0.8200)\n",
            "Saving model (epoch = 1543, loss = 0.8199)\n",
            "Saving model (epoch = 1547, loss = 0.8198)\n",
            "Saving model (epoch = 1595, loss = 0.8195)\n",
            "Saving model (epoch = 1597, loss = 0.8193)\n",
            "Saving model (epoch = 1649, loss = 0.8192)\n",
            "Saving model (epoch = 1664, loss = 0.8186)\n",
            "Saving model (epoch = 1717, loss = 0.8176)\n",
            "Saving model (epoch = 1767, loss = 0.8171)\n",
            "Saving model (epoch = 1816, loss = 0.8167)\n",
            "Saving model (epoch = 1911, loss = 0.8167)\n",
            "Saving model (epoch = 1914, loss = 0.8166)\n",
            "Saving model (epoch = 1918, loss = 0.8165)\n",
            "Saving model (epoch = 1919, loss = 0.8165)\n",
            "Saving model (epoch = 1946, loss = 0.8165)\n",
            "Saving model (epoch = 1951, loss = 0.8160)\n",
            "Saving model (epoch = 2011, loss = 0.8159)\n",
            "Saving model (epoch = 2033, loss = 0.8159)\n",
            "Saving model (epoch = 2055, loss = 0.8155)\n",
            "Saving model (epoch = 2086, loss = 0.8154)\n",
            "Saving model (epoch = 2111, loss = 0.8152)\n",
            "Saving model (epoch = 2140, loss = 0.8148)\n",
            "Saving model (epoch = 2142, loss = 0.8147)\n",
            "Saving model (epoch = 2203, loss = 0.8146)\n",
            "Saving model (epoch = 2207, loss = 0.8142)\n",
            "Saving model (epoch = 2288, loss = 0.8134)\n",
            "Finished training after 2489 epochs\n"
          ],
          "name": "stdout"
        }
      ]
    },
    {
      "cell_type": "code",
      "metadata": {
        "colab": {
          "base_uri": "https://localhost:8080/",
          "height": 295
        },
        "id": "MeSDrwHLy_Ln",
        "outputId": "f1c03b4d-1f64-44c4-bb9a-e933d8c93f8b"
      },
      "source": [
        "plot_learning_curve(model_loss_record, title='deep model')"
      ],
      "execution_count": 78,
      "outputs": [
        {
          "output_type": "display_data",
          "data": {
            "image/png": "[encoded data removed]",
            "text/plain": [
              "<Figure size 432x288 with 1 Axes>"
            ]
          },
          "metadata": {
            "tags": [],
            "needs_background": "light"
          }
        }
      ]
    },
    {
      "cell_type": "code",
      "metadata": {
        "colab": {
          "base_uri": "https://localhost:8080/",
          "height": 350
        },
        "id": "2CESNTaQzAu1",
        "outputId": "96cc9764-7d22-4c70-863c-10c816e77d6c"
      },
      "source": [
        "del model\n",
        "model = NeuralNet(tr_set.dataset.dim).to(device)\n",
        "ckpt = torch.load(config['save_path'], map_location='cpu')  # Load your best model\n",
        "model.load_state_dict(ckpt)\n",
        "plot_pred(dv_set, model, device)  # Show prediction on the validation set"
      ],
      "execution_count": 79,
      "outputs": [
        {
          "output_type": "display_data",
          "data": {
            "image/png": "[encoded data removed]",
            "text/plain": [
              "<Figure size 360x360 with 1 Axes>"
            ]
          },
          "metadata": {
            "tags": [],
            "needs_background": "light"
          }
        }
      ]
    },
    {
      "cell_type": "markdown",
      "metadata": {
        "id": "OI_dMbtNzCbq"
      },
      "source": [
        "## **Testing**\n",
        "The predictions of your model on testing set will be stored at `pred.csv`."
      ]
    },
    {
      "cell_type": "code",
      "metadata": {
        "colab": {
          "base_uri": "https://localhost:8080/"
        },
        "id": "om4VzdWRzDDH",
        "outputId": "533ade8d-ce28-465d-c482-154109768d19"
      },
      "source": [
        "def save_pred(preds, file):\n",
        "    ''' Save predictions to specified file '''\n",
        "    print('Saving results to {}'.format(file))\n",
        "    with open(file, 'w') as fp:\n",
        "        writer = csv.writer(fp)\n",
        "        writer.writerow(['id', 'tested_positive'])\n",
        "        for i, p in enumerate(preds):\n",
        "            writer.writerow([i, p])\n",
        "\n",
        "preds = test(tt_set, model, device)  # predict COVID-19 cases with your model\n",
        "save_pred(preds, 'pred.csv')         # save prediction file to pred.csv"
      ],
      "execution_count": 80,
      "outputs": [
        {
          "output_type": "stream",
          "text": [
            "Saving results to pred.csv\n"
          ],
          "name": "stdout"
        }
      ]
    },
    {
      "cell_type": "markdown",
      "metadata": {
        "id": "oiabyHdmzEuK"
      },
      "source": [
        "## **Reference**\n",
        "Source: Heng-Jui Chang @ NTUEE (https://github.com/ga642381/ML2021-Spring/blob/main/HW01/HW01.ipynb)"
      ]
    }
  ]
}