{
  "nbformat": 4,
  "nbformat_minor": 0,
  "metadata": {
    "colab": {
      "name": "Copy of Untitled4.ipynb",
      "provenance": [],
      "collapsed_sections": [],
      "authorship_tag": "ABX9TyPee4yDha5vlYbSJttvEyAx",
      "include_colab_link": true
    },
    "kernelspec": {
      "name": "python3",
      "display_name": "Python 3"
    },
    "accelerator": "GPU"
  },
  "cells": [
    {
      "cell_type": "markdown",
      "metadata": {
        "id": "view-in-github",
        "colab_type": "text"
      },
      "source": [
        "<a href=\"https://colab.research.google.com/github/Offliners/NTUML2021_Hung-yi-Lee/blob/main/HW1/homework1.ipynb\" target=\"_parent\"><img src=\"https://colab.research.google.com/assets/colab-badge.svg\" alt=\"Open In Colab\"/></a>"
      ]
    },
    {
      "cell_type": "markdown",
      "metadata": {
        "id": "MJeAxxvOw4zo"
      },
      "source": [
        "# **Homework 1: COVID-19 Cases Prediction (Regression)**\r\n",
        "\r\n",
        "Source: Delphi group @ CMU : A daily survey since April 2020 via facebook.\r\n"
      ]
    },
    {
      "cell_type": "markdown",
      "metadata": {
        "id": "ItOHwIrDxX6F"
      },
      "source": [
        "## **Download Data**"
      ]
    },
    {
      "cell_type": "code",
      "metadata": {
        "colab": {
          "base_uri": "https://localhost:8080/"
        },
        "id": "DaLzrpaLw3uM",
        "outputId": "f4cdc79e-ab5f-4d79-d7e4-e56907914a79"
      },
      "source": [
        "tr_path = 'covid.train.csv'  # path to training data\r\n",
        "tt_path = 'covid.test.csv'   # path to testing data\r\n",
        "\r\n",
        "!gdown --id '19CCyCgJrUxtvgZF53vnctJiOJ23T5mqF' --output covid.train.csv\r\n",
        "!gdown --id '1CE240jLm2npU-tdz81-oVKEF3T2yfT1O' --output covid.test.csv"
      ],
      "execution_count": 88,
      "outputs": [
        {
          "output_type": "stream",
          "text": [
            "Downloading...\n",
            "From: https://drive.google.com/uc?id=19CCyCgJrUxtvgZF53vnctJiOJ23T5mqF\n",
            "To: /content/covid.train.csv\n",
            "100% 2.00M/2.00M [00:00<00:00, 31.4MB/s]\n",
            "Downloading...\n",
            "From: https://drive.google.com/uc?id=1CE240jLm2npU-tdz81-oVKEF3T2yfT1O\n",
            "To: /content/covid.test.csv\n",
            "100% 651k/651k [00:00<00:00, 10.2MB/s]\n"
          ],
          "name": "stdout"
        }
      ]
    },
    {
      "cell_type": "markdown",
      "metadata": {
        "id": "wupnvWGaxsQ3"
      },
      "source": [
        "## **Import Some Packages**"
      ]
    },
    {
      "cell_type": "code",
      "metadata": {
        "id": "RBmUSABexxeZ"
      },
      "source": [
        "# PyTorch\r\n",
        "import torch\r\n",
        "import torch.nn as nn\r\n",
        "from torch.utils.data import Dataset, DataLoader\r\n",
        "\r\n",
        "# For data preprocess\r\n",
        "import numpy as np\r\n",
        "import csv\r\n",
        "import os\r\n",
        "\r\n",
        "# For plotting\r\n",
        "import matplotlib.pyplot as plt\r\n",
        "from matplotlib.pyplot import figure\r\n",
        "\r\n",
        "myseed = 42069  # set a random seed for reproducibility\r\n",
        "torch.backends.cudnn.deterministic = True\r\n",
        "torch.backends.cudnn.benchmark = False\r\n",
        "np.random.seed(myseed)\r\n",
        "torch.manual_seed(myseed)\r\n",
        "if torch.cuda.is_available():\r\n",
        "    torch.cuda.manual_seed_all(myseed)"
      ],
      "execution_count": 89,
      "outputs": []
    },
    {
      "cell_type": "markdown",
      "metadata": {
        "id": "Fg_EItEAx1gZ"
      },
      "source": [
        "## **Some Utilities**"
      ]
    },
    {
      "cell_type": "code",
      "metadata": {
        "id": "j3jSevQYx47x"
      },
      "source": [
        "def get_device():\r\n",
        "    ''' Get device (if GPU is available, use GPU) '''\r\n",
        "    return 'cuda' if torch.cuda.is_available() else 'cpu'\r\n",
        "\r\n",
        "def plot_learning_curve(loss_record, title=''):\r\n",
        "    ''' Plot learning curve of your DNN (train & dev loss) '''\r\n",
        "    total_steps = len(loss_record['train'])\r\n",
        "    x_1 = range(total_steps)\r\n",
        "    x_2 = x_1[::len(loss_record['train']) // len(loss_record['dev'])]\r\n",
        "    figure(figsize=(6, 4))\r\n",
        "    plt.plot(x_1, loss_record['train'], c='tab:red', label='train')\r\n",
        "    plt.plot(x_2, loss_record['dev'], c='tab:cyan', label='dev')\r\n",
        "    plt.ylim(0.0, 5.)\r\n",
        "    plt.xlabel('Training steps')\r\n",
        "    plt.ylabel('MSE loss')\r\n",
        "    plt.title('Learning curve of {}'.format(title))\r\n",
        "    plt.legend()\r\n",
        "    plt.grid()\r\n",
        "    plt.show()\r\n",
        "\r\n",
        "\r\n",
        "def plot_pred(dv_set, model, device, lim=35., preds=None, targets=None):\r\n",
        "    ''' Plot prediction of your DNN '''\r\n",
        "    if preds is None or targets is None:\r\n",
        "        model.eval()\r\n",
        "        preds, targets = [], []\r\n",
        "        for x, y in dv_set:\r\n",
        "            x, y = x.to(device), y.to(device)\r\n",
        "            with torch.no_grad():\r\n",
        "                pred = model(x)\r\n",
        "                preds.append(pred.detach().cpu())\r\n",
        "                targets.append(y.detach().cpu())\r\n",
        "        preds = torch.cat(preds, dim=0).numpy()\r\n",
        "        targets = torch.cat(targets, dim=0).numpy()\r\n",
        "\r\n",
        "    figure(figsize=(5, 5))\r\n",
        "    plt.scatter(targets, preds, c='r', alpha=0.5)\r\n",
        "    plt.plot([-0.2, lim], [-0.2, lim], c='b')\r\n",
        "    plt.xlim(-0.2, lim)\r\n",
        "    plt.ylim(-0.2, lim)\r\n",
        "    plt.xlabel('ground truth value')\r\n",
        "    plt.ylabel('predicted value')\r\n",
        "    plt.title('Ground Truth v.s. Prediction')\r\n",
        "    plt.grid()\r\n",
        "    plt.show()"
      ],
      "execution_count": 90,
      "outputs": []
    },
    {
      "cell_type": "markdown",
      "metadata": {
        "id": "b_bXJgTgx8xt"
      },
      "source": [
        "## **Preprocess**\r\n",
        "\r\n",
        "We have three kinds of datasets:\r\n",
        "* `train`: for training\r\n",
        "* `dev`: for validation\r\n",
        "* `test`: for testing (w/o target value)\r\n",
        "\r\n",
        "## **Dataset**\r\n",
        "\r\n",
        "The `COVID19Dataset` below does:\r\n",
        "* read `.csv` files\r\n",
        "* extract features\r\n",
        "* split `covid.train.csv` into train/dev sets\r\n",
        "* normalize features"
      ]
    },
    {
      "cell_type": "code",
      "metadata": {
        "id": "JEQpQAdNyKU9"
      },
      "source": [
        "class COVID19Dataset(Dataset):\r\n",
        "    ''' Dataset for loading and preprocessing the COVID19 dataset '''\r\n",
        "    def __init__(self,\r\n",
        "                 path,\r\n",
        "                 mode='train',\r\n",
        "                 target_only=False):\r\n",
        "        self.mode = mode\r\n",
        "\r\n",
        "        # Read data into numpy arrays\r\n",
        "        with open(path, 'r') as fp:\r\n",
        "            data = list(csv.reader(fp))\r\n",
        "            data = np.array(data[1:])[:, 1:].astype(float)\r\n",
        "        \r\n",
        "        if not target_only:\r\n",
        "            feats = list(range(1, 93))\r\n",
        "        else:\r\n",
        "            # TODO: Using 40 states & 2 tested_positive features (indices = 57 & 75)\r\n",
        "            feats = [40, 41, 42, 43, 57, 58, 59, 60, 61, 75, 76, 77, 78, 79]\r\n",
        "            pass\r\n",
        "\r\n",
        "        if mode == 'test':\r\n",
        "            # Testing data\r\n",
        "            # data: 893 x 93 (40 states + day 1 (18) + day 2 (18) + day 3 (17))\r\n",
        "            data = data[:, feats]\r\n",
        "            self.data = torch.FloatTensor(data)\r\n",
        "        else:\r\n",
        "            # Training data (train/dev sets)\r\n",
        "            # data: 2700 x 94 (40 states + day 1 (18) + day 2 (18) + day 3 (18))\r\n",
        "            target = data[:, -1]\r\n",
        "            data = data[:, feats]\r\n",
        "            \r\n",
        "            # Splitting training data into train & dev sets\r\n",
        "            if mode == 'train':\r\n",
        "                indices = [i for i in range(len(data)) if i % 10 != 0]\r\n",
        "            elif mode == 'dev':\r\n",
        "                indices = [i for i in range(len(data)) if i % 10 == 0]\r\n",
        "            \r\n",
        "            # Convert data into PyTorch tensors\r\n",
        "            self.data = torch.FloatTensor(data[indices])\r\n",
        "            self.target = torch.FloatTensor(target[indices])\r\n",
        "\r\n",
        "        # Normalize features (you may remove this part to see what will happen)\r\n",
        "        self.data[:, 40:] = \\\r\n",
        "            (self.data[:, 40:] - self.data[:, 40:].mean(dim=0, keepdim=True)) \\\r\n",
        "            / self.data[:, 40:].std(dim=0, keepdim=True)\r\n",
        "\r\n",
        "        self.dim = self.data.shape[1]\r\n",
        "\r\n",
        "        print('Finished reading the {} set of COVID19 Dataset ({} samples found, each dim = {})'\r\n",
        "              .format(mode, len(self.data), self.dim))\r\n",
        "\r\n",
        "    def __getitem__(self, index):\r\n",
        "        # Returns one sample at a time\r\n",
        "        if self.mode in ['train', 'dev']:\r\n",
        "            # For training\r\n",
        "            return self.data[index], self.target[index]\r\n",
        "        else:\r\n",
        "            # For testing (no target)\r\n",
        "            return self.data[index]\r\n",
        "\r\n",
        "    def __len__(self):\r\n",
        "        # Returns the size of the dataset\r\n",
        "        return len(self.data)"
      ],
      "execution_count": 91,
      "outputs": []
    },
    {
      "cell_type": "markdown",
      "metadata": {
        "id": "lohmDpmJyWQZ"
      },
      "source": [
        "## **DataLoader**\r\n",
        "\r\n",
        "A `DataLoader` loads data from a given `Dataset` into batches."
      ]
    },
    {
      "cell_type": "code",
      "metadata": {
        "id": "rOwjzVYiyY-Y"
      },
      "source": [
        "def prep_dataloader(path, mode, batch_size, n_jobs=0, target_only=False):\r\n",
        "    ''' Generates a dataset, then is put into a dataloader. '''\r\n",
        "    dataset = COVID19Dataset(path, mode=mode, target_only=target_only)  # Construct dataset\r\n",
        "    dataloader = DataLoader(\r\n",
        "        dataset, batch_size,\r\n",
        "        shuffle=(mode == 'train'), drop_last=False,\r\n",
        "        num_workers=n_jobs, pin_memory=True)                            # Construct dataloader\r\n",
        "    return dataloader"
      ],
      "execution_count": 92,
      "outputs": []
    },
    {
      "cell_type": "markdown",
      "metadata": {
        "id": "w-deK1g2yZu6"
      },
      "source": [
        "## **Deep Neural Network**\r\n",
        "\r\n",
        "`NeuralNet` is an `nn.Module` designed for regression.\r\n",
        "The DNN consists of 2 fully-connected layers with ReLU activation.\r\n",
        "This module also included a function `cal_loss` for calculating loss."
      ]
    },
    {
      "cell_type": "code",
      "metadata": {
        "id": "rg-zGj5Wyg85"
      },
      "source": [
        "class NeuralNet(nn.Module):\r\n",
        "    ''' A simple fully-connected deep neural network '''\r\n",
        "    def __init__(self, input_dim):\r\n",
        "        super(NeuralNet, self).__init__()\r\n",
        "\r\n",
        "        # Define your neural network here\r\n",
        "        # TODO: How to modify this model to achieve better performance?\r\n",
        "        self.net = nn.Sequential(\r\n",
        "            nn.Linear(input_dim, 64),\r\n",
        "            nn.LeakyReLU(),\r\n",
        "            nn.Linear(64, 1)\r\n",
        "        )\r\n",
        "\r\n",
        "        # Mean squared error loss\r\n",
        "        self.criterion = nn.MSELoss(reduction='mean')\r\n",
        "\r\n",
        "    def forward(self, x):\r\n",
        "        ''' Given input of size (batch_size x input_dim), compute output of the network '''\r\n",
        "        \r\n",
        "        return self.net(x).squeeze(1)\r\n",
        "\r\n",
        "    def cal_loss(self, pred, target):\r\n",
        "        ''' Calculate loss '''\r\n",
        "        # TODO: you may implement L2 regularization here\r\n",
        "\r\n",
        "        return self.criterion(pred, target)"
      ],
      "execution_count": 93,
      "outputs": []
    },
    {
      "cell_type": "markdown",
      "metadata": {
        "id": "xu3iy3HeytMg"
      },
      "source": [
        "## **Training**"
      ]
    },
    {
      "cell_type": "code",
      "metadata": {
        "id": "vg4f-Smbyu_k"
      },
      "source": [
        "def train(tr_set, dv_set, model, config, device):\r\n",
        "    ''' DNN training '''\r\n",
        "\r\n",
        "    n_epochs = config['n_epochs']  # Maximum number of epochs\r\n",
        "\r\n",
        "    # Setup optimizer\r\n",
        "    optimizer = getattr(torch.optim, config['optimizer'])(\r\n",
        "        model.parameters(), **config['optim_hparas'])\r\n",
        "\r\n",
        "    min_mse = 1000.\r\n",
        "    loss_record = {'train': [], 'dev': []}      # for recording training loss\r\n",
        "    early_stop_cnt = 0\r\n",
        "    epoch = 0\r\n",
        "    while epoch < n_epochs:\r\n",
        "        model.train()                           # set model to training mode\r\n",
        "        for x, y in tr_set:                     # iterate through the dataloader\r\n",
        "            optimizer.zero_grad()               # set gradient to zero\r\n",
        "            x, y = x.to(device), y.to(device)   # move data to device (cpu/cuda)\r\n",
        "            pred = model(x)                     # forward pass (compute output)\r\n",
        "            mse_loss = model.cal_loss(pred, y)  # compute loss\r\n",
        "            mse_loss.backward()                 # compute gradient (backpropagation)\r\n",
        "            optimizer.step()                    # update model with optimizer\r\n",
        "            loss_record['train'].append(mse_loss.detach().cpu().item())\r\n",
        "\r\n",
        "        # After each epoch, test your model on the validation (development) set.\r\n",
        "        dev_mse = dev(dv_set, model, device)\r\n",
        "        if dev_mse < min_mse:\r\n",
        "            # Save model if your model improved\r\n",
        "            min_mse = dev_mse\r\n",
        "            print('Saving model (epoch = {:4d}, loss = {:.4f})'\r\n",
        "                .format(epoch + 1, min_mse))\r\n",
        "            torch.save(model.state_dict(), config['save_path'])  # Save model to specified path\r\n",
        "            early_stop_cnt = 0\r\n",
        "        else:\r\n",
        "            early_stop_cnt += 1\r\n",
        "\r\n",
        "        epoch += 1\r\n",
        "        loss_record['dev'].append(dev_mse)\r\n",
        "        if early_stop_cnt > config['early_stop']:\r\n",
        "            # Stop training if your model stops improving for \"config['early_stop']\" epochs.\r\n",
        "            break\r\n",
        "\r\n",
        "    print('Finished training after {} epochs'.format(epoch))\r\n",
        "    return min_mse, loss_record"
      ],
      "execution_count": 94,
      "outputs": []
    },
    {
      "cell_type": "markdown",
      "metadata": {
        "id": "IQzKQy8vyxIV"
      },
      "source": [
        "## **Validation**"
      ]
    },
    {
      "cell_type": "code",
      "metadata": {
        "id": "Qr2NrkEEyzox"
      },
      "source": [
        "def dev(dv_set, model, device):\r\n",
        "    model.eval()                                # set model to evalutation mode\r\n",
        "    total_loss = 0\r\n",
        "    for x, y in dv_set:                         # iterate through the dataloader\r\n",
        "        x, y = x.to(device), y.to(device)       # move data to device (cpu/cuda)\r\n",
        "        with torch.no_grad():                   # disable gradient calculation\r\n",
        "            pred = model(x)                     # forward pass (compute output)\r\n",
        "            mse_loss = model.cal_loss(pred, y)  # compute loss\r\n",
        "        total_loss += mse_loss.detach().cpu().item() * len(x)  # accumulate loss\r\n",
        "    total_loss = total_loss / len(dv_set.dataset)              # compute averaged loss\r\n",
        "\r\n",
        "    return total_loss"
      ],
      "execution_count": 95,
      "outputs": []
    },
    {
      "cell_type": "markdown",
      "metadata": {
        "id": "n-gEsuYZy1Vb"
      },
      "source": [
        "## **Testing**"
      ]
    },
    {
      "cell_type": "code",
      "metadata": {
        "id": "Dz_VBVHAy3u2"
      },
      "source": [
        "def test(tt_set, model, device):\r\n",
        "    model.eval()                                # set model to evalutation mode\r\n",
        "    preds = []\r\n",
        "    for x in tt_set:                            # iterate through the dataloader\r\n",
        "        x = x.to(device)                        # move data to device (cpu/cuda)\r\n",
        "        with torch.no_grad():                   # disable gradient calculation\r\n",
        "            pred = model(x)                     # forward pass (compute output)\r\n",
        "            preds.append(pred.detach().cpu())   # collect prediction\r\n",
        "    preds = torch.cat(preds, dim=0).numpy()     # concatenate all predictions and convert to a numpy array\r\n",
        "    return preds"
      ],
      "execution_count": 96,
      "outputs": []
    },
    {
      "cell_type": "markdown",
      "metadata": {
        "id": "f4Sos50my5RN"
      },
      "source": [
        "## **Setup Hyper-parameters**\r\n",
        "`config` contains hyper-parameters for training and the path to save your model."
      ]
    },
    {
      "cell_type": "code",
      "metadata": {
        "id": "tvfemQHcy99g"
      },
      "source": [
        "device = get_device()                 # get the current available device ('cpu' or 'cuda')\r\n",
        "os.makedirs('models', exist_ok=True)  # The trained model will be saved to ./models/\r\n",
        "target_only = True                    # TODO: Using 40 states & 2 tested_positive features\r\n",
        "\r\n",
        "# TODO: How to tune these hyper-parameters to improve your model's performance?\r\n",
        "config = {\r\n",
        "    'n_epochs': 100000,               # maximum number of epochs\r\n",
        "    'batch_size': 32,               # mini-batch size for dataloader\r\n",
        "    'optimizer': 'Adam',              # optimization algorithm (optimizer in torch.optim)\r\n",
        "    'optim_hparas': {                # hyper-parameters for the optimizer (depends on which optimizer you are using)\r\n",
        "        'lr': 0.000001,                 # learning rate of SGD\r\n",
        "        # 'momentum': 0.9,             # momentum for SGD\r\n",
        "        'weight_decay': 0.01\r\n",
        "    },\r\n",
        "    'early_stop': 1000,               # early stopping epochs (the number epochs since your model's last improvement)\r\n",
        "    'save_path': 'models/model.pth'  # your model will be saved here\r\n",
        "}"
      ],
      "execution_count": 97,
      "outputs": []
    },
    {
      "cell_type": "markdown",
      "metadata": {
        "id": "iSZZjxd7y_3U"
      },
      "source": [
        "## **Load data and model**"
      ]
    },
    {
      "cell_type": "code",
      "metadata": {
        "colab": {
          "base_uri": "https://localhost:8080/"
        },
        "id": "IzFLuU50zEio",
        "outputId": "f3de5357-17fc-46a7-9845-41d8b30e98f7"
      },
      "source": [
        "tr_set = prep_dataloader(tr_path, 'train', config['batch_size'], target_only=target_only)\r\n",
        "dv_set = prep_dataloader(tr_path, 'dev', config['batch_size'], target_only=target_only)\r\n",
        "tt_set = prep_dataloader(tt_path, 'test', config['batch_size'], target_only=target_only)\r\n",
        "\r\n",
        "model = NeuralNet(tr_set.dataset.dim).to(device)  # Construct model and move to device"
      ],
      "execution_count": 98,
      "outputs": [
        {
          "output_type": "stream",
          "text": [
            "Finished reading the train set of COVID19 Dataset (2430 samples found, each dim = 14)\n",
            "Finished reading the dev set of COVID19 Dataset (270 samples found, each dim = 14)\n",
            "Finished reading the test set of COVID19 Dataset (893 samples found, each dim = 14)\n"
          ],
          "name": "stdout"
        }
      ]
    },
    {
      "cell_type": "markdown",
      "metadata": {
        "id": "d-S5SrtbzJm5"
      },
      "source": [
        "## **Start Training!**"
      ]
    },
    {
      "cell_type": "code",
      "metadata": {
        "colab": {
          "base_uri": "https://localhost:8080/"
        },
        "id": "LxIA6nP-zO8B",
        "outputId": "ca99bcf8-586b-4d85-b2b6-2c7e0a1ecdf7"
      },
      "source": [
        "model_loss, model_loss_record = train(tr_set, dv_set, model, config, device)"
      ],
      "execution_count": 99,
      "outputs": [
        {
          "output_type": "stream",
          "text": [
            "Saving model (epoch =    1, loss = 219.1892)\n",
            "Saving model (epoch =    2, loss = 133.5709)\n",
            "Saving model (epoch =    3, loss = 69.6956)\n",
            "Saving model (epoch =    4, loss = 34.6754)\n",
            "Saving model (epoch =    5, loss = 16.3808)\n",
            "Saving model (epoch =    6, loss = 11.7128)\n",
            "Saving model (epoch =    7, loss = 10.8579)\n",
            "Saving model (epoch =    8, loss = 10.5064)\n",
            "Saving model (epoch =    9, loss = 10.2119)\n",
            "Saving model (epoch =   10, loss = 9.9700)\n",
            "Saving model (epoch =   11, loss = 9.7396)\n",
            "Saving model (epoch =   12, loss = 9.5054)\n",
            "Saving model (epoch =   13, loss = 9.2734)\n",
            "Saving model (epoch =   14, loss = 9.0398)\n",
            "Saving model (epoch =   15, loss = 8.8121)\n",
            "Saving model (epoch =   16, loss = 8.5678)\n",
            "Saving model (epoch =   17, loss = 8.3330)\n",
            "Saving model (epoch =   18, loss = 8.0914)\n",
            "Saving model (epoch =   19, loss = 7.8409)\n",
            "Saving model (epoch =   20, loss = 7.5912)\n",
            "Saving model (epoch =   21, loss = 7.3293)\n",
            "Saving model (epoch =   22, loss = 7.0703)\n",
            "Saving model (epoch =   23, loss = 6.8024)\n",
            "Saving model (epoch =   24, loss = 6.5377)\n",
            "Saving model (epoch =   25, loss = 6.2527)\n",
            "Saving model (epoch =   26, loss = 5.9823)\n",
            "Saving model (epoch =   27, loss = 5.7211)\n",
            "Saving model (epoch =   28, loss = 5.4379)\n",
            "Saving model (epoch =   29, loss = 5.1816)\n",
            "Saving model (epoch =   30, loss = 4.9619)\n",
            "Saving model (epoch =   31, loss = 4.6482)\n",
            "Saving model (epoch =   32, loss = 4.4080)\n",
            "Saving model (epoch =   33, loss = 4.1570)\n",
            "Saving model (epoch =   34, loss = 3.9169)\n",
            "Saving model (epoch =   35, loss = 3.7029)\n",
            "Saving model (epoch =   36, loss = 3.4841)\n",
            "Saving model (epoch =   37, loss = 3.2680)\n",
            "Saving model (epoch =   38, loss = 3.0913)\n",
            "Saving model (epoch =   39, loss = 2.9118)\n",
            "Saving model (epoch =   40, loss = 2.7287)\n",
            "Saving model (epoch =   41, loss = 2.5794)\n",
            "Saving model (epoch =   42, loss = 2.4285)\n",
            "Saving model (epoch =   43, loss = 2.3138)\n",
            "Saving model (epoch =   44, loss = 2.1911)\n",
            "Saving model (epoch =   45, loss = 2.1076)\n",
            "Saving model (epoch =   46, loss = 1.9877)\n",
            "Saving model (epoch =   47, loss = 1.8967)\n",
            "Saving model (epoch =   48, loss = 1.8319)\n",
            "Saving model (epoch =   49, loss = 1.7576)\n",
            "Saving model (epoch =   50, loss = 1.7008)\n",
            "Saving model (epoch =   51, loss = 1.6480)\n",
            "Saving model (epoch =   52, loss = 1.6096)\n",
            "Saving model (epoch =   53, loss = 1.5728)\n",
            "Saving model (epoch =   54, loss = 1.5494)\n",
            "Saving model (epoch =   56, loss = 1.5109)\n",
            "Saving model (epoch =   57, loss = 1.4923)\n",
            "Saving model (epoch =   59, loss = 1.4888)\n",
            "Saving model (epoch =   60, loss = 1.4373)\n",
            "Saving model (epoch =   61, loss = 1.4308)\n",
            "Saving model (epoch =   62, loss = 1.4259)\n",
            "Saving model (epoch =   64, loss = 1.4056)\n",
            "Saving model (epoch =   65, loss = 1.3905)\n",
            "Saving model (epoch =   68, loss = 1.3806)\n",
            "Saving model (epoch =   70, loss = 1.3660)\n",
            "Saving model (epoch =   73, loss = 1.3525)\n",
            "Saving model (epoch =   75, loss = 1.3484)\n",
            "Saving model (epoch =   76, loss = 1.3462)\n",
            "Saving model (epoch =   79, loss = 1.3418)\n",
            "Saving model (epoch =   80, loss = 1.3344)\n",
            "Saving model (epoch =   81, loss = 1.3224)\n",
            "Saving model (epoch =   84, loss = 1.3189)\n",
            "Saving model (epoch =   85, loss = 1.3051)\n",
            "Saving model (epoch =   87, loss = 1.2979)\n",
            "Saving model (epoch =   90, loss = 1.2964)\n",
            "Saving model (epoch =   91, loss = 1.2837)\n",
            "Saving model (epoch =   94, loss = 1.2733)\n",
            "Saving model (epoch =   95, loss = 1.2705)\n",
            "Saving model (epoch =   97, loss = 1.2658)\n",
            "Saving model (epoch =   98, loss = 1.2630)\n",
            "Saving model (epoch =   99, loss = 1.2614)\n",
            "Saving model (epoch =  101, loss = 1.2501)\n",
            "Saving model (epoch =  102, loss = 1.2470)\n",
            "Saving model (epoch =  105, loss = 1.2407)\n",
            "Saving model (epoch =  106, loss = 1.2369)\n",
            "Saving model (epoch =  107, loss = 1.2306)\n",
            "Saving model (epoch =  109, loss = 1.2291)\n",
            "Saving model (epoch =  110, loss = 1.2288)\n",
            "Saving model (epoch =  112, loss = 1.2161)\n",
            "Saving model (epoch =  114, loss = 1.2099)\n",
            "Saving model (epoch =  115, loss = 1.2056)\n",
            "Saving model (epoch =  116, loss = 1.2030)\n",
            "Saving model (epoch =  118, loss = 1.1977)\n",
            "Saving model (epoch =  120, loss = 1.1906)\n",
            "Saving model (epoch =  125, loss = 1.1874)\n",
            "Saving model (epoch =  128, loss = 1.1800)\n",
            "Saving model (epoch =  129, loss = 1.1652)\n",
            "Saving model (epoch =  130, loss = 1.1628)\n",
            "Saving model (epoch =  134, loss = 1.1523)\n",
            "Saving model (epoch =  136, loss = 1.1495)\n",
            "Saving model (epoch =  141, loss = 1.1396)\n",
            "Saving model (epoch =  142, loss = 1.1317)\n",
            "Saving model (epoch =  144, loss = 1.1268)\n",
            "Saving model (epoch =  146, loss = 1.1218)\n",
            "Saving model (epoch =  153, loss = 1.1060)\n",
            "Saving model (epoch =  160, loss = 1.0984)\n",
            "Saving model (epoch =  161, loss = 1.0925)\n",
            "Saving model (epoch =  163, loss = 1.0866)\n",
            "Saving model (epoch =  164, loss = 1.0830)\n",
            "Saving model (epoch =  165, loss = 1.0791)\n",
            "Saving model (epoch =  166, loss = 1.0784)\n",
            "Saving model (epoch =  167, loss = 1.0777)\n",
            "Saving model (epoch =  169, loss = 1.0717)\n",
            "Saving model (epoch =  170, loss = 1.0682)\n",
            "Saving model (epoch =  172, loss = 1.0655)\n",
            "Saving model (epoch =  176, loss = 1.0564)\n",
            "Saving model (epoch =  183, loss = 1.0551)\n",
            "Saving model (epoch =  184, loss = 1.0410)\n",
            "Saving model (epoch =  186, loss = 1.0364)\n",
            "Saving model (epoch =  191, loss = 1.0269)\n",
            "Saving model (epoch =  198, loss = 1.0258)\n",
            "Saving model (epoch =  199, loss = 1.0124)\n",
            "Saving model (epoch =  203, loss = 1.0089)\n",
            "Saving model (epoch =  205, loss = 1.0024)\n",
            "Saving model (epoch =  210, loss = 0.9990)\n",
            "Saving model (epoch =  214, loss = 0.9934)\n",
            "Saving model (epoch =  216, loss = 0.9877)\n",
            "Saving model (epoch =  217, loss = 0.9865)\n",
            "Saving model (epoch =  219, loss = 0.9802)\n",
            "Saving model (epoch =  221, loss = 0.9788)\n",
            "Saving model (epoch =  223, loss = 0.9742)\n",
            "Saving model (epoch =  226, loss = 0.9692)\n",
            "Saving model (epoch =  229, loss = 0.9665)\n",
            "Saving model (epoch =  230, loss = 0.9648)\n",
            "Saving model (epoch =  235, loss = 0.9567)\n",
            "Saving model (epoch =  238, loss = 0.9524)\n",
            "Saving model (epoch =  239, loss = 0.9510)\n",
            "Saving model (epoch =  240, loss = 0.9507)\n",
            "Saving model (epoch =  242, loss = 0.9495)\n",
            "Saving model (epoch =  244, loss = 0.9465)\n",
            "Saving model (epoch =  245, loss = 0.9456)\n",
            "Saving model (epoch =  256, loss = 0.9322)\n",
            "Saving model (epoch =  259, loss = 0.9268)\n",
            "Saving model (epoch =  260, loss = 0.9256)\n",
            "Saving model (epoch =  262, loss = 0.9250)\n",
            "Saving model (epoch =  263, loss = 0.9227)\n",
            "Saving model (epoch =  267, loss = 0.9193)\n",
            "Saving model (epoch =  268, loss = 0.9192)\n",
            "Saving model (epoch =  269, loss = 0.9164)\n",
            "Saving model (epoch =  271, loss = 0.9136)\n",
            "Saving model (epoch =  273, loss = 0.9114)\n",
            "Saving model (epoch =  280, loss = 0.9046)\n",
            "Saving model (epoch =  285, loss = 0.9027)\n",
            "Saving model (epoch =  287, loss = 0.9018)\n",
            "Saving model (epoch =  290, loss = 0.9003)\n",
            "Saving model (epoch =  292, loss = 0.8935)\n",
            "Saving model (epoch =  298, loss = 0.8910)\n",
            "Saving model (epoch =  301, loss = 0.8909)\n",
            "Saving model (epoch =  302, loss = 0.8885)\n",
            "Saving model (epoch =  303, loss = 0.8846)\n",
            "Saving model (epoch =  306, loss = 0.8833)\n",
            "Saving model (epoch =  309, loss = 0.8799)\n",
            "Saving model (epoch =  310, loss = 0.8790)\n",
            "Saving model (epoch =  312, loss = 0.8775)\n",
            "Saving model (epoch =  320, loss = 0.8721)\n",
            "Saving model (epoch =  329, loss = 0.8670)\n",
            "Saving model (epoch =  332, loss = 0.8642)\n",
            "Saving model (epoch =  334, loss = 0.8632)\n",
            "Saving model (epoch =  335, loss = 0.8616)\n",
            "Saving model (epoch =  337, loss = 0.8603)\n",
            "Saving model (epoch =  345, loss = 0.8584)\n",
            "Saving model (epoch =  349, loss = 0.8538)\n",
            "Saving model (epoch =  352, loss = 0.8529)\n",
            "Saving model (epoch =  355, loss = 0.8514)\n",
            "Saving model (epoch =  356, loss = 0.8497)\n",
            "Saving model (epoch =  357, loss = 0.8490)\n",
            "Saving model (epoch =  360, loss = 0.8477)\n",
            "Saving model (epoch =  363, loss = 0.8462)\n",
            "Saving model (epoch =  367, loss = 0.8448)\n",
            "Saving model (epoch =  371, loss = 0.8437)\n",
            "Saving model (epoch =  372, loss = 0.8420)\n",
            "Saving model (epoch =  376, loss = 0.8416)\n",
            "Saving model (epoch =  379, loss = 0.8402)\n",
            "Saving model (epoch =  380, loss = 0.8391)\n",
            "Saving model (epoch =  393, loss = 0.8327)\n",
            "Saving model (epoch =  399, loss = 0.8326)\n",
            "Saving model (epoch =  400, loss = 0.8320)\n",
            "Saving model (epoch =  405, loss = 0.8311)\n",
            "Saving model (epoch =  408, loss = 0.8279)\n",
            "Saving model (epoch =  409, loss = 0.8270)\n",
            "Saving model (epoch =  419, loss = 0.8254)\n",
            "Saving model (epoch =  420, loss = 0.8239)\n",
            "Saving model (epoch =  423, loss = 0.8237)\n",
            "Saving model (epoch =  425, loss = 0.8228)\n",
            "Saving model (epoch =  429, loss = 0.8217)\n",
            "Saving model (epoch =  430, loss = 0.8203)\n",
            "Saving model (epoch =  436, loss = 0.8201)\n",
            "Saving model (epoch =  438, loss = 0.8182)\n",
            "Saving model (epoch =  443, loss = 0.8167)\n",
            "Saving model (epoch =  455, loss = 0.8152)\n",
            "Saving model (epoch =  457, loss = 0.8142)\n",
            "Saving model (epoch =  464, loss = 0.8124)\n",
            "Saving model (epoch =  466, loss = 0.8119)\n",
            "Saving model (epoch =  469, loss = 0.8110)\n",
            "Saving model (epoch =  480, loss = 0.8092)\n",
            "Saving model (epoch =  483, loss = 0.8083)\n",
            "Saving model (epoch =  492, loss = 0.8066)\n",
            "Saving model (epoch =  503, loss = 0.8056)\n",
            "Saving model (epoch =  505, loss = 0.8049)\n",
            "Saving model (epoch =  509, loss = 0.8047)\n",
            "Saving model (epoch =  510, loss = 0.8043)\n",
            "Saving model (epoch =  515, loss = 0.8030)\n",
            "Saving model (epoch =  525, loss = 0.8029)\n",
            "Saving model (epoch =  532, loss = 0.8025)\n",
            "Saving model (epoch =  536, loss = 0.8003)\n",
            "Saving model (epoch =  545, loss = 0.7993)\n",
            "Saving model (epoch =  551, loss = 0.7993)\n",
            "Saving model (epoch =  554, loss = 0.7985)\n",
            "Saving model (epoch =  556, loss = 0.7983)\n",
            "Saving model (epoch =  558, loss = 0.7981)\n",
            "Saving model (epoch =  562, loss = 0.7978)\n",
            "Saving model (epoch =  564, loss = 0.7973)\n",
            "Saving model (epoch =  572, loss = 0.7971)\n",
            "Saving model (epoch =  573, loss = 0.7968)\n",
            "Saving model (epoch =  580, loss = 0.7958)\n",
            "Saving model (epoch =  597, loss = 0.7955)\n",
            "Saving model (epoch =  600, loss = 0.7944)\n",
            "Saving model (epoch =  617, loss = 0.7932)\n",
            "Saving model (epoch =  621, loss = 0.7931)\n",
            "Saving model (epoch =  645, loss = 0.7920)\n",
            "Saving model (epoch =  665, loss = 0.7909)\n",
            "Saving model (epoch =  674, loss = 0.7909)\n",
            "Saving model (epoch =  694, loss = 0.7903)\n",
            "Saving model (epoch =  708, loss = 0.7899)\n",
            "Saving model (epoch =  728, loss = 0.7897)\n",
            "Saving model (epoch =  742, loss = 0.7893)\n",
            "Saving model (epoch =  747, loss = 0.7893)\n",
            "Saving model (epoch =  761, loss = 0.7888)\n",
            "Saving model (epoch =  787, loss = 0.7885)\n",
            "Saving model (epoch =  812, loss = 0.7878)\n",
            "Saving model (epoch =  905, loss = 0.7878)\n",
            "Saving model (epoch =  915, loss = 0.7877)\n",
            "Saving model (epoch =  932, loss = 0.7877)\n",
            "Saving model (epoch =  974, loss = 0.7876)\n",
            "Saving model (epoch =  975, loss = 0.7875)\n",
            "Saving model (epoch = 1033, loss = 0.7875)\n",
            "Finished training after 2034 epochs\n"
          ],
          "name": "stdout"
        }
      ]
    },
    {
      "cell_type": "code",
      "metadata": {
        "colab": {
          "base_uri": "https://localhost:8080/",
          "height": 295
        },
        "id": "ml3n_r2g0HMp",
        "outputId": "d29a3b89-89c9-45f2-ea14-7f91eaa4ecb8"
      },
      "source": [
        "plot_learning_curve(model_loss_record, title='deep model')"
      ],
      "execution_count": 100,
      "outputs": [
        {
          "output_type": "display_data",
          "data": {
            "image/png": "[encoded data removed]",
            "text/plain": [
              "<Figure size 432x288 with 1 Axes>"
            ]
          },
          "metadata": {
            "tags": [],
            "needs_background": "light"
          }
        }
      ]
    },
    {
      "cell_type": "code",
      "metadata": {
        "colab": {
          "base_uri": "https://localhost:8080/",
          "height": 350
        },
        "id": "dNYdctmK0CtP",
        "outputId": "fb2be7e1-6f86-4924-8ec9-7d2fdd35de79"
      },
      "source": [
        "del model\r\n",
        "model = NeuralNet(tr_set.dataset.dim).to(device)\r\n",
        "ckpt = torch.load(config['save_path'], map_location='cpu')  # Load your best model\r\n",
        "model.load_state_dict(ckpt)\r\n",
        "plot_pred(dv_set, model, device)  # Show prediction on the validation set"
      ],
      "execution_count": 101,
      "outputs": [
        {
          "output_type": "display_data",
          "data": {
            "image/png": "[encoded data removed]",
            "text/plain": [
              "<Figure size 360x360 with 1 Axes>"
            ]
          },
          "metadata": {
            "tags": [],
            "needs_background": "light"
          }
        }
      ]
    },
    {
      "cell_type": "markdown",
      "metadata": {
        "id": "VZdOe6jUzQvO"
      },
      "source": [
        "## **Testing**\r\n",
        "The predictions of your model on testing set will be stored at `pred.csv`."
      ]
    },
    {
      "cell_type": "code",
      "metadata": {
        "colab": {
          "base_uri": "https://localhost:8080/"
        },
        "id": "pNk5sDLjzaMp",
        "outputId": "d740a7b8-76b2-4719-88ed-572870dc6a4a"
      },
      "source": [
        "def save_pred(preds, file):\r\n",
        "    ''' Save predictions to specified file '''\r\n",
        "    print('Saving results to {}'.format(file))\r\n",
        "    with open(file, 'w') as fp:\r\n",
        "        writer = csv.writer(fp)\r\n",
        "        writer.writerow(['id', 'tested_positive'])\r\n",
        "        for i, p in enumerate(preds):\r\n",
        "            writer.writerow([i, p])\r\n",
        "\r\n",
        "preds = test(tt_set, model, device)  # predict COVID-19 cases with your model\r\n",
        "save_pred(preds, 'pred.csv')         # save prediction file to pred.csv"
      ],
      "execution_count": 102,
      "outputs": [
        {
          "output_type": "stream",
          "text": [
            "Saving results to pred.csv\n"
          ],
          "name": "stdout"
        }
      ]
    },
    {
      "cell_type": "markdown",
      "metadata": {
        "id": "I7llbZOw0XsX"
      },
      "source": [
        "## **Reference**\r\n",
        "Source: Heng-Jui Chang @ NTUEE (https://github.com/ga642381/ML2021-Spring/blob/main/HW01/HW01.ipynb)"
      ]
    }
  ]
}