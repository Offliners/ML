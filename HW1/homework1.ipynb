{
  "nbformat": 4,
  "nbformat_minor": 0,
  "metadata": {
    "colab": {
      "name": "Untitled0.ipynb",
      "provenance": [],
      "toc_visible": true,
      "include_colab_link": true
    },
    "kernelspec": {
      "name": "python3",
      "display_name": "Python 3"
    },
    "accelerator": "GPU"
  },
  "cells": [
    {
      "cell_type": "markdown",
      "metadata": {
        "id": "view-in-github",
        "colab_type": "text"
      },
      "source": [
        "<a href=\"https://colab.research.google.com/github/Offliners/ML/blob/main/HW1/homework1.ipynb\" target=\"_parent\"><img src=\"https://colab.research.google.com/assets/colab-badge.svg\" alt=\"Open In Colab\"/></a>"
      ]
    },
    {
      "cell_type": "markdown",
      "metadata": {
        "id": "rPx9a5xqxyad"
      },
      "source": [
        "# **Homework 1: COVID-19 Cases Prediction (Regression)**\n",
        "\n",
        "Source: Delphi group @ CMU : A daily survey since April 2020 via facebook."
      ]
    },
    {
      "cell_type": "code",
      "metadata": {
        "colab": {
          "base_uri": "https://localhost:8080/"
        },
        "id": "CdNJJuSwxxq3",
        "outputId": "4e915b73-2431-495d-a17a-d2efed0c51f1"
      },
      "source": [
        "tr_path = 'covid.train.csv'  # path to training data\n",
        "tt_path = 'covid.test.csv'   # path to testing data\n",
        "\n",
        "!gdown --id '19CCyCgJrUxtvgZF53vnctJiOJ23T5mqF' --output covid.train.csv\n",
        "!gdown --id '1CE240jLm2npU-tdz81-oVKEF3T2yfT1O' --output covid.test.csv"
      ],
      "execution_count": 1,
      "outputs": [
        {
          "output_type": "stream",
          "text": [
            "Downloading...\n",
            "From: https://drive.google.com/uc?id=19CCyCgJrUxtvgZF53vnctJiOJ23T5mqF\n",
            "To: /content/covid.train.csv\n",
            "100% 2.00M/2.00M [00:00<00:00, 31.5MB/s]\n",
            "Downloading...\n",
            "From: https://drive.google.com/uc?id=1CE240jLm2npU-tdz81-oVKEF3T2yfT1O\n",
            "To: /content/covid.test.csv\n",
            "100% 651k/651k [00:00<00:00, 10.2MB/s]\n"
          ],
          "name": "stdout"
        }
      ]
    },
    {
      "cell_type": "markdown",
      "metadata": {
        "id": "nBx0SXcYx519"
      },
      "source": [
        "## **Import Some Packages**"
      ]
    },
    {
      "cell_type": "code",
      "metadata": {
        "id": "3DWPCjdEx8l1"
      },
      "source": [
        "# PyTorch\n",
        "import torch\n",
        "import torch.nn as nn\n",
        "from torch.utils.data import Dataset, DataLoader\n",
        "\n",
        "# For data preprocess\n",
        "import numpy as np\n",
        "import csv\n",
        "import os\n",
        "\n",
        "# For plotting\n",
        "import matplotlib.pyplot as plt\n",
        "from matplotlib.pyplot import figure\n",
        "\n",
        "myseed = 42069  # set a random seed for reproducibility\n",
        "torch.backends.cudnn.deterministic = True\n",
        "torch.backends.cudnn.benchmark = False\n",
        "np.random.seed(myseed)\n",
        "torch.manual_seed(myseed)\n",
        "if torch.cuda.is_available():\n",
        "    torch.cuda.manual_seed_all(myseed)"
      ],
      "execution_count": 2,
      "outputs": []
    },
    {
      "cell_type": "markdown",
      "metadata": {
        "id": "dbL79oVPyAcr"
      },
      "source": [
        "## **Some Utilities**"
      ]
    },
    {
      "cell_type": "code",
      "metadata": {
        "id": "1Ir0GGJeyCrE"
      },
      "source": [
        "def get_device():\n",
        "    ''' Get device (if GPU is available, use GPU) '''\n",
        "    return 'cuda' if torch.cuda.is_available() else 'cpu'\n",
        "\n",
        "def plot_learning_curve(loss_record, title=''):\n",
        "    ''' Plot learning curve of your DNN (train & dev loss) '''\n",
        "    total_steps = len(loss_record['train'])\n",
        "    x_1 = range(total_steps)\n",
        "    x_2 = x_1[::len(loss_record['train']) // len(loss_record['dev'])]\n",
        "    figure(figsize=(6, 4))\n",
        "    plt.plot(x_1, loss_record['train'], c='tab:red', label='train')\n",
        "    plt.plot(x_2, loss_record['dev'], c='tab:cyan', label='dev')\n",
        "    plt.ylim(0.0, 5.)\n",
        "    plt.xlabel('Training steps')\n",
        "    plt.ylabel('MSE loss')\n",
        "    plt.title('Learning curve of {}'.format(title))\n",
        "    plt.legend()\n",
        "    plt.grid()\n",
        "    plt.show()\n",
        "\n",
        "\n",
        "def plot_pred(dv_set, model, device, lim=35., preds=None, targets=None):\n",
        "    ''' Plot prediction of your DNN '''\n",
        "    if preds is None or targets is None:\n",
        "        model.eval()\n",
        "        preds, targets = [], []\n",
        "        for x, y in dv_set:\n",
        "            x, y = x.to(device), y.to(device)\n",
        "            with torch.no_grad():\n",
        "                pred = model(x)\n",
        "                preds.append(pred.detach().cpu())\n",
        "                targets.append(y.detach().cpu())\n",
        "        preds = torch.cat(preds, dim=0).numpy()\n",
        "        targets = torch.cat(targets, dim=0).numpy()\n",
        "\n",
        "    figure(figsize=(5, 5))\n",
        "    plt.scatter(targets, preds, c='r', alpha=0.5)\n",
        "    plt.plot([-0.2, lim], [-0.2, lim], c='b')\n",
        "    plt.xlim(-0.2, lim)\n",
        "    plt.ylim(-0.2, lim)\n",
        "    plt.xlabel('ground truth value')\n",
        "    plt.ylabel('predicted value')\n",
        "    plt.title('Ground Truth v.s. Prediction')\n",
        "    plt.grid()\n",
        "    plt.show()"
      ],
      "execution_count": 3,
      "outputs": []
    },
    {
      "cell_type": "markdown",
      "metadata": {
        "id": "qzhfgvkNyElA"
      },
      "source": [
        "## **Preprocess**\n",
        "\n",
        "We have three kinds of datasets:\n",
        "* `train`: for training\n",
        "* `dev`: for validation\n",
        "* `test`: for testing (w/o target value)\n",
        "\n",
        "## **Dataset**\n",
        "\n",
        "The `COVID19Dataset` below does:\n",
        "* read `.csv` files\n",
        "* extract features\n",
        "* split `covid.train.csv` into train/dev sets\n",
        "* normalize features"
      ]
    },
    {
      "cell_type": "code",
      "metadata": {
        "id": "PlFj6Q7zyHIj"
      },
      "source": [
        "class COVID19Dataset(Dataset):\n",
        "    ''' Dataset for loading and preprocessing the COVID19 dataset '''\n",
        "    def __init__(self,\n",
        "                 path,\n",
        "                 mode='train',\n",
        "                 target_only=False):\n",
        "        self.mode = mode\n",
        "\n",
        "        # Read data into numpy arrays\n",
        "        with open(path, 'r') as fp:\n",
        "            data = list(csv.reader(fp))\n",
        "            data = np.array(data[1:])[:, 1:].astype(float)\n",
        "        \n",
        "        if not target_only:\n",
        "            feats = list(range(93))\n",
        "        else:\n",
        "            # TODO: Using 40 states & 2 tested_positive features (indices = 57 & 75)\n",
        "            # feats = [40, 41, 42, 43, 57, 58, 59, 60, 61, 75, 76, 77, 78, 79]\n",
        "            feats = list(range(40)) + [40, 41, 42, 43, 57, 58, 59, 60, 61, 75, 76, 77, 78, 79]\n",
        "            pass\n",
        "\n",
        "        if mode == 'test':\n",
        "            # Testing data\n",
        "            # data: 893 x 93 (40 states + day 1 (18) + day 2 (18) + day 3 (17))\n",
        "            data = data[:, feats]\n",
        "            self.data = torch.FloatTensor(data)\n",
        "        else:\n",
        "            # Training data (train/dev sets)\n",
        "            # data: 2700 x 94 (40 states + day 1 (18) + day 2 (18) + day 3 (18))\n",
        "            target = data[:, -1]\n",
        "            data = data[:, feats]\n",
        "            \n",
        "            # Splitting training data into train & dev sets\n",
        "            if mode == 'train':\n",
        "                indices = [i for i in range(len(data)) if i % 10 != 3]\n",
        "            elif mode == 'dev':\n",
        "                indices = [i for i in range(len(data)) if i % 10 == 3]\n",
        "            \n",
        "            # Convert data into PyTorch tensors\n",
        "            self.data = torch.FloatTensor(data[indices])\n",
        "            self.target = torch.FloatTensor(target[indices])\n",
        "\n",
        "        # Normalize features (you may remove this part to see what will happen)\n",
        "        # self.data[:, 40:] = \\\n",
        "        #     (self.data[:, 40:] - self.data[:, 40:].mean(dim=0, keepdim=True)) \\\n",
        "        #     / self.data[:, 40:].std(dim=0, keepdim=True)\n",
        "\n",
        "        self.dim = self.data.shape[1]\n",
        "\n",
        "        print('Finished reading the {} set of COVID19 Dataset ({} samples found, each dim = {})'\n",
        "              .format(mode, len(self.data), self.dim))\n",
        "\n",
        "    def __getitem__(self, index):\n",
        "        # Returns one sample at a time\n",
        "        if self.mode in ['train', 'dev']:\n",
        "            # For training\n",
        "            return self.data[index], self.target[index]\n",
        "        else:\n",
        "            # For testing (no target)\n",
        "            return self.data[index]\n",
        "\n",
        "    def __len__(self):\n",
        "        # Returns the size of the dataset\n",
        "        return len(self.data)"
      ],
      "execution_count": 4,
      "outputs": []
    },
    {
      "cell_type": "markdown",
      "metadata": {
        "id": "znkb_-poyJof"
      },
      "source": [
        "## **DataLoader**\n",
        "\n",
        "A `DataLoader` loads data from a given `Dataset` into batches."
      ]
    },
    {
      "cell_type": "code",
      "metadata": {
        "id": "U7sNitKJyL6L"
      },
      "source": [
        "def prep_dataloader(path, mode, batch_size, n_jobs=0, target_only=False):\n",
        "    ''' Generates a dataset, then is put into a dataloader. '''\n",
        "    dataset = COVID19Dataset(path, mode=mode, target_only=target_only)  # Construct dataset\n",
        "    dataloader = DataLoader(\n",
        "        dataset, batch_size,\n",
        "        shuffle=(mode == 'train'), drop_last=False,\n",
        "        num_workers=n_jobs, pin_memory=True)                            # Construct dataloader\n",
        "    return dataloader"
      ],
      "execution_count": 5,
      "outputs": []
    },
    {
      "cell_type": "markdown",
      "metadata": {
        "id": "CgKgOHJ1yNlr"
      },
      "source": [
        "## **Deep Neural Network**\n",
        "\n",
        "`NeuralNet` is an `nn.Module` designed for regression.\n",
        "The DNN consists of 2 fully-connected layers with ReLU activation.\n",
        "This module also included a function `cal_loss` for calculating loss."
      ]
    },
    {
      "cell_type": "code",
      "metadata": {
        "id": "UAuOQUbLyPXM"
      },
      "source": [
        "class NeuralNet(nn.Module):\n",
        "    ''' A simple fully-connected deep neural network '''\n",
        "    def __init__(self, input_dim):\n",
        "        super(NeuralNet, self).__init__()\n",
        "\n",
        "        # Define your neural network here\n",
        "        # TODO: How to modify this model to achieve better performance?\n",
        "        self.net = nn.Sequential(\n",
        "            nn.Linear(input_dim, 32),\n",
        "            nn.LeakyReLU(),\n",
        "            nn.Linear(32, 32),\n",
        "            nn.LeakyReLU(),\n",
        "            nn.Linear(32, 1)\n",
        "        )\n",
        "\n",
        "        # Mean squared error loss\n",
        "        self.criterion = nn.MSELoss(reduction='mean')\n",
        "\n",
        "    def forward(self, x):\n",
        "        ''' Given input of size (batch_size x input_dim), compute output of the network '''\n",
        "        return self.net(x).squeeze(1)\n",
        "\n",
        "    def cal_loss(self, pred, target):\n",
        "        ''' Calculate loss '''\n",
        "        # TODO: you may implement L2 regularization here\n",
        "        return self.criterion(pred, target)"
      ],
      "execution_count": 6,
      "outputs": []
    },
    {
      "cell_type": "markdown",
      "metadata": {
        "id": "UcGuOHgHyRSJ"
      },
      "source": [
        "## **Training**"
      ]
    },
    {
      "cell_type": "code",
      "metadata": {
        "id": "2cd65eGhyTFL"
      },
      "source": [
        "def train(tr_set, dv_set, model, config, device):\n",
        "    ''' DNN training '''\n",
        "\n",
        "    n_epochs = config['n_epochs']  # Maximum number of epochs\n",
        "\n",
        "    # Setup optimizer\n",
        "    optimizer = getattr(torch.optim, config['optimizer'])(\n",
        "        model.parameters(), **config['optim_hparas'])\n",
        "\n",
        "    min_mse = 1000.\n",
        "    loss_record = {'train': [], 'dev': []}      # for recording training loss\n",
        "    early_stop_cnt = 0\n",
        "    epoch = 0\n",
        "    while epoch < n_epochs:\n",
        "        model.train()                           # set model to training mode\n",
        "        for x, y in tr_set:                     # iterate through the dataloader\n",
        "            optimizer.zero_grad()               # set gradient to zero\n",
        "            x, y = x.to(device), y.to(device)   # move data to device (cpu/cuda)\n",
        "            pred = model(x)                     # forward pass (compute output)\n",
        "            mse_loss = model.cal_loss(pred, y)  # compute loss\n",
        "            mse_loss.backward()                 # compute gradient (backpropagation)\n",
        "            optimizer.step()                    # update model with optimizer\n",
        "            loss_record['train'].append(mse_loss.detach().cpu().item())\n",
        "\n",
        "        # After each epoch, test your model on the validation (development) set.\n",
        "        dev_mse = dev(dv_set, model, device)\n",
        "        if dev_mse < min_mse:\n",
        "            # Save model if your model improved\n",
        "            min_mse = dev_mse\n",
        "            print('Saving model (epoch = {:4d}, loss = {:.4f})'\n",
        "                .format(epoch + 1, min_mse))\n",
        "            torch.save(model.state_dict(), config['save_path'])  # Save model to specified path\n",
        "            early_stop_cnt = 0\n",
        "        else:\n",
        "            early_stop_cnt += 1\n",
        "\n",
        "        epoch += 1\n",
        "        loss_record['dev'].append(dev_mse)\n",
        "        if early_stop_cnt > config['early_stop']:\n",
        "            # Stop training if your model stops improving for \"config['early_stop']\" epochs.\n",
        "            break\n",
        "\n",
        "    print('Finished training after {} epochs'.format(epoch))\n",
        "    return min_mse, loss_record"
      ],
      "execution_count": 7,
      "outputs": []
    },
    {
      "cell_type": "markdown",
      "metadata": {
        "id": "icZPQKrxyUj8"
      },
      "source": [
        "## **Validation**"
      ]
    },
    {
      "cell_type": "code",
      "metadata": {
        "id": "uk4eTZYcyXrz"
      },
      "source": [
        "def dev(dv_set, model, device):\n",
        "    model.eval()                                # set model to evalutation mode\n",
        "    total_loss = 0\n",
        "    for x, y in dv_set:                         # iterate through the dataloader\n",
        "        x, y = x.to(device), y.to(device)       # move data to device (cpu/cuda)\n",
        "        with torch.no_grad():                   # disable gradient calculation\n",
        "            pred = model(x)                     # forward pass (compute output)\n",
        "            mse_loss = model.cal_loss(pred, y)  # compute loss\n",
        "        total_loss += mse_loss.detach().cpu().item() * len(x)  # accumulate loss\n",
        "    total_loss = total_loss / len(dv_set.dataset)              # compute averaged loss\n",
        "\n",
        "    return total_loss"
      ],
      "execution_count": 8,
      "outputs": []
    },
    {
      "cell_type": "markdown",
      "metadata": {
        "id": "i2yA3xFEyZSo"
      },
      "source": [
        "## **Testing**"
      ]
    },
    {
      "cell_type": "code",
      "metadata": {
        "id": "QtWewwH6yb71"
      },
      "source": [
        "def test(tt_set, model, device):\n",
        "    model.eval()                                # set model to evalutation mode\n",
        "    preds = []\n",
        "    for x in tt_set:                            # iterate through the dataloader\n",
        "        x = x.to(device)                        # move data to device (cpu/cuda)\n",
        "        with torch.no_grad():                   # disable gradient calculation\n",
        "            pred = model(x)                     # forward pass (compute output)\n",
        "            preds.append(pred.detach().cpu())   # collect prediction\n",
        "    preds = torch.cat(preds, dim=0).numpy()     # concatenate all predictions and convert to a numpy array\n",
        "    return preds"
      ],
      "execution_count": 9,
      "outputs": []
    },
    {
      "cell_type": "markdown",
      "metadata": {
        "id": "d8wMEPbxydhJ"
      },
      "source": [
        "## **Setup Hyper-parameters**\n",
        "`config` contains hyper-parameters for training and the path to save your model."
      ]
    },
    {
      "cell_type": "code",
      "metadata": {
        "id": "G8wecHOcyfeO"
      },
      "source": [
        "device = get_device()                 # get the current available device ('cpu' or 'cuda')\n",
        "os.makedirs('models', exist_ok=True)  # The trained model will be saved to ./models/\n",
        "target_only = True                    # TODO: Using 40 states & 2 tested_positive features\n",
        "\n",
        "# TODO: How to tune these hyper-parameters to improve your model's performance?\n",
        "config = {\n",
        "    'n_epochs': 10000,                # maximum number of epochs\n",
        "    'batch_size': 32,                 # mini-batch size for dataloader\n",
        "    'optimizer': 'Adam',              # optimization algorithm (optimizer in torch.optim)\n",
        "    'optim_hparas': {                 # hyper-parameters for the optimizer (depends on which optimizer you are using)\n",
        "        'lr': 1e-4,                   # learning rate of Adam\n",
        "        # 'momentum': 0.9,            # momentum for SGD\n",
        "        'weight_decay': 1e-3          # implement L2 regularization\n",
        "    },\n",
        "    'early_stop': 300,               # early stopping epochs (the number epochs since your model's last improvement)\n",
        "    'save_path': 'models/model.pth'  # your model will be saved here\n",
        "}"
      ],
      "execution_count": 10,
      "outputs": []
    },
    {
      "cell_type": "markdown",
      "metadata": {
        "id": "vGF7WF6tyhBZ"
      },
      "source": [
        "## **Load data and model**"
      ]
    },
    {
      "cell_type": "code",
      "metadata": {
        "colab": {
          "base_uri": "https://localhost:8080/"
        },
        "id": "daAq9YNtyixz",
        "outputId": "f63463ea-4214-48ca-bd7c-9aee5288133c"
      },
      "source": [
        "tr_set = prep_dataloader(tr_path, 'train', config['batch_size'], target_only=target_only)\n",
        "dv_set = prep_dataloader(tr_path, 'dev', config['batch_size'], target_only=target_only)\n",
        "tt_set = prep_dataloader(tt_path, 'test', config['batch_size'], target_only=target_only)"
      ],
      "execution_count": 11,
      "outputs": [
        {
          "output_type": "stream",
          "text": [
            "Finished reading the train set of COVID19 Dataset (2430 samples found, each dim = 54)\n",
            "Finished reading the dev set of COVID19 Dataset (270 samples found, each dim = 54)\n",
            "Finished reading the test set of COVID19 Dataset (893 samples found, each dim = 54)\n"
          ],
          "name": "stdout"
        }
      ]
    },
    {
      "cell_type": "code",
      "metadata": {
        "id": "MdLR93Jh0IxC"
      },
      "source": [
        "model = NeuralNet(tr_set.dataset.dim).to(device)  # Construct model and move to device"
      ],
      "execution_count": 12,
      "outputs": []
    },
    {
      "cell_type": "markdown",
      "metadata": {
        "id": "AIhiz0VHykzJ"
      },
      "source": [
        "## **Start Training!**"
      ]
    },
    {
      "cell_type": "code",
      "metadata": {
        "colab": {
          "base_uri": "https://localhost:8080/"
        },
        "id": "KXs-P87GynRS",
        "outputId": "4c26910f-7a77-4613-f009-cdf21079a35c"
      },
      "source": [
        "model_loss, model_loss_record = train(tr_set, dv_set, model, config, device)"
      ],
      "execution_count": 13,
      "outputs": [
        {
          "output_type": "stream",
          "text": [
            "Saving model (epoch =    1, loss = 273.4537)\n",
            "Saving model (epoch =    2, loss = 197.5468)\n",
            "Saving model (epoch =    3, loss = 104.5388)\n",
            "Saving model (epoch =    4, loss = 30.5290)\n",
            "Saving model (epoch =    5, loss = 10.6420)\n",
            "Saving model (epoch =    6, loss = 9.6772)\n",
            "Saving model (epoch =    7, loss = 9.5073)\n",
            "Saving model (epoch =    8, loss = 9.2815)\n",
            "Saving model (epoch =    9, loss = 9.0107)\n",
            "Saving model (epoch =   10, loss = 8.7462)\n",
            "Saving model (epoch =   11, loss = 8.4887)\n",
            "Saving model (epoch =   12, loss = 8.2083)\n",
            "Saving model (epoch =   13, loss = 7.9525)\n",
            "Saving model (epoch =   14, loss = 7.6075)\n",
            "Saving model (epoch =   15, loss = 7.2549)\n",
            "Saving model (epoch =   16, loss = 6.8781)\n",
            "Saving model (epoch =   17, loss = 6.4860)\n",
            "Saving model (epoch =   18, loss = 6.1052)\n",
            "Saving model (epoch =   19, loss = 5.6876)\n",
            "Saving model (epoch =   20, loss = 5.2729)\n",
            "Saving model (epoch =   21, loss = 4.8653)\n",
            "Saving model (epoch =   22, loss = 4.4350)\n",
            "Saving model (epoch =   23, loss = 4.0541)\n",
            "Saving model (epoch =   24, loss = 3.6573)\n",
            "Saving model (epoch =   25, loss = 3.2798)\n",
            "Saving model (epoch =   26, loss = 2.9355)\n",
            "Saving model (epoch =   27, loss = 2.6014)\n",
            "Saving model (epoch =   28, loss = 2.3188)\n",
            "Saving model (epoch =   29, loss = 2.0810)\n",
            "Saving model (epoch =   30, loss = 1.8796)\n",
            "Saving model (epoch =   31, loss = 1.6676)\n",
            "Saving model (epoch =   32, loss = 1.5235)\n",
            "Saving model (epoch =   33, loss = 1.4106)\n",
            "Saving model (epoch =   34, loss = 1.3256)\n",
            "Saving model (epoch =   35, loss = 1.2646)\n",
            "Saving model (epoch =   36, loss = 1.1907)\n",
            "Saving model (epoch =   37, loss = 1.1506)\n",
            "Saving model (epoch =   38, loss = 1.1396)\n",
            "Saving model (epoch =   39, loss = 1.1102)\n",
            "Saving model (epoch =   40, loss = 1.0941)\n",
            "Saving model (epoch =   41, loss = 1.0863)\n",
            "Saving model (epoch =   42, loss = 1.0838)\n",
            "Saving model (epoch =   44, loss = 1.0696)\n",
            "Saving model (epoch =   45, loss = 1.0628)\n",
            "Saving model (epoch =   46, loss = 1.0597)\n",
            "Saving model (epoch =   47, loss = 1.0583)\n",
            "Saving model (epoch =   50, loss = 1.0567)\n",
            "Saving model (epoch =   51, loss = 1.0490)\n",
            "Saving model (epoch =   53, loss = 1.0435)\n",
            "Saving model (epoch =   54, loss = 1.0354)\n",
            "Saving model (epoch =   56, loss = 1.0272)\n",
            "Saving model (epoch =   59, loss = 1.0174)\n",
            "Saving model (epoch =   60, loss = 1.0148)\n",
            "Saving model (epoch =   62, loss = 1.0090)\n",
            "Saving model (epoch =   68, loss = 1.0003)\n",
            "Saving model (epoch =   71, loss = 0.9969)\n",
            "Saving model (epoch =   78, loss = 0.9843)\n",
            "Saving model (epoch =   85, loss = 0.9745)\n",
            "Saving model (epoch =   88, loss = 0.9703)\n",
            "Saving model (epoch =   90, loss = 0.9676)\n",
            "Saving model (epoch =   94, loss = 0.9628)\n",
            "Saving model (epoch =   97, loss = 0.9623)\n",
            "Saving model (epoch =   98, loss = 0.9562)\n",
            "Saving model (epoch =   99, loss = 0.9549)\n",
            "Saving model (epoch =  102, loss = 0.9539)\n",
            "Saving model (epoch =  107, loss = 0.9501)\n",
            "Saving model (epoch =  108, loss = 0.9434)\n",
            "Saving model (epoch =  114, loss = 0.9402)\n",
            "Saving model (epoch =  115, loss = 0.9367)\n",
            "Saving model (epoch =  117, loss = 0.9336)\n",
            "Saving model (epoch =  120, loss = 0.9302)\n",
            "Saving model (epoch =  121, loss = 0.9262)\n",
            "Saving model (epoch =  123, loss = 0.9208)\n",
            "Saving model (epoch =  124, loss = 0.9199)\n",
            "Saving model (epoch =  127, loss = 0.9149)\n",
            "Saving model (epoch =  128, loss = 0.9139)\n",
            "Saving model (epoch =  130, loss = 0.9111)\n",
            "Saving model (epoch =  133, loss = 0.9107)\n",
            "Saving model (epoch =  137, loss = 0.9001)\n",
            "Saving model (epoch =  143, loss = 0.8940)\n",
            "Saving model (epoch =  146, loss = 0.8894)\n",
            "Saving model (epoch =  150, loss = 0.8842)\n",
            "Saving model (epoch =  154, loss = 0.8805)\n",
            "Saving model (epoch =  158, loss = 0.8762)\n",
            "Saving model (epoch =  159, loss = 0.8731)\n",
            "Saving model (epoch =  160, loss = 0.8729)\n",
            "Saving model (epoch =  162, loss = 0.8704)\n",
            "Saving model (epoch =  165, loss = 0.8666)\n",
            "Saving model (epoch =  166, loss = 0.8644)\n",
            "Saving model (epoch =  170, loss = 0.8635)\n",
            "Saving model (epoch =  171, loss = 0.8593)\n",
            "Saving model (epoch =  173, loss = 0.8568)\n",
            "Saving model (epoch =  176, loss = 0.8537)\n",
            "Saving model (epoch =  177, loss = 0.8536)\n",
            "Saving model (epoch =  180, loss = 0.8519)\n",
            "Saving model (epoch =  182, loss = 0.8469)\n",
            "Saving model (epoch =  184, loss = 0.8458)\n",
            "Saving model (epoch =  186, loss = 0.8446)\n",
            "Saving model (epoch =  189, loss = 0.8408)\n",
            "Saving model (epoch =  193, loss = 0.8375)\n",
            "Saving model (epoch =  198, loss = 0.8363)\n",
            "Saving model (epoch =  200, loss = 0.8313)\n",
            "Saving model (epoch =  202, loss = 0.8292)\n",
            "Saving model (epoch =  203, loss = 0.8280)\n",
            "Saving model (epoch =  210, loss = 0.8278)\n",
            "Saving model (epoch =  214, loss = 0.8212)\n",
            "Saving model (epoch =  215, loss = 0.8193)\n",
            "Saving model (epoch =  216, loss = 0.8180)\n",
            "Saving model (epoch =  221, loss = 0.8149)\n",
            "Saving model (epoch =  226, loss = 0.8112)\n",
            "Saving model (epoch =  234, loss = 0.8056)\n",
            "Saving model (epoch =  241, loss = 0.8013)\n",
            "Saving model (epoch =  251, loss = 0.7978)\n",
            "Saving model (epoch =  252, loss = 0.7966)\n",
            "Saving model (epoch =  255, loss = 0.7928)\n",
            "Saving model (epoch =  258, loss = 0.7911)\n",
            "Saving model (epoch =  261, loss = 0.7906)\n",
            "Saving model (epoch =  267, loss = 0.7857)\n",
            "Saving model (epoch =  270, loss = 0.7844)\n",
            "Saving model (epoch =  272, loss = 0.7843)\n",
            "Saving model (epoch =  274, loss = 0.7819)\n",
            "Saving model (epoch =  275, loss = 0.7815)\n",
            "Saving model (epoch =  278, loss = 0.7777)\n",
            "Saving model (epoch =  282, loss = 0.7763)\n",
            "Saving model (epoch =  292, loss = 0.7704)\n",
            "Saving model (epoch =  297, loss = 0.7687)\n",
            "Saving model (epoch =  301, loss = 0.7680)\n",
            "Saving model (epoch =  305, loss = 0.7661)\n",
            "Saving model (epoch =  307, loss = 0.7645)\n",
            "Saving model (epoch =  314, loss = 0.7626)\n",
            "Saving model (epoch =  315, loss = 0.7611)\n",
            "Saving model (epoch =  318, loss = 0.7605)\n",
            "Saving model (epoch =  322, loss = 0.7593)\n",
            "Saving model (epoch =  324, loss = 0.7592)\n",
            "Saving model (epoch =  328, loss = 0.7577)\n",
            "Saving model (epoch =  330, loss = 0.7562)\n",
            "Saving model (epoch =  341, loss = 0.7544)\n",
            "Saving model (epoch =  352, loss = 0.7532)\n",
            "Saving model (epoch =  353, loss = 0.7510)\n",
            "Saving model (epoch =  354, loss = 0.7510)\n",
            "Saving model (epoch =  357, loss = 0.7507)\n",
            "Saving model (epoch =  371, loss = 0.7475)\n",
            "Saving model (epoch =  372, loss = 0.7465)\n",
            "Saving model (epoch =  386, loss = 0.7435)\n",
            "Saving model (epoch =  400, loss = 0.7419)\n",
            "Saving model (epoch =  403, loss = 0.7414)\n",
            "Saving model (epoch =  410, loss = 0.7413)\n",
            "Saving model (epoch =  419, loss = 0.7401)\n",
            "Saving model (epoch =  423, loss = 0.7398)\n",
            "Saving model (epoch =  426, loss = 0.7388)\n",
            "Saving model (epoch =  434, loss = 0.7384)\n",
            "Saving model (epoch =  440, loss = 0.7379)\n",
            "Saving model (epoch =  443, loss = 0.7366)\n",
            "Saving model (epoch =  445, loss = 0.7361)\n",
            "Saving model (epoch =  452, loss = 0.7357)\n",
            "Saving model (epoch =  461, loss = 0.7349)\n",
            "Saving model (epoch =  481, loss = 0.7343)\n",
            "Saving model (epoch =  487, loss = 0.7339)\n",
            "Saving model (epoch =  492, loss = 0.7332)\n",
            "Saving model (epoch =  511, loss = 0.7326)\n",
            "Saving model (epoch =  512, loss = 0.7325)\n",
            "Saving model (epoch =  527, loss = 0.7314)\n",
            "Saving model (epoch =  544, loss = 0.7308)\n",
            "Saving model (epoch =  566, loss = 0.7305)\n",
            "Saving model (epoch =  567, loss = 0.7300)\n",
            "Saving model (epoch =  584, loss = 0.7300)\n",
            "Saving model (epoch =  588, loss = 0.7296)\n",
            "Saving model (epoch =  599, loss = 0.7294)\n",
            "Saving model (epoch =  601, loss = 0.7291)\n",
            "Saving model (epoch =  608, loss = 0.7291)\n",
            "Saving model (epoch =  617, loss = 0.7288)\n",
            "Saving model (epoch =  634, loss = 0.7287)\n",
            "Saving model (epoch =  639, loss = 0.7285)\n",
            "Saving model (epoch =  640, loss = 0.7282)\n",
            "Saving model (epoch =  643, loss = 0.7277)\n",
            "Saving model (epoch =  657, loss = 0.7270)\n",
            "Saving model (epoch =  697, loss = 0.7264)\n",
            "Saving model (epoch =  719, loss = 0.7261)\n",
            "Saving model (epoch =  763, loss = 0.7259)\n",
            "Saving model (epoch =  796, loss = 0.7256)\n",
            "Saving model (epoch =  866, loss = 0.7250)\n",
            "Saving model (epoch =  877, loss = 0.7249)\n",
            "Saving model (epoch =  949, loss = 0.7245)\n",
            "Saving model (epoch =  951, loss = 0.7235)\n",
            "Saving model (epoch =  978, loss = 0.7232)\n",
            "Saving model (epoch =  995, loss = 0.7229)\n",
            "Saving model (epoch = 1027, loss = 0.7228)\n",
            "Saving model (epoch = 1090, loss = 0.7225)\n",
            "Saving model (epoch = 1093, loss = 0.7225)\n",
            "Saving model (epoch = 1102, loss = 0.7219)\n",
            "Saving model (epoch = 1155, loss = 0.7217)\n",
            "Saving model (epoch = 1161, loss = 0.7216)\n",
            "Saving model (epoch = 1203, loss = 0.7212)\n",
            "Saving model (epoch = 1226, loss = 0.7211)\n",
            "Saving model (epoch = 1286, loss = 0.7210)\n",
            "Saving model (epoch = 1293, loss = 0.7206)\n",
            "Saving model (epoch = 1352, loss = 0.7200)\n",
            "Saving model (epoch = 1409, loss = 0.7199)\n",
            "Saving model (epoch = 1413, loss = 0.7197)\n",
            "Saving model (epoch = 1469, loss = 0.7197)\n",
            "Saving model (epoch = 1470, loss = 0.7194)\n",
            "Saving model (epoch = 1513, loss = 0.7193)\n",
            "Saving model (epoch = 1525, loss = 0.7180)\n",
            "Saving model (epoch = 1690, loss = 0.7179)\n",
            "Finished training after 1991 epochs\n"
          ],
          "name": "stdout"
        }
      ]
    },
    {
      "cell_type": "code",
      "metadata": {
        "colab": {
          "base_uri": "https://localhost:8080/",
          "height": 295
        },
        "id": "MeSDrwHLy_Ln",
        "outputId": "6f54bfda-5507-40bb-d495-f4165326c60e"
      },
      "source": [
        "plot_learning_curve(model_loss_record, title='deep model')"
      ],
      "execution_count": 14,
      "outputs": [
        {
          "output_type": "display_data",
          "data": {
            "image/png": "[encoded data removed]",
            "text/plain": [
              "<Figure size 432x288 with 1 Axes>"
            ]
          },
          "metadata": {
            "tags": [],
            "needs_background": "light"
          }
        }
      ]
    },
    {
      "cell_type": "code",
      "metadata": {
        "colab": {
          "base_uri": "https://localhost:8080/",
          "height": 350
        },
        "id": "2CESNTaQzAu1",
        "outputId": "16f6e782-cf70-4b4e-9325-332d6fdbd62d"
      },
      "source": [
        "del model\n",
        "model = NeuralNet(tr_set.dataset.dim).to(device)\n",
        "ckpt = torch.load(config['save_path'], map_location='cpu')  # Load your best model\n",
        "model.load_state_dict(ckpt)\n",
        "plot_pred(dv_set, model, device)  # Show prediction on the validation set"
      ],
      "execution_count": 15,
      "outputs": [
        {
          "output_type": "display_data",
          "data": {
            "image/png": "[encoded data removed]",
            "text/plain": [
              "<Figure size 360x360 with 1 Axes>"
            ]
          },
          "metadata": {
            "tags": [],
            "needs_background": "light"
          }
        }
      ]
    },
    {
      "cell_type": "markdown",
      "metadata": {
        "id": "OI_dMbtNzCbq"
      },
      "source": [
        "## **Testing**\n",
        "The predictions of your model on testing set will be stored at `pred.csv`."
      ]
    },
    {
      "cell_type": "code",
      "metadata": {
        "colab": {
          "base_uri": "https://localhost:8080/"
        },
        "id": "om4VzdWRzDDH",
        "outputId": "ebc631ca-3256-421f-ea3f-801c32b19e1e"
      },
      "source": [
        "def save_pred(preds, file):\n",
        "    ''' Save predictions to specified file '''\n",
        "    print('Saving results to {}'.format(file))\n",
        "    with open(file, 'w') as fp:\n",
        "        writer = csv.writer(fp)\n",
        "        writer.writerow(['id', 'tested_positive'])\n",
        "        for i, p in enumerate(preds):\n",
        "            writer.writerow([i, p])\n",
        "\n",
        "preds = test(tt_set, model, device)  # predict COVID-19 cases with your model\n",
        "save_pred(preds, 'pred.csv')         # save prediction file to pred.csv"
      ],
      "execution_count": 16,
      "outputs": [
        {
          "output_type": "stream",
          "text": [
            "Saving results to pred.csv\n"
          ],
          "name": "stdout"
        }
      ]
    },
    {
      "cell_type": "markdown",
      "metadata": {
        "id": "oiabyHdmzEuK"
      },
      "source": [
        "## **Reference**\n",
        "Source: Heng-Jui Chang @ NTUEE (https://github.com/ga642381/ML2021-Spring/blob/main/HW01/HW01.ipynb)"
      ]
    }
  ]
}