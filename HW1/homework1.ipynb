{
  "nbformat": 4,
  "nbformat_minor": 0,
  "metadata": {
    "colab": {
      "name": "Untitled4.ipynb",
      "provenance": [],
      "toc_visible": true,
      "authorship_tag": "ABX9TyPyJ+ITdVfi3kXxn53LuXYZ",
      "include_colab_link": true
    },
    "kernelspec": {
      "name": "python3",
      "display_name": "Python 3"
    }
  },
  "cells": [
    {
      "cell_type": "markdown",
      "metadata": {
        "id": "view-in-github",
        "colab_type": "text"
      },
      "source": [
        "<a href=\"https://colab.research.google.com/github/Offliners/NTUML2021_Hung-yi-Lee/blob/main/HW1/homework1.ipynb\" target=\"_parent\"><img src=\"https://colab.research.google.com/assets/colab-badge.svg\" alt=\"Open In Colab\"/></a>"
      ]
    },
    {
      "cell_type": "markdown",
      "metadata": {
        "id": "MJeAxxvOw4zo"
      },
      "source": [
        "# **Homework 1: COVID-19 Cases Prediction (Regression)**\r\n",
        "\r\n",
        "Source: Delphi group @ CMU : A daily survey since April 2020 via facebook.\r\n"
      ]
    },
    {
      "cell_type": "markdown",
      "metadata": {
        "id": "ItOHwIrDxX6F"
      },
      "source": [
        "## **Download Data**"
      ]
    },
    {
      "cell_type": "code",
      "metadata": {
        "colab": {
          "base_uri": "https://localhost:8080/"
        },
        "id": "DaLzrpaLw3uM",
        "outputId": "93c08c97-5e07-4456-a744-951f322fe698"
      },
      "source": [
        "tr_path = 'covid.train.csv'  # path to training data\r\n",
        "tt_path = 'covid.test.csv'   # path to testing data\r\n",
        "\r\n",
        "!gdown --id '19CCyCgJrUxtvgZF53vnctJiOJ23T5mqF' --output covid.train.csv\r\n",
        "!gdown --id '1CE240jLm2npU-tdz81-oVKEF3T2yfT1O' --output covid.test.csv"
      ],
      "execution_count": 544,
      "outputs": [
        {
          "output_type": "stream",
          "text": [
            "Downloading...\n",
            "From: https://drive.google.com/uc?id=19CCyCgJrUxtvgZF53vnctJiOJ23T5mqF\n",
            "To: /content/covid.train.csv\n",
            "100% 2.00M/2.00M [00:00<00:00, 63.3MB/s]\n",
            "Downloading...\n",
            "From: https://drive.google.com/uc?id=1CE240jLm2npU-tdz81-oVKEF3T2yfT1O\n",
            "To: /content/covid.test.csv\n",
            "100% 651k/651k [00:00<00:00, 41.9MB/s]\n"
          ],
          "name": "stdout"
        }
      ]
    },
    {
      "cell_type": "markdown",
      "metadata": {
        "id": "wupnvWGaxsQ3"
      },
      "source": [
        "## **Import Some Packages**"
      ]
    },
    {
      "cell_type": "code",
      "metadata": {
        "id": "RBmUSABexxeZ"
      },
      "source": [
        "# PyTorch\r\n",
        "import torch\r\n",
        "import torch.nn as nn\r\n",
        "from torch.utils.data import Dataset, DataLoader\r\n",
        "\r\n",
        "# For data preprocess\r\n",
        "import numpy as np\r\n",
        "import csv\r\n",
        "import os\r\n",
        "\r\n",
        "# For plotting\r\n",
        "import matplotlib.pyplot as plt\r\n",
        "from matplotlib.pyplot import figure\r\n",
        "\r\n",
        "myseed = 42069  # set a random seed for reproducibility\r\n",
        "torch.backends.cudnn.deterministic = True\r\n",
        "torch.backends.cudnn.benchmark = False\r\n",
        "np.random.seed(myseed)\r\n",
        "torch.manual_seed(myseed)\r\n",
        "if torch.cuda.is_available():\r\n",
        "    torch.cuda.manual_seed_all(myseed)"
      ],
      "execution_count": 545,
      "outputs": []
    },
    {
      "cell_type": "markdown",
      "metadata": {
        "id": "Fg_EItEAx1gZ"
      },
      "source": [
        "## **Some Utilities**"
      ]
    },
    {
      "cell_type": "code",
      "metadata": {
        "id": "j3jSevQYx47x"
      },
      "source": [
        "def get_device():\r\n",
        "    ''' Get device (if GPU is available, use GPU) '''\r\n",
        "    return 'cuda' if torch.cuda.is_available() else 'cpu'\r\n",
        "\r\n",
        "def plot_learning_curve(loss_record, title=''):\r\n",
        "    ''' Plot learning curve of your DNN (train & dev loss) '''\r\n",
        "    total_steps = len(loss_record['train'])\r\n",
        "    x_1 = range(total_steps)\r\n",
        "    x_2 = x_1[::len(loss_record['train']) // len(loss_record['dev'])]\r\n",
        "    figure(figsize=(6, 4))\r\n",
        "    plt.plot(x_1, loss_record['train'], c='tab:red', label='train')\r\n",
        "    plt.plot(x_2, loss_record['dev'], c='tab:cyan', label='dev')\r\n",
        "    plt.ylim(0.0, 5.)\r\n",
        "    plt.xlabel('Training steps')\r\n",
        "    plt.ylabel('MSE loss')\r\n",
        "    plt.title('Learning curve of {}'.format(title))\r\n",
        "    plt.legend()\r\n",
        "    plt.grid()\r\n",
        "    plt.show()\r\n",
        "\r\n",
        "\r\n",
        "def plot_pred(dv_set, model, device, lim=35., preds=None, targets=None):\r\n",
        "    ''' Plot prediction of your DNN '''\r\n",
        "    if preds is None or targets is None:\r\n",
        "        model.eval()\r\n",
        "        preds, targets = [], []\r\n",
        "        for x, y in dv_set:\r\n",
        "            x, y = x.to(device), y.to(device)\r\n",
        "            with torch.no_grad():\r\n",
        "                pred = model(x)\r\n",
        "                preds.append(pred.detach().cpu())\r\n",
        "                targets.append(y.detach().cpu())\r\n",
        "        preds = torch.cat(preds, dim=0).numpy()\r\n",
        "        targets = torch.cat(targets, dim=0).numpy()\r\n",
        "\r\n",
        "    figure(figsize=(5, 5))\r\n",
        "    plt.scatter(targets, preds, c='r', alpha=0.5)\r\n",
        "    plt.plot([-0.2, lim], [-0.2, lim], c='b')\r\n",
        "    plt.xlim(-0.2, lim)\r\n",
        "    plt.ylim(-0.2, lim)\r\n",
        "    plt.xlabel('ground truth value')\r\n",
        "    plt.ylabel('predicted value')\r\n",
        "    plt.title('Ground Truth v.s. Prediction')\r\n",
        "    plt.grid()\r\n",
        "    plt.show()"
      ],
      "execution_count": 546,
      "outputs": []
    },
    {
      "cell_type": "markdown",
      "metadata": {
        "id": "b_bXJgTgx8xt"
      },
      "source": [
        "## **Preprocess**\r\n",
        "\r\n",
        "We have three kinds of datasets:\r\n",
        "* `train`: for training\r\n",
        "* `dev`: for validation\r\n",
        "* `test`: for testing (w/o target value)\r\n",
        "\r\n",
        "## **Dataset**\r\n",
        "\r\n",
        "The `COVID19Dataset` below does:\r\n",
        "* read `.csv` files\r\n",
        "* extract features\r\n",
        "* split `covid.train.csv` into train/dev sets\r\n",
        "* normalize features"
      ]
    },
    {
      "cell_type": "code",
      "metadata": {
        "id": "JEQpQAdNyKU9"
      },
      "source": [
        "class COVID19Dataset(Dataset):\r\n",
        "    ''' Dataset for loading and preprocessing the COVID19 dataset '''\r\n",
        "    def __init__(self,\r\n",
        "                 path,\r\n",
        "                 mode='train',\r\n",
        "                 target_only=False):\r\n",
        "        self.mode = mode\r\n",
        "\r\n",
        "        # Read data into numpy arrays\r\n",
        "        with open(path, 'r') as fp:\r\n",
        "            data = list(csv.reader(fp))\r\n",
        "            data = np.array(data[1:])[:, 1:].astype(float)\r\n",
        "        \r\n",
        "        if not target_only:\r\n",
        "            feats = list(range(1, 93))\r\n",
        "        else:\r\n",
        "            # TODO: Using 40 states & 2 tested_positive features (indices = 57 & 75)\r\n",
        "            feats = list(range(1, 41)) + [57, 75]\r\n",
        "            pass\r\n",
        "\r\n",
        "        if mode == 'test':\r\n",
        "            # Testing data\r\n",
        "            # data: 893 x 93 (40 states + day 1 (18) + day 2 (18) + day 3 (17))\r\n",
        "            data = data[:, feats]\r\n",
        "            self.data = torch.FloatTensor(data)\r\n",
        "        else:\r\n",
        "            # Training data (train/dev sets)\r\n",
        "            # data: 2700 x 94 (40 states + day 1 (18) + day 2 (18) + day 3 (18))\r\n",
        "            target = data[:, -1]\r\n",
        "            data = data[:, feats]\r\n",
        "            \r\n",
        "            # Splitting training data into train & dev sets\r\n",
        "            if mode == 'train':\r\n",
        "                indices = [i for i in range(len(data)) if i % 10 != 0]\r\n",
        "            elif mode == 'dev':\r\n",
        "                indices = [i for i in range(len(data)) if i % 10 == 0]\r\n",
        "            \r\n",
        "            # Convert data into PyTorch tensors\r\n",
        "            self.data = torch.FloatTensor(data[indices])\r\n",
        "            self.target = torch.FloatTensor(target[indices])\r\n",
        "\r\n",
        "        # Normalize features (you may remove this part to see what will happen)\r\n",
        "        self.data[:, 40:] = \\\r\n",
        "            (self.data[:, 40:] - self.data[:, 40:].mean(dim=0, keepdim=True)) \\\r\n",
        "            / self.data[:, 40:].std(dim=0, keepdim=True)\r\n",
        "\r\n",
        "        self.dim = self.data.shape[1]\r\n",
        "\r\n",
        "        print('Finished reading the {} set of COVID19 Dataset ({} samples found, each dim = {})'\r\n",
        "              .format(mode, len(self.data), self.dim))\r\n",
        "\r\n",
        "    def __getitem__(self, index):\r\n",
        "        # Returns one sample at a time\r\n",
        "        if self.mode in ['train', 'dev']:\r\n",
        "            # For training\r\n",
        "            return self.data[index], self.target[index]\r\n",
        "        else:\r\n",
        "            # For testing (no target)\r\n",
        "            return self.data[index]\r\n",
        "\r\n",
        "    def __len__(self):\r\n",
        "        # Returns the size of the dataset\r\n",
        "        return len(self.data)"
      ],
      "execution_count": 547,
      "outputs": []
    },
    {
      "cell_type": "markdown",
      "metadata": {
        "id": "lohmDpmJyWQZ"
      },
      "source": [
        "## **DataLoader**\r\n",
        "\r\n",
        "A `DataLoader` loads data from a given `Dataset` into batches."
      ]
    },
    {
      "cell_type": "code",
      "metadata": {
        "id": "rOwjzVYiyY-Y"
      },
      "source": [
        "def prep_dataloader(path, mode, batch_size, n_jobs=0, target_only=False):\r\n",
        "    ''' Generates a dataset, then is put into a dataloader. '''\r\n",
        "    dataset = COVID19Dataset(path, mode=mode, target_only=target_only)  # Construct dataset\r\n",
        "    dataloader = DataLoader(\r\n",
        "        dataset, batch_size,\r\n",
        "        shuffle=(mode == 'train'), drop_last=False,\r\n",
        "        num_workers=n_jobs, pin_memory=True)                            # Construct dataloader\r\n",
        "    return dataloader"
      ],
      "execution_count": 548,
      "outputs": []
    },
    {
      "cell_type": "markdown",
      "metadata": {
        "id": "w-deK1g2yZu6"
      },
      "source": [
        "## **Deep Neural Network**\r\n",
        "\r\n",
        "`NeuralNet` is an `nn.Module` designed for regression.\r\n",
        "The DNN consists of 2 fully-connected layers with ReLU activation.\r\n",
        "This module also included a function `cal_loss` for calculating loss."
      ]
    },
    {
      "cell_type": "code",
      "metadata": {
        "id": "rg-zGj5Wyg85"
      },
      "source": [
        "class NeuralNet(nn.Module):\r\n",
        "    ''' A simple fully-connected deep neural network '''\r\n",
        "    def __init__(self, input_dim):\r\n",
        "        super(NeuralNet, self).__init__()\r\n",
        "\r\n",
        "        # Define your neural network here\r\n",
        "        # TODO: How to modify this model to achieve better performance?\r\n",
        "        self.net = nn.Sequential(\r\n",
        "            nn.Linear(input_dim, 64),\r\n",
        "            nn.Linear(64, 128),\r\n",
        "            nn.Linear(128, 64),\r\n",
        "            nn.Dropout(0.5),\r\n",
        "            nn.Linear(64, 1),\r\n",
        "            nn.ReLU()\r\n",
        "        )\r\n",
        "\r\n",
        "        # Mean squared error loss\r\n",
        "        self.criterion = nn.MSELoss(reduction='mean')\r\n",
        "\r\n",
        "    def forward(self, x):\r\n",
        "        ''' Given input of size (batch_size x input_dim), compute output of the network '''\r\n",
        "        \r\n",
        "        return self.net(x).squeeze(1)\r\n",
        "\r\n",
        "    def cal_loss(self, pred, target):\r\n",
        "        ''' Calculate loss '''\r\n",
        "        # TODO: you may implement L2 regularization here\r\n",
        "\r\n",
        "        return self.criterion(pred, target)"
      ],
      "execution_count": 549,
      "outputs": []
    },
    {
      "cell_type": "markdown",
      "metadata": {
        "id": "xu3iy3HeytMg"
      },
      "source": [
        "## **Training**"
      ]
    },
    {
      "cell_type": "code",
      "metadata": {
        "id": "vg4f-Smbyu_k"
      },
      "source": [
        "def train(tr_set, dv_set, model, config, device):\r\n",
        "    ''' DNN training '''\r\n",
        "\r\n",
        "    n_epochs = config['n_epochs']  # Maximum number of epochs\r\n",
        "\r\n",
        "    # Setup optimizer\r\n",
        "    optimizer = getattr(torch.optim, config['optimizer'])(\r\n",
        "        model.parameters(), **config['optim_hparas'])\r\n",
        "\r\n",
        "    min_mse = 1000.\r\n",
        "    loss_record = {'train': [], 'dev': []}      # for recording training loss\r\n",
        "    early_stop_cnt = 0\r\n",
        "    epoch = 0\r\n",
        "    while epoch < n_epochs:\r\n",
        "        model.train()                           # set model to training mode\r\n",
        "        for x, y in tr_set:                     # iterate through the dataloader\r\n",
        "            optimizer.zero_grad()               # set gradient to zero\r\n",
        "            x, y = x.to(device), y.to(device)   # move data to device (cpu/cuda)\r\n",
        "            pred = model(x)                     # forward pass (compute output)\r\n",
        "            mse_loss = model.cal_loss(pred, y)  # compute loss\r\n",
        "            mse_loss.backward()                 # compute gradient (backpropagation)\r\n",
        "            optimizer.step()                    # update model with optimizer\r\n",
        "            loss_record['train'].append(mse_loss.detach().cpu().item())\r\n",
        "\r\n",
        "        # After each epoch, test your model on the validation (development) set.\r\n",
        "        dev_mse = dev(dv_set, model, device)\r\n",
        "        if dev_mse < min_mse:\r\n",
        "            # Save model if your model improved\r\n",
        "            min_mse = dev_mse\r\n",
        "            print('Saving model (epoch = {:4d}, loss = {:.4f})'\r\n",
        "                .format(epoch + 1, min_mse))\r\n",
        "            torch.save(model.state_dict(), config['save_path'])  # Save model to specified path\r\n",
        "            early_stop_cnt = 0\r\n",
        "        else:\r\n",
        "            early_stop_cnt += 1\r\n",
        "\r\n",
        "        epoch += 1\r\n",
        "        loss_record['dev'].append(dev_mse)\r\n",
        "        if early_stop_cnt > config['early_stop']:\r\n",
        "            # Stop training if your model stops improving for \"config['early_stop']\" epochs.\r\n",
        "            break\r\n",
        "\r\n",
        "    print('Finished training after {} epochs'.format(epoch))\r\n",
        "    return min_mse, loss_record"
      ],
      "execution_count": 550,
      "outputs": []
    },
    {
      "cell_type": "markdown",
      "metadata": {
        "id": "IQzKQy8vyxIV"
      },
      "source": [
        "## **Validation**"
      ]
    },
    {
      "cell_type": "code",
      "metadata": {
        "id": "Qr2NrkEEyzox"
      },
      "source": [
        "def dev(dv_set, model, device):\r\n",
        "    model.eval()                                # set model to evalutation mode\r\n",
        "    total_loss = 0\r\n",
        "    for x, y in dv_set:                         # iterate through the dataloader\r\n",
        "        x, y = x.to(device), y.to(device)       # move data to device (cpu/cuda)\r\n",
        "        with torch.no_grad():                   # disable gradient calculation\r\n",
        "            pred = model(x)                     # forward pass (compute output)\r\n",
        "            mse_loss = model.cal_loss(pred, y)  # compute loss\r\n",
        "        total_loss += mse_loss.detach().cpu().item() * len(x)  # accumulate loss\r\n",
        "    total_loss = total_loss / len(dv_set.dataset)              # compute averaged loss\r\n",
        "\r\n",
        "    return total_loss"
      ],
      "execution_count": 551,
      "outputs": []
    },
    {
      "cell_type": "markdown",
      "metadata": {
        "id": "n-gEsuYZy1Vb"
      },
      "source": [
        "## **Testing**"
      ]
    },
    {
      "cell_type": "code",
      "metadata": {
        "id": "Dz_VBVHAy3u2"
      },
      "source": [
        "def test(tt_set, model, device):\r\n",
        "    model.eval()                                # set model to evalutation mode\r\n",
        "    preds = []\r\n",
        "    for x in tt_set:                            # iterate through the dataloader\r\n",
        "        x = x.to(device)                        # move data to device (cpu/cuda)\r\n",
        "        with torch.no_grad():                   # disable gradient calculation\r\n",
        "            pred = model(x)                     # forward pass (compute output)\r\n",
        "            preds.append(pred.detach().cpu())   # collect prediction\r\n",
        "    preds = torch.cat(preds, dim=0).numpy()     # concatenate all predictions and convert to a numpy array\r\n",
        "    return preds"
      ],
      "execution_count": 552,
      "outputs": []
    },
    {
      "cell_type": "markdown",
      "metadata": {
        "id": "f4Sos50my5RN"
      },
      "source": [
        "## **Setup Hyper-parameters**\r\n",
        "`config` contains hyper-parameters for training and the path to save your model."
      ]
    },
    {
      "cell_type": "code",
      "metadata": {
        "id": "tvfemQHcy99g"
      },
      "source": [
        "device = get_device()                 # get the current available device ('cpu' or 'cuda')\r\n",
        "os.makedirs('models', exist_ok=True)  # The trained model will be saved to ./models/\r\n",
        "target_only = False                    # TODO: Using 40 states & 2 tested_positive features\r\n",
        "\r\n",
        "# TODO: How to tune these hyper-parameters to improve your model's performance?\r\n",
        "config = {\r\n",
        "    'n_epochs': 60000,               # maximum number of epochs\r\n",
        "    'batch_size': 64,               # mini-batch size for dataloader\r\n",
        "    'optimizer': 'SGD',              # optimization algorithm (optimizer in torch.optim)\r\n",
        "    'optim_hparas': {                # hyper-parameters for the optimizer (depends on which optimizer you are using)\r\n",
        "        'lr': 0.000001,                 # learning rate of SGD\r\n",
        "        'momentum': 0.9,             # momentum for SGD\r\n",
        "        'weight_decay': 0.000001\r\n",
        "    },\r\n",
        "    'early_stop': 1000,               # early stopping epochs (the number epochs since your model's last improvement)\r\n",
        "    'save_path': 'models/model.pth'  # your model will be saved here\r\n",
        "}"
      ],
      "execution_count": 553,
      "outputs": []
    },
    {
      "cell_type": "markdown",
      "metadata": {
        "id": "iSZZjxd7y_3U"
      },
      "source": [
        "## **Load data and model**"
      ]
    },
    {
      "cell_type": "code",
      "metadata": {
        "colab": {
          "base_uri": "https://localhost:8080/"
        },
        "id": "IzFLuU50zEio",
        "outputId": "6bac4134-849d-4241-a30a-888ca4703528"
      },
      "source": [
        "tr_set = prep_dataloader(tr_path, 'train', config['batch_size'], target_only=target_only)\r\n",
        "dv_set = prep_dataloader(tr_path, 'dev', config['batch_size'], target_only=target_only)\r\n",
        "tt_set = prep_dataloader(tt_path, 'test', config['batch_size'], target_only=target_only)\r\n",
        "\r\n",
        "model = NeuralNet(tr_set.dataset.dim).to(device)  # Construct model and move to device"
      ],
      "execution_count": 554,
      "outputs": [
        {
          "output_type": "stream",
          "text": [
            "Finished reading the train set of COVID19 Dataset (2430 samples found, each dim = 92)\n",
            "Finished reading the dev set of COVID19 Dataset (270 samples found, each dim = 92)\n",
            "Finished reading the test set of COVID19 Dataset (893 samples found, each dim = 92)\n"
          ],
          "name": "stdout"
        }
      ]
    },
    {
      "cell_type": "markdown",
      "metadata": {
        "id": "d-S5SrtbzJm5"
      },
      "source": [
        "## **Start Training!**"
      ]
    },
    {
      "cell_type": "code",
      "metadata": {
        "colab": {
          "base_uri": "https://localhost:8080/"
        },
        "id": "LxIA6nP-zO8B",
        "outputId": "a0c1f405-8a83-4939-8916-0adee9c6760d"
      },
      "source": [
        "model_loss, model_loss_record = train(tr_set, dv_set, model, config, device)"
      ],
      "execution_count": 555,
      "outputs": [
        {
          "output_type": "stream",
          "text": [
            "Saving model (epoch =    1, loss = 322.6597)\n",
            "Saving model (epoch =    2, loss = 321.7481)\n",
            "Saving model (epoch =    3, loss = 320.7698)\n",
            "Saving model (epoch =    4, loss = 319.7504)\n",
            "Saving model (epoch =    5, loss = 318.7001)\n",
            "Saving model (epoch =    6, loss = 317.5666)\n",
            "Saving model (epoch =    7, loss = 316.3860)\n",
            "Saving model (epoch =    8, loss = 315.1447)\n",
            "Saving model (epoch =    9, loss = 313.8512)\n",
            "Saving model (epoch =   10, loss = 312.4448)\n",
            "Saving model (epoch =   11, loss = 310.9793)\n",
            "Saving model (epoch =   12, loss = 309.4412)\n",
            "Saving model (epoch =   13, loss = 307.7824)\n",
            "Saving model (epoch =   14, loss = 305.9908)\n",
            "Saving model (epoch =   15, loss = 304.0652)\n",
            "Saving model (epoch =   16, loss = 302.0322)\n",
            "Saving model (epoch =   17, loss = 299.8152)\n",
            "Saving model (epoch =   18, loss = 297.4022)\n",
            "Saving model (epoch =   19, loss = 294.7683)\n",
            "Saving model (epoch =   20, loss = 291.9396)\n",
            "Saving model (epoch =   21, loss = 288.7899)\n",
            "Saving model (epoch =   22, loss = 285.3465)\n",
            "Saving model (epoch =   23, loss = 281.4743)\n",
            "Saving model (epoch =   24, loss = 277.3034)\n",
            "Saving model (epoch =   25, loss = 272.6795)\n",
            "Saving model (epoch =   26, loss = 267.4986)\n",
            "Saving model (epoch =   27, loss = 261.6905)\n",
            "Saving model (epoch =   28, loss = 255.3304)\n",
            "Saving model (epoch =   29, loss = 248.2138)\n",
            "Saving model (epoch =   30, loss = 240.4390)\n",
            "Saving model (epoch =   31, loss = 231.7067)\n",
            "Saving model (epoch =   32, loss = 222.1080)\n",
            "Saving model (epoch =   33, loss = 211.5194)\n",
            "Saving model (epoch =   34, loss = 200.4421)\n",
            "Saving model (epoch =   35, loss = 188.5512)\n",
            "Saving model (epoch =   36, loss = 176.3775)\n",
            "Saving model (epoch =   37, loss = 163.8279)\n",
            "Saving model (epoch =   38, loss = 151.7730)\n",
            "Saving model (epoch =   39, loss = 140.5047)\n",
            "Saving model (epoch =   40, loss = 130.5584)\n",
            "Saving model (epoch =   41, loss = 122.1610)\n",
            "Saving model (epoch =   42, loss = 115.6087)\n",
            "Saving model (epoch =   43, loss = 110.5107)\n",
            "Saving model (epoch =   44, loss = 106.5654)\n",
            "Saving model (epoch =   45, loss = 104.0768)\n",
            "Saving model (epoch =   46, loss = 102.1653)\n",
            "Saving model (epoch =   47, loss = 100.8506)\n",
            "Saving model (epoch =   48, loss = 99.8310)\n",
            "Saving model (epoch =   49, loss = 99.1784)\n",
            "Saving model (epoch =   50, loss = 98.5345)\n",
            "Saving model (epoch =   51, loss = 98.0524)\n",
            "Saving model (epoch =   52, loss = 97.5422)\n",
            "Saving model (epoch =   53, loss = 97.1159)\n",
            "Saving model (epoch =   54, loss = 96.7382)\n",
            "Saving model (epoch =   55, loss = 96.4219)\n",
            "Saving model (epoch =   56, loss = 96.0607)\n",
            "Saving model (epoch =   57, loss = 95.6923)\n",
            "Saving model (epoch =   58, loss = 95.3256)\n",
            "Saving model (epoch =   59, loss = 94.9306)\n",
            "Saving model (epoch =   60, loss = 94.5414)\n",
            "Saving model (epoch =   61, loss = 94.1799)\n",
            "Saving model (epoch =   62, loss = 93.8143)\n",
            "Saving model (epoch =   63, loss = 93.4301)\n",
            "Saving model (epoch =   64, loss = 93.0665)\n",
            "Saving model (epoch =   65, loss = 92.7150)\n",
            "Saving model (epoch =   66, loss = 92.3352)\n",
            "Saving model (epoch =   67, loss = 91.9785)\n",
            "Saving model (epoch =   68, loss = 91.6267)\n",
            "Saving model (epoch =   69, loss = 91.2811)\n",
            "Saving model (epoch =   70, loss = 90.8462)\n",
            "Saving model (epoch =   71, loss = 90.4587)\n",
            "Saving model (epoch =   72, loss = 90.0698)\n",
            "Saving model (epoch =   73, loss = 89.6594)\n",
            "Saving model (epoch =   74, loss = 89.2657)\n",
            "Saving model (epoch =   75, loss = 88.8319)\n",
            "Saving model (epoch =   76, loss = 88.4582)\n",
            "Saving model (epoch =   77, loss = 88.0082)\n",
            "Saving model (epoch =   78, loss = 87.6186)\n",
            "Saving model (epoch =   79, loss = 87.2149)\n",
            "Saving model (epoch =   80, loss = 86.7803)\n",
            "Saving model (epoch =   81, loss = 86.3840)\n",
            "Saving model (epoch =   82, loss = 85.9679)\n",
            "Saving model (epoch =   83, loss = 85.5598)\n",
            "Saving model (epoch =   84, loss = 85.1426)\n",
            "Saving model (epoch =   85, loss = 84.7075)\n",
            "Saving model (epoch =   86, loss = 84.2734)\n",
            "Saving model (epoch =   87, loss = 83.8541)\n",
            "Saving model (epoch =   88, loss = 83.4371)\n",
            "Saving model (epoch =   89, loss = 83.0213)\n",
            "Saving model (epoch =   90, loss = 82.5483)\n",
            "Saving model (epoch =   91, loss = 82.0288)\n",
            "Saving model (epoch =   92, loss = 81.5116)\n",
            "Saving model (epoch =   93, loss = 81.0114)\n",
            "Saving model (epoch =   94, loss = 80.5403)\n",
            "Saving model (epoch =   95, loss = 80.0309)\n",
            "Saving model (epoch =   96, loss = 79.5455)\n",
            "Saving model (epoch =   97, loss = 79.0489)\n",
            "Saving model (epoch =   98, loss = 78.5368)\n",
            "Saving model (epoch =   99, loss = 78.0490)\n",
            "Saving model (epoch =  100, loss = 77.5403)\n",
            "Saving model (epoch =  101, loss = 76.9739)\n",
            "Saving model (epoch =  102, loss = 76.3750)\n",
            "Saving model (epoch =  103, loss = 75.8039)\n",
            "Saving model (epoch =  104, loss = 75.2020)\n",
            "Saving model (epoch =  105, loss = 74.5676)\n",
            "Saving model (epoch =  106, loss = 73.8982)\n",
            "Saving model (epoch =  107, loss = 73.1748)\n",
            "Saving model (epoch =  108, loss = 72.4367)\n",
            "Saving model (epoch =  109, loss = 71.6099)\n",
            "Saving model (epoch =  110, loss = 70.7959)\n",
            "Saving model (epoch =  111, loss = 69.9368)\n",
            "Saving model (epoch =  112, loss = 69.0820)\n",
            "Saving model (epoch =  113, loss = 68.2564)\n",
            "Saving model (epoch =  114, loss = 67.3461)\n",
            "Saving model (epoch =  115, loss = 66.4089)\n",
            "Saving model (epoch =  116, loss = 65.4874)\n",
            "Saving model (epoch =  117, loss = 64.3575)\n",
            "Saving model (epoch =  118, loss = 63.2649)\n",
            "Saving model (epoch =  119, loss = 61.9717)\n",
            "Saving model (epoch =  120, loss = 60.6431)\n",
            "Saving model (epoch =  121, loss = 59.2360)\n",
            "Saving model (epoch =  122, loss = 57.7376)\n",
            "Saving model (epoch =  123, loss = 56.2253)\n",
            "Saving model (epoch =  124, loss = 54.5496)\n",
            "Saving model (epoch =  125, loss = 52.7133)\n",
            "Saving model (epoch =  126, loss = 50.4756)\n",
            "Saving model (epoch =  127, loss = 48.1206)\n",
            "Saving model (epoch =  128, loss = 45.8331)\n",
            "Saving model (epoch =  129, loss = 43.5320)\n",
            "Saving model (epoch =  130, loss = 41.2452)\n",
            "Saving model (epoch =  131, loss = 39.0640)\n",
            "Saving model (epoch =  132, loss = 36.8380)\n",
            "Saving model (epoch =  133, loss = 34.5478)\n",
            "Saving model (epoch =  134, loss = 32.3142)\n",
            "Saving model (epoch =  135, loss = 30.0638)\n",
            "Saving model (epoch =  136, loss = 27.6821)\n",
            "Saving model (epoch =  137, loss = 25.4892)\n",
            "Saving model (epoch =  138, loss = 23.4278)\n",
            "Saving model (epoch =  139, loss = 21.4795)\n",
            "Saving model (epoch =  140, loss = 19.6193)\n",
            "Saving model (epoch =  141, loss = 17.9043)\n",
            "Saving model (epoch =  142, loss = 16.3233)\n",
            "Saving model (epoch =  143, loss = 14.7324)\n",
            "Saving model (epoch =  144, loss = 13.2341)\n",
            "Saving model (epoch =  145, loss = 11.9018)\n",
            "Saving model (epoch =  146, loss = 10.8165)\n",
            "Saving model (epoch =  147, loss = 9.8472)\n",
            "Saving model (epoch =  148, loss = 9.0525)\n",
            "Saving model (epoch =  149, loss = 8.3472)\n",
            "Saving model (epoch =  150, loss = 7.8098)\n",
            "Saving model (epoch =  151, loss = 7.3182)\n",
            "Saving model (epoch =  152, loss = 6.8974)\n",
            "Saving model (epoch =  153, loss = 6.5522)\n",
            "Saving model (epoch =  154, loss = 6.2510)\n",
            "Saving model (epoch =  155, loss = 5.9849)\n",
            "Saving model (epoch =  156, loss = 5.7265)\n",
            "Saving model (epoch =  157, loss = 5.5256)\n",
            "Saving model (epoch =  158, loss = 5.3145)\n",
            "Saving model (epoch =  159, loss = 5.1489)\n",
            "Saving model (epoch =  160, loss = 5.0027)\n",
            "Saving model (epoch =  161, loss = 4.8891)\n",
            "Saving model (epoch =  162, loss = 4.7658)\n",
            "Saving model (epoch =  163, loss = 4.6498)\n",
            "Saving model (epoch =  164, loss = 4.5151)\n",
            "Saving model (epoch =  165, loss = 4.4308)\n",
            "Saving model (epoch =  166, loss = 4.3460)\n",
            "Saving model (epoch =  167, loss = 4.2640)\n",
            "Saving model (epoch =  168, loss = 4.2006)\n",
            "Saving model (epoch =  169, loss = 4.1480)\n",
            "Saving model (epoch =  170, loss = 4.0946)\n",
            "Saving model (epoch =  171, loss = 4.0247)\n",
            "Saving model (epoch =  172, loss = 3.9596)\n",
            "Saving model (epoch =  173, loss = 3.8919)\n",
            "Saving model (epoch =  174, loss = 3.8647)\n",
            "Saving model (epoch =  175, loss = 3.7878)\n",
            "Saving model (epoch =  176, loss = 3.7315)\n",
            "Saving model (epoch =  177, loss = 3.6819)\n",
            "Saving model (epoch =  178, loss = 3.6189)\n",
            "Saving model (epoch =  179, loss = 3.5955)\n",
            "Saving model (epoch =  180, loss = 3.5330)\n",
            "Saving model (epoch =  181, loss = 3.4879)\n",
            "Saving model (epoch =  182, loss = 3.4580)\n",
            "Saving model (epoch =  183, loss = 3.4272)\n",
            "Saving model (epoch =  184, loss = 3.3707)\n",
            "Saving model (epoch =  185, loss = 3.3412)\n",
            "Saving model (epoch =  186, loss = 3.3100)\n",
            "Saving model (epoch =  188, loss = 3.2884)\n",
            "Saving model (epoch =  189, loss = 3.2428)\n",
            "Saving model (epoch =  190, loss = 3.2263)\n",
            "Saving model (epoch =  192, loss = 3.1793)\n",
            "Saving model (epoch =  193, loss = 3.1477)\n",
            "Saving model (epoch =  194, loss = 3.1278)\n",
            "Saving model (epoch =  195, loss = 3.1184)\n",
            "Saving model (epoch =  196, loss = 3.0618)\n",
            "Saving model (epoch =  197, loss = 3.0157)\n",
            "Saving model (epoch =  199, loss = 2.9903)\n",
            "Saving model (epoch =  200, loss = 2.9635)\n",
            "Saving model (epoch =  201, loss = 2.9582)\n",
            "Saving model (epoch =  202, loss = 2.8988)\n",
            "Saving model (epoch =  203, loss = 2.8667)\n",
            "Saving model (epoch =  204, loss = 2.8371)\n",
            "Saving model (epoch =  205, loss = 2.8115)\n",
            "Saving model (epoch =  206, loss = 2.7849)\n",
            "Saving model (epoch =  207, loss = 2.7829)\n",
            "Saving model (epoch =  208, loss = 2.7378)\n",
            "Saving model (epoch =  210, loss = 2.7332)\n",
            "Saving model (epoch =  211, loss = 2.7176)\n",
            "Saving model (epoch =  212, loss = 2.6622)\n",
            "Saving model (epoch =  213, loss = 2.6391)\n",
            "Saving model (epoch =  215, loss = 2.6157)\n",
            "Saving model (epoch =  216, loss = 2.5686)\n",
            "Saving model (epoch =  217, loss = 2.5672)\n",
            "Saving model (epoch =  218, loss = 2.5339)\n",
            "Saving model (epoch =  219, loss = 2.5103)\n",
            "Saving model (epoch =  220, loss = 2.4865)\n",
            "Saving model (epoch =  221, loss = 2.4689)\n",
            "Saving model (epoch =  222, loss = 2.4323)\n",
            "Saving model (epoch =  223, loss = 2.4296)\n",
            "Saving model (epoch =  225, loss = 2.4045)\n",
            "Saving model (epoch =  226, loss = 2.3808)\n",
            "Saving model (epoch =  227, loss = 2.3760)\n",
            "Saving model (epoch =  230, loss = 2.3440)\n",
            "Saving model (epoch =  231, loss = 2.3387)\n",
            "Saving model (epoch =  232, loss = 2.3117)\n",
            "Saving model (epoch =  233, loss = 2.2922)\n",
            "Saving model (epoch =  234, loss = 2.2710)\n",
            "Saving model (epoch =  235, loss = 2.2620)\n",
            "Saving model (epoch =  236, loss = 2.2302)\n",
            "Saving model (epoch =  237, loss = 2.2187)\n",
            "Saving model (epoch =  241, loss = 2.2066)\n",
            "Saving model (epoch =  242, loss = 2.1962)\n",
            "Saving model (epoch =  243, loss = 2.1694)\n",
            "Saving model (epoch =  245, loss = 2.1560)\n",
            "Saving model (epoch =  246, loss = 2.1266)\n",
            "Saving model (epoch =  249, loss = 2.1064)\n",
            "Saving model (epoch =  250, loss = 2.1007)\n",
            "Saving model (epoch =  251, loss = 2.0602)\n",
            "Saving model (epoch =  255, loss = 2.0584)\n",
            "Saving model (epoch =  256, loss = 2.0218)\n",
            "Saving model (epoch =  258, loss = 2.0051)\n",
            "Saving model (epoch =  259, loss = 1.9873)\n",
            "Saving model (epoch =  260, loss = 1.9644)\n",
            "Saving model (epoch =  268, loss = 1.9603)\n",
            "Saving model (epoch =  269, loss = 1.9359)\n",
            "Saving model (epoch =  271, loss = 1.9271)\n",
            "Saving model (epoch =  272, loss = 1.9140)\n",
            "Saving model (epoch =  274, loss = 1.9019)\n",
            "Saving model (epoch =  275, loss = 1.8936)\n",
            "Saving model (epoch =  278, loss = 1.8921)\n",
            "Saving model (epoch =  281, loss = 1.8841)\n",
            "Saving model (epoch =  282, loss = 1.8782)\n",
            "Saving model (epoch =  284, loss = 1.8775)\n",
            "Saving model (epoch =  285, loss = 1.8701)\n",
            "Saving model (epoch =  286, loss = 1.8350)\n",
            "Saving model (epoch =  287, loss = 1.8269)\n",
            "Saving model (epoch =  288, loss = 1.8087)\n",
            "Saving model (epoch =  289, loss = 1.8075)\n",
            "Saving model (epoch =  290, loss = 1.7847)\n",
            "Saving model (epoch =  295, loss = 1.7733)\n",
            "Saving model (epoch =  296, loss = 1.7600)\n",
            "Saving model (epoch =  297, loss = 1.7544)\n",
            "Saving model (epoch =  300, loss = 1.7239)\n",
            "Saving model (epoch =  301, loss = 1.6993)\n",
            "Saving model (epoch =  302, loss = 1.6931)\n",
            "Saving model (epoch =  303, loss = 1.6808)\n",
            "Saving model (epoch =  304, loss = 1.6633)\n",
            "Saving model (epoch =  309, loss = 1.6505)\n",
            "Saving model (epoch =  321, loss = 1.6241)\n",
            "Saving model (epoch =  328, loss = 1.6085)\n",
            "Saving model (epoch =  335, loss = 1.5979)\n",
            "Saving model (epoch =  336, loss = 1.5953)\n",
            "Saving model (epoch =  339, loss = 1.5849)\n",
            "Saving model (epoch =  340, loss = 1.5619)\n",
            "Saving model (epoch =  341, loss = 1.5609)\n",
            "Saving model (epoch =  343, loss = 1.5502)\n",
            "Saving model (epoch =  344, loss = 1.5360)\n",
            "Saving model (epoch =  350, loss = 1.5113)\n",
            "Saving model (epoch =  351, loss = 1.5044)\n",
            "Saving model (epoch =  370, loss = 1.4916)\n",
            "Saving model (epoch =  373, loss = 1.4698)\n",
            "Saving model (epoch =  375, loss = 1.4671)\n",
            "Saving model (epoch =  376, loss = 1.4563)\n",
            "Saving model (epoch =  377, loss = 1.4531)\n",
            "Saving model (epoch =  398, loss = 1.4513)\n",
            "Saving model (epoch =  399, loss = 1.4334)\n",
            "Saving model (epoch =  406, loss = 1.4289)\n",
            "Saving model (epoch =  412, loss = 1.4234)\n",
            "Saving model (epoch =  418, loss = 1.4122)\n",
            "Saving model (epoch =  419, loss = 1.4059)\n",
            "Saving model (epoch =  420, loss = 1.3969)\n",
            "Saving model (epoch =  421, loss = 1.3764)\n",
            "Saving model (epoch =  443, loss = 1.3753)\n",
            "Saving model (epoch =  444, loss = 1.3751)\n",
            "Saving model (epoch =  448, loss = 1.3645)\n",
            "Saving model (epoch =  449, loss = 1.3550)\n",
            "Saving model (epoch =  451, loss = 1.3476)\n",
            "Saving model (epoch =  452, loss = 1.3424)\n",
            "Saving model (epoch =  461, loss = 1.3267)\n",
            "Saving model (epoch =  465, loss = 1.3267)\n",
            "Saving model (epoch =  466, loss = 1.3223)\n",
            "Saving model (epoch =  470, loss = 1.3176)\n",
            "Saving model (epoch =  495, loss = 1.3085)\n",
            "Saving model (epoch =  497, loss = 1.2993)\n",
            "Saving model (epoch =  512, loss = 1.2907)\n",
            "Saving model (epoch =  517, loss = 1.2823)\n",
            "Saving model (epoch =  518, loss = 1.2812)\n",
            "Saving model (epoch =  533, loss = 1.2762)\n",
            "Saving model (epoch =  534, loss = 1.2751)\n",
            "Saving model (epoch =  536, loss = 1.2663)\n",
            "Saving model (epoch =  537, loss = 1.2646)\n",
            "Saving model (epoch =  539, loss = 1.2599)\n",
            "Saving model (epoch =  548, loss = 1.2589)\n",
            "Saving model (epoch =  549, loss = 1.2540)\n",
            "Saving model (epoch =  576, loss = 1.2490)\n",
            "Saving model (epoch =  587, loss = 1.2473)\n",
            "Saving model (epoch =  589, loss = 1.2388)\n",
            "Saving model (epoch =  593, loss = 1.2367)\n",
            "Saving model (epoch =  594, loss = 1.2363)\n",
            "Saving model (epoch =  603, loss = 1.2343)\n",
            "Saving model (epoch =  604, loss = 1.2296)\n",
            "Saving model (epoch =  605, loss = 1.2218)\n",
            "Saving model (epoch =  645, loss = 1.2127)\n",
            "Saving model (epoch =  655, loss = 1.2099)\n",
            "Saving model (epoch =  657, loss = 1.2070)\n",
            "Saving model (epoch =  659, loss = 1.1888)\n",
            "Saving model (epoch =  660, loss = 1.1772)\n",
            "Saving model (epoch =  661, loss = 1.1736)\n",
            "Saving model (epoch =  714, loss = 1.1724)\n",
            "Saving model (epoch =  723, loss = 1.1700)\n",
            "Saving model (epoch =  724, loss = 1.1642)\n",
            "Saving model (epoch =  734, loss = 1.1637)\n",
            "Saving model (epoch =  737, loss = 1.1540)\n",
            "Saving model (epoch =  752, loss = 1.1538)\n",
            "Saving model (epoch =  800, loss = 1.1421)\n",
            "Saving model (epoch =  802, loss = 1.1407)\n",
            "Saving model (epoch =  829, loss = 1.1240)\n",
            "Saving model (epoch =  883, loss = 1.1198)\n",
            "Saving model (epoch =  904, loss = 1.1108)\n",
            "Saving model (epoch =  942, loss = 1.1070)\n",
            "Saving model (epoch =  943, loss = 1.1055)\n",
            "Saving model (epoch =  955, loss = 1.1050)\n",
            "Saving model (epoch =  958, loss = 1.1029)\n",
            "Saving model (epoch =  960, loss = 1.0857)\n",
            "Saving model (epoch = 1024, loss = 1.0817)\n",
            "Saving model (epoch = 1066, loss = 1.0756)\n",
            "Saving model (epoch = 1070, loss = 1.0728)\n",
            "Saving model (epoch = 1071, loss = 1.0718)\n",
            "Saving model (epoch = 1073, loss = 1.0676)\n",
            "Saving model (epoch = 1074, loss = 1.0585)\n",
            "Saving model (epoch = 1126, loss = 1.0577)\n",
            "Saving model (epoch = 1140, loss = 1.0572)\n",
            "Saving model (epoch = 1153, loss = 1.0571)\n",
            "Saving model (epoch = 1171, loss = 1.0560)\n",
            "Saving model (epoch = 1176, loss = 1.0548)\n",
            "Saving model (epoch = 1191, loss = 1.0437)\n",
            "Saving model (epoch = 1192, loss = 1.0384)\n",
            "Saving model (epoch = 1193, loss = 1.0319)\n",
            "Saving model (epoch = 1279, loss = 1.0237)\n",
            "Saving model (epoch = 1440, loss = 1.0219)\n",
            "Saving model (epoch = 1446, loss = 1.0215)\n",
            "Saving model (epoch = 1448, loss = 1.0172)\n",
            "Saving model (epoch = 1449, loss = 1.0040)\n",
            "Saving model (epoch = 1558, loss = 0.9996)\n",
            "Saving model (epoch = 1570, loss = 0.9984)\n",
            "Saving model (epoch = 1580, loss = 0.9951)\n",
            "Saving model (epoch = 1583, loss = 0.9949)\n",
            "Saving model (epoch = 1586, loss = 0.9932)\n",
            "Saving model (epoch = 1656, loss = 0.9837)\n",
            "Saving model (epoch = 1672, loss = 0.9724)\n",
            "Saving model (epoch = 1771, loss = 0.9660)\n",
            "Saving model (epoch = 1788, loss = 0.9626)\n",
            "Saving model (epoch = 1819, loss = 0.9597)\n",
            "Saving model (epoch = 1969, loss = 0.9571)\n",
            "Saving model (epoch = 1984, loss = 0.9512)\n",
            "Saving model (epoch = 2113, loss = 0.9397)\n",
            "Saving model (epoch = 2208, loss = 0.9372)\n",
            "Saving model (epoch = 2327, loss = 0.9372)\n",
            "Saving model (epoch = 2332, loss = 0.9371)\n",
            "Saving model (epoch = 2403, loss = 0.9309)\n",
            "Saving model (epoch = 2470, loss = 0.9235)\n",
            "Saving model (epoch = 2472, loss = 0.9203)\n",
            "Saving model (epoch = 2682, loss = 0.9179)\n",
            "Saving model (epoch = 2695, loss = 0.9144)\n",
            "Saving model (epoch = 2797, loss = 0.9096)\n",
            "Saving model (epoch = 2986, loss = 0.9089)\n",
            "Saving model (epoch = 3032, loss = 0.9050)\n",
            "Saving model (epoch = 3143, loss = 0.9043)\n",
            "Saving model (epoch = 3167, loss = 0.8970)\n",
            "Saving model (epoch = 3177, loss = 0.8897)\n",
            "Saving model (epoch = 3462, loss = 0.8874)\n",
            "Saving model (epoch = 3722, loss = 0.8852)\n",
            "Saving model (epoch = 3751, loss = 0.8839)\n",
            "Saving model (epoch = 3755, loss = 0.8723)\n",
            "Saving model (epoch = 3756, loss = 0.8674)\n",
            "Saving model (epoch = 4462, loss = 0.8666)\n",
            "Saving model (epoch = 4477, loss = 0.8659)\n",
            "Saving model (epoch = 4739, loss = 0.8646)\n",
            "Saving model (epoch = 4806, loss = 0.8636)\n",
            "Saving model (epoch = 4854, loss = 0.8611)\n",
            "Saving model (epoch = 5022, loss = 0.8576)\n",
            "Saving model (epoch = 5095, loss = 0.8568)\n",
            "Saving model (epoch = 5280, loss = 0.8563)\n",
            "Saving model (epoch = 5307, loss = 0.8540)\n",
            "Saving model (epoch = 5384, loss = 0.8512)\n",
            "Saving model (epoch = 5428, loss = 0.8506)\n",
            "Saving model (epoch = 5566, loss = 0.8452)\n",
            "Saving model (epoch = 6221, loss = 0.8416)\n",
            "Saving model (epoch = 6264, loss = 0.8410)\n",
            "Saving model (epoch = 6536, loss = 0.8328)\n",
            "Saving model (epoch = 6648, loss = 0.8260)\n",
            "Finished training after 7649 epochs\n"
          ],
          "name": "stdout"
        }
      ]
    },
    {
      "cell_type": "code",
      "metadata": {
        "colab": {
          "base_uri": "https://localhost:8080/",
          "height": 295
        },
        "id": "ml3n_r2g0HMp",
        "outputId": "a6594795-e022-4865-e501-0757c02c3312"
      },
      "source": [
        "plot_learning_curve(model_loss_record, title='deep model')"
      ],
      "execution_count": 556,
      "outputs": [
        {
          "output_type": "display_data",
          "data": {
            "image/png": "[encoded data removed]",
            "text/plain": [
              "<Figure size 432x288 with 1 Axes>"
            ]
          },
          "metadata": {
            "tags": [],
            "needs_background": "light"
          }
        }
      ]
    },
    {
      "cell_type": "code",
      "metadata": {
        "colab": {
          "base_uri": "https://localhost:8080/",
          "height": 350
        },
        "id": "dNYdctmK0CtP",
        "outputId": "f3d4e7db-e0c2-4673-9d44-e96633e51adc"
      },
      "source": [
        "del model\r\n",
        "model = NeuralNet(tr_set.dataset.dim).to(device)\r\n",
        "ckpt = torch.load(config['save_path'], map_location='cpu')  # Load your best model\r\n",
        "model.load_state_dict(ckpt)\r\n",
        "plot_pred(dv_set, model, device)  # Show prediction on the validation set"
      ],
      "execution_count": 557,
      "outputs": [
        {
          "output_type": "display_data",
          "data": {
            "image/png": "[encoded data removed]",
            "text/plain": [
              "<Figure size 360x360 with 1 Axes>"
            ]
          },
          "metadata": {
            "tags": [],
            "needs_background": "light"
          }
        }
      ]
    },
    {
      "cell_type": "markdown",
      "metadata": {
        "id": "VZdOe6jUzQvO"
      },
      "source": [
        "## **Testing**\r\n",
        "The predictions of your model on testing set will be stored at `pred.csv`."
      ]
    },
    {
      "cell_type": "code",
      "metadata": {
        "colab": {
          "base_uri": "https://localhost:8080/"
        },
        "id": "pNk5sDLjzaMp",
        "outputId": "2a175759-1c4c-4675-95b4-400ce26cf987"
      },
      "source": [
        "def save_pred(preds, file):\r\n",
        "    ''' Save predictions to specified file '''\r\n",
        "    print('Saving results to {}'.format(file))\r\n",
        "    with open(file, 'w') as fp:\r\n",
        "        writer = csv.writer(fp)\r\n",
        "        writer.writerow(['id', 'tested_positive'])\r\n",
        "        for i, p in enumerate(preds):\r\n",
        "            writer.writerow([i, p])\r\n",
        "\r\n",
        "preds = test(tt_set, model, device)  # predict COVID-19 cases with your model\r\n",
        "save_pred(preds, 'pred.csv')         # save prediction file to pred.csv"
      ],
      "execution_count": 558,
      "outputs": [
        {
          "output_type": "stream",
          "text": [
            "Saving results to pred.csv\n"
          ],
          "name": "stdout"
        }
      ]
    },
    {
      "cell_type": "markdown",
      "metadata": {
        "id": "I7llbZOw0XsX"
      },
      "source": [
        "## **Reference**\r\n",
        "Source: Heng-Jui Chang @ NTUEE (https://github.com/ga642381/ML2021-Spring/blob/main/HW01/HW01.ipynb)"
      ]
    }
  ]
}