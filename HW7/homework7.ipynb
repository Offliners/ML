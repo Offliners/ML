{
  "nbformat": 4,
  "nbformat_minor": 0,
  "metadata": {
    "colab": {
      "name": "hw7_bert",
      "provenance": [],
      "collapsed_sections": [],
      "toc_visible": true,
      "include_colab_link": true
    },
    "kernelspec": {
      "display_name": "Python 3",
      "name": "python3"
    },
    "widgets": {
      "application/vnd.jupyter.widget-state+json": {
        "66723d6a4ccb4336afed3783bdb98045": {
          "model_module": "@jupyter-widgets/controls",
          "model_name": "HBoxModel",
          "state": {
            "_view_name": "HBoxView",
            "_dom_classes": [],
            "_model_name": "HBoxModel",
            "_view_module": "@jupyter-widgets/controls",
            "_model_module_version": "1.5.0",
            "_view_count": null,
            "_view_module_version": "1.5.0",
            "box_style": "",
            "layout": "IPY_MODEL_129dd2a74ed8496c914921d25e9a5a55",
            "_model_module": "@jupyter-widgets/controls",
            "children": [
              "IPY_MODEL_e53f0ea6d6654436a87b6d3f10e28b9a",
              "IPY_MODEL_7b5e15c5d55b4bcea31557d6ecaae873"
            ]
          }
        },
        "129dd2a74ed8496c914921d25e9a5a55": {
          "model_module": "@jupyter-widgets/base",
          "model_name": "LayoutModel",
          "state": {
            "_view_name": "LayoutView",
            "grid_template_rows": null,
            "right": null,
            "justify_content": null,
            "_view_module": "@jupyter-widgets/base",
            "overflow": null,
            "_model_module_version": "1.2.0",
            "_view_count": null,
            "flex_flow": null,
            "width": null,
            "min_width": null,
            "border": null,
            "align_items": null,
            "bottom": null,
            "_model_module": "@jupyter-widgets/base",
            "top": null,
            "grid_column": null,
            "overflow_y": null,
            "overflow_x": null,
            "grid_auto_flow": null,
            "grid_area": null,
            "grid_template_columns": null,
            "flex": null,
            "_model_name": "LayoutModel",
            "justify_items": null,
            "grid_row": null,
            "max_height": null,
            "align_content": null,
            "visibility": null,
            "align_self": null,
            "height": null,
            "min_height": null,
            "padding": null,
            "grid_auto_rows": null,
            "grid_gap": null,
            "max_width": null,
            "order": null,
            "_view_module_version": "1.2.0",
            "grid_template_areas": null,
            "object_position": null,
            "object_fit": null,
            "grid_auto_columns": null,
            "margin": null,
            "display": null,
            "left": null
          }
        },
        "e53f0ea6d6654436a87b6d3f10e28b9a": {
          "model_module": "@jupyter-widgets/controls",
          "model_name": "FloatProgressModel",
          "state": {
            "_view_name": "ProgressView",
            "style": "IPY_MODEL_9f04e4af42e04ae79393791105b799fd",
            "_dom_classes": [],
            "description": "Downloading: 100%",
            "_model_name": "FloatProgressModel",
            "bar_style": "success",
            "max": 804,
            "_view_module": "@jupyter-widgets/controls",
            "_model_module_version": "1.5.0",
            "value": 804,
            "_view_count": null,
            "_view_module_version": "1.5.0",
            "orientation": "horizontal",
            "min": 0,
            "description_tooltip": null,
            "_model_module": "@jupyter-widgets/controls",
            "layout": "IPY_MODEL_eef570c1011f4499aeddceb06d022eb1"
          }
        },
        "7b5e15c5d55b4bcea31557d6ecaae873": {
          "model_module": "@jupyter-widgets/controls",
          "model_name": "HTMLModel",
          "state": {
            "_view_name": "HTMLView",
            "style": "IPY_MODEL_372dd8ffc958417b8cf5b206e5822c08",
            "_dom_classes": [],
            "description": "",
            "_model_name": "HTMLModel",
            "placeholder": "​",
            "_view_module": "@jupyter-widgets/controls",
            "_model_module_version": "1.5.0",
            "value": " 804/804 [00:02&lt;00:00, 395B/s]",
            "_view_count": null,
            "_view_module_version": "1.5.0",
            "description_tooltip": null,
            "_model_module": "@jupyter-widgets/controls",
            "layout": "IPY_MODEL_7fa542f6fedd4a22a6caae11b2e033f8"
          }
        },
        "9f04e4af42e04ae79393791105b799fd": {
          "model_module": "@jupyter-widgets/controls",
          "model_name": "ProgressStyleModel",
          "state": {
            "_view_name": "StyleView",
            "_model_name": "ProgressStyleModel",
            "description_width": "initial",
            "_view_module": "@jupyter-widgets/base",
            "_model_module_version": "1.5.0",
            "_view_count": null,
            "_view_module_version": "1.2.0",
            "bar_color": null,
            "_model_module": "@jupyter-widgets/controls"
          }
        },
        "eef570c1011f4499aeddceb06d022eb1": {
          "model_module": "@jupyter-widgets/base",
          "model_name": "LayoutModel",
          "state": {
            "_view_name": "LayoutView",
            "grid_template_rows": null,
            "right": null,
            "justify_content": null,
            "_view_module": "@jupyter-widgets/base",
            "overflow": null,
            "_model_module_version": "1.2.0",
            "_view_count": null,
            "flex_flow": null,
            "width": null,
            "min_width": null,
            "border": null,
            "align_items": null,
            "bottom": null,
            "_model_module": "@jupyter-widgets/base",
            "top": null,
            "grid_column": null,
            "overflow_y": null,
            "overflow_x": null,
            "grid_auto_flow": null,
            "grid_area": null,
            "grid_template_columns": null,
            "flex": null,
            "_model_name": "LayoutModel",
            "justify_items": null,
            "grid_row": null,
            "max_height": null,
            "align_content": null,
            "visibility": null,
            "align_self": null,
            "height": null,
            "min_height": null,
            "padding": null,
            "grid_auto_rows": null,
            "grid_gap": null,
            "max_width": null,
            "order": null,
            "_view_module_version": "1.2.0",
            "grid_template_areas": null,
            "object_position": null,
            "object_fit": null,
            "grid_auto_columns": null,
            "margin": null,
            "display": null,
            "left": null
          }
        },
        "372dd8ffc958417b8cf5b206e5822c08": {
          "model_module": "@jupyter-widgets/controls",
          "model_name": "DescriptionStyleModel",
          "state": {
            "_view_name": "StyleView",
            "_model_name": "DescriptionStyleModel",
            "description_width": "",
            "_view_module": "@jupyter-widgets/base",
            "_model_module_version": "1.5.0",
            "_view_count": null,
            "_view_module_version": "1.2.0",
            "_model_module": "@jupyter-widgets/controls"
          }
        },
        "7fa542f6fedd4a22a6caae11b2e033f8": {
          "model_module": "@jupyter-widgets/base",
          "model_name": "LayoutModel",
          "state": {
            "_view_name": "LayoutView",
            "grid_template_rows": null,
            "right": null,
            "justify_content": null,
            "_view_module": "@jupyter-widgets/base",
            "overflow": null,
            "_model_module_version": "1.2.0",
            "_view_count": null,
            "flex_flow": null,
            "width": null,
            "min_width": null,
            "border": null,
            "align_items": null,
            "bottom": null,
            "_model_module": "@jupyter-widgets/base",
            "top": null,
            "grid_column": null,
            "overflow_y": null,
            "overflow_x": null,
            "grid_auto_flow": null,
            "grid_area": null,
            "grid_template_columns": null,
            "flex": null,
            "_model_name": "LayoutModel",
            "justify_items": null,
            "grid_row": null,
            "max_height": null,
            "align_content": null,
            "visibility": null,
            "align_self": null,
            "height": null,
            "min_height": null,
            "padding": null,
            "grid_auto_rows": null,
            "grid_gap": null,
            "max_width": null,
            "order": null,
            "_view_module_version": "1.2.0",
            "grid_template_areas": null,
            "object_position": null,
            "object_fit": null,
            "grid_auto_columns": null,
            "margin": null,
            "display": null,
            "left": null
          }
        },
        "4f76c0c6d55846a99c7ee6fbfe3fefd4": {
          "model_module": "@jupyter-widgets/controls",
          "model_name": "HBoxModel",
          "state": {
            "_view_name": "HBoxView",
            "_dom_classes": [],
            "_model_name": "HBoxModel",
            "_view_module": "@jupyter-widgets/controls",
            "_model_module_version": "1.5.0",
            "_view_count": null,
            "_view_module_version": "1.5.0",
            "box_style": "",
            "layout": "IPY_MODEL_6e9cca687ae444018cacfb05861061c8",
            "_model_module": "@jupyter-widgets/controls",
            "children": [
              "IPY_MODEL_5bf4f3af0e9c4082b5f171177b15d44d",
              "IPY_MODEL_bf587e2825204ac98584601cf71421b8"
            ]
          }
        },
        "6e9cca687ae444018cacfb05861061c8": {
          "model_module": "@jupyter-widgets/base",
          "model_name": "LayoutModel",
          "state": {
            "_view_name": "LayoutView",
            "grid_template_rows": null,
            "right": null,
            "justify_content": null,
            "_view_module": "@jupyter-widgets/base",
            "overflow": null,
            "_model_module_version": "1.2.0",
            "_view_count": null,
            "flex_flow": null,
            "width": null,
            "min_width": null,
            "border": null,
            "align_items": null,
            "bottom": null,
            "_model_module": "@jupyter-widgets/base",
            "top": null,
            "grid_column": null,
            "overflow_y": null,
            "overflow_x": null,
            "grid_auto_flow": null,
            "grid_area": null,
            "grid_template_columns": null,
            "flex": null,
            "_model_name": "LayoutModel",
            "justify_items": null,
            "grid_row": null,
            "max_height": null,
            "align_content": null,
            "visibility": null,
            "align_self": null,
            "height": null,
            "min_height": null,
            "padding": null,
            "grid_auto_rows": null,
            "grid_gap": null,
            "max_width": null,
            "order": null,
            "_view_module_version": "1.2.0",
            "grid_template_areas": null,
            "object_position": null,
            "object_fit": null,
            "grid_auto_columns": null,
            "margin": null,
            "display": null,
            "left": null
          }
        },
        "5bf4f3af0e9c4082b5f171177b15d44d": {
          "model_module": "@jupyter-widgets/controls",
          "model_name": "FloatProgressModel",
          "state": {
            "_view_name": "ProgressView",
            "style": "IPY_MODEL_315b70f0e08f424182341f2a9f97a0a6",
            "_dom_classes": [],
            "description": "Downloading: 100%",
            "_model_name": "FloatProgressModel",
            "bar_style": "success",
            "max": 109540,
            "_view_module": "@jupyter-widgets/controls",
            "_model_module_version": "1.5.0",
            "value": 109540,
            "_view_count": null,
            "_view_module_version": "1.5.0",
            "orientation": "horizontal",
            "min": 0,
            "description_tooltip": null,
            "_model_module": "@jupyter-widgets/controls",
            "layout": "IPY_MODEL_d218b3de53cf45098570c55cd9ba2159"
          }
        },
        "bf587e2825204ac98584601cf71421b8": {
          "model_module": "@jupyter-widgets/controls",
          "model_name": "HTMLModel",
          "state": {
            "_view_name": "HTMLView",
            "style": "IPY_MODEL_d206643fa7b9496a9f0e054c1d5e714c",
            "_dom_classes": [],
            "description": "",
            "_model_name": "HTMLModel",
            "placeholder": "​",
            "_view_module": "@jupyter-widgets/controls",
            "_model_module_version": "1.5.0",
            "value": " 110k/110k [00:01&lt;00:00, 106kB/s]",
            "_view_count": null,
            "_view_module_version": "1.5.0",
            "description_tooltip": null,
            "_model_module": "@jupyter-widgets/controls",
            "layout": "IPY_MODEL_09d4339531974c74b6f6a4fce1ac67fb"
          }
        },
        "315b70f0e08f424182341f2a9f97a0a6": {
          "model_module": "@jupyter-widgets/controls",
          "model_name": "ProgressStyleModel",
          "state": {
            "_view_name": "StyleView",
            "_model_name": "ProgressStyleModel",
            "description_width": "initial",
            "_view_module": "@jupyter-widgets/base",
            "_model_module_version": "1.5.0",
            "_view_count": null,
            "_view_module_version": "1.2.0",
            "bar_color": null,
            "_model_module": "@jupyter-widgets/controls"
          }
        },
        "d218b3de53cf45098570c55cd9ba2159": {
          "model_module": "@jupyter-widgets/base",
          "model_name": "LayoutModel",
          "state": {
            "_view_name": "LayoutView",
            "grid_template_rows": null,
            "right": null,
            "justify_content": null,
            "_view_module": "@jupyter-widgets/base",
            "overflow": null,
            "_model_module_version": "1.2.0",
            "_view_count": null,
            "flex_flow": null,
            "width": null,
            "min_width": null,
            "border": null,
            "align_items": null,
            "bottom": null,
            "_model_module": "@jupyter-widgets/base",
            "top": null,
            "grid_column": null,
            "overflow_y": null,
            "overflow_x": null,
            "grid_auto_flow": null,
            "grid_area": null,
            "grid_template_columns": null,
            "flex": null,
            "_model_name": "LayoutModel",
            "justify_items": null,
            "grid_row": null,
            "max_height": null,
            "align_content": null,
            "visibility": null,
            "align_self": null,
            "height": null,
            "min_height": null,
            "padding": null,
            "grid_auto_rows": null,
            "grid_gap": null,
            "max_width": null,
            "order": null,
            "_view_module_version": "1.2.0",
            "grid_template_areas": null,
            "object_position": null,
            "object_fit": null,
            "grid_auto_columns": null,
            "margin": null,
            "display": null,
            "left": null
          }
        },
        "d206643fa7b9496a9f0e054c1d5e714c": {
          "model_module": "@jupyter-widgets/controls",
          "model_name": "DescriptionStyleModel",
          "state": {
            "_view_name": "StyleView",
            "_model_name": "DescriptionStyleModel",
            "description_width": "",
            "_view_module": "@jupyter-widgets/base",
            "_model_module_version": "1.5.0",
            "_view_count": null,
            "_view_module_version": "1.2.0",
            "_model_module": "@jupyter-widgets/controls"
          }
        },
        "09d4339531974c74b6f6a4fce1ac67fb": {
          "model_module": "@jupyter-widgets/base",
          "model_name": "LayoutModel",
          "state": {
            "_view_name": "LayoutView",
            "grid_template_rows": null,
            "right": null,
            "justify_content": null,
            "_view_module": "@jupyter-widgets/base",
            "overflow": null,
            "_model_module_version": "1.2.0",
            "_view_count": null,
            "flex_flow": null,
            "width": null,
            "min_width": null,
            "border": null,
            "align_items": null,
            "bottom": null,
            "_model_module": "@jupyter-widgets/base",
            "top": null,
            "grid_column": null,
            "overflow_y": null,
            "overflow_x": null,
            "grid_auto_flow": null,
            "grid_area": null,
            "grid_template_columns": null,
            "flex": null,
            "_model_name": "LayoutModel",
            "justify_items": null,
            "grid_row": null,
            "max_height": null,
            "align_content": null,
            "visibility": null,
            "align_self": null,
            "height": null,
            "min_height": null,
            "padding": null,
            "grid_auto_rows": null,
            "grid_gap": null,
            "max_width": null,
            "order": null,
            "_view_module_version": "1.2.0",
            "grid_template_areas": null,
            "object_position": null,
            "object_fit": null,
            "grid_auto_columns": null,
            "margin": null,
            "display": null,
            "left": null
          }
        },
        "cd189df2b4074c659abbfa2b9efe4294": {
          "model_module": "@jupyter-widgets/controls",
          "model_name": "HBoxModel",
          "state": {
            "_view_name": "HBoxView",
            "_dom_classes": [],
            "_model_name": "HBoxModel",
            "_view_module": "@jupyter-widgets/controls",
            "_model_module_version": "1.5.0",
            "_view_count": null,
            "_view_module_version": "1.5.0",
            "box_style": "",
            "layout": "IPY_MODEL_879bf6672917469b89b644333cfd2930",
            "_model_module": "@jupyter-widgets/controls",
            "children": [
              "IPY_MODEL_bb15fcce32ae40a89d35e678baac1814",
              "IPY_MODEL_87f5949357a74a5cb67fc9c0df13630a"
            ]
          }
        },
        "879bf6672917469b89b644333cfd2930": {
          "model_module": "@jupyter-widgets/base",
          "model_name": "LayoutModel",
          "state": {
            "_view_name": "LayoutView",
            "grid_template_rows": null,
            "right": null,
            "justify_content": null,
            "_view_module": "@jupyter-widgets/base",
            "overflow": null,
            "_model_module_version": "1.2.0",
            "_view_count": null,
            "flex_flow": null,
            "width": null,
            "min_width": null,
            "border": null,
            "align_items": null,
            "bottom": null,
            "_model_module": "@jupyter-widgets/base",
            "top": null,
            "grid_column": null,
            "overflow_y": null,
            "overflow_x": null,
            "grid_auto_flow": null,
            "grid_area": null,
            "grid_template_columns": null,
            "flex": null,
            "_model_name": "LayoutModel",
            "justify_items": null,
            "grid_row": null,
            "max_height": null,
            "align_content": null,
            "visibility": null,
            "align_self": null,
            "height": null,
            "min_height": null,
            "padding": null,
            "grid_auto_rows": null,
            "grid_gap": null,
            "max_width": null,
            "order": null,
            "_view_module_version": "1.2.0",
            "grid_template_areas": null,
            "object_position": null,
            "object_fit": null,
            "grid_auto_columns": null,
            "margin": null,
            "display": null,
            "left": null
          }
        },
        "bb15fcce32ae40a89d35e678baac1814": {
          "model_module": "@jupyter-widgets/controls",
          "model_name": "FloatProgressModel",
          "state": {
            "_view_name": "ProgressView",
            "style": "IPY_MODEL_3d1dd34ba014442291e233eabf728a5e",
            "_dom_classes": [],
            "description": "Downloading: 100%",
            "_model_name": "FloatProgressModel",
            "bar_style": "success",
            "max": 112,
            "_view_module": "@jupyter-widgets/controls",
            "_model_module_version": "1.5.0",
            "value": 112,
            "_view_count": null,
            "_view_module_version": "1.5.0",
            "orientation": "horizontal",
            "min": 0,
            "description_tooltip": null,
            "_model_module": "@jupyter-widgets/controls",
            "layout": "IPY_MODEL_b7daec1ed0f845a28e2747cf70f8cb59"
          }
        },
        "87f5949357a74a5cb67fc9c0df13630a": {
          "model_module": "@jupyter-widgets/controls",
          "model_name": "HTMLModel",
          "state": {
            "_view_name": "HTMLView",
            "style": "IPY_MODEL_d4b14ebee3b74c529e815f2442cb786f",
            "_dom_classes": [],
            "description": "",
            "_model_name": "HTMLModel",
            "placeholder": "​",
            "_view_module": "@jupyter-widgets/controls",
            "_model_module_version": "1.5.0",
            "value": " 112/112 [00:00&lt;00:00, 204B/s]",
            "_view_count": null,
            "_view_module_version": "1.5.0",
            "description_tooltip": null,
            "_model_module": "@jupyter-widgets/controls",
            "layout": "IPY_MODEL_cb44322adf4a4bfe891b682082f6ac41"
          }
        },
        "3d1dd34ba014442291e233eabf728a5e": {
          "model_module": "@jupyter-widgets/controls",
          "model_name": "ProgressStyleModel",
          "state": {
            "_view_name": "StyleView",
            "_model_name": "ProgressStyleModel",
            "description_width": "initial",
            "_view_module": "@jupyter-widgets/base",
            "_model_module_version": "1.5.0",
            "_view_count": null,
            "_view_module_version": "1.2.0",
            "bar_color": null,
            "_model_module": "@jupyter-widgets/controls"
          }
        },
        "b7daec1ed0f845a28e2747cf70f8cb59": {
          "model_module": "@jupyter-widgets/base",
          "model_name": "LayoutModel",
          "state": {
            "_view_name": "LayoutView",
            "grid_template_rows": null,
            "right": null,
            "justify_content": null,
            "_view_module": "@jupyter-widgets/base",
            "overflow": null,
            "_model_module_version": "1.2.0",
            "_view_count": null,
            "flex_flow": null,
            "width": null,
            "min_width": null,
            "border": null,
            "align_items": null,
            "bottom": null,
            "_model_module": "@jupyter-widgets/base",
            "top": null,
            "grid_column": null,
            "overflow_y": null,
            "overflow_x": null,
            "grid_auto_flow": null,
            "grid_area": null,
            "grid_template_columns": null,
            "flex": null,
            "_model_name": "LayoutModel",
            "justify_items": null,
            "grid_row": null,
            "max_height": null,
            "align_content": null,
            "visibility": null,
            "align_self": null,
            "height": null,
            "min_height": null,
            "padding": null,
            "grid_auto_rows": null,
            "grid_gap": null,
            "max_width": null,
            "order": null,
            "_view_module_version": "1.2.0",
            "grid_template_areas": null,
            "object_position": null,
            "object_fit": null,
            "grid_auto_columns": null,
            "margin": null,
            "display": null,
            "left": null
          }
        },
        "d4b14ebee3b74c529e815f2442cb786f": {
          "model_module": "@jupyter-widgets/controls",
          "model_name": "DescriptionStyleModel",
          "state": {
            "_view_name": "StyleView",
            "_model_name": "DescriptionStyleModel",
            "description_width": "",
            "_view_module": "@jupyter-widgets/base",
            "_model_module_version": "1.5.0",
            "_view_count": null,
            "_view_module_version": "1.2.0",
            "_model_module": "@jupyter-widgets/controls"
          }
        },
        "cb44322adf4a4bfe891b682082f6ac41": {
          "model_module": "@jupyter-widgets/base",
          "model_name": "LayoutModel",
          "state": {
            "_view_name": "LayoutView",
            "grid_template_rows": null,
            "right": null,
            "justify_content": null,
            "_view_module": "@jupyter-widgets/base",
            "overflow": null,
            "_model_module_version": "1.2.0",
            "_view_count": null,
            "flex_flow": null,
            "width": null,
            "min_width": null,
            "border": null,
            "align_items": null,
            "bottom": null,
            "_model_module": "@jupyter-widgets/base",
            "top": null,
            "grid_column": null,
            "overflow_y": null,
            "overflow_x": null,
            "grid_auto_flow": null,
            "grid_area": null,
            "grid_template_columns": null,
            "flex": null,
            "_model_name": "LayoutModel",
            "justify_items": null,
            "grid_row": null,
            "max_height": null,
            "align_content": null,
            "visibility": null,
            "align_self": null,
            "height": null,
            "min_height": null,
            "padding": null,
            "grid_auto_rows": null,
            "grid_gap": null,
            "max_width": null,
            "order": null,
            "_view_module_version": "1.2.0",
            "grid_template_areas": null,
            "object_position": null,
            "object_fit": null,
            "grid_auto_columns": null,
            "margin": null,
            "display": null,
            "left": null
          }
        },
        "6f1dbf0a877f499b890bf454f86be855": {
          "model_module": "@jupyter-widgets/controls",
          "model_name": "HBoxModel",
          "state": {
            "_view_name": "HBoxView",
            "_dom_classes": [],
            "_model_name": "HBoxModel",
            "_view_module": "@jupyter-widgets/controls",
            "_model_module_version": "1.5.0",
            "_view_count": null,
            "_view_module_version": "1.5.0",
            "box_style": "",
            "layout": "IPY_MODEL_8f6647a345214ddb91ec05fb6926e085",
            "_model_module": "@jupyter-widgets/controls",
            "children": [
              "IPY_MODEL_6b0d36c369b147e18d73442b05dcce4d",
              "IPY_MODEL_aef3cc03f34e483987eec27a760f3ad3"
            ]
          }
        },
        "8f6647a345214ddb91ec05fb6926e085": {
          "model_module": "@jupyter-widgets/base",
          "model_name": "LayoutModel",
          "state": {
            "_view_name": "LayoutView",
            "grid_template_rows": null,
            "right": null,
            "justify_content": null,
            "_view_module": "@jupyter-widgets/base",
            "overflow": null,
            "_model_module_version": "1.2.0",
            "_view_count": null,
            "flex_flow": null,
            "width": null,
            "min_width": null,
            "border": null,
            "align_items": null,
            "bottom": null,
            "_model_module": "@jupyter-widgets/base",
            "top": null,
            "grid_column": null,
            "overflow_y": null,
            "overflow_x": null,
            "grid_auto_flow": null,
            "grid_area": null,
            "grid_template_columns": null,
            "flex": null,
            "_model_name": "LayoutModel",
            "justify_items": null,
            "grid_row": null,
            "max_height": null,
            "align_content": null,
            "visibility": null,
            "align_self": null,
            "height": null,
            "min_height": null,
            "padding": null,
            "grid_auto_rows": null,
            "grid_gap": null,
            "max_width": null,
            "order": null,
            "_view_module_version": "1.2.0",
            "grid_template_areas": null,
            "object_position": null,
            "object_fit": null,
            "grid_auto_columns": null,
            "margin": null,
            "display": null,
            "left": null
          }
        },
        "6b0d36c369b147e18d73442b05dcce4d": {
          "model_module": "@jupyter-widgets/controls",
          "model_name": "FloatProgressModel",
          "state": {
            "_view_name": "ProgressView",
            "style": "IPY_MODEL_ad0f841d27244eb895be56b071472be0",
            "_dom_classes": [],
            "description": "Downloading: 100%",
            "_model_name": "FloatProgressModel",
            "bar_style": "success",
            "max": 286,
            "_view_module": "@jupyter-widgets/controls",
            "_model_module_version": "1.5.0",
            "value": 286,
            "_view_count": null,
            "_view_module_version": "1.5.0",
            "orientation": "horizontal",
            "min": 0,
            "description_tooltip": null,
            "_model_module": "@jupyter-widgets/controls",
            "layout": "IPY_MODEL_bece4aba0c0a4197abf2a7db488d11c7"
          }
        },
        "aef3cc03f34e483987eec27a760f3ad3": {
          "model_module": "@jupyter-widgets/controls",
          "model_name": "HTMLModel",
          "state": {
            "_view_name": "HTMLView",
            "style": "IPY_MODEL_316e9fa1e2a147cc8e508c340a2003c9",
            "_dom_classes": [],
            "description": "",
            "_model_name": "HTMLModel",
            "placeholder": "​",
            "_view_module": "@jupyter-widgets/controls",
            "_model_module_version": "1.5.0",
            "value": " 286/286 [00:00&lt;00:00, 3.71kB/s]",
            "_view_count": null,
            "_view_module_version": "1.5.0",
            "description_tooltip": null,
            "_model_module": "@jupyter-widgets/controls",
            "layout": "IPY_MODEL_21459e1cf19342c09531cfef0d97599b"
          }
        },
        "ad0f841d27244eb895be56b071472be0": {
          "model_module": "@jupyter-widgets/controls",
          "model_name": "ProgressStyleModel",
          "state": {
            "_view_name": "StyleView",
            "_model_name": "ProgressStyleModel",
            "description_width": "initial",
            "_view_module": "@jupyter-widgets/base",
            "_model_module_version": "1.5.0",
            "_view_count": null,
            "_view_module_version": "1.2.0",
            "bar_color": null,
            "_model_module": "@jupyter-widgets/controls"
          }
        },
        "bece4aba0c0a4197abf2a7db488d11c7": {
          "model_module": "@jupyter-widgets/base",
          "model_name": "LayoutModel",
          "state": {
            "_view_name": "LayoutView",
            "grid_template_rows": null,
            "right": null,
            "justify_content": null,
            "_view_module": "@jupyter-widgets/base",
            "overflow": null,
            "_model_module_version": "1.2.0",
            "_view_count": null,
            "flex_flow": null,
            "width": null,
            "min_width": null,
            "border": null,
            "align_items": null,
            "bottom": null,
            "_model_module": "@jupyter-widgets/base",
            "top": null,
            "grid_column": null,
            "overflow_y": null,
            "overflow_x": null,
            "grid_auto_flow": null,
            "grid_area": null,
            "grid_template_columns": null,
            "flex": null,
            "_model_name": "LayoutModel",
            "justify_items": null,
            "grid_row": null,
            "max_height": null,
            "align_content": null,
            "visibility": null,
            "align_self": null,
            "height": null,
            "min_height": null,
            "padding": null,
            "grid_auto_rows": null,
            "grid_gap": null,
            "max_width": null,
            "order": null,
            "_view_module_version": "1.2.0",
            "grid_template_areas": null,
            "object_position": null,
            "object_fit": null,
            "grid_auto_columns": null,
            "margin": null,
            "display": null,
            "left": null
          }
        },
        "316e9fa1e2a147cc8e508c340a2003c9": {
          "model_module": "@jupyter-widgets/controls",
          "model_name": "DescriptionStyleModel",
          "state": {
            "_view_name": "StyleView",
            "_model_name": "DescriptionStyleModel",
            "description_width": "",
            "_view_module": "@jupyter-widgets/base",
            "_model_module_version": "1.5.0",
            "_view_count": null,
            "_view_module_version": "1.2.0",
            "_model_module": "@jupyter-widgets/controls"
          }
        },
        "21459e1cf19342c09531cfef0d97599b": {
          "model_module": "@jupyter-widgets/base",
          "model_name": "LayoutModel",
          "state": {
            "_view_name": "LayoutView",
            "grid_template_rows": null,
            "right": null,
            "justify_content": null,
            "_view_module": "@jupyter-widgets/base",
            "overflow": null,
            "_model_module_version": "1.2.0",
            "_view_count": null,
            "flex_flow": null,
            "width": null,
            "min_width": null,
            "border": null,
            "align_items": null,
            "bottom": null,
            "_model_module": "@jupyter-widgets/base",
            "top": null,
            "grid_column": null,
            "overflow_y": null,
            "overflow_x": null,
            "grid_auto_flow": null,
            "grid_area": null,
            "grid_template_columns": null,
            "flex": null,
            "_model_name": "LayoutModel",
            "justify_items": null,
            "grid_row": null,
            "max_height": null,
            "align_content": null,
            "visibility": null,
            "align_self": null,
            "height": null,
            "min_height": null,
            "padding": null,
            "grid_auto_rows": null,
            "grid_gap": null,
            "max_width": null,
            "order": null,
            "_view_module_version": "1.2.0",
            "grid_template_areas": null,
            "object_position": null,
            "object_fit": null,
            "grid_auto_columns": null,
            "margin": null,
            "display": null,
            "left": null
          }
        },
        "91df0fb9178e4c5d8235679816ab25c3": {
          "model_module": "@jupyter-widgets/controls",
          "model_name": "HBoxModel",
          "state": {
            "_view_name": "HBoxView",
            "_dom_classes": [],
            "_model_name": "HBoxModel",
            "_view_module": "@jupyter-widgets/controls",
            "_model_module_version": "1.5.0",
            "_view_count": null,
            "_view_module_version": "1.5.0",
            "box_style": "",
            "layout": "IPY_MODEL_7c18826247cd4458b9d3e51119292478",
            "_model_module": "@jupyter-widgets/controls",
            "children": [
              "IPY_MODEL_69b098bc8e35467da5a181bcde1fbb3c",
              "IPY_MODEL_123119f1668f4ff6868cc74f86aca419"
            ]
          }
        },
        "7c18826247cd4458b9d3e51119292478": {
          "model_module": "@jupyter-widgets/base",
          "model_name": "LayoutModel",
          "state": {
            "_view_name": "LayoutView",
            "grid_template_rows": null,
            "right": null,
            "justify_content": null,
            "_view_module": "@jupyter-widgets/base",
            "overflow": null,
            "_model_module_version": "1.2.0",
            "_view_count": null,
            "flex_flow": null,
            "width": null,
            "min_width": null,
            "border": null,
            "align_items": null,
            "bottom": null,
            "_model_module": "@jupyter-widgets/base",
            "top": null,
            "grid_column": null,
            "overflow_y": null,
            "overflow_x": null,
            "grid_auto_flow": null,
            "grid_area": null,
            "grid_template_columns": null,
            "flex": null,
            "_model_name": "LayoutModel",
            "justify_items": null,
            "grid_row": null,
            "max_height": null,
            "align_content": null,
            "visibility": null,
            "align_self": null,
            "height": null,
            "min_height": null,
            "padding": null,
            "grid_auto_rows": null,
            "grid_gap": null,
            "max_width": null,
            "order": null,
            "_view_module_version": "1.2.0",
            "grid_template_areas": null,
            "object_position": null,
            "object_fit": null,
            "grid_auto_columns": null,
            "margin": null,
            "display": null,
            "left": null
          }
        },
        "69b098bc8e35467da5a181bcde1fbb3c": {
          "model_module": "@jupyter-widgets/controls",
          "model_name": "FloatProgressModel",
          "state": {
            "_view_name": "ProgressView",
            "style": "IPY_MODEL_221249bf270c41faad40cf535fd90f34",
            "_dom_classes": [],
            "description": "Downloading: 100%",
            "_model_name": "FloatProgressModel",
            "bar_style": "success",
            "max": 406799727,
            "_view_module": "@jupyter-widgets/controls",
            "_model_module_version": "1.5.0",
            "value": 406799727,
            "_view_count": null,
            "_view_module_version": "1.5.0",
            "orientation": "horizontal",
            "min": 0,
            "description_tooltip": null,
            "_model_module": "@jupyter-widgets/controls",
            "layout": "IPY_MODEL_e654f59ffc9e41abb6b627a9b91bd86c"
          }
        },
        "123119f1668f4ff6868cc74f86aca419": {
          "model_module": "@jupyter-widgets/controls",
          "model_name": "HTMLModel",
          "state": {
            "_view_name": "HTMLView",
            "style": "IPY_MODEL_86a39e51c04340d1bc7b00c26ee09e22",
            "_dom_classes": [],
            "description": "",
            "_model_name": "HTMLModel",
            "placeholder": "​",
            "_view_module": "@jupyter-widgets/controls",
            "_model_module_version": "1.5.0",
            "value": " 407M/407M [00:08&lt;00:00, 47.4MB/s]",
            "_view_count": null,
            "_view_module_version": "1.5.0",
            "description_tooltip": null,
            "_model_module": "@jupyter-widgets/controls",
            "layout": "IPY_MODEL_f0fed351889c445abe56032ba8f51f54"
          }
        },
        "221249bf270c41faad40cf535fd90f34": {
          "model_module": "@jupyter-widgets/controls",
          "model_name": "ProgressStyleModel",
          "state": {
            "_view_name": "StyleView",
            "_model_name": "ProgressStyleModel",
            "description_width": "initial",
            "_view_module": "@jupyter-widgets/base",
            "_model_module_version": "1.5.0",
            "_view_count": null,
            "_view_module_version": "1.2.0",
            "bar_color": null,
            "_model_module": "@jupyter-widgets/controls"
          }
        },
        "e654f59ffc9e41abb6b627a9b91bd86c": {
          "model_module": "@jupyter-widgets/base",
          "model_name": "LayoutModel",
          "state": {
            "_view_name": "LayoutView",
            "grid_template_rows": null,
            "right": null,
            "justify_content": null,
            "_view_module": "@jupyter-widgets/base",
            "overflow": null,
            "_model_module_version": "1.2.0",
            "_view_count": null,
            "flex_flow": null,
            "width": null,
            "min_width": null,
            "border": null,
            "align_items": null,
            "bottom": null,
            "_model_module": "@jupyter-widgets/base",
            "top": null,
            "grid_column": null,
            "overflow_y": null,
            "overflow_x": null,
            "grid_auto_flow": null,
            "grid_area": null,
            "grid_template_columns": null,
            "flex": null,
            "_model_name": "LayoutModel",
            "justify_items": null,
            "grid_row": null,
            "max_height": null,
            "align_content": null,
            "visibility": null,
            "align_self": null,
            "height": null,
            "min_height": null,
            "padding": null,
            "grid_auto_rows": null,
            "grid_gap": null,
            "max_width": null,
            "order": null,
            "_view_module_version": "1.2.0",
            "grid_template_areas": null,
            "object_position": null,
            "object_fit": null,
            "grid_auto_columns": null,
            "margin": null,
            "display": null,
            "left": null
          }
        },
        "86a39e51c04340d1bc7b00c26ee09e22": {
          "model_module": "@jupyter-widgets/controls",
          "model_name": "DescriptionStyleModel",
          "state": {
            "_view_name": "StyleView",
            "_model_name": "DescriptionStyleModel",
            "description_width": "",
            "_view_module": "@jupyter-widgets/base",
            "_model_module_version": "1.5.0",
            "_view_count": null,
            "_view_module_version": "1.2.0",
            "_model_module": "@jupyter-widgets/controls"
          }
        },
        "f0fed351889c445abe56032ba8f51f54": {
          "model_module": "@jupyter-widgets/base",
          "model_name": "LayoutModel",
          "state": {
            "_view_name": "LayoutView",
            "grid_template_rows": null,
            "right": null,
            "justify_content": null,
            "_view_module": "@jupyter-widgets/base",
            "overflow": null,
            "_model_module_version": "1.2.0",
            "_view_count": null,
            "flex_flow": null,
            "width": null,
            "min_width": null,
            "border": null,
            "align_items": null,
            "bottom": null,
            "_model_module": "@jupyter-widgets/base",
            "top": null,
            "grid_column": null,
            "overflow_y": null,
            "overflow_x": null,
            "grid_auto_flow": null,
            "grid_area": null,
            "grid_template_columns": null,
            "flex": null,
            "_model_name": "LayoutModel",
            "justify_items": null,
            "grid_row": null,
            "max_height": null,
            "align_content": null,
            "visibility": null,
            "align_self": null,
            "height": null,
            "min_height": null,
            "padding": null,
            "grid_auto_rows": null,
            "grid_gap": null,
            "max_width": null,
            "order": null,
            "_view_module_version": "1.2.0",
            "grid_template_areas": null,
            "object_position": null,
            "object_fit": null,
            "grid_auto_columns": null,
            "margin": null,
            "display": null,
            "left": null
          }
        },
        "dd0cbbfe29854c9ea25c0216f551b929": {
          "model_module": "@jupyter-widgets/controls",
          "model_name": "HBoxModel",
          "state": {
            "_view_name": "HBoxView",
            "_dom_classes": [],
            "_model_name": "HBoxModel",
            "_view_module": "@jupyter-widgets/controls",
            "_model_module_version": "1.5.0",
            "_view_count": null,
            "_view_module_version": "1.5.0",
            "box_style": "",
            "layout": "IPY_MODEL_7368ca6f65bc4d54b1a40a3302992883",
            "_model_module": "@jupyter-widgets/controls",
            "children": [
              "IPY_MODEL_3927f6520877467da568b4c689a03aa9",
              "IPY_MODEL_6f0501e7c07a42fd8c8eec6dddddabcd"
            ]
          }
        },
        "7368ca6f65bc4d54b1a40a3302992883": {
          "model_module": "@jupyter-widgets/base",
          "model_name": "LayoutModel",
          "state": {
            "_view_name": "LayoutView",
            "grid_template_rows": null,
            "right": null,
            "justify_content": null,
            "_view_module": "@jupyter-widgets/base",
            "overflow": null,
            "_model_module_version": "1.2.0",
            "_view_count": null,
            "flex_flow": null,
            "width": null,
            "min_width": null,
            "border": null,
            "align_items": null,
            "bottom": null,
            "_model_module": "@jupyter-widgets/base",
            "top": null,
            "grid_column": null,
            "overflow_y": null,
            "overflow_x": null,
            "grid_auto_flow": null,
            "grid_area": null,
            "grid_template_columns": null,
            "flex": null,
            "_model_name": "LayoutModel",
            "justify_items": null,
            "grid_row": null,
            "max_height": null,
            "align_content": null,
            "visibility": null,
            "align_self": null,
            "height": null,
            "min_height": null,
            "padding": null,
            "grid_auto_rows": null,
            "grid_gap": null,
            "max_width": null,
            "order": null,
            "_view_module_version": "1.2.0",
            "grid_template_areas": null,
            "object_position": null,
            "object_fit": null,
            "grid_auto_columns": null,
            "margin": null,
            "display": null,
            "left": null
          }
        },
        "3927f6520877467da568b4c689a03aa9": {
          "model_module": "@jupyter-widgets/controls",
          "model_name": "FloatProgressModel",
          "state": {
            "_view_name": "ProgressView",
            "style": "IPY_MODEL_ac1d0eceb35545e8b6385ee06a641fc6",
            "_dom_classes": [],
            "description": "100%",
            "_model_name": "FloatProgressModel",
            "bar_style": "success",
            "max": 2694,
            "_view_module": "@jupyter-widgets/controls",
            "_model_module_version": "1.5.0",
            "value": 2694,
            "_view_count": null,
            "_view_module_version": "1.5.0",
            "orientation": "horizontal",
            "min": 0,
            "description_tooltip": null,
            "_model_module": "@jupyter-widgets/controls",
            "layout": "IPY_MODEL_0897d82dbf8b47f69477d64c99598dff"
          }
        },
        "6f0501e7c07a42fd8c8eec6dddddabcd": {
          "model_module": "@jupyter-widgets/controls",
          "model_name": "HTMLModel",
          "state": {
            "_view_name": "HTMLView",
            "style": "IPY_MODEL_11047234035847db8875b2f8b6cac02f",
            "_dom_classes": [],
            "description": "",
            "_model_name": "HTMLModel",
            "placeholder": "​",
            "_view_module": "@jupyter-widgets/controls",
            "_model_module_version": "1.5.0",
            "value": " 2694/2694 [29:13&lt;00:00,  1.54it/s]",
            "_view_count": null,
            "_view_module_version": "1.5.0",
            "description_tooltip": null,
            "_model_module": "@jupyter-widgets/controls",
            "layout": "IPY_MODEL_0610a3b5671247e08d4029aa68d4a3fb"
          }
        },
        "ac1d0eceb35545e8b6385ee06a641fc6": {
          "model_module": "@jupyter-widgets/controls",
          "model_name": "ProgressStyleModel",
          "state": {
            "_view_name": "StyleView",
            "_model_name": "ProgressStyleModel",
            "description_width": "initial",
            "_view_module": "@jupyter-widgets/base",
            "_model_module_version": "1.5.0",
            "_view_count": null,
            "_view_module_version": "1.2.0",
            "bar_color": null,
            "_model_module": "@jupyter-widgets/controls"
          }
        },
        "0897d82dbf8b47f69477d64c99598dff": {
          "model_module": "@jupyter-widgets/base",
          "model_name": "LayoutModel",
          "state": {
            "_view_name": "LayoutView",
            "grid_template_rows": null,
            "right": null,
            "justify_content": null,
            "_view_module": "@jupyter-widgets/base",
            "overflow": null,
            "_model_module_version": "1.2.0",
            "_view_count": null,
            "flex_flow": null,
            "width": null,
            "min_width": null,
            "border": null,
            "align_items": null,
            "bottom": null,
            "_model_module": "@jupyter-widgets/base",
            "top": null,
            "grid_column": null,
            "overflow_y": null,
            "overflow_x": null,
            "grid_auto_flow": null,
            "grid_area": null,
            "grid_template_columns": null,
            "flex": null,
            "_model_name": "LayoutModel",
            "justify_items": null,
            "grid_row": null,
            "max_height": null,
            "align_content": null,
            "visibility": null,
            "align_self": null,
            "height": null,
            "min_height": null,
            "padding": null,
            "grid_auto_rows": null,
            "grid_gap": null,
            "max_width": null,
            "order": null,
            "_view_module_version": "1.2.0",
            "grid_template_areas": null,
            "object_position": null,
            "object_fit": null,
            "grid_auto_columns": null,
            "margin": null,
            "display": null,
            "left": null
          }
        },
        "11047234035847db8875b2f8b6cac02f": {
          "model_module": "@jupyter-widgets/controls",
          "model_name": "DescriptionStyleModel",
          "state": {
            "_view_name": "StyleView",
            "_model_name": "DescriptionStyleModel",
            "description_width": "",
            "_view_module": "@jupyter-widgets/base",
            "_model_module_version": "1.5.0",
            "_view_count": null,
            "_view_module_version": "1.2.0",
            "_model_module": "@jupyter-widgets/controls"
          }
        },
        "0610a3b5671247e08d4029aa68d4a3fb": {
          "model_module": "@jupyter-widgets/base",
          "model_name": "LayoutModel",
          "state": {
            "_view_name": "LayoutView",
            "grid_template_rows": null,
            "right": null,
            "justify_content": null,
            "_view_module": "@jupyter-widgets/base",
            "overflow": null,
            "_model_module_version": "1.2.0",
            "_view_count": null,
            "flex_flow": null,
            "width": null,
            "min_width": null,
            "border": null,
            "align_items": null,
            "bottom": null,
            "_model_module": "@jupyter-widgets/base",
            "top": null,
            "grid_column": null,
            "overflow_y": null,
            "overflow_x": null,
            "grid_auto_flow": null,
            "grid_area": null,
            "grid_template_columns": null,
            "flex": null,
            "_model_name": "LayoutModel",
            "justify_items": null,
            "grid_row": null,
            "max_height": null,
            "align_content": null,
            "visibility": null,
            "align_self": null,
            "height": null,
            "min_height": null,
            "padding": null,
            "grid_auto_rows": null,
            "grid_gap": null,
            "max_width": null,
            "order": null,
            "_view_module_version": "1.2.0",
            "grid_template_areas": null,
            "object_position": null,
            "object_fit": null,
            "grid_auto_columns": null,
            "margin": null,
            "display": null,
            "left": null
          }
        },
        "e26393e6e4c249eeb0f8a610bed35719": {
          "model_module": "@jupyter-widgets/controls",
          "model_name": "HBoxModel",
          "state": {
            "_view_name": "HBoxView",
            "_dom_classes": [],
            "_model_name": "HBoxModel",
            "_view_module": "@jupyter-widgets/controls",
            "_model_module_version": "1.5.0",
            "_view_count": null,
            "_view_module_version": "1.5.0",
            "box_style": "",
            "layout": "IPY_MODEL_811cbb191b0b4de9bb51650bb14d8892",
            "_model_module": "@jupyter-widgets/controls",
            "children": [
              "IPY_MODEL_f69b114e03ef4cfa858d8d52c771d833",
              "IPY_MODEL_1c9f651caec7410abab132cf39bab8c0"
            ]
          }
        },
        "811cbb191b0b4de9bb51650bb14d8892": {
          "model_module": "@jupyter-widgets/base",
          "model_name": "LayoutModel",
          "state": {
            "_view_name": "LayoutView",
            "grid_template_rows": null,
            "right": null,
            "justify_content": null,
            "_view_module": "@jupyter-widgets/base",
            "overflow": null,
            "_model_module_version": "1.2.0",
            "_view_count": null,
            "flex_flow": null,
            "width": null,
            "min_width": null,
            "border": null,
            "align_items": null,
            "bottom": null,
            "_model_module": "@jupyter-widgets/base",
            "top": null,
            "grid_column": null,
            "overflow_y": null,
            "overflow_x": null,
            "grid_auto_flow": null,
            "grid_area": null,
            "grid_template_columns": null,
            "flex": null,
            "_model_name": "LayoutModel",
            "justify_items": null,
            "grid_row": null,
            "max_height": null,
            "align_content": null,
            "visibility": null,
            "align_self": null,
            "height": null,
            "min_height": null,
            "padding": null,
            "grid_auto_rows": null,
            "grid_gap": null,
            "max_width": null,
            "order": null,
            "_view_module_version": "1.2.0",
            "grid_template_areas": null,
            "object_position": null,
            "object_fit": null,
            "grid_auto_columns": null,
            "margin": null,
            "display": null,
            "left": null
          }
        },
        "f69b114e03ef4cfa858d8d52c771d833": {
          "model_module": "@jupyter-widgets/controls",
          "model_name": "FloatProgressModel",
          "state": {
            "_view_name": "ProgressView",
            "style": "IPY_MODEL_707c3e5db2f24a1c8b23491abbe5894f",
            "_dom_classes": [],
            "description": "100%",
            "_model_name": "FloatProgressModel",
            "bar_style": "success",
            "max": 3524,
            "_view_module": "@jupyter-widgets/controls",
            "_model_module_version": "1.5.0",
            "value": 3524,
            "_view_count": null,
            "_view_module_version": "1.5.0",
            "orientation": "horizontal",
            "min": 0,
            "description_tooltip": null,
            "_model_module": "@jupyter-widgets/controls",
            "layout": "IPY_MODEL_4696912188a84ae095e33cab86e9399f"
          }
        },
        "1c9f651caec7410abab132cf39bab8c0": {
          "model_module": "@jupyter-widgets/controls",
          "model_name": "HTMLModel",
          "state": {
            "_view_name": "HTMLView",
            "style": "IPY_MODEL_6f06dc659cc04876bb47a2cffa58d9d4",
            "_dom_classes": [],
            "description": "",
            "_model_name": "HTMLModel",
            "placeholder": "​",
            "_view_module": "@jupyter-widgets/controls",
            "_model_module_version": "1.5.0",
            "value": " 3524/3524 [04:25&lt;00:00, 13.29it/s]",
            "_view_count": null,
            "_view_module_version": "1.5.0",
            "description_tooltip": null,
            "_model_module": "@jupyter-widgets/controls",
            "layout": "IPY_MODEL_c72bbb57ad3f40e19485e0c5370ed33f"
          }
        },
        "707c3e5db2f24a1c8b23491abbe5894f": {
          "model_module": "@jupyter-widgets/controls",
          "model_name": "ProgressStyleModel",
          "state": {
            "_view_name": "StyleView",
            "_model_name": "ProgressStyleModel",
            "description_width": "initial",
            "_view_module": "@jupyter-widgets/base",
            "_model_module_version": "1.5.0",
            "_view_count": null,
            "_view_module_version": "1.2.0",
            "bar_color": null,
            "_model_module": "@jupyter-widgets/controls"
          }
        },
        "4696912188a84ae095e33cab86e9399f": {
          "model_module": "@jupyter-widgets/base",
          "model_name": "LayoutModel",
          "state": {
            "_view_name": "LayoutView",
            "grid_template_rows": null,
            "right": null,
            "justify_content": null,
            "_view_module": "@jupyter-widgets/base",
            "overflow": null,
            "_model_module_version": "1.2.0",
            "_view_count": null,
            "flex_flow": null,
            "width": null,
            "min_width": null,
            "border": null,
            "align_items": null,
            "bottom": null,
            "_model_module": "@jupyter-widgets/base",
            "top": null,
            "grid_column": null,
            "overflow_y": null,
            "overflow_x": null,
            "grid_auto_flow": null,
            "grid_area": null,
            "grid_template_columns": null,
            "flex": null,
            "_model_name": "LayoutModel",
            "justify_items": null,
            "grid_row": null,
            "max_height": null,
            "align_content": null,
            "visibility": null,
            "align_self": null,
            "height": null,
            "min_height": null,
            "padding": null,
            "grid_auto_rows": null,
            "grid_gap": null,
            "max_width": null,
            "order": null,
            "_view_module_version": "1.2.0",
            "grid_template_areas": null,
            "object_position": null,
            "object_fit": null,
            "grid_auto_columns": null,
            "margin": null,
            "display": null,
            "left": null
          }
        },
        "6f06dc659cc04876bb47a2cffa58d9d4": {
          "model_module": "@jupyter-widgets/controls",
          "model_name": "DescriptionStyleModel",
          "state": {
            "_view_name": "StyleView",
            "_model_name": "DescriptionStyleModel",
            "description_width": "",
            "_view_module": "@jupyter-widgets/base",
            "_model_module_version": "1.5.0",
            "_view_count": null,
            "_view_module_version": "1.2.0",
            "_model_module": "@jupyter-widgets/controls"
          }
        },
        "c72bbb57ad3f40e19485e0c5370ed33f": {
          "model_module": "@jupyter-widgets/base",
          "model_name": "LayoutModel",
          "state": {
            "_view_name": "LayoutView",
            "grid_template_rows": null,
            "right": null,
            "justify_content": null,
            "_view_module": "@jupyter-widgets/base",
            "overflow": null,
            "_model_module_version": "1.2.0",
            "_view_count": null,
            "flex_flow": null,
            "width": null,
            "min_width": null,
            "border": null,
            "align_items": null,
            "bottom": null,
            "_model_module": "@jupyter-widgets/base",
            "top": null,
            "grid_column": null,
            "overflow_y": null,
            "overflow_x": null,
            "grid_auto_flow": null,
            "grid_area": null,
            "grid_template_columns": null,
            "flex": null,
            "_model_name": "LayoutModel",
            "justify_items": null,
            "grid_row": null,
            "max_height": null,
            "align_content": null,
            "visibility": null,
            "align_self": null,
            "height": null,
            "min_height": null,
            "padding": null,
            "grid_auto_rows": null,
            "grid_gap": null,
            "max_width": null,
            "order": null,
            "_view_module_version": "1.2.0",
            "grid_template_areas": null,
            "object_position": null,
            "object_fit": null,
            "grid_auto_columns": null,
            "margin": null,
            "display": null,
            "left": null
          }
        },
        "5b142d58aaa94f2eb6e10a86d056c255": {
          "model_module": "@jupyter-widgets/controls",
          "model_name": "HBoxModel",
          "state": {
            "_view_name": "HBoxView",
            "_dom_classes": [],
            "_model_name": "HBoxModel",
            "_view_module": "@jupyter-widgets/controls",
            "_model_module_version": "1.5.0",
            "_view_count": null,
            "_view_module_version": "1.5.0",
            "box_style": "",
            "layout": "IPY_MODEL_69c38cf7bbbc48e4a4dc2ef07e707995",
            "_model_module": "@jupyter-widgets/controls",
            "children": [
              "IPY_MODEL_fbb44fe5d6f448819321db608a93ff1c",
              "IPY_MODEL_6404daa6f11f44788992bf32da25358b"
            ]
          }
        },
        "69c38cf7bbbc48e4a4dc2ef07e707995": {
          "model_module": "@jupyter-widgets/base",
          "model_name": "LayoutModel",
          "state": {
            "_view_name": "LayoutView",
            "grid_template_rows": null,
            "right": null,
            "justify_content": null,
            "_view_module": "@jupyter-widgets/base",
            "overflow": null,
            "_model_module_version": "1.2.0",
            "_view_count": null,
            "flex_flow": null,
            "width": null,
            "min_width": null,
            "border": null,
            "align_items": null,
            "bottom": null,
            "_model_module": "@jupyter-widgets/base",
            "top": null,
            "grid_column": null,
            "overflow_y": null,
            "overflow_x": null,
            "grid_auto_flow": null,
            "grid_area": null,
            "grid_template_columns": null,
            "flex": null,
            "_model_name": "LayoutModel",
            "justify_items": null,
            "grid_row": null,
            "max_height": null,
            "align_content": null,
            "visibility": null,
            "align_self": null,
            "height": null,
            "min_height": null,
            "padding": null,
            "grid_auto_rows": null,
            "grid_gap": null,
            "max_width": null,
            "order": null,
            "_view_module_version": "1.2.0",
            "grid_template_areas": null,
            "object_position": null,
            "object_fit": null,
            "grid_auto_columns": null,
            "margin": null,
            "display": null,
            "left": null
          }
        },
        "fbb44fe5d6f448819321db608a93ff1c": {
          "model_module": "@jupyter-widgets/controls",
          "model_name": "FloatProgressModel",
          "state": {
            "_view_name": "ProgressView",
            "style": "IPY_MODEL_b58807eab43a401e8f4249653a61cfcb",
            "_dom_classes": [],
            "description": "100%",
            "_model_name": "FloatProgressModel",
            "bar_style": "success",
            "max": 3493,
            "_view_module": "@jupyter-widgets/controls",
            "_model_module_version": "1.5.0",
            "value": 3493,
            "_view_count": null,
            "_view_module_version": "1.5.0",
            "orientation": "horizontal",
            "min": 0,
            "description_tooltip": null,
            "_model_module": "@jupyter-widgets/controls",
            "layout": "IPY_MODEL_6866e8c5e5fe49df9a1b1b7a7f41a77c"
          }
        },
        "6404daa6f11f44788992bf32da25358b": {
          "model_module": "@jupyter-widgets/controls",
          "model_name": "HTMLModel",
          "state": {
            "_view_name": "HTMLView",
            "style": "IPY_MODEL_21690dcf84d446e5941fdb1af5665e18",
            "_dom_classes": [],
            "description": "",
            "_model_name": "HTMLModel",
            "placeholder": "​",
            "_view_module": "@jupyter-widgets/controls",
            "_model_module_version": "1.5.0",
            "value": " 3493/3493 [04:14&lt;00:00, 13.70it/s]",
            "_view_count": null,
            "_view_module_version": "1.5.0",
            "description_tooltip": null,
            "_model_module": "@jupyter-widgets/controls",
            "layout": "IPY_MODEL_bdb78705d3064287aa0e197d017031c4"
          }
        },
        "b58807eab43a401e8f4249653a61cfcb": {
          "model_module": "@jupyter-widgets/controls",
          "model_name": "ProgressStyleModel",
          "state": {
            "_view_name": "StyleView",
            "_model_name": "ProgressStyleModel",
            "description_width": "initial",
            "_view_module": "@jupyter-widgets/base",
            "_model_module_version": "1.5.0",
            "_view_count": null,
            "_view_module_version": "1.2.0",
            "bar_color": null,
            "_model_module": "@jupyter-widgets/controls"
          }
        },
        "6866e8c5e5fe49df9a1b1b7a7f41a77c": {
          "model_module": "@jupyter-widgets/base",
          "model_name": "LayoutModel",
          "state": {
            "_view_name": "LayoutView",
            "grid_template_rows": null,
            "right": null,
            "justify_content": null,
            "_view_module": "@jupyter-widgets/base",
            "overflow": null,
            "_model_module_version": "1.2.0",
            "_view_count": null,
            "flex_flow": null,
            "width": null,
            "min_width": null,
            "border": null,
            "align_items": null,
            "bottom": null,
            "_model_module": "@jupyter-widgets/base",
            "top": null,
            "grid_column": null,
            "overflow_y": null,
            "overflow_x": null,
            "grid_auto_flow": null,
            "grid_area": null,
            "grid_template_columns": null,
            "flex": null,
            "_model_name": "LayoutModel",
            "justify_items": null,
            "grid_row": null,
            "max_height": null,
            "align_content": null,
            "visibility": null,
            "align_self": null,
            "height": null,
            "min_height": null,
            "padding": null,
            "grid_auto_rows": null,
            "grid_gap": null,
            "max_width": null,
            "order": null,
            "_view_module_version": "1.2.0",
            "grid_template_areas": null,
            "object_position": null,
            "object_fit": null,
            "grid_auto_columns": null,
            "margin": null,
            "display": null,
            "left": null
          }
        },
        "21690dcf84d446e5941fdb1af5665e18": {
          "model_module": "@jupyter-widgets/controls",
          "model_name": "DescriptionStyleModel",
          "state": {
            "_view_name": "StyleView",
            "_model_name": "DescriptionStyleModel",
            "description_width": "",
            "_view_module": "@jupyter-widgets/base",
            "_model_module_version": "1.5.0",
            "_view_count": null,
            "_view_module_version": "1.2.0",
            "_model_module": "@jupyter-widgets/controls"
          }
        },
        "bdb78705d3064287aa0e197d017031c4": {
          "model_module": "@jupyter-widgets/base",
          "model_name": "LayoutModel",
          "state": {
            "_view_name": "LayoutView",
            "grid_template_rows": null,
            "right": null,
            "justify_content": null,
            "_view_module": "@jupyter-widgets/base",
            "overflow": null,
            "_model_module_version": "1.2.0",
            "_view_count": null,
            "flex_flow": null,
            "width": null,
            "min_width": null,
            "border": null,
            "align_items": null,
            "bottom": null,
            "_model_module": "@jupyter-widgets/base",
            "top": null,
            "grid_column": null,
            "overflow_y": null,
            "overflow_x": null,
            "grid_auto_flow": null,
            "grid_area": null,
            "grid_template_columns": null,
            "flex": null,
            "_model_name": "LayoutModel",
            "justify_items": null,
            "grid_row": null,
            "max_height": null,
            "align_content": null,
            "visibility": null,
            "align_self": null,
            "height": null,
            "min_height": null,
            "padding": null,
            "grid_auto_rows": null,
            "grid_gap": null,
            "max_width": null,
            "order": null,
            "_view_module_version": "1.2.0",
            "grid_template_areas": null,
            "object_position": null,
            "object_fit": null,
            "grid_auto_columns": null,
            "margin": null,
            "display": null,
            "left": null
          }
        }
      }
    },
    "accelerator": "GPU"
  },
  "cells": [
    {
      "cell_type": "markdown",
      "metadata": {
        "id": "view-in-github",
        "colab_type": "text"
      },
      "source": [
        "<a href=\"https://colab.research.google.com/github/Offliners/writeup/blob/main/HW7/homework7.ipynb\" target=\"_parent\"><img src=\"https://colab.research.google.com/assets/colab-badge.svg\" alt=\"Open In Colab\"/></a>"
      ]
    },
    {
      "cell_type": "markdown",
      "metadata": {
        "id": "xvSGDbExff_I"
      },
      "source": [
        "# **Homework 7 - Bert (Question Answering)**\n",
        "\n",
        "If you have any questions, feel free to email us at ntu-ml-2021spring-ta@googlegroups.com\n",
        "\n",
        "\n",
        "\n",
        "Slide:    [Link](https://docs.google.com/presentation/d/1aQoWogAQo_xVJvMQMrGaYiWzuyfO0QyLLAhiMwFyS2w)　Kaggle: [Link](https://www.kaggle.com/c/ml2021-spring-hw7)　Data: [Link](https://drive.google.com/uc?id=1znKmX08v9Fygp-dgwo7BKiLIf2qL1FH1)\n",
        "\n",
        "\n"
      ]
    },
    {
      "cell_type": "markdown",
      "metadata": {
        "id": "WGOr_eS3wJJf"
      },
      "source": [
        "## Task description\n",
        "- Chinese Extractive Question Answering\n",
        "  - Input: Paragraph + Question\n",
        "  - Output: Answer\n",
        "\n",
        "- Objective: Learn how to fine tune a pretrained model on downstream task using transformers\n",
        "\n",
        "- Todo\n",
        "    - Fine tune a pretrained chinese BERT model\n",
        "    - Change hyperparameters (e.g. doc_stride)\n",
        "    - Apply linear learning rate decay\n",
        "    - Try other pretrained models\n",
        "    - Improve preprocessing\n",
        "    - Improve postprocessing\n",
        "- Training tips\n",
        "    - Automatic mixed precision\n",
        "    - Gradient accumulation\n",
        "    - Ensemble\n",
        "\n",
        "- Estimated training time (tesla t4 with automatic mixed precision enabled)\n",
        "    - Simple: 8mins\n",
        "    - Medium: 8mins\n",
        "    - Strong: 25mins\n",
        "    - Boss: 2hrs\n",
        "  "
      ]
    },
    {
      "cell_type": "markdown",
      "metadata": {
        "id": "TJ1fSAJE2oaC"
      },
      "source": [
        "## Download Dataset"
      ]
    },
    {
      "cell_type": "code",
      "metadata": {
        "id": "d0_OErJqd7CR",
        "colab": {
          "base_uri": "https://localhost:8080/"
        },
        "outputId": "69f12e8a-8dd4-441a-f69f-e685ab5fea0d"
      },
      "source": [
        "# For this HW, K80 < P4 < T4 < P100 <= T4(fp16) < V100\n",
        "!nvidia-smi"
      ],
      "execution_count": 1,
      "outputs": [
        {
          "output_type": "stream",
          "text": [
            "Fri May 14 00:43:03 2021       \n",
            "+-----------------------------------------------------------------------------+\n",
            "| NVIDIA-SMI 465.19.01    Driver Version: 460.32.03    CUDA Version: 11.2     |\n",
            "|-------------------------------+----------------------+----------------------+\n",
            "| GPU  Name        Persistence-M| Bus-Id        Disp.A | Volatile Uncorr. ECC |\n",
            "| Fan  Temp  Perf  Pwr:Usage/Cap|         Memory-Usage | GPU-Util  Compute M. |\n",
            "|                               |                      |               MIG M. |\n",
            "|===============================+======================+======================|\n",
            "|   0  Tesla T4            Off  | 00000000:00:04.0 Off |                    0 |\n",
            "| N/A   44C    P8    10W /  70W |      0MiB / 15109MiB |      0%      Default |\n",
            "|                               |                      |                  N/A |\n",
            "+-------------------------------+----------------------+----------------------+\n",
            "                                                                               \n",
            "+-----------------------------------------------------------------------------+\n",
            "| Processes:                                                                  |\n",
            "|  GPU   GI   CI        PID   Type   Process name                  GPU Memory |\n",
            "|        ID   ID                                                   Usage      |\n",
            "|=============================================================================|\n",
            "|  No running processes found                                                 |\n",
            "+-----------------------------------------------------------------------------+\n"
          ],
          "name": "stdout"
        }
      ]
    },
    {
      "cell_type": "code",
      "metadata": {
        "id": "YPrc4Eie9Yo5",
        "colab": {
          "base_uri": "https://localhost:8080/"
        },
        "outputId": "bc288445-2824-4f6e-a84c-d6ed9853af6d"
      },
      "source": [
        "# Download link 1\n",
        "!gdown --id '1znKmX08v9Fygp-dgwo7BKiLIf2qL1FH1' --output hw7_data.zip\n",
        "\n",
        "# Download Link 2 (if the above link fails) \n",
        "# !gdown --id '1pOu3FdPdvzielUZyggeD7KDnVy9iW1uC' --output hw7_data.zip\n",
        "\n",
        "!unzip -o hw7_data.zip"
      ],
      "execution_count": 2,
      "outputs": [
        {
          "output_type": "stream",
          "text": [
            "Downloading...\n",
            "From: https://drive.google.com/uc?id=1znKmX08v9Fygp-dgwo7BKiLIf2qL1FH1\n",
            "To: /content/hw7_data.zip\n",
            "\r0.00B [00:00, ?B/s]\r7.71MB [00:00, 121MB/s]\n",
            "Archive:  hw7_data.zip\n",
            "  inflating: hw7_dev.json            \n",
            "  inflating: hw7_test.json           \n",
            "  inflating: hw7_train.json          \n"
          ],
          "name": "stdout"
        }
      ]
    },
    {
      "cell_type": "markdown",
      "metadata": {
        "id": "TevOvhC03m0h"
      },
      "source": [
        "## Install transformers\n",
        "\n",
        "Documentation for the toolkit:　https://huggingface.co/transformers/"
      ]
    },
    {
      "cell_type": "code",
      "metadata": {
        "id": "tbxWFX_jpDom",
        "colab": {
          "base_uri": "https://localhost:8080/"
        },
        "outputId": "245ac7ba-68b0-41b8-c00b-1e28fdec688d"
      },
      "source": [
        "# You are allowed to change version of transformers or use other toolkits\n",
        "!pip install transformers==4.5.0"
      ],
      "execution_count": 3,
      "outputs": [
        {
          "output_type": "stream",
          "text": [
            "Collecting transformers==4.5.0\n",
            "\u001b[?25l  Downloading https://files.pythonhosted.org/packages/81/91/61d69d58a1af1bd81d9ca9d62c90a6de3ab80d77f27c5df65d9a2c1f5626/transformers-4.5.0-py3-none-any.whl (2.1MB)\n",
            "\u001b[K     |████████████████████████████████| 2.2MB 8.2MB/s \n",
            "\u001b[?25hCollecting sacremoses\n",
            "\u001b[?25l  Downloading https://files.pythonhosted.org/packages/75/ee/67241dc87f266093c533a2d4d3d69438e57d7a90abb216fa076e7d475d4a/sacremoses-0.0.45-py3-none-any.whl (895kB)\n",
            "\u001b[K     |████████████████████████████████| 901kB 47.2MB/s \n",
            "\u001b[?25hRequirement already satisfied: packaging in /usr/local/lib/python3.7/dist-packages (from transformers==4.5.0) (20.9)\n",
            "Requirement already satisfied: tqdm>=4.27 in /usr/local/lib/python3.7/dist-packages (from transformers==4.5.0) (4.41.1)\n",
            "Requirement already satisfied: regex!=2019.12.17 in /usr/local/lib/python3.7/dist-packages (from transformers==4.5.0) (2019.12.20)\n",
            "Requirement already satisfied: requests in /usr/local/lib/python3.7/dist-packages (from transformers==4.5.0) (2.23.0)\n",
            "Requirement already satisfied: filelock in /usr/local/lib/python3.7/dist-packages (from transformers==4.5.0) (3.0.12)\n",
            "Requirement already satisfied: numpy>=1.17 in /usr/local/lib/python3.7/dist-packages (from transformers==4.5.0) (1.19.5)\n",
            "Requirement already satisfied: importlib-metadata; python_version < \"3.8\" in /usr/local/lib/python3.7/dist-packages (from transformers==4.5.0) (4.0.1)\n",
            "Collecting tokenizers<0.11,>=0.10.1\n",
            "\u001b[?25l  Downloading https://files.pythonhosted.org/packages/ae/04/5b870f26a858552025a62f1649c20d29d2672c02ff3c3fb4c688ca46467a/tokenizers-0.10.2-cp37-cp37m-manylinux2010_x86_64.whl (3.3MB)\n",
            "\u001b[K     |████████████████████████████████| 3.3MB 45.5MB/s \n",
            "\u001b[?25hRequirement already satisfied: joblib in /usr/local/lib/python3.7/dist-packages (from sacremoses->transformers==4.5.0) (1.0.1)\n",
            "Requirement already satisfied: click in /usr/local/lib/python3.7/dist-packages (from sacremoses->transformers==4.5.0) (7.1.2)\n",
            "Requirement already satisfied: six in /usr/local/lib/python3.7/dist-packages (from sacremoses->transformers==4.5.0) (1.15.0)\n",
            "Requirement already satisfied: pyparsing>=2.0.2 in /usr/local/lib/python3.7/dist-packages (from packaging->transformers==4.5.0) (2.4.7)\n",
            "Requirement already satisfied: chardet<4,>=3.0.2 in /usr/local/lib/python3.7/dist-packages (from requests->transformers==4.5.0) (3.0.4)\n",
            "Requirement already satisfied: idna<3,>=2.5 in /usr/local/lib/python3.7/dist-packages (from requests->transformers==4.5.0) (2.10)\n",
            "Requirement already satisfied: urllib3!=1.25.0,!=1.25.1,<1.26,>=1.21.1 in /usr/local/lib/python3.7/dist-packages (from requests->transformers==4.5.0) (1.24.3)\n",
            "Requirement already satisfied: certifi>=2017.4.17 in /usr/local/lib/python3.7/dist-packages (from requests->transformers==4.5.0) (2020.12.5)\n",
            "Requirement already satisfied: zipp>=0.5 in /usr/local/lib/python3.7/dist-packages (from importlib-metadata; python_version < \"3.8\"->transformers==4.5.0) (3.4.1)\n",
            "Requirement already satisfied: typing-extensions>=3.6.4; python_version < \"3.8\" in /usr/local/lib/python3.7/dist-packages (from importlib-metadata; python_version < \"3.8\"->transformers==4.5.0) (3.7.4.3)\n",
            "Installing collected packages: sacremoses, tokenizers, transformers\n",
            "Successfully installed sacremoses-0.0.45 tokenizers-0.10.2 transformers-4.5.0\n"
          ],
          "name": "stdout"
        }
      ]
    },
    {
      "cell_type": "markdown",
      "metadata": {
        "id": "8dKM4yCh4LI_"
      },
      "source": [
        "## Import Packages"
      ]
    },
    {
      "cell_type": "code",
      "metadata": {
        "id": "WOTHHtWJoahe"
      },
      "source": [
        "import json\n",
        "import numpy as np\n",
        "import random\n",
        "import torch\n",
        "from torch.utils.data import DataLoader, Dataset \n",
        "from transformers import AdamW, BertForQuestionAnswering, BertTokenizerFast\n",
        "from transformers import AutoTokenizer, AutoModel\n",
        "from tqdm.auto import tqdm\n",
        "from transformers import get_linear_schedule_with_warmup\n",
        "\n",
        "device = \"cuda\" if torch.cuda.is_available() else \"cpu\"\n",
        "\n",
        "# Fix random seed for reproducibility\n",
        "def same_seeds(seed):\n",
        "\t  torch.manual_seed(seed)\n",
        "\t  if torch.cuda.is_available():\n",
        "\t\t    torch.cuda.manual_seed(seed)\n",
        "\t\t    torch.cuda.manual_seed_all(seed)\n",
        "\t  np.random.seed(seed)\n",
        "\t  random.seed(seed)\n",
        "\t  torch.backends.cudnn.benchmark = False\n",
        "\t  torch.backends.cudnn.deterministic = True\n",
        "same_seeds(0)"
      ],
      "execution_count": 4,
      "outputs": []
    },
    {
      "cell_type": "code",
      "metadata": {
        "id": "7pBtSZP1SKQO",
        "colab": {
          "base_uri": "https://localhost:8080/"
        },
        "outputId": "e6e120f4-cdd2-437b-900b-ac8e47007434"
      },
      "source": [
        "# Change \"fp16_training\" to True to support automatic mixed precision training (fp16)\t\n",
        "fp16_training = True\n",
        "\n",
        "if fp16_training:\n",
        "    !pip install accelerate==0.2.0\n",
        "    from accelerate import Accelerator\n",
        "    accelerator = Accelerator(fp16=True)\n",
        "    device = accelerator.device\n",
        "\n",
        "# Documentation for the toolkit:  https://huggingface.co/docs/accelerate/"
      ],
      "execution_count": 5,
      "outputs": [
        {
          "output_type": "stream",
          "text": [
            "Collecting accelerate==0.2.0\n",
            "\u001b[?25l  Downloading https://files.pythonhosted.org/packages/60/c6/6f08def78c19e328335236ec283a7c70e73913d1ed6f653ce2101bfad139/accelerate-0.2.0-py3-none-any.whl (47kB)\n",
            "\r\u001b[K     |███████                         | 10kB 918kB/s eta 0:00:01\r\u001b[K     |█████████████▉                  | 20kB 1.8MB/s eta 0:00:01\r\u001b[K     |████████████████████▉           | 30kB 2.6MB/s eta 0:00:01\r\u001b[K     |███████████████████████████▊    | 40kB 3.4MB/s eta 0:00:01\r\u001b[K     |████████████████████████████████| 51kB 2.9MB/s \n",
            "\u001b[?25hRequirement already satisfied: torch>=1.4.0 in /usr/local/lib/python3.7/dist-packages (from accelerate==0.2.0) (1.8.1+cu101)\n",
            "Collecting pyaml>=20.4.0\n",
            "  Downloading https://files.pythonhosted.org/packages/15/c4/1310a054d33abc318426a956e7d6df0df76a6ddfa9c66f6310274fb75d42/pyaml-20.4.0-py2.py3-none-any.whl\n",
            "Requirement already satisfied: numpy in /usr/local/lib/python3.7/dist-packages (from torch>=1.4.0->accelerate==0.2.0) (1.19.5)\n",
            "Requirement already satisfied: typing-extensions in /usr/local/lib/python3.7/dist-packages (from torch>=1.4.0->accelerate==0.2.0) (3.7.4.3)\n",
            "Requirement already satisfied: PyYAML in /usr/local/lib/python3.7/dist-packages (from pyaml>=20.4.0->accelerate==0.2.0) (3.13)\n",
            "Installing collected packages: pyaml, accelerate\n",
            "Successfully installed accelerate-0.2.0 pyaml-20.4.0\n"
          ],
          "name": "stdout"
        }
      ]
    },
    {
      "cell_type": "markdown",
      "metadata": {
        "id": "2YgXHuVLp_6j"
      },
      "source": [
        "## Load Model and Tokenizer\n",
        "\n",
        "\n",
        "\n",
        "\n",
        " "
      ]
    },
    {
      "cell_type": "code",
      "metadata": {
        "id": "xyBCYGjAp3ym",
        "outputId": "49df372b-eac2-42e7-e594-9effcb437447",
        "colab": {
          "base_uri": "https://localhost:8080/",
          "height": 262,
          "referenced_widgets": [
            "66723d6a4ccb4336afed3783bdb98045",
            "129dd2a74ed8496c914921d25e9a5a55",
            "e53f0ea6d6654436a87b6d3f10e28b9a",
            "7b5e15c5d55b4bcea31557d6ecaae873",
            "9f04e4af42e04ae79393791105b799fd",
            "eef570c1011f4499aeddceb06d022eb1",
            "372dd8ffc958417b8cf5b206e5822c08",
            "7fa542f6fedd4a22a6caae11b2e033f8",
            "4f76c0c6d55846a99c7ee6fbfe3fefd4",
            "6e9cca687ae444018cacfb05861061c8",
            "5bf4f3af0e9c4082b5f171177b15d44d",
            "bf587e2825204ac98584601cf71421b8",
            "315b70f0e08f424182341f2a9f97a0a6",
            "d218b3de53cf45098570c55cd9ba2159",
            "d206643fa7b9496a9f0e054c1d5e714c",
            "09d4339531974c74b6f6a4fce1ac67fb",
            "cd189df2b4074c659abbfa2b9efe4294",
            "879bf6672917469b89b644333cfd2930",
            "bb15fcce32ae40a89d35e678baac1814",
            "87f5949357a74a5cb67fc9c0df13630a",
            "3d1dd34ba014442291e233eabf728a5e",
            "b7daec1ed0f845a28e2747cf70f8cb59",
            "d4b14ebee3b74c529e815f2442cb786f",
            "cb44322adf4a4bfe891b682082f6ac41",
            "6f1dbf0a877f499b890bf454f86be855",
            "8f6647a345214ddb91ec05fb6926e085",
            "6b0d36c369b147e18d73442b05dcce4d",
            "aef3cc03f34e483987eec27a760f3ad3",
            "ad0f841d27244eb895be56b071472be0",
            "bece4aba0c0a4197abf2a7db488d11c7",
            "316e9fa1e2a147cc8e508c340a2003c9",
            "21459e1cf19342c09531cfef0d97599b",
            "91df0fb9178e4c5d8235679816ab25c3",
            "7c18826247cd4458b9d3e51119292478",
            "69b098bc8e35467da5a181bcde1fbb3c",
            "123119f1668f4ff6868cc74f86aca419",
            "221249bf270c41faad40cf535fd90f34",
            "e654f59ffc9e41abb6b627a9b91bd86c",
            "86a39e51c04340d1bc7b00c26ee09e22",
            "f0fed351889c445abe56032ba8f51f54"
          ]
        }
      },
      "source": [
        "# model = BertForQuestionAnswering.from_pretrained(\"bert-base-chinese\").to(device)\n",
        "# tokenizer = BertTokenizerFast.from_pretrained(\"bert-base-chinese\")\n",
        "\n",
        "from transformers import AutoTokenizer, AutoModelForQuestionAnswering\n",
        "  \n",
        "tokenizer = AutoTokenizer.from_pretrained(\"nyust-eb210/braslab-bert-drcd-384\")\n",
        "\n",
        "model = AutoModelForQuestionAnswering.from_pretrained(\"nyust-eb210/braslab-bert-drcd-384\")\n",
        "\n",
        "# You can safely ignore the warning message (it pops up because new prediction heads for QA are initialized randomly)"
      ],
      "execution_count": 6,
      "outputs": [
        {
          "output_type": "display_data",
          "data": {
            "application/vnd.jupyter.widget-view+json": {
              "model_id": "66723d6a4ccb4336afed3783bdb98045",
              "version_minor": 0,
              "version_major": 2
            },
            "text/plain": [
              "HBox(children=(FloatProgress(value=0.0, description='Downloading', max=804.0, style=ProgressStyle(description_…"
            ]
          },
          "metadata": {
            "tags": []
          }
        },
        {
          "output_type": "stream",
          "text": [
            "\n"
          ],
          "name": "stdout"
        },
        {
          "output_type": "display_data",
          "data": {
            "application/vnd.jupyter.widget-view+json": {
              "model_id": "4f76c0c6d55846a99c7ee6fbfe3fefd4",
              "version_minor": 0,
              "version_major": 2
            },
            "text/plain": [
              "HBox(children=(FloatProgress(value=0.0, description='Downloading', max=109540.0, style=ProgressStyle(descripti…"
            ]
          },
          "metadata": {
            "tags": []
          }
        },
        {
          "output_type": "stream",
          "text": [
            "\n"
          ],
          "name": "stdout"
        },
        {
          "output_type": "display_data",
          "data": {
            "application/vnd.jupyter.widget-view+json": {
              "model_id": "cd189df2b4074c659abbfa2b9efe4294",
              "version_minor": 0,
              "version_major": 2
            },
            "text/plain": [
              "HBox(children=(FloatProgress(value=0.0, description='Downloading', max=112.0, style=ProgressStyle(description_…"
            ]
          },
          "metadata": {
            "tags": []
          }
        },
        {
          "output_type": "stream",
          "text": [
            "\n"
          ],
          "name": "stdout"
        },
        {
          "output_type": "display_data",
          "data": {
            "application/vnd.jupyter.widget-view+json": {
              "model_id": "6f1dbf0a877f499b890bf454f86be855",
              "version_minor": 0,
              "version_major": 2
            },
            "text/plain": [
              "HBox(children=(FloatProgress(value=0.0, description='Downloading', max=286.0, style=ProgressStyle(description_…"
            ]
          },
          "metadata": {
            "tags": []
          }
        },
        {
          "output_type": "stream",
          "text": [
            "\n"
          ],
          "name": "stdout"
        },
        {
          "output_type": "display_data",
          "data": {
            "application/vnd.jupyter.widget-view+json": {
              "model_id": "91df0fb9178e4c5d8235679816ab25c3",
              "version_minor": 0,
              "version_major": 2
            },
            "text/plain": [
              "HBox(children=(FloatProgress(value=0.0, description='Downloading', max=406799727.0, style=ProgressStyle(descri…"
            ]
          },
          "metadata": {
            "tags": []
          }
        },
        {
          "output_type": "stream",
          "text": [
            "\n"
          ],
          "name": "stdout"
        }
      ]
    },
    {
      "cell_type": "markdown",
      "metadata": {
        "id": "3Td-GTmk5OW4"
      },
      "source": [
        "## Read Data\n",
        "\n",
        "- Training set: 26935 QA pairs\n",
        "- Dev set: 3523  QA pairs\n",
        "- Test set: 3492  QA pairs\n",
        "\n",
        "- {train/dev/test}_questions:\t\n",
        "  - List of dicts with the following keys:\n",
        "   - id (int)\n",
        "   - paragraph_id (int)\n",
        "   - question_text (string)\n",
        "   - answer_text (string)\n",
        "   - answer_start (int)\n",
        "   - answer_end (int)\n",
        "- {train/dev/test}_paragraphs: \n",
        "  - List of strings\n",
        "  - paragraph_ids in questions correspond to indexs in paragraphs\n",
        "  - A paragraph may be used by several questions "
      ]
    },
    {
      "cell_type": "code",
      "metadata": {
        "id": "NvX7hlepogvu"
      },
      "source": [
        "def read_data(file):\n",
        "    with open(file, 'r', encoding=\"utf-8\") as reader:\n",
        "        data = json.load(reader)\n",
        "    return data[\"questions\"], data[\"paragraphs\"]\n",
        "\n",
        "train_questions, train_paragraphs = read_data(\"hw7_train.json\")\n",
        "dev_questions, dev_paragraphs = read_data(\"hw7_dev.json\")\n",
        "test_questions, test_paragraphs = read_data(\"hw7_test.json\")"
      ],
      "execution_count": 7,
      "outputs": []
    },
    {
      "cell_type": "markdown",
      "metadata": {
        "id": "Fm0rpTHq0e4N"
      },
      "source": [
        "## Tokenize Data"
      ]
    },
    {
      "cell_type": "code",
      "metadata": {
        "id": "rTZ6B70Hoxie",
        "colab": {
          "base_uri": "https://localhost:8080/"
        },
        "outputId": "d960bb36-aab0-4520-ba39-33943f275637"
      },
      "source": [
        "# Tokenize questions and paragraphs separately\n",
        "# 「add_special_tokens」 is set to False since special tokens will be added when tokenized questions and paragraphs are combined in datset __getitem__ \n",
        "\n",
        "train_questions_tokenized = tokenizer([train_question[\"question_text\"] for train_question in train_questions], add_special_tokens=False)\n",
        "dev_questions_tokenized = tokenizer([dev_question[\"question_text\"] for dev_question in dev_questions], add_special_tokens=False)\n",
        "test_questions_tokenized = tokenizer([test_question[\"question_text\"] for test_question in test_questions], add_special_tokens=False) \n",
        "\n",
        "train_paragraphs_tokenized = tokenizer(train_paragraphs, add_special_tokens=False)\n",
        "dev_paragraphs_tokenized = tokenizer(dev_paragraphs, add_special_tokens=False)\n",
        "test_paragraphs_tokenized = tokenizer(test_paragraphs, add_special_tokens=False)\n",
        "\n",
        "# You can safely ignore the warning message as tokenized sequences will be futher processed in datset __getitem__ before passing to model"
      ],
      "execution_count": 8,
      "outputs": [
        {
          "output_type": "stream",
          "text": [
            "Token indices sequence length is longer than the specified maximum sequence length for this model (570 > 512). Running this sequence through the model will result in indexing errors\n"
          ],
          "name": "stderr"
        }
      ]
    },
    {
      "cell_type": "markdown",
      "metadata": {
        "id": "Ws8c8_4d5UCI"
      },
      "source": [
        "## Dataset and Dataloader"
      ]
    },
    {
      "cell_type": "code",
      "metadata": {
        "id": "Xjooag-Swnuh"
      },
      "source": [
        "class QA_Dataset(Dataset):\n",
        "    def __init__(self, split, questions, tokenized_questions, tokenized_paragraphs):\n",
        "        self.split = split\n",
        "        self.questions = questions\n",
        "        self.tokenized_questions = tokenized_questions\n",
        "        self.tokenized_paragraphs = tokenized_paragraphs\n",
        "        self.max_question_len = 100\n",
        "        self.max_paragraph_len = 384\n",
        "        \n",
        "        ##### TODO: Change value of doc_stride #####\n",
        "        self.doc_stride = 128\n",
        "\n",
        "        # Input sequence length = [CLS] + question + [SEP] + paragraph + [SEP]\n",
        "        self.max_seq_len = 1 + self.max_question_len + 1 + self.max_paragraph_len + 1\n",
        "\n",
        "    def __len__(self):\n",
        "        return len(self.questions)\n",
        "\n",
        "    def __getitem__(self, idx):\n",
        "        question = self.questions[idx]\n",
        "        tokenized_question = self.tokenized_questions[idx]\n",
        "        tokenized_paragraph = self.tokenized_paragraphs[question[\"paragraph_id\"]]\n",
        "\n",
        "        ##### TODO: Preprocessing #####\n",
        "        # Hint: How to prevent model from learning something it should not learn\n",
        "\n",
        "        if self.split == \"train\":\n",
        "            # Convert answer's start/end positions in paragraph_text to start/end positions in tokenized_paragraph  \n",
        "            answer_start_token = tokenized_paragraph.char_to_token(question[\"answer_start\"])\n",
        "            answer_end_token = tokenized_paragraph.char_to_token(question[\"answer_end\"])\n",
        "\n",
        "            # A single window is obtained by slicing the portion of paragraph containing the answer\n",
        "            mid = (answer_start_token + answer_end_token)\n",
        "            paragraph_start = max(0, min(mid - self.max_paragraph_len, len(tokenized_paragraph) - self.max_paragraph_len))\n",
        "            # paragraph_start = 0\n",
        "            paragraph_end = paragraph_start + self.max_paragraph_len\n",
        "\n",
        "            # Slice question/paragraph and add special tokens (101: CLS, 102: SEP)\n",
        "            input_ids_question = [101] + tokenized_question.ids[:self.max_question_len] + [102] \n",
        "            input_ids_paragraph = tokenized_paragraph.ids[paragraph_start : paragraph_end] + [102]\t\t\n",
        "            \n",
        "            # Convert answer's start/end positions in tokenized_paragraph to start/end positions in the window  \n",
        "            answer_start_token += len(input_ids_question) - paragraph_start\n",
        "            answer_end_token += len(input_ids_question) - paragraph_start\n",
        "\n",
        "            # Pad sequence and obtain inputs to model \n",
        "            input_ids, token_type_ids, attention_mask = self.padding(input_ids_question, input_ids_paragraph)\n",
        "            return torch.tensor(input_ids), torch.tensor(token_type_ids), torch.tensor(attention_mask), answer_start_token, answer_end_token\n",
        "\n",
        "        # Validation/Testing\n",
        "        else:\n",
        "            input_ids_list, token_type_ids_list, attention_mask_list = [], [], []\n",
        "            \n",
        "            # Paragraph is split into several windows, each with start positions separated by step \"doc_stride\"\n",
        "            for i in range(0, len(tokenized_paragraph), self.doc_stride):\n",
        "                \n",
        "                # Slice question/paragraph and add special tokens (101: CLS, 102: SEP)\n",
        "                input_ids_question = [101] + tokenized_question.ids[:self.max_question_len] + [102]\n",
        "                input_ids_paragraph = tokenized_paragraph.ids[i : i + self.max_paragraph_len] + [102]\n",
        "                \n",
        "                # Pad sequence and obtain inputs to model\n",
        "                input_ids, token_type_ids, attention_mask = self.padding(input_ids_question, input_ids_paragraph)\n",
        "                \n",
        "                input_ids_list.append(input_ids)\n",
        "                token_type_ids_list.append(token_type_ids)\n",
        "                attention_mask_list.append(attention_mask)\n",
        "            \n",
        "            return torch.tensor(input_ids_list), torch.tensor(token_type_ids_list), torch.tensor(attention_mask_list)\n",
        "\n",
        "    def padding(self, input_ids_question, input_ids_paragraph):\n",
        "        # Pad zeros if sequence length is shorter than max_seq_len\n",
        "        padding_len = self.max_seq_len - len(input_ids_question) - len(input_ids_paragraph)\n",
        "        # Indices of input sequence tokens in the vocabulary\n",
        "        input_ids = input_ids_question + input_ids_paragraph + [0] * padding_len\n",
        "        # Segment token indices to indicate first and second portions of the inputs. Indices are selected in [0, 1]\n",
        "        token_type_ids = [0] * len(input_ids_question) + [1] * len(input_ids_paragraph) + [0] * padding_len\n",
        "        # Mask to avoid performing attention on padding token indices. Mask values selected in [0, 1]\n",
        "        attention_mask = [1] * (len(input_ids_question) + len(input_ids_paragraph)) + [0] * padding_len\n",
        "        \n",
        "        return input_ids, token_type_ids, attention_mask\n",
        "\n",
        "train_set = QA_Dataset(\"train\", train_questions, train_questions_tokenized, train_paragraphs_tokenized)\n",
        "dev_set = QA_Dataset(\"dev\", dev_questions, dev_questions_tokenized, dev_paragraphs_tokenized)\n",
        "test_set = QA_Dataset(\"test\", test_questions, test_questions_tokenized, test_paragraphs_tokenized)\n",
        "\n",
        "train_batch_size = 10\n",
        "\n",
        "# Note: Do NOT change batch size of dev_loader / test_loader !\n",
        "# Although batch size=1, it is actually a batch consisting of several windows from the same QA pair\n",
        "train_loader = DataLoader(train_set, batch_size=train_batch_size, shuffle=True, pin_memory=True)\n",
        "dev_loader = DataLoader(dev_set, batch_size=1, shuffle=False, pin_memory=True)\n",
        "test_loader = DataLoader(test_set, batch_size=1, shuffle=False, pin_memory=True)"
      ],
      "execution_count": 12,
      "outputs": []
    },
    {
      "cell_type": "markdown",
      "metadata": {
        "id": "5_H1kqhR8CdM"
      },
      "source": [
        "## Function for Evaluation"
      ]
    },
    {
      "cell_type": "code",
      "metadata": {
        "id": "SqeA3PLPxOHu"
      },
      "source": [
        "def evaluate(data, output):\n",
        "    ##### TODO: Postprocessing #####\n",
        "    # There is a bug and room for improvement in postprocessing \n",
        "    # Hint: Open your prediction file to see what is wrong \n",
        "    \n",
        "    answer = ''\n",
        "    max_prob = float('-inf')\n",
        "    num_of_windows = data[0].shape[1]\n",
        "    \n",
        "    for k in range(num_of_windows):\n",
        "        # Obtain answer by choosing the most probable start position / end position\n",
        "        start_prob, start_index = torch.max(output.start_logits[k], dim=0)\n",
        "        end_prob, end_index = torch.max(output.end_logits[k], dim=0)\n",
        "        \n",
        "        # Probability of answer is calculated as sum of start_prob and end_prob\n",
        "        prob = start_prob + end_prob\n",
        "        \n",
        "        # Replace answer if calculated probability is larger than previous windows\n",
        "        if prob > max_prob:\n",
        "            max_prob = prob\n",
        "            # Convert tokens to chars (e.g. [1920, 7032] --> \"大 金\")\n",
        "            answer = tokenizer.decode(data[0][0][k][start_index : end_index + 1])\n",
        "    \n",
        "    # Remove spaces in answer (e.g. \"大 金\" --> \"大金\")\n",
        "    return answer.replace(' ','')"
      ],
      "execution_count": 13,
      "outputs": []
    },
    {
      "cell_type": "markdown",
      "metadata": {
        "id": "rzHQit6eMnKG"
      },
      "source": [
        "## Training"
      ]
    },
    {
      "cell_type": "code",
      "metadata": {
        "id": "3Q-B6ka7xoCM",
        "colab": {
          "base_uri": "https://localhost:8080/",
          "height": 625,
          "referenced_widgets": [
            "dd0cbbfe29854c9ea25c0216f551b929",
            "7368ca6f65bc4d54b1a40a3302992883",
            "3927f6520877467da568b4c689a03aa9",
            "6f0501e7c07a42fd8c8eec6dddddabcd",
            "ac1d0eceb35545e8b6385ee06a641fc6",
            "0897d82dbf8b47f69477d64c99598dff",
            "11047234035847db8875b2f8b6cac02f",
            "0610a3b5671247e08d4029aa68d4a3fb",
            "e26393e6e4c249eeb0f8a610bed35719",
            "811cbb191b0b4de9bb51650bb14d8892",
            "f69b114e03ef4cfa858d8d52c771d833",
            "1c9f651caec7410abab132cf39bab8c0",
            "707c3e5db2f24a1c8b23491abbe5894f",
            "4696912188a84ae095e33cab86e9399f",
            "6f06dc659cc04876bb47a2cffa58d9d4",
            "c72bbb57ad3f40e19485e0c5370ed33f"
          ]
        },
        "outputId": "2a2f7f5e-f749-46cc-d36d-2964b70b236a"
      },
      "source": [
        "num_epoch = 1\n",
        "validation = True\n",
        "logging_step = 100\n",
        "learning_rate = 3e-5\n",
        "optimizer = AdamW(model.parameters(), lr=learning_rate)\n",
        "total_steps = len(train_loader) * num_epoch\n",
        "scheduler = get_linear_schedule_with_warmup(optimizer, num_warmup_steps=0, num_training_steps=total_steps)\n",
        "\n",
        "if fp16_training:\n",
        "    model, optimizer, train_loader = accelerator.prepare(model, optimizer, train_loader) \n",
        "\n",
        "model.train()\n",
        "\n",
        "print(\"Start Training ...\")\n",
        "\n",
        "for epoch in range(num_epoch):\n",
        "    step = 1\n",
        "    train_loss = train_acc = 0\n",
        "    \n",
        "    for data in tqdm(train_loader):\t\n",
        "        # Load all data into GPU\n",
        "        data = [i.to(device) for i in data]\n",
        "        \n",
        "        # Model inputs: input_ids, token_type_ids, attention_mask, start_positions, end_positions (Note: only \"input_ids\" is mandatory)\n",
        "        # Model outputs: start_logits, end_logits, loss (return when start_positions/end_positions are provided)  \n",
        "        output = model(input_ids=data[0], token_type_ids=data[1], attention_mask=data[2], start_positions=data[3], end_positions=data[4])\n",
        "\n",
        "        # Choose the most probable start position / end position\n",
        "        start_index = torch.argmax(output.start_logits, dim=1)\n",
        "        end_index = torch.argmax(output.end_logits, dim=1)\n",
        "        \n",
        "        # Prediction is correct only if both start_index and end_index are correct\n",
        "        train_acc += ((start_index == data[3]) & (end_index == data[4])).float().mean()\n",
        "        train_loss += output.loss\n",
        "        \n",
        "        if fp16_training:\n",
        "            accelerator.backward(output.loss)\n",
        "        else:\n",
        "            output.loss.backward()\n",
        "        \n",
        "        optimizer.step()\n",
        "        optimizer.zero_grad()\n",
        "        step += 1\n",
        "\n",
        "        ##### TODO: Apply linear learning rate decay #####\n",
        "        scheduler.step()\n",
        "\n",
        "        # Print training loss and accuracy over past logging step\n",
        "        if step % logging_step == 0:\n",
        "            print(f\"Epoch {epoch + 1} | Step {step} | loss = {train_loss.item() / logging_step:.3f}, acc = {train_acc / logging_step:.3f}\")\n",
        "            train_loss = train_acc = 0\n",
        "\n",
        "    if validation:\n",
        "        print(\"Evaluating Dev Set ...\")\n",
        "        model.eval()\n",
        "        with torch.no_grad():\n",
        "            dev_acc = 0\n",
        "            for i, data in enumerate(tqdm(dev_loader)):\n",
        "                output = model(input_ids=data[0].squeeze(dim=0).to(device), token_type_ids=data[1].squeeze(dim=0).to(device),\n",
        "                       attention_mask=data[2].squeeze(dim=0).to(device))\n",
        "                # prediction is correct only if answer text exactly matches\n",
        "                dev_acc += evaluate(data, output) == dev_questions[i][\"answer_text\"]\n",
        "            print(f\"Validation | Epoch {epoch + 1} | acc = {dev_acc / len(dev_loader):.3f}\")\n",
        "        model.train()\n",
        "\n",
        "# Save a model and its configuration file to the directory 「saved_model」 \n",
        "# i.e. there are two files under the direcory 「saved_model」: 「pytorch_model.bin」 and 「config.json」\n",
        "# Saved model can be re-loaded using 「model = BertForQuestionAnswering.from_pretrained(\"saved_model\")」\n",
        "print(\"Saving Model ...\")\n",
        "model_save_dir = \"saved_model\" \n",
        "model.save_pretrained(model_save_dir)"
      ],
      "execution_count": 14,
      "outputs": [
        {
          "output_type": "stream",
          "text": [
            "Start Training ...\n"
          ],
          "name": "stdout"
        },
        {
          "output_type": "display_data",
          "data": {
            "application/vnd.jupyter.widget-view+json": {
              "model_id": "dd0cbbfe29854c9ea25c0216f551b929",
              "version_minor": 0,
              "version_major": 2
            },
            "text/plain": [
              "HBox(children=(FloatProgress(value=0.0, max=2694.0), HTML(value='')))"
            ]
          },
          "metadata": {
            "tags": []
          }
        },
        {
          "output_type": "stream",
          "text": [
            "Epoch 1 | Step 100 | loss = 0.727, acc = 0.683\n",
            "Epoch 1 | Step 200 | loss = 0.681, acc = 0.720\n",
            "Epoch 1 | Step 300 | loss = 0.609, acc = 0.729\n",
            "Epoch 1 | Step 400 | loss = 0.592, acc = 0.737\n",
            "Epoch 1 | Step 500 | loss = 0.585, acc = 0.747\n",
            "Epoch 1 | Step 600 | loss = 0.565, acc = 0.762\n",
            "Epoch 1 | Step 700 | loss = 0.573, acc = 0.768\n",
            "Epoch 1 | Step 800 | loss = 0.566, acc = 0.769\n",
            "Epoch 1 | Step 900 | loss = 0.622, acc = 0.758\n",
            "Epoch 1 | Step 1000 | loss = 0.548, acc = 0.760\n",
            "Epoch 1 | Step 1100 | loss = 0.587, acc = 0.767\n",
            "Epoch 1 | Step 1200 | loss = 0.589, acc = 0.753\n",
            "Epoch 1 | Step 1300 | loss = 0.468, acc = 0.790\n",
            "Epoch 1 | Step 1400 | loss = 0.513, acc = 0.787\n",
            "Epoch 1 | Step 1500 | loss = 0.510, acc = 0.774\n",
            "Epoch 1 | Step 1600 | loss = 0.549, acc = 0.768\n",
            "Epoch 1 | Step 1700 | loss = 0.456, acc = 0.815\n",
            "Epoch 1 | Step 1800 | loss = 0.477, acc = 0.808\n",
            "Epoch 1 | Step 1900 | loss = 0.479, acc = 0.810\n",
            "Epoch 1 | Step 2000 | loss = 0.511, acc = 0.808\n",
            "Epoch 1 | Step 2100 | loss = 0.458, acc = 0.818\n",
            "Epoch 1 | Step 2200 | loss = 0.462, acc = 0.810\n",
            "Epoch 1 | Step 2300 | loss = 0.506, acc = 0.786\n",
            "Epoch 1 | Step 2400 | loss = 0.410, acc = 0.815\n",
            "Epoch 1 | Step 2500 | loss = 0.436, acc = 0.810\n",
            "Epoch 1 | Step 2600 | loss = 0.465, acc = 0.786\n",
            "\n",
            "Evaluating Dev Set ...\n"
          ],
          "name": "stdout"
        },
        {
          "output_type": "display_data",
          "data": {
            "application/vnd.jupyter.widget-view+json": {
              "model_id": "e26393e6e4c249eeb0f8a610bed35719",
              "version_minor": 0,
              "version_major": 2
            },
            "text/plain": [
              "HBox(children=(FloatProgress(value=0.0, max=3524.0), HTML(value='')))"
            ]
          },
          "metadata": {
            "tags": []
          }
        },
        {
          "output_type": "stream",
          "text": [
            "\n",
            "Validation | Epoch 1 | acc = 0.789\n",
            "Saving Model ...\n"
          ],
          "name": "stdout"
        }
      ]
    },
    {
      "cell_type": "markdown",
      "metadata": {
        "id": "kMmdLOKBMsdE"
      },
      "source": [
        "## Testing"
      ]
    },
    {
      "cell_type": "code",
      "metadata": {
        "id": "ukUJvpqJAtHe"
      },
      "source": [
        "# Postprocessing\n",
        "\n",
        "def postprocessing(result, index):\n",
        "    if result:\n",
        "        while result.find('[UNK]') != -1:\n",
        "            print(f'ID {index} Before : {result}')\n",
        "            if result[:result.find('[UNK]')] == '' and result[result.find('[UNK]') + len('[UNK]') + 1:] == '':\n",
        "                start = test_paragraphs[test_questions[index]['paragraph_id']].find(result[:result.find('[UNK]')]) + len(result[: result.find('[UNK]')])\n",
        "                end = test_paragraphs[test_questions[index]['paragraph_id']].find(result[result.find('[UNK]') + len('[UNK]') + 1:])\n",
        "                target = test_paragraphs[test_questions[index]['paragraph_id']][start: end - 1]\n",
        "            else:\n",
        "                start = test_paragraphs[test_questions[index]['paragraph_id']].find(result[result.find('[UNK]') - 1])\n",
        "                target = test_paragraphs[test_questions[index]['paragraph_id']][start + 1]\n",
        "                result = result.replace('[UNK]', target)\n",
        "\n",
        "            print(f'Target: {target}')\n",
        "            result = result.replace('[UNK]', target)\n",
        "            print(f'ID {index} After  : {result}') \n",
        "        if result[0] == '，' or result[0] == '。':\n",
        "            print(f'ID {index} Before : {result}')\n",
        "            result = result[1:]\n",
        "            print(f'ID {index} After  : {result}')\n",
        "\n",
        "        if result[0] == '《' and result[-1] != '》' and result.find('》') == -1:\n",
        "            print(f'ID {index} Before : {result}')\n",
        "            result = result + '》'\n",
        "            print(f'ID {index} After  : {result}')\n",
        "        \n",
        "        if result[0] != '《' and result[-1] == '》' and result.find('《') == -1:\n",
        "            print(f'ID {index} Before : {result}')\n",
        "            result = '《' + result  \n",
        "            print(f'ID {index} After  : {result}')\n",
        "        \n",
        "    return result"
      ],
      "execution_count": 15,
      "outputs": []
    },
    {
      "cell_type": "code",
      "metadata": {
        "id": "NKHn4os3qlcK",
        "colab": {
          "base_uri": "https://localhost:8080/"
        },
        "outputId": "2a860090-f20d-4ab1-f1f8-25f6eca3f132"
      },
      "source": [
        "# For test\n",
        "\n",
        "data = '部份香港政府機關在九龍灣設置總部，包括機電工程署總部大樓、香港輔助警察隊總部，郵政署亦於2013年在該處設立中央郵件中心。附近亦有九龍灣運動場、公園、體育館等公共設施。九龍灣國際展貿中心是香港主要的國際商品展覽會場之一，附設的辦公室亦可作不同產品陳列室之用。現時國際展貿中心仍繼續舉辦不同的國際展覽，亦會不時舉辦演唱會。2007年，自大型購物中心MegaBox開幕後，改變了九龍灣作為工廠、物流倉庫的印象。MegaBox商場高18層，佔地達110萬平方呎，是觀塘區最大型的購物商場，當中的大型商戶有宜家傢俬、AEON、IMAX影院等。區內的寫字樓自2006年起不斷增建，包括企業廣場三期、國際交易中心、Manhattan Place、傲騰廣場及億京中心等，成為東九龍新商業中心。2012年，香港首座零碳建築零碳天地落成，為香港政府宣布《起動九龍東》計劃後，成為九龍東首批標誌性項目之一。九龍灣也有一些住宅區，有兩大私人屋苑，分別是九龍灣站上蓋的德福花園及麗晶花園。'\n",
        "text = '大型購物中心[UNK]'\n",
        "\n",
        "start_index = data.find(text[: text.find('[UNK]')]) + len(text[: text.find('[UNK]')])\n",
        "end_index = data.find(text[text.find('[UNK]') + len('[UNK]') + 1:])\n",
        "\n",
        "if text[text.find('[UNK]') + len('[UNK]') + 1:]:\n",
        "    print('ok')\n",
        "\n",
        "print(text[: text.find('[UNK]')])\n",
        "print(text[text.find('[UNK]') + len('[UNK]') + 1:])\n",
        "\n",
        "target = data[start_index: end_index - 1]\n",
        "print(target)\n",
        "text = text.replace('[UNK]', target)\n",
        "print(text)"
      ],
      "execution_count": 16,
      "outputs": [
        {
          "output_type": "stream",
          "text": [
            "大型購物中心\n",
            "\n",
            "MegaBox開幕後，改變了九龍灣作為工廠、物流倉庫的印象。MegaBox商場高18層，佔地達110萬平方呎，是觀塘區最大型的購物商場，當中的大型商戶有宜家傢俬、AEON、IMAX影院等。區內的寫字樓自2006年起不斷增建，包括企業廣場三期、國際交易中心、Manhattan Place、傲騰廣場及億京中心等，成為東九龍新商業中心。2012年，香港首座零碳建築零碳天地落成，為香港政府宣布《起動九龍東》計劃後，成為九龍東首批標誌性項目之一。九龍灣也有一些住宅區，有兩大私人屋苑，分別是九龍灣站上蓋的德福花園及麗晶花園\n",
            "大型購物中心MegaBox開幕後，改變了九龍灣作為工廠、物流倉庫的印象。MegaBox商場高18層，佔地達110萬平方呎，是觀塘區最大型的購物商場，當中的大型商戶有宜家傢俬、AEON、IMAX影院等。區內的寫字樓自2006年起不斷增建，包括企業廣場三期、國際交易中心、Manhattan Place、傲騰廣場及億京中心等，成為東九龍新商業中心。2012年，香港首座零碳建築零碳天地落成，為香港政府宣布《起動九龍東》計劃後，成為九龍東首批標誌性項目之一。九龍灣也有一些住宅區，有兩大私人屋苑，分別是九龍灣站上蓋的德福花園及麗晶花園\n"
          ],
          "name": "stdout"
        }
      ]
    },
    {
      "cell_type": "code",
      "metadata": {
        "id": "U5scNKC9xz0C",
        "colab": {
          "base_uri": "https://localhost:8080/",
          "height": 1000,
          "referenced_widgets": [
            "5b142d58aaa94f2eb6e10a86d056c255",
            "69c38cf7bbbc48e4a4dc2ef07e707995",
            "fbb44fe5d6f448819321db608a93ff1c",
            "6404daa6f11f44788992bf32da25358b",
            "b58807eab43a401e8f4249653a61cfcb",
            "6866e8c5e5fe49df9a1b1b7a7f41a77c",
            "21690dcf84d446e5941fdb1af5665e18",
            "bdb78705d3064287aa0e197d017031c4"
          ]
        },
        "outputId": "162926f0-a7bd-4d95-ba08-ff73638dbf36"
      },
      "source": [
        "print(\"Evaluating Test Set ...\")\n",
        "\n",
        "result = []\n",
        "\n",
        "model.eval()\n",
        "with torch.no_grad():\n",
        "    for data in tqdm(test_loader):\n",
        "        output = model(input_ids=data[0].squeeze(dim=0).to(device), token_type_ids=data[1].squeeze(dim=0).to(device),\n",
        "                       attention_mask=data[2].squeeze(dim=0).to(device))\n",
        "        result.append(evaluate(data, output))\n",
        "\n",
        "result_file = \"result.csv\"\n",
        "with open(result_file, 'w') as f:\t\n",
        "\t  f.write(\"ID,Answer\\n\")\n",
        "\t  for i, test_question in enumerate(test_questions):\n",
        "        # Replace commas in answers with empty strings (since csv is separated by comma)\n",
        "        # Answers in kaggle are processed in the same way\n",
        "                result[i] = postprocessing(result[i], i)\n",
        "                f.write(f\"{test_question['id']},{result[i].replace(',','')}\\n\")\n",
        "\n",
        "print(f\"Completed! Result is in {result_file}\")"
      ],
      "execution_count": 17,
      "outputs": [
        {
          "output_type": "stream",
          "text": [
            "Evaluating Test Set ...\n"
          ],
          "name": "stdout"
        },
        {
          "output_type": "display_data",
          "data": {
            "application/vnd.jupyter.widget-view+json": {
              "model_id": "5b142d58aaa94f2eb6e10a86d056c255",
              "version_minor": 0,
              "version_major": 2
            },
            "text/plain": [
              "HBox(children=(FloatProgress(value=0.0, max=3493.0), HTML(value='')))"
            ]
          },
          "metadata": {
            "tags": []
          }
        },
        {
          "output_type": "stream",
          "text": [
            "\n",
            "ID 49 Before : 自大型購物中心[UNK]開幕\n",
            "Target: 。\n",
            "ID 49 After  : 自大型購物中心。開幕\n",
            "ID 250 Before : 溥[UNK]\n",
            "Target: 儁\n",
            "ID 250 After  : 溥儁\n",
            "ID 332 Before : 沒有觀察到任何語言純[UNK]以力道來區分不同輔音\n",
            "Target: 綷\n",
            "ID 332 After  : 沒有觀察到任何語言純綷以力道來區分不同輔音\n",
            "ID 340 Before : [UNK]人國\n",
            "Target: 志\n",
            "ID 340 After  : 志人國\n",
            "ID 428 Before : [UNK]\n",
            "Target: 育苗是指農民先在某塊田中培育秧苗，此田往往會被稱為秧田，在撒下稻種後，農人多半會在土上灑一層稻殼灰；現代則多由專門的育苗中心使用育苗箱來使稻苗成長，好的稻苗是稻作成功的關鍵。在秧苗長高約八公分時，就可以進行插秧了。插秧是將秧苗仔細的插進稻田中，間格有序。傳統的插秧法會使用秧繩、秧標或插秧輪，來在稻田中做記號。手工插秧時，會在左手的大拇指上戴分秧器，幫助農人將秧苗分出，並插進土裡。插秧的氣候相當重要，如大雨則會將秧苗打壞。現代多有插秧機插秧，但在土地起伏大，形狀不是方型的稻田中，還是需要人工插秧。秧苗一般會呈南北走向。還有更為便利的拋秧。目前，先進的種植方法採用稀植或超稀植，密度基本固定在行距30㎝，株距20㎝左右的範圍內\n",
            "ID 428 After  : 育苗是指農民先在某塊田中培育秧苗，此田往往會被稱為秧田，在撒下稻種後，農人多半會在土上灑一層稻殼灰；現代則多由專門的育苗中心使用育苗箱來使稻苗成長，好的稻苗是稻作成功的關鍵。在秧苗長高約八公分時，就可以進行插秧了。插秧是將秧苗仔細的插進稻田中，間格有序。傳統的插秧法會使用秧繩、秧標或插秧輪，來在稻田中做記號。手工插秧時，會在左手的大拇指上戴分秧器，幫助農人將秧苗分出，並插進土裡。插秧的氣候相當重要，如大雨則會將秧苗打壞。現代多有插秧機插秧，但在土地起伏大，形狀不是方型的稻田中，還是需要人工插秧。秧苗一般會呈南北走向。還有更為便利的拋秧。目前，先進的種植方法採用稀植或超稀植，密度基本固定在行距30㎝，株距20㎝左右的範圍內\n",
            "ID 490 Before : [UNK][UNK]\n",
            "Target: 高\n",
            "ID 490 After  : 高高\n",
            "ID 563 Before : 馬[UNK]\n",
            "Target: 馼\n",
            "ID 563 After  : 馬馼\n",
            "ID 635 Before : 常[UNK]\n",
            "Target: 璩\n",
            "ID 635 After  : 常璩\n",
            "ID 938 Before : [UNK]稻\n",
            "Target: 中國科學院上海生命科學研究院韓斌為首的研究團隊，匯集出巨大資料庫，用來比對稻米基因體序列之細微變化。此資料庫涵蓋各地不同類型的普通野生稻計446種，粳稻和秈稻共1,083種。野生稻是現在食用、販賣稻米的原生種。若干理論認為秈稻與野生稻是各自獨立栽培出來的，研究人員表示，透過拼出稻米品種的譜系，就能證明這種理論是錯的。第一種秈稻應是由粳稻和野生稻雜交培育而成。這個雜交種後來傳到東南亞、南亞，農民為適應各地環境，栽培出數種品種，因而產生獨特的秈稻。秈稻有20%左右為直鏈澱粉。屬中黏性。秈稻起源於亞熱帶，種植於熱帶和亞熱帶地區，生長期短，在無霜期長的地方一年可多次成熟。去殼成為秈米後，外觀細長、透明度低\n",
            "ID 938 After  : 中國科學院上海生命科學研究院韓斌為首的研究團隊，匯集出巨大資料庫，用來比對稻米基因體序列之細微變化。此資料庫涵蓋各地不同類型的普通野生稻計446種，粳稻和秈稻共1,083種。野生稻是現在食用、販賣稻米的原生種。若干理論認為秈稻與野生稻是各自獨立栽培出來的，研究人員表示，透過拼出稻米品種的譜系，就能證明這種理論是錯的。第一種秈稻應是由粳稻和野生稻雜交培育而成。這個雜交種後來傳到東南亞、南亞，農民為適應各地環境，栽培出數種品種，因而產生獨特的秈稻。秈稻有20%左右為直鏈澱粉。屬中黏性。秈稻起源於亞熱帶，種植於熱帶和亞熱帶地區，生長期短，在無霜期長的地方一年可多次成熟。去殼成為秈米後，外觀細長、透明度低稻\n",
            "ID 991 Before : 白[UNK]紀滅絕事件\n",
            "Target: 堊\n",
            "ID 991 After  : 白堊紀滅絕事件\n",
            "ID 1284 Before : 《這一夜，[UNK]說相聲》\n",
            "Target: 中\n",
            "ID 1284 After  : 《這一夜，中說相聲》\n",
            "ID 1423 Before : 抗佝[UNK]病\n",
            "Target: 僂\n",
            "ID 1423 After  : 抗佝僂病\n",
            "ID 1494 Before : [UNK]以下的聲音對基底膜的影響\n",
            "Target: 。\n",
            "ID 1494 After  : 。以下的聲音對基底膜的影響\n",
            "ID 1494 Before : 。以下的聲音對基底膜的影響\n",
            "ID 1494 After  : 以下的聲音對基底膜的影響\n",
            "ID 1502 Before : [UNK]戰鬥機\n",
            "Target: ，\n",
            "ID 1502 After  : ，戰鬥機\n",
            "ID 1502 Before : ，戰鬥機\n",
            "ID 1502 After  : 戰鬥機\n",
            "ID 1534 Before : 杭州[UNK]橋機場\n",
            "Target: 筧\n",
            "ID 1534 After  : 杭州筧橋機場\n",
            "ID 1557 Before : 蔡[UNK]\n",
            "Target: 鍔\n",
            "ID 1557 After  : 蔡鍔\n",
            "ID 1666 Before : [UNK]\n",
            "Target: 生理性別又稱生殖性別或生物性別、生物中有許多物種可以劃分成雄性及雌性，這稱之為性別，不過也有些會是間性。有性生殖是指雄性和雌性生物將其基因特質混合重組，繁衍後代的過程。配子是一種特殊的細胞，其中有生物的部份基因，雄性和雌性的配子結合後會產生後代。有些生物兩性的配子在外形及功能上都相同同形配子接合，但大部份的生物的兩性配子會有明顯不同的外形。對於人類和其他的哺乳類動物，雄性會有XY染色體，而雌性會有XX染色體，這屬於XY性別決定系統，其他動物也有其性別決定系統，例如鳥類的 ZW性別決定系統及昆蟲的X0性別決定系統。生物體產生的配子由其性別決定，雄性產生雄配子，雌性產生雌配子，若一生物可以產生雄配子，也可以產生雌配子，稱為雌雄同體。常常同一種生物的外形會因為其性別而有明顯的不同，這稱為兩性異形，而性選擇及生物擇偶也會加速兩性外形上的差異化。生殖是生命的基本特質之一，也就是產生新個體的能力，性就是和生殖有關的一個概念。生命從簡單的型式演化成複雜的型式，因此生殖機制也變的複雜。一開始的生殖只是一個複製的過程，產生一個新個體，其基因完全和原來個體相同，這種生殖稱為無性生殖，許多單細胞生物仍用此方式繁衍後代，這也是一些多細胞生物繁殖的方式之一。另一種生殖方式稱為有性生殖，其後代的基因是來自二個不同的個體，不過也有些生物的生殖方式介於兩者之間，例如細菌是有無性生殖，但某個細菌的基因可以轉移到另一個細菌體\n",
            "ID 1666 After  : 生理性別又稱生殖性別或生物性別、生物中有許多物種可以劃分成雄性及雌性，這稱之為性別，不過也有些會是間性。有性生殖是指雄性和雌性生物將其基因特質混合重組，繁衍後代的過程。配子是一種特殊的細胞，其中有生物的部份基因，雄性和雌性的配子結合後會產生後代。有些生物兩性的配子在外形及功能上都相同同形配子接合，但大部份的生物的兩性配子會有明顯不同的外形。對於人類和其他的哺乳類動物，雄性會有XY染色體，而雌性會有XX染色體，這屬於XY性別決定系統，其他動物也有其性別決定系統，例如鳥類的 ZW性別決定系統及昆蟲的X0性別決定系統。生物體產生的配子由其性別決定，雄性產生雄配子，雌性產生雌配子，若一生物可以產生雄配子，也可以產生雌配子，稱為雌雄同體。常常同一種生物的外形會因為其性別而有明顯的不同，這稱為兩性異形，而性選擇及生物擇偶也會加速兩性外形上的差異化。生殖是生命的基本特質之一，也就是產生新個體的能力，性就是和生殖有關的一個概念。生命從簡單的型式演化成複雜的型式，因此生殖機制也變的複雜。一開始的生殖只是一個複製的過程，產生一個新個體，其基因完全和原來個體相同，這種生殖稱為無性生殖，許多單細胞生物仍用此方式繁衍後代，這也是一些多細胞生物繁殖的方式之一。另一種生殖方式稱為有性生殖，其後代的基因是來自二個不同的個體，不過也有些生物的生殖方式介於兩者之間，例如細菌是有無性生殖，但某個細菌的基因可以轉移到另一個細菌體\n",
            "ID 1680 Before : 丁[UNK]\n",
            "Target: 旿\n",
            "ID 1680 After  : 丁旿\n",
            "ID 1750 Before : 隋[UNK]帝\n",
            "Target: 朝\n",
            "ID 1750 After  : 隋朝帝\n",
            "ID 1812 Before : [UNK]\n",
            "Target: 白色是一種包含光譜中所有顏色光的顏色，通常被認為是無色的，其明度最高，色相為零。可以將光譜中三原色的光：紅色、藍色和綠色按一定比例混合得到白光。光譜中所有可見光的混合也是白光。在繪畫中，可以用白色顏料描繪白色，白色顏料和黑色顏料混合可以得到灰色，和其他顏料混合可以讓其他顏色的色相減弱，明度提高。在中國畫和水彩畫創作中，經常利用紙的白色，在畫面上留出空白。以前許多科學家認為，白光是最基本的光，其他顏色的光是在白光上添加了某些元素。但英國科學家艾薩克·牛頓的研究，揭露了白光是由光譜中各種顏色的光組成的。現在光學中，稱黑體在加熱到不同溫度釋放出的輻射光都叫做白光，最低發光溫度為2848K，相當於白熾燈泡的溫度；劇場中白光等溫度達到3200K；白天天光的溫度相當於5400K，但是由多種顏色的光組成的，從最低溫度的紅光到將近25000K的紫光都包括在內。但並不是所有黑體輻射都是白光，宇宙背景輻射也是黑體輻射，只有3K。國際照明協會所規定的標準白光是6500K時的黑體輻射，相當於白天的天光\n",
            "ID 1812 After  : 白色是一種包含光譜中所有顏色光的顏色，通常被認為是無色的，其明度最高，色相為零。可以將光譜中三原色的光：紅色、藍色和綠色按一定比例混合得到白光。光譜中所有可見光的混合也是白光。在繪畫中，可以用白色顏料描繪白色，白色顏料和黑色顏料混合可以得到灰色，和其他顏料混合可以讓其他顏色的色相減弱，明度提高。在中國畫和水彩畫創作中，經常利用紙的白色，在畫面上留出空白。以前許多科學家認為，白光是最基本的光，其他顏色的光是在白光上添加了某些元素。但英國科學家艾薩克·牛頓的研究，揭露了白光是由光譜中各種顏色的光組成的。現在光學中，稱黑體在加熱到不同溫度釋放出的輻射光都叫做白光，最低發光溫度為2848K，相當於白熾燈泡的溫度；劇場中白光等溫度達到3200K；白天天光的溫度相當於5400K，但是由多種顏色的光組成的，從最低溫度的紅光到將近25000K的紫光都包括在內。但並不是所有黑體輻射都是白光，宇宙背景輻射也是黑體輻射，只有3K。國際照明協會所規定的標準白光是6500K時的黑體輻射，相當於白天的天光\n",
            "ID 1913 Before : 胡季[UNK]\n",
            "Target: 犛\n",
            "ID 1913 After  : 胡季犛\n",
            "ID 2042 Before : 其英文縮寫首字母為「[UNK]·ㄎㄟ·ㄨㄞ」\n",
            "Target: ㄟ\n",
            "ID 2042 After  : 其英文縮寫首字母為「ㄟ·ㄎㄟ·ㄨㄞ」\n",
            "ID 2069 Before : [UNK]國際\n",
            "Target: 2\n",
            "ID 2069 After  : 2國際\n",
            "ID 2128 Before : [UNK]-16\n",
            "Target: ，\n",
            "ID 2128 After  : ，-16\n",
            "ID 2128 Before : ，-16\n",
            "ID 2128 After  : -16\n",
            "ID 2242 Before : [UNK]-51戰鬥機\n",
            "Target: 對\n",
            "ID 2242 After  : 對-51戰鬥機\n",
            "ID 2275 Before : [UNK]\n",
            "Target: 生理性別又稱生殖性別或生物性別、生物中有許多物種可以劃分成雄性及雌性，這稱之為性別，不過也有些會是間性。有性生殖是指雄性和雌性生物將其基因特質混合重組，繁衍後代的過程。配子是一種特殊的細胞，其中有生物的部份基因，雄性和雌性的配子結合後會產生後代。有些生物兩性的配子在外形及功能上都相同同形配子接合，但大部份的生物的兩性配子會有明顯不同的外形。對於人類和其他的哺乳類動物，雄性會有XY染色體，而雌性會有XX染色體，這屬於XY性別決定系統，其他動物也有其性別決定系統，例如鳥類的 ZW性別決定系統及昆蟲的X0性別決定系統。生物體產生的配子由其性別決定，雄性產生雄配子，雌性產生雌配子，若一生物可以產生雄配子，也可以產生雌配子，稱為雌雄同體。常常同一種生物的外形會因為其性別而有明顯的不同，這稱為兩性異形，而性選擇及生物擇偶也會加速兩性外形上的差異化。生殖是生命的基本特質之一，也就是產生新個體的能力，性就是和生殖有關的一個概念。生命從簡單的型式演化成複雜的型式，因此生殖機制也變的複雜。一開始的生殖只是一個複製的過程，產生一個新個體，其基因完全和原來個體相同，這種生殖稱為無性生殖，許多單細胞生物仍用此方式繁衍後代，這也是一些多細胞生物繁殖的方式之一。另一種生殖方式稱為有性生殖，其後代的基因是來自二個不同的個體，不過也有些生物的生殖方式介於兩者之間，例如細菌是有無性生殖，但某個細菌的基因可以轉移到另一個細菌體\n",
            "ID 2275 After  : 生理性別又稱生殖性別或生物性別、生物中有許多物種可以劃分成雄性及雌性，這稱之為性別，不過也有些會是間性。有性生殖是指雄性和雌性生物將其基因特質混合重組，繁衍後代的過程。配子是一種特殊的細胞，其中有生物的部份基因，雄性和雌性的配子結合後會產生後代。有些生物兩性的配子在外形及功能上都相同同形配子接合，但大部份的生物的兩性配子會有明顯不同的外形。對於人類和其他的哺乳類動物，雄性會有XY染色體，而雌性會有XX染色體，這屬於XY性別決定系統，其他動物也有其性別決定系統，例如鳥類的 ZW性別決定系統及昆蟲的X0性別決定系統。生物體產生的配子由其性別決定，雄性產生雄配子，雌性產生雌配子，若一生物可以產生雄配子，也可以產生雌配子，稱為雌雄同體。常常同一種生物的外形會因為其性別而有明顯的不同，這稱為兩性異形，而性選擇及生物擇偶也會加速兩性外形上的差異化。生殖是生命的基本特質之一，也就是產生新個體的能力，性就是和生殖有關的一個概念。生命從簡單的型式演化成複雜的型式，因此生殖機制也變的複雜。一開始的生殖只是一個複製的過程，產生一個新個體，其基因完全和原來個體相同，這種生殖稱為無性生殖，許多單細胞生物仍用此方式繁衍後代，這也是一些多細胞生物繁殖的方式之一。另一種生殖方式稱為有性生殖，其後代的基因是來自二個不同的個體，不過也有些生物的生殖方式介於兩者之間，例如細菌是有無性生殖，但某個細菌的基因可以轉移到另一個細菌體\n",
            "ID 2306 Before : 周[UNK]人\n",
            "Target: 劼\n",
            "ID 2306 After  : 周劼人\n",
            "ID 2349 Before : 韓國憲法》\n",
            "ID 2349 After  : 《韓國憲法》\n",
            "ID 2351 Before : 精靈寶鑽》\n",
            "ID 2351 After  : 《精靈寶鑽》\n",
            "ID 2393 Before : [UNK]連線酶\n",
            "Target: ，\n",
            "ID 2393 After  : ，連線酶\n",
            "ID 2393 Before : ，連線酶\n",
            "ID 2393 After  : 連線酶\n",
            "ID 2398 Before : 梁[UNK]\n",
            "Target: 鵠\n",
            "ID 2398 After  : 梁鵠\n",
            "ID 2434 Before : [UNK]\n",
            "Target: 因為地表附近，高度愈高，風速愈大。而風能是與風速的三次方成所正比，所以風機高度愈高，發電量愈多，因此現今有許多風機的高度都超過100 m。因為自然界中的風速並不穩定，所以無法像使用燃料的火力發電廠一樣，可以依照用電需求來調整發電量。因此風力發電整年發電量的計算方法與其他能源不同。安裝良好的風力發電機實際的發電量可達35%，跟一般使用燃料的發電廠的渦輪機相比，每年可發電量最多可到350kW。雖然風能輸出的功率是難以預測的，但每年發電量的變化應在幾個百分比之內。因風能不能持續產生，常以抽水蓄能電站或其他方法來儲存風能以保持電力能持續供應，這大約增加25%費用。風力發電廠是在同一地點的一群風力發動機用來產生電力。一個大型風力發電廠可能包括幾百個獨立的風力渦輪機，並覆蓋數百平方英里的擴展區域，但在渦輪機之間的土地仍然可用於農業或其他用途，但是許多機種都有噪音過大的問題、因此必須遠離住家。風力發電廠既可以位於在陸地上，也可以位於在海洋上\n",
            "ID 2434 After  : 因為地表附近，高度愈高，風速愈大。而風能是與風速的三次方成所正比，所以風機高度愈高，發電量愈多，因此現今有許多風機的高度都超過100 m。因為自然界中的風速並不穩定，所以無法像使用燃料的火力發電廠一樣，可以依照用電需求來調整發電量。因此風力發電整年發電量的計算方法與其他能源不同。安裝良好的風力發電機實際的發電量可達35%，跟一般使用燃料的發電廠的渦輪機相比，每年可發電量最多可到350kW。雖然風能輸出的功率是難以預測的，但每年發電量的變化應在幾個百分比之內。因風能不能持續產生，常以抽水蓄能電站或其他方法來儲存風能以保持電力能持續供應，這大約增加25%費用。風力發電廠是在同一地點的一群風力發動機用來產生電力。一個大型風力發電廠可能包括幾百個獨立的風力渦輪機，並覆蓋數百平方英里的擴展區域，但在渦輪機之間的土地仍然可用於農業或其他用途，但是許多機種都有噪音過大的問題、因此必須遠離住家。風力發電廠既可以位於在陸地上，也可以位於在海洋上\n",
            "ID 2512 Before : [UNK]靼海峽\n",
            "Target: 。\n",
            "ID 2512 After  : 。靼海峽\n",
            "ID 2512 Before : 。靼海峽\n",
            "ID 2512 After  : 靼海峽\n",
            "ID 2619 Before : 白[UNK]紀末滅絕事件\n",
            "Target: 堊\n",
            "ID 2619 After  : 白堊紀末滅絕事件\n",
            "ID 2753 Before : [UNK]集團\n",
            "Target: 各\n",
            "ID 2753 After  : 各集團\n",
            "ID 2767 Before : 侏[UNK]紀\n",
            "Target: 儸\n",
            "ID 2767 After  : 侏儸紀\n",
            "ID 3026 Before : 克里米亞[UNK]靼人\n",
            "Target: 韃\n",
            "ID 3026 After  : 克里米亞韃靼人\n",
            "ID 3137 Before : [UNK]糯\n",
            "Target: 有的秈稻品種表皮發紅，如中國江西出產的紅米，煮熟後米飯較乾、鬆。通常用於蘿蔔糕、米粉、炒飯。廣東人愛吃的絲苗米是秈稻的一種。為南亞、東南亞、中國南部地區主要食用米。粳稻的直鏈澱粉較少，低於15%。種植於溫帶和寒帶地區，生長期長，一般一年只能成熟一次，台灣一般被認為是北半球稉稻生長最南區。去殼成為粳米後，外觀圓短、透明。煮食特性介於糯米與秈米之間。為台灣及日本、中國北部、朝鮮半島主要食用米。糯稻的支鏈澱粉含量接近100%，黏性最高。又分粳糯及秈糯，粳糯外觀圓短，秈糯外觀細長，顏色均為白色不透明。煮熟後米飯較軟、黏。粳糯常見用途為用於釀酒、米糕、紅龜粿、甜粿、湯圓等。秈糯則作為八寶粥、粽子、油飯等原料\n",
            "ID 3137 After  : 有的秈稻品種表皮發紅，如中國江西出產的紅米，煮熟後米飯較乾、鬆。通常用於蘿蔔糕、米粉、炒飯。廣東人愛吃的絲苗米是秈稻的一種。為南亞、東南亞、中國南部地區主要食用米。粳稻的直鏈澱粉較少，低於15%。種植於溫帶和寒帶地區，生長期長，一般一年只能成熟一次，台灣一般被認為是北半球稉稻生長最南區。去殼成為粳米後，外觀圓短、透明。煮食特性介於糯米與秈米之間。為台灣及日本、中國北部、朝鮮半島主要食用米。糯稻的支鏈澱粉含量接近100%，黏性最高。又分粳糯及秈糯，粳糯外觀圓短，秈糯外觀細長，顏色均為白色不透明。煮熟後米飯較軟、黏。粳糯常見用途為用於釀酒、米糕、紅龜粿、甜粿、湯圓等。秈糯則作為八寶粥、粽子、油飯等原料糯\n",
            "ID 3169 Before : [UNK].[UNK].[UNK][UNK]\n",
            "Target: 南\n",
            "ID 3169 After  : 南.南.南南\n",
            "ID 3202 Before : 《周禮\n",
            "ID 3202 After  : 《周禮》\n",
            "ID 3369 Before : 白[UNK]紀中期\n",
            "Target: 堊\n",
            "ID 3369 After  : 白堊紀中期\n",
            "ID 3430 Before : 美國[UNK]電視台\n",
            "Target: 暢\n",
            "ID 3430 After  : 美國暢電視台\n",
            "Completed! Result is in result.csv\n"
          ],
          "name": "stdout"
        }
      ]
    },
    {
      "cell_type": "code",
      "metadata": {
        "id": "sR4NKfwTfcM1",
        "colab": {
          "base_uri": "https://localhost:8080/",
          "height": 17
        },
        "outputId": "0552dcec-9797-46ec-82dc-28cd182789d8"
      },
      "source": [
        "from google.colab import files\n",
        "files.download(\"result.csv\")"
      ],
      "execution_count": 18,
      "outputs": [
        {
          "output_type": "display_data",
          "data": {
            "application/javascript": [
              "\n",
              "    async function download(id, filename, size) {\n",
              "      if (!google.colab.kernel.accessAllowed) {\n",
              "        return;\n",
              "      }\n",
              "      const div = document.createElement('div');\n",
              "      const label = document.createElement('label');\n",
              "      label.textContent = `Downloading \"${filename}\": `;\n",
              "      div.appendChild(label);\n",
              "      const progress = document.createElement('progress');\n",
              "      progress.max = size;\n",
              "      div.appendChild(progress);\n",
              "      document.body.appendChild(div);\n",
              "\n",
              "      const buffers = [];\n",
              "      let downloaded = 0;\n",
              "\n",
              "      const channel = await google.colab.kernel.comms.open(id);\n",
              "      // Send a message to notify the kernel that we're ready.\n",
              "      channel.send({})\n",
              "\n",
              "      for await (const message of channel.messages) {\n",
              "        // Send a message to notify the kernel that we're ready.\n",
              "        channel.send({})\n",
              "        if (message.buffers) {\n",
              "          for (const buffer of message.buffers) {\n",
              "            buffers.push(buffer);\n",
              "            downloaded += buffer.byteLength;\n",
              "            progress.value = downloaded;\n",
              "          }\n",
              "        }\n",
              "      }\n",
              "      const blob = new Blob(buffers, {type: 'application/binary'});\n",
              "      const a = document.createElement('a');\n",
              "      a.href = window.URL.createObjectURL(blob);\n",
              "      a.download = filename;\n",
              "      div.appendChild(a);\n",
              "      a.click();\n",
              "      div.remove();\n",
              "    }\n",
              "  "
            ],
            "text/plain": [
              "<IPython.core.display.Javascript object>"
            ]
          },
          "metadata": {
            "tags": []
          }
        },
        {
          "output_type": "display_data",
          "data": {
            "application/javascript": [
              "download(\"download_4477768a-8c5f-42fc-b128-bf3291a67a2a\", \"result.csv\", 78421)"
            ],
            "text/plain": [
              "<IPython.core.display.Javascript object>"
            ]
          },
          "metadata": {
            "tags": []
          }
        }
      ]
    },
    {
      "cell_type": "markdown",
      "metadata": {
        "id": "CMroJcDGQ9ci"
      },
      "source": [
        "## **Reference**\n",
        "Source: Heng-Jui Chang @ NTUEE (https://github.com/ga642381/ML2021-Spring/blob/main/HW07/HW07.ipynb)"
      ]
    }
  ]
}