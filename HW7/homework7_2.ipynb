{
  "nbformat": 4,
  "nbformat_minor": 0,
  "metadata": {
    "colab": {
      "name": "hw7_bert",
      "provenance": [],
      "collapsed_sections": [],
      "toc_visible": true,
      "include_colab_link": true
    },
    "kernelspec": {
      "display_name": "Python 3",
      "name": "python3"
    },
    "widgets": {
      "application/vnd.jupyter.widget-state+json": {
        "1c9b9b01b606458dae7ee0040a1fa79a": {
          "model_module": "@jupyter-widgets/controls",
          "model_name": "HBoxModel",
          "state": {
            "_view_name": "HBoxView",
            "_dom_classes": [],
            "_model_name": "HBoxModel",
            "_view_module": "@jupyter-widgets/controls",
            "_model_module_version": "1.5.0",
            "_view_count": null,
            "_view_module_version": "1.5.0",
            "box_style": "",
            "layout": "IPY_MODEL_1d00e364911b425f8168eaef046fb2df",
            "_model_module": "@jupyter-widgets/controls",
            "children": [
              "IPY_MODEL_15965d6bb2d8486b837aae8324fa795a",
              "IPY_MODEL_53cb6505c1fa4cee85cd5d72a6f50d29"
            ]
          }
        },
        "1d00e364911b425f8168eaef046fb2df": {
          "model_module": "@jupyter-widgets/base",
          "model_name": "LayoutModel",
          "state": {
            "_view_name": "LayoutView",
            "grid_template_rows": null,
            "right": null,
            "justify_content": null,
            "_view_module": "@jupyter-widgets/base",
            "overflow": null,
            "_model_module_version": "1.2.0",
            "_view_count": null,
            "flex_flow": null,
            "width": null,
            "min_width": null,
            "border": null,
            "align_items": null,
            "bottom": null,
            "_model_module": "@jupyter-widgets/base",
            "top": null,
            "grid_column": null,
            "overflow_y": null,
            "overflow_x": null,
            "grid_auto_flow": null,
            "grid_area": null,
            "grid_template_columns": null,
            "flex": null,
            "_model_name": "LayoutModel",
            "justify_items": null,
            "grid_row": null,
            "max_height": null,
            "align_content": null,
            "visibility": null,
            "align_self": null,
            "height": null,
            "min_height": null,
            "padding": null,
            "grid_auto_rows": null,
            "grid_gap": null,
            "max_width": null,
            "order": null,
            "_view_module_version": "1.2.0",
            "grid_template_areas": null,
            "object_position": null,
            "object_fit": null,
            "grid_auto_columns": null,
            "margin": null,
            "display": null,
            "left": null
          }
        },
        "15965d6bb2d8486b837aae8324fa795a": {
          "model_module": "@jupyter-widgets/controls",
          "model_name": "FloatProgressModel",
          "state": {
            "_view_name": "ProgressView",
            "style": "IPY_MODEL_8e706e15e09e402a9e093507b7cdba32",
            "_dom_classes": [],
            "description": "100%",
            "_model_name": "FloatProgressModel",
            "bar_style": "success",
            "max": 1684,
            "_view_module": "@jupyter-widgets/controls",
            "_model_module_version": "1.5.0",
            "value": 1684,
            "_view_count": null,
            "_view_module_version": "1.5.0",
            "orientation": "horizontal",
            "min": 0,
            "description_tooltip": null,
            "_model_module": "@jupyter-widgets/controls",
            "layout": "IPY_MODEL_558a4a67ab3944689e53cec4baf17df6"
          }
        },
        "53cb6505c1fa4cee85cd5d72a6f50d29": {
          "model_module": "@jupyter-widgets/controls",
          "model_name": "HTMLModel",
          "state": {
            "_view_name": "HTMLView",
            "style": "IPY_MODEL_da7b80e71a494862b18d44588b25ca36",
            "_dom_classes": [],
            "description": "",
            "_model_name": "HTMLModel",
            "placeholder": "​",
            "_view_module": "@jupyter-widgets/controls",
            "_model_module_version": "1.5.0",
            "value": " 1684/1684 [3:41:45&lt;00:00,  7.90s/it]",
            "_view_count": null,
            "_view_module_version": "1.5.0",
            "description_tooltip": null,
            "_model_module": "@jupyter-widgets/controls",
            "layout": "IPY_MODEL_9296136545cc46ae8da2106fbeb3e503"
          }
        },
        "8e706e15e09e402a9e093507b7cdba32": {
          "model_module": "@jupyter-widgets/controls",
          "model_name": "ProgressStyleModel",
          "state": {
            "_view_name": "StyleView",
            "_model_name": "ProgressStyleModel",
            "description_width": "initial",
            "_view_module": "@jupyter-widgets/base",
            "_model_module_version": "1.5.0",
            "_view_count": null,
            "_view_module_version": "1.2.0",
            "bar_color": null,
            "_model_module": "@jupyter-widgets/controls"
          }
        },
        "558a4a67ab3944689e53cec4baf17df6": {
          "model_module": "@jupyter-widgets/base",
          "model_name": "LayoutModel",
          "state": {
            "_view_name": "LayoutView",
            "grid_template_rows": null,
            "right": null,
            "justify_content": null,
            "_view_module": "@jupyter-widgets/base",
            "overflow": null,
            "_model_module_version": "1.2.0",
            "_view_count": null,
            "flex_flow": null,
            "width": null,
            "min_width": null,
            "border": null,
            "align_items": null,
            "bottom": null,
            "_model_module": "@jupyter-widgets/base",
            "top": null,
            "grid_column": null,
            "overflow_y": null,
            "overflow_x": null,
            "grid_auto_flow": null,
            "grid_area": null,
            "grid_template_columns": null,
            "flex": null,
            "_model_name": "LayoutModel",
            "justify_items": null,
            "grid_row": null,
            "max_height": null,
            "align_content": null,
            "visibility": null,
            "align_self": null,
            "height": null,
            "min_height": null,
            "padding": null,
            "grid_auto_rows": null,
            "grid_gap": null,
            "max_width": null,
            "order": null,
            "_view_module_version": "1.2.0",
            "grid_template_areas": null,
            "object_position": null,
            "object_fit": null,
            "grid_auto_columns": null,
            "margin": null,
            "display": null,
            "left": null
          }
        },
        "da7b80e71a494862b18d44588b25ca36": {
          "model_module": "@jupyter-widgets/controls",
          "model_name": "DescriptionStyleModel",
          "state": {
            "_view_name": "StyleView",
            "_model_name": "DescriptionStyleModel",
            "description_width": "",
            "_view_module": "@jupyter-widgets/base",
            "_model_module_version": "1.5.0",
            "_view_count": null,
            "_view_module_version": "1.2.0",
            "_model_module": "@jupyter-widgets/controls"
          }
        },
        "9296136545cc46ae8da2106fbeb3e503": {
          "model_module": "@jupyter-widgets/base",
          "model_name": "LayoutModel",
          "state": {
            "_view_name": "LayoutView",
            "grid_template_rows": null,
            "right": null,
            "justify_content": null,
            "_view_module": "@jupyter-widgets/base",
            "overflow": null,
            "_model_module_version": "1.2.0",
            "_view_count": null,
            "flex_flow": null,
            "width": null,
            "min_width": null,
            "border": null,
            "align_items": null,
            "bottom": null,
            "_model_module": "@jupyter-widgets/base",
            "top": null,
            "grid_column": null,
            "overflow_y": null,
            "overflow_x": null,
            "grid_auto_flow": null,
            "grid_area": null,
            "grid_template_columns": null,
            "flex": null,
            "_model_name": "LayoutModel",
            "justify_items": null,
            "grid_row": null,
            "max_height": null,
            "align_content": null,
            "visibility": null,
            "align_self": null,
            "height": null,
            "min_height": null,
            "padding": null,
            "grid_auto_rows": null,
            "grid_gap": null,
            "max_width": null,
            "order": null,
            "_view_module_version": "1.2.0",
            "grid_template_areas": null,
            "object_position": null,
            "object_fit": null,
            "grid_auto_columns": null,
            "margin": null,
            "display": null,
            "left": null
          }
        },
        "dfb6b04c315b465884536a0a52518ede": {
          "model_module": "@jupyter-widgets/controls",
          "model_name": "HBoxModel",
          "state": {
            "_view_name": "HBoxView",
            "_dom_classes": [],
            "_model_name": "HBoxModel",
            "_view_module": "@jupyter-widgets/controls",
            "_model_module_version": "1.5.0",
            "_view_count": null,
            "_view_module_version": "1.5.0",
            "box_style": "",
            "layout": "IPY_MODEL_fa9f81fcb2514c72b58f142a69f0beda",
            "_model_module": "@jupyter-widgets/controls",
            "children": [
              "IPY_MODEL_26ec822124f64262839fc3367c474b98",
              "IPY_MODEL_02afb1e75b6941d4a1cc3cd5e6e11c31"
            ]
          }
        },
        "fa9f81fcb2514c72b58f142a69f0beda": {
          "model_module": "@jupyter-widgets/base",
          "model_name": "LayoutModel",
          "state": {
            "_view_name": "LayoutView",
            "grid_template_rows": null,
            "right": null,
            "justify_content": null,
            "_view_module": "@jupyter-widgets/base",
            "overflow": null,
            "_model_module_version": "1.2.0",
            "_view_count": null,
            "flex_flow": null,
            "width": null,
            "min_width": null,
            "border": null,
            "align_items": null,
            "bottom": null,
            "_model_module": "@jupyter-widgets/base",
            "top": null,
            "grid_column": null,
            "overflow_y": null,
            "overflow_x": null,
            "grid_auto_flow": null,
            "grid_area": null,
            "grid_template_columns": null,
            "flex": null,
            "_model_name": "LayoutModel",
            "justify_items": null,
            "grid_row": null,
            "max_height": null,
            "align_content": null,
            "visibility": null,
            "align_self": null,
            "height": null,
            "min_height": null,
            "padding": null,
            "grid_auto_rows": null,
            "grid_gap": null,
            "max_width": null,
            "order": null,
            "_view_module_version": "1.2.0",
            "grid_template_areas": null,
            "object_position": null,
            "object_fit": null,
            "grid_auto_columns": null,
            "margin": null,
            "display": null,
            "left": null
          }
        },
        "26ec822124f64262839fc3367c474b98": {
          "model_module": "@jupyter-widgets/controls",
          "model_name": "FloatProgressModel",
          "state": {
            "_view_name": "ProgressView",
            "style": "IPY_MODEL_a92a87b6bed24602ab77e64d11ee7a82",
            "_dom_classes": [],
            "description": "100%",
            "_model_name": "FloatProgressModel",
            "bar_style": "success",
            "max": 3524,
            "_view_module": "@jupyter-widgets/controls",
            "_model_module_version": "1.5.0",
            "value": 3524,
            "_view_count": null,
            "_view_module_version": "1.5.0",
            "orientation": "horizontal",
            "min": 0,
            "description_tooltip": null,
            "_model_module": "@jupyter-widgets/controls",
            "layout": "IPY_MODEL_be29e951155943c381d2f54d2ba53b66"
          }
        },
        "02afb1e75b6941d4a1cc3cd5e6e11c31": {
          "model_module": "@jupyter-widgets/controls",
          "model_name": "HTMLModel",
          "state": {
            "_view_name": "HTMLView",
            "style": "IPY_MODEL_e45e2b0fb0f44105b27aadd7e231a856",
            "_dom_classes": [],
            "description": "",
            "_model_name": "HTMLModel",
            "placeholder": "​",
            "_view_module": "@jupyter-widgets/controls",
            "_model_module_version": "1.5.0",
            "value": " 3524/3524 [31:42&lt;00:00,  1.85it/s]",
            "_view_count": null,
            "_view_module_version": "1.5.0",
            "description_tooltip": null,
            "_model_module": "@jupyter-widgets/controls",
            "layout": "IPY_MODEL_c21086b7dd3b47f993a78a85cb0422eb"
          }
        },
        "a92a87b6bed24602ab77e64d11ee7a82": {
          "model_module": "@jupyter-widgets/controls",
          "model_name": "ProgressStyleModel",
          "state": {
            "_view_name": "StyleView",
            "_model_name": "ProgressStyleModel",
            "description_width": "initial",
            "_view_module": "@jupyter-widgets/base",
            "_model_module_version": "1.5.0",
            "_view_count": null,
            "_view_module_version": "1.2.0",
            "bar_color": null,
            "_model_module": "@jupyter-widgets/controls"
          }
        },
        "be29e951155943c381d2f54d2ba53b66": {
          "model_module": "@jupyter-widgets/base",
          "model_name": "LayoutModel",
          "state": {
            "_view_name": "LayoutView",
            "grid_template_rows": null,
            "right": null,
            "justify_content": null,
            "_view_module": "@jupyter-widgets/base",
            "overflow": null,
            "_model_module_version": "1.2.0",
            "_view_count": null,
            "flex_flow": null,
            "width": null,
            "min_width": null,
            "border": null,
            "align_items": null,
            "bottom": null,
            "_model_module": "@jupyter-widgets/base",
            "top": null,
            "grid_column": null,
            "overflow_y": null,
            "overflow_x": null,
            "grid_auto_flow": null,
            "grid_area": null,
            "grid_template_columns": null,
            "flex": null,
            "_model_name": "LayoutModel",
            "justify_items": null,
            "grid_row": null,
            "max_height": null,
            "align_content": null,
            "visibility": null,
            "align_self": null,
            "height": null,
            "min_height": null,
            "padding": null,
            "grid_auto_rows": null,
            "grid_gap": null,
            "max_width": null,
            "order": null,
            "_view_module_version": "1.2.0",
            "grid_template_areas": null,
            "object_position": null,
            "object_fit": null,
            "grid_auto_columns": null,
            "margin": null,
            "display": null,
            "left": null
          }
        },
        "e45e2b0fb0f44105b27aadd7e231a856": {
          "model_module": "@jupyter-widgets/controls",
          "model_name": "DescriptionStyleModel",
          "state": {
            "_view_name": "StyleView",
            "_model_name": "DescriptionStyleModel",
            "description_width": "",
            "_view_module": "@jupyter-widgets/base",
            "_model_module_version": "1.5.0",
            "_view_count": null,
            "_view_module_version": "1.2.0",
            "_model_module": "@jupyter-widgets/controls"
          }
        },
        "c21086b7dd3b47f993a78a85cb0422eb": {
          "model_module": "@jupyter-widgets/base",
          "model_name": "LayoutModel",
          "state": {
            "_view_name": "LayoutView",
            "grid_template_rows": null,
            "right": null,
            "justify_content": null,
            "_view_module": "@jupyter-widgets/base",
            "overflow": null,
            "_model_module_version": "1.2.0",
            "_view_count": null,
            "flex_flow": null,
            "width": null,
            "min_width": null,
            "border": null,
            "align_items": null,
            "bottom": null,
            "_model_module": "@jupyter-widgets/base",
            "top": null,
            "grid_column": null,
            "overflow_y": null,
            "overflow_x": null,
            "grid_auto_flow": null,
            "grid_area": null,
            "grid_template_columns": null,
            "flex": null,
            "_model_name": "LayoutModel",
            "justify_items": null,
            "grid_row": null,
            "max_height": null,
            "align_content": null,
            "visibility": null,
            "align_self": null,
            "height": null,
            "min_height": null,
            "padding": null,
            "grid_auto_rows": null,
            "grid_gap": null,
            "max_width": null,
            "order": null,
            "_view_module_version": "1.2.0",
            "grid_template_areas": null,
            "object_position": null,
            "object_fit": null,
            "grid_auto_columns": null,
            "margin": null,
            "display": null,
            "left": null
          }
        },
        "ee30d7bb39d641da99a4d5d405d0ef6f": {
          "model_module": "@jupyter-widgets/controls",
          "model_name": "HBoxModel",
          "state": {
            "_view_name": "HBoxView",
            "_dom_classes": [],
            "_model_name": "HBoxModel",
            "_view_module": "@jupyter-widgets/controls",
            "_model_module_version": "1.5.0",
            "_view_count": null,
            "_view_module_version": "1.5.0",
            "box_style": "",
            "layout": "IPY_MODEL_0b31b58789f9443bb113a5948be5eeed",
            "_model_module": "@jupyter-widgets/controls",
            "children": [
              "IPY_MODEL_f0b6fa4826ba47cfb9f884a9365f200a",
              "IPY_MODEL_19da427faea34244b623396ed2ccbf2f"
            ]
          }
        },
        "0b31b58789f9443bb113a5948be5eeed": {
          "model_module": "@jupyter-widgets/base",
          "model_name": "LayoutModel",
          "state": {
            "_view_name": "LayoutView",
            "grid_template_rows": null,
            "right": null,
            "justify_content": null,
            "_view_module": "@jupyter-widgets/base",
            "overflow": null,
            "_model_module_version": "1.2.0",
            "_view_count": null,
            "flex_flow": null,
            "width": null,
            "min_width": null,
            "border": null,
            "align_items": null,
            "bottom": null,
            "_model_module": "@jupyter-widgets/base",
            "top": null,
            "grid_column": null,
            "overflow_y": null,
            "overflow_x": null,
            "grid_auto_flow": null,
            "grid_area": null,
            "grid_template_columns": null,
            "flex": null,
            "_model_name": "LayoutModel",
            "justify_items": null,
            "grid_row": null,
            "max_height": null,
            "align_content": null,
            "visibility": null,
            "align_self": null,
            "height": null,
            "min_height": null,
            "padding": null,
            "grid_auto_rows": null,
            "grid_gap": null,
            "max_width": null,
            "order": null,
            "_view_module_version": "1.2.0",
            "grid_template_areas": null,
            "object_position": null,
            "object_fit": null,
            "grid_auto_columns": null,
            "margin": null,
            "display": null,
            "left": null
          }
        },
        "f0b6fa4826ba47cfb9f884a9365f200a": {
          "model_module": "@jupyter-widgets/controls",
          "model_name": "FloatProgressModel",
          "state": {
            "_view_name": "ProgressView",
            "style": "IPY_MODEL_38358563982449cb9fbc267613bd042d",
            "_dom_classes": [],
            "description": "100%",
            "_model_name": "FloatProgressModel",
            "bar_style": "success",
            "max": 1684,
            "_view_module": "@jupyter-widgets/controls",
            "_model_module_version": "1.5.0",
            "value": 1684,
            "_view_count": null,
            "_view_module_version": "1.5.0",
            "orientation": "horizontal",
            "min": 0,
            "description_tooltip": null,
            "_model_module": "@jupyter-widgets/controls",
            "layout": "IPY_MODEL_d8ef7bb8082944f380885bc94c04328c"
          }
        },
        "19da427faea34244b623396ed2ccbf2f": {
          "model_module": "@jupyter-widgets/controls",
          "model_name": "HTMLModel",
          "state": {
            "_view_name": "HTMLView",
            "style": "IPY_MODEL_0c513b78f57c45bca70039653656cfd0",
            "_dom_classes": [],
            "description": "",
            "_model_name": "HTMLModel",
            "placeholder": "​",
            "_view_module": "@jupyter-widgets/controls",
            "_model_module_version": "1.5.0",
            "value": " 1684/1684 [2:49:49&lt;00:00,  6.05s/it]",
            "_view_count": null,
            "_view_module_version": "1.5.0",
            "description_tooltip": null,
            "_model_module": "@jupyter-widgets/controls",
            "layout": "IPY_MODEL_47f8017bd1c343888e32615333086e14"
          }
        },
        "38358563982449cb9fbc267613bd042d": {
          "model_module": "@jupyter-widgets/controls",
          "model_name": "ProgressStyleModel",
          "state": {
            "_view_name": "StyleView",
            "_model_name": "ProgressStyleModel",
            "description_width": "initial",
            "_view_module": "@jupyter-widgets/base",
            "_model_module_version": "1.5.0",
            "_view_count": null,
            "_view_module_version": "1.2.0",
            "bar_color": null,
            "_model_module": "@jupyter-widgets/controls"
          }
        },
        "d8ef7bb8082944f380885bc94c04328c": {
          "model_module": "@jupyter-widgets/base",
          "model_name": "LayoutModel",
          "state": {
            "_view_name": "LayoutView",
            "grid_template_rows": null,
            "right": null,
            "justify_content": null,
            "_view_module": "@jupyter-widgets/base",
            "overflow": null,
            "_model_module_version": "1.2.0",
            "_view_count": null,
            "flex_flow": null,
            "width": null,
            "min_width": null,
            "border": null,
            "align_items": null,
            "bottom": null,
            "_model_module": "@jupyter-widgets/base",
            "top": null,
            "grid_column": null,
            "overflow_y": null,
            "overflow_x": null,
            "grid_auto_flow": null,
            "grid_area": null,
            "grid_template_columns": null,
            "flex": null,
            "_model_name": "LayoutModel",
            "justify_items": null,
            "grid_row": null,
            "max_height": null,
            "align_content": null,
            "visibility": null,
            "align_self": null,
            "height": null,
            "min_height": null,
            "padding": null,
            "grid_auto_rows": null,
            "grid_gap": null,
            "max_width": null,
            "order": null,
            "_view_module_version": "1.2.0",
            "grid_template_areas": null,
            "object_position": null,
            "object_fit": null,
            "grid_auto_columns": null,
            "margin": null,
            "display": null,
            "left": null
          }
        },
        "0c513b78f57c45bca70039653656cfd0": {
          "model_module": "@jupyter-widgets/controls",
          "model_name": "DescriptionStyleModel",
          "state": {
            "_view_name": "StyleView",
            "_model_name": "DescriptionStyleModel",
            "description_width": "",
            "_view_module": "@jupyter-widgets/base",
            "_model_module_version": "1.5.0",
            "_view_count": null,
            "_view_module_version": "1.2.0",
            "_model_module": "@jupyter-widgets/controls"
          }
        },
        "47f8017bd1c343888e32615333086e14": {
          "model_module": "@jupyter-widgets/base",
          "model_name": "LayoutModel",
          "state": {
            "_view_name": "LayoutView",
            "grid_template_rows": null,
            "right": null,
            "justify_content": null,
            "_view_module": "@jupyter-widgets/base",
            "overflow": null,
            "_model_module_version": "1.2.0",
            "_view_count": null,
            "flex_flow": null,
            "width": null,
            "min_width": null,
            "border": null,
            "align_items": null,
            "bottom": null,
            "_model_module": "@jupyter-widgets/base",
            "top": null,
            "grid_column": null,
            "overflow_y": null,
            "overflow_x": null,
            "grid_auto_flow": null,
            "grid_area": null,
            "grid_template_columns": null,
            "flex": null,
            "_model_name": "LayoutModel",
            "justify_items": null,
            "grid_row": null,
            "max_height": null,
            "align_content": null,
            "visibility": null,
            "align_self": null,
            "height": null,
            "min_height": null,
            "padding": null,
            "grid_auto_rows": null,
            "grid_gap": null,
            "max_width": null,
            "order": null,
            "_view_module_version": "1.2.0",
            "grid_template_areas": null,
            "object_position": null,
            "object_fit": null,
            "grid_auto_columns": null,
            "margin": null,
            "display": null,
            "left": null
          }
        },
        "894f638b16c4416bb4247cc24f94f999": {
          "model_module": "@jupyter-widgets/controls",
          "model_name": "HBoxModel",
          "state": {
            "_view_name": "HBoxView",
            "_dom_classes": [],
            "_model_name": "HBoxModel",
            "_view_module": "@jupyter-widgets/controls",
            "_model_module_version": "1.5.0",
            "_view_count": null,
            "_view_module_version": "1.5.0",
            "box_style": "",
            "layout": "IPY_MODEL_5b1ee6b6b664425d937741ce06f52c51",
            "_model_module": "@jupyter-widgets/controls",
            "children": [
              "IPY_MODEL_a1e3ca5d40a24641a148eb530167769a",
              "IPY_MODEL_3e5a2cc20b9a43c7838b75954f55566b"
            ]
          }
        },
        "5b1ee6b6b664425d937741ce06f52c51": {
          "model_module": "@jupyter-widgets/base",
          "model_name": "LayoutModel",
          "state": {
            "_view_name": "LayoutView",
            "grid_template_rows": null,
            "right": null,
            "justify_content": null,
            "_view_module": "@jupyter-widgets/base",
            "overflow": null,
            "_model_module_version": "1.2.0",
            "_view_count": null,
            "flex_flow": null,
            "width": null,
            "min_width": null,
            "border": null,
            "align_items": null,
            "bottom": null,
            "_model_module": "@jupyter-widgets/base",
            "top": null,
            "grid_column": null,
            "overflow_y": null,
            "overflow_x": null,
            "grid_auto_flow": null,
            "grid_area": null,
            "grid_template_columns": null,
            "flex": null,
            "_model_name": "LayoutModel",
            "justify_items": null,
            "grid_row": null,
            "max_height": null,
            "align_content": null,
            "visibility": null,
            "align_self": null,
            "height": null,
            "min_height": null,
            "padding": null,
            "grid_auto_rows": null,
            "grid_gap": null,
            "max_width": null,
            "order": null,
            "_view_module_version": "1.2.0",
            "grid_template_areas": null,
            "object_position": null,
            "object_fit": null,
            "grid_auto_columns": null,
            "margin": null,
            "display": null,
            "left": null
          }
        },
        "a1e3ca5d40a24641a148eb530167769a": {
          "model_module": "@jupyter-widgets/controls",
          "model_name": "FloatProgressModel",
          "state": {
            "_view_name": "ProgressView",
            "style": "IPY_MODEL_dd9a789c1ff241899a151fdb3a93f29f",
            "_dom_classes": [],
            "description": "100%",
            "_model_name": "FloatProgressModel",
            "bar_style": "success",
            "max": 3524,
            "_view_module": "@jupyter-widgets/controls",
            "_model_module_version": "1.5.0",
            "value": 3524,
            "_view_count": null,
            "_view_module_version": "1.5.0",
            "orientation": "horizontal",
            "min": 0,
            "description_tooltip": null,
            "_model_module": "@jupyter-widgets/controls",
            "layout": "IPY_MODEL_eaba0f79ce1744c781e934260608ae12"
          }
        },
        "3e5a2cc20b9a43c7838b75954f55566b": {
          "model_module": "@jupyter-widgets/controls",
          "model_name": "HTMLModel",
          "state": {
            "_view_name": "HTMLView",
            "style": "IPY_MODEL_2487d7772200460387eb6527e538dd56",
            "_dom_classes": [],
            "description": "",
            "_model_name": "HTMLModel",
            "placeholder": "​",
            "_view_module": "@jupyter-widgets/controls",
            "_model_module_version": "1.5.0",
            "value": " 3524/3524 [35:09&lt;00:00,  1.67it/s]",
            "_view_count": null,
            "_view_module_version": "1.5.0",
            "description_tooltip": null,
            "_model_module": "@jupyter-widgets/controls",
            "layout": "IPY_MODEL_21452871b6cf4acaa166cb74a87b16f8"
          }
        },
        "dd9a789c1ff241899a151fdb3a93f29f": {
          "model_module": "@jupyter-widgets/controls",
          "model_name": "ProgressStyleModel",
          "state": {
            "_view_name": "StyleView",
            "_model_name": "ProgressStyleModel",
            "description_width": "initial",
            "_view_module": "@jupyter-widgets/base",
            "_model_module_version": "1.5.0",
            "_view_count": null,
            "_view_module_version": "1.2.0",
            "bar_color": null,
            "_model_module": "@jupyter-widgets/controls"
          }
        },
        "eaba0f79ce1744c781e934260608ae12": {
          "model_module": "@jupyter-widgets/base",
          "model_name": "LayoutModel",
          "state": {
            "_view_name": "LayoutView",
            "grid_template_rows": null,
            "right": null,
            "justify_content": null,
            "_view_module": "@jupyter-widgets/base",
            "overflow": null,
            "_model_module_version": "1.2.0",
            "_view_count": null,
            "flex_flow": null,
            "width": null,
            "min_width": null,
            "border": null,
            "align_items": null,
            "bottom": null,
            "_model_module": "@jupyter-widgets/base",
            "top": null,
            "grid_column": null,
            "overflow_y": null,
            "overflow_x": null,
            "grid_auto_flow": null,
            "grid_area": null,
            "grid_template_columns": null,
            "flex": null,
            "_model_name": "LayoutModel",
            "justify_items": null,
            "grid_row": null,
            "max_height": null,
            "align_content": null,
            "visibility": null,
            "align_self": null,
            "height": null,
            "min_height": null,
            "padding": null,
            "grid_auto_rows": null,
            "grid_gap": null,
            "max_width": null,
            "order": null,
            "_view_module_version": "1.2.0",
            "grid_template_areas": null,
            "object_position": null,
            "object_fit": null,
            "grid_auto_columns": null,
            "margin": null,
            "display": null,
            "left": null
          }
        },
        "2487d7772200460387eb6527e538dd56": {
          "model_module": "@jupyter-widgets/controls",
          "model_name": "DescriptionStyleModel",
          "state": {
            "_view_name": "StyleView",
            "_model_name": "DescriptionStyleModel",
            "description_width": "",
            "_view_module": "@jupyter-widgets/base",
            "_model_module_version": "1.5.0",
            "_view_count": null,
            "_view_module_version": "1.2.0",
            "_model_module": "@jupyter-widgets/controls"
          }
        },
        "21452871b6cf4acaa166cb74a87b16f8": {
          "model_module": "@jupyter-widgets/base",
          "model_name": "LayoutModel",
          "state": {
            "_view_name": "LayoutView",
            "grid_template_rows": null,
            "right": null,
            "justify_content": null,
            "_view_module": "@jupyter-widgets/base",
            "overflow": null,
            "_model_module_version": "1.2.0",
            "_view_count": null,
            "flex_flow": null,
            "width": null,
            "min_width": null,
            "border": null,
            "align_items": null,
            "bottom": null,
            "_model_module": "@jupyter-widgets/base",
            "top": null,
            "grid_column": null,
            "overflow_y": null,
            "overflow_x": null,
            "grid_auto_flow": null,
            "grid_area": null,
            "grid_template_columns": null,
            "flex": null,
            "_model_name": "LayoutModel",
            "justify_items": null,
            "grid_row": null,
            "max_height": null,
            "align_content": null,
            "visibility": null,
            "align_self": null,
            "height": null,
            "min_height": null,
            "padding": null,
            "grid_auto_rows": null,
            "grid_gap": null,
            "max_width": null,
            "order": null,
            "_view_module_version": "1.2.0",
            "grid_template_areas": null,
            "object_position": null,
            "object_fit": null,
            "grid_auto_columns": null,
            "margin": null,
            "display": null,
            "left": null
          }
        },
        "85a82fe58950426b8522ce59a1b79814": {
          "model_module": "@jupyter-widgets/controls",
          "model_name": "HBoxModel",
          "state": {
            "_view_name": "HBoxView",
            "_dom_classes": [],
            "_model_name": "HBoxModel",
            "_view_module": "@jupyter-widgets/controls",
            "_model_module_version": "1.5.0",
            "_view_count": null,
            "_view_module_version": "1.5.0",
            "box_style": "",
            "layout": "IPY_MODEL_473858cfa897422084e0457ad4084880",
            "_model_module": "@jupyter-widgets/controls",
            "children": [
              "IPY_MODEL_6911fb6154084dd5a113c276099d0612",
              "IPY_MODEL_5969944e7d6142b285cd6eee8771eba1"
            ]
          }
        },
        "473858cfa897422084e0457ad4084880": {
          "model_module": "@jupyter-widgets/base",
          "model_name": "LayoutModel",
          "state": {
            "_view_name": "LayoutView",
            "grid_template_rows": null,
            "right": null,
            "justify_content": null,
            "_view_module": "@jupyter-widgets/base",
            "overflow": null,
            "_model_module_version": "1.2.0",
            "_view_count": null,
            "flex_flow": null,
            "width": null,
            "min_width": null,
            "border": null,
            "align_items": null,
            "bottom": null,
            "_model_module": "@jupyter-widgets/base",
            "top": null,
            "grid_column": null,
            "overflow_y": null,
            "overflow_x": null,
            "grid_auto_flow": null,
            "grid_area": null,
            "grid_template_columns": null,
            "flex": null,
            "_model_name": "LayoutModel",
            "justify_items": null,
            "grid_row": null,
            "max_height": null,
            "align_content": null,
            "visibility": null,
            "align_self": null,
            "height": null,
            "min_height": null,
            "padding": null,
            "grid_auto_rows": null,
            "grid_gap": null,
            "max_width": null,
            "order": null,
            "_view_module_version": "1.2.0",
            "grid_template_areas": null,
            "object_position": null,
            "object_fit": null,
            "grid_auto_columns": null,
            "margin": null,
            "display": null,
            "left": null
          }
        },
        "6911fb6154084dd5a113c276099d0612": {
          "model_module": "@jupyter-widgets/controls",
          "model_name": "FloatProgressModel",
          "state": {
            "_view_name": "ProgressView",
            "style": "IPY_MODEL_8004c8e4285d4400a74b93bfbc03ad75",
            "_dom_classes": [],
            "description": "100%",
            "_model_name": "FloatProgressModel",
            "bar_style": "success",
            "max": 1684,
            "_view_module": "@jupyter-widgets/controls",
            "_model_module_version": "1.5.0",
            "value": 1684,
            "_view_count": null,
            "_view_module_version": "1.5.0",
            "orientation": "horizontal",
            "min": 0,
            "description_tooltip": null,
            "_model_module": "@jupyter-widgets/controls",
            "layout": "IPY_MODEL_b73a59414dff45cbbda6315a1582ac5d"
          }
        },
        "5969944e7d6142b285cd6eee8771eba1": {
          "model_module": "@jupyter-widgets/controls",
          "model_name": "HTMLModel",
          "state": {
            "_view_name": "HTMLView",
            "style": "IPY_MODEL_9113a9f30c56459b8faf5f3b4439606d",
            "_dom_classes": [],
            "description": "",
            "_model_name": "HTMLModel",
            "placeholder": "​",
            "_view_module": "@jupyter-widgets/controls",
            "_model_module_version": "1.5.0",
            "value": " 1684/1684 [1:58:01&lt;00:00,  4.20s/it]",
            "_view_count": null,
            "_view_module_version": "1.5.0",
            "description_tooltip": null,
            "_model_module": "@jupyter-widgets/controls",
            "layout": "IPY_MODEL_6982c24f07ae43d49978778f2f1c230e"
          }
        },
        "8004c8e4285d4400a74b93bfbc03ad75": {
          "model_module": "@jupyter-widgets/controls",
          "model_name": "ProgressStyleModel",
          "state": {
            "_view_name": "StyleView",
            "_model_name": "ProgressStyleModel",
            "description_width": "initial",
            "_view_module": "@jupyter-widgets/base",
            "_model_module_version": "1.5.0",
            "_view_count": null,
            "_view_module_version": "1.2.0",
            "bar_color": null,
            "_model_module": "@jupyter-widgets/controls"
          }
        },
        "b73a59414dff45cbbda6315a1582ac5d": {
          "model_module": "@jupyter-widgets/base",
          "model_name": "LayoutModel",
          "state": {
            "_view_name": "LayoutView",
            "grid_template_rows": null,
            "right": null,
            "justify_content": null,
            "_view_module": "@jupyter-widgets/base",
            "overflow": null,
            "_model_module_version": "1.2.0",
            "_view_count": null,
            "flex_flow": null,
            "width": null,
            "min_width": null,
            "border": null,
            "align_items": null,
            "bottom": null,
            "_model_module": "@jupyter-widgets/base",
            "top": null,
            "grid_column": null,
            "overflow_y": null,
            "overflow_x": null,
            "grid_auto_flow": null,
            "grid_area": null,
            "grid_template_columns": null,
            "flex": null,
            "_model_name": "LayoutModel",
            "justify_items": null,
            "grid_row": null,
            "max_height": null,
            "align_content": null,
            "visibility": null,
            "align_self": null,
            "height": null,
            "min_height": null,
            "padding": null,
            "grid_auto_rows": null,
            "grid_gap": null,
            "max_width": null,
            "order": null,
            "_view_module_version": "1.2.0",
            "grid_template_areas": null,
            "object_position": null,
            "object_fit": null,
            "grid_auto_columns": null,
            "margin": null,
            "display": null,
            "left": null
          }
        },
        "9113a9f30c56459b8faf5f3b4439606d": {
          "model_module": "@jupyter-widgets/controls",
          "model_name": "DescriptionStyleModel",
          "state": {
            "_view_name": "StyleView",
            "_model_name": "DescriptionStyleModel",
            "description_width": "",
            "_view_module": "@jupyter-widgets/base",
            "_model_module_version": "1.5.0",
            "_view_count": null,
            "_view_module_version": "1.2.0",
            "_model_module": "@jupyter-widgets/controls"
          }
        },
        "6982c24f07ae43d49978778f2f1c230e": {
          "model_module": "@jupyter-widgets/base",
          "model_name": "LayoutModel",
          "state": {
            "_view_name": "LayoutView",
            "grid_template_rows": null,
            "right": null,
            "justify_content": null,
            "_view_module": "@jupyter-widgets/base",
            "overflow": null,
            "_model_module_version": "1.2.0",
            "_view_count": null,
            "flex_flow": null,
            "width": null,
            "min_width": null,
            "border": null,
            "align_items": null,
            "bottom": null,
            "_model_module": "@jupyter-widgets/base",
            "top": null,
            "grid_column": null,
            "overflow_y": null,
            "overflow_x": null,
            "grid_auto_flow": null,
            "grid_area": null,
            "grid_template_columns": null,
            "flex": null,
            "_model_name": "LayoutModel",
            "justify_items": null,
            "grid_row": null,
            "max_height": null,
            "align_content": null,
            "visibility": null,
            "align_self": null,
            "height": null,
            "min_height": null,
            "padding": null,
            "grid_auto_rows": null,
            "grid_gap": null,
            "max_width": null,
            "order": null,
            "_view_module_version": "1.2.0",
            "grid_template_areas": null,
            "object_position": null,
            "object_fit": null,
            "grid_auto_columns": null,
            "margin": null,
            "display": null,
            "left": null
          }
        },
        "d3b063be65414cd2916da209faab4409": {
          "model_module": "@jupyter-widgets/controls",
          "model_name": "HBoxModel",
          "state": {
            "_view_name": "HBoxView",
            "_dom_classes": [],
            "_model_name": "HBoxModel",
            "_view_module": "@jupyter-widgets/controls",
            "_model_module_version": "1.5.0",
            "_view_count": null,
            "_view_module_version": "1.5.0",
            "box_style": "",
            "layout": "IPY_MODEL_2593c8bf392a4fe7bdd8ca050102fb7e",
            "_model_module": "@jupyter-widgets/controls",
            "children": [
              "IPY_MODEL_ae0b3d33f3be4745b7fd4f81463a1f3e",
              "IPY_MODEL_c4f104b0087742dbbad254526a95de7d"
            ]
          }
        },
        "2593c8bf392a4fe7bdd8ca050102fb7e": {
          "model_module": "@jupyter-widgets/base",
          "model_name": "LayoutModel",
          "state": {
            "_view_name": "LayoutView",
            "grid_template_rows": null,
            "right": null,
            "justify_content": null,
            "_view_module": "@jupyter-widgets/base",
            "overflow": null,
            "_model_module_version": "1.2.0",
            "_view_count": null,
            "flex_flow": null,
            "width": null,
            "min_width": null,
            "border": null,
            "align_items": null,
            "bottom": null,
            "_model_module": "@jupyter-widgets/base",
            "top": null,
            "grid_column": null,
            "overflow_y": null,
            "overflow_x": null,
            "grid_auto_flow": null,
            "grid_area": null,
            "grid_template_columns": null,
            "flex": null,
            "_model_name": "LayoutModel",
            "justify_items": null,
            "grid_row": null,
            "max_height": null,
            "align_content": null,
            "visibility": null,
            "align_self": null,
            "height": null,
            "min_height": null,
            "padding": null,
            "grid_auto_rows": null,
            "grid_gap": null,
            "max_width": null,
            "order": null,
            "_view_module_version": "1.2.0",
            "grid_template_areas": null,
            "object_position": null,
            "object_fit": null,
            "grid_auto_columns": null,
            "margin": null,
            "display": null,
            "left": null
          }
        },
        "ae0b3d33f3be4745b7fd4f81463a1f3e": {
          "model_module": "@jupyter-widgets/controls",
          "model_name": "FloatProgressModel",
          "state": {
            "_view_name": "ProgressView",
            "style": "IPY_MODEL_7a73c20037b44815bf6d14568bf63469",
            "_dom_classes": [],
            "description": "100%",
            "_model_name": "FloatProgressModel",
            "bar_style": "success",
            "max": 3524,
            "_view_module": "@jupyter-widgets/controls",
            "_model_module_version": "1.5.0",
            "value": 3524,
            "_view_count": null,
            "_view_module_version": "1.5.0",
            "orientation": "horizontal",
            "min": 0,
            "description_tooltip": null,
            "_model_module": "@jupyter-widgets/controls",
            "layout": "IPY_MODEL_ef532ce633c248e2b253be3571078f66"
          }
        },
        "c4f104b0087742dbbad254526a95de7d": {
          "model_module": "@jupyter-widgets/controls",
          "model_name": "HTMLModel",
          "state": {
            "_view_name": "HTMLView",
            "style": "IPY_MODEL_39867cf5949d42abb125690a2cf9d40d",
            "_dom_classes": [],
            "description": "",
            "_model_name": "HTMLModel",
            "placeholder": "​",
            "_view_module": "@jupyter-widgets/controls",
            "_model_module_version": "1.5.0",
            "value": " 3524/3524 [1:36:32&lt;00:00,  1.64s/it]",
            "_view_count": null,
            "_view_module_version": "1.5.0",
            "description_tooltip": null,
            "_model_module": "@jupyter-widgets/controls",
            "layout": "IPY_MODEL_c0fdbeb3e1b0473694343576a61e313d"
          }
        },
        "7a73c20037b44815bf6d14568bf63469": {
          "model_module": "@jupyter-widgets/controls",
          "model_name": "ProgressStyleModel",
          "state": {
            "_view_name": "StyleView",
            "_model_name": "ProgressStyleModel",
            "description_width": "initial",
            "_view_module": "@jupyter-widgets/base",
            "_model_module_version": "1.5.0",
            "_view_count": null,
            "_view_module_version": "1.2.0",
            "bar_color": null,
            "_model_module": "@jupyter-widgets/controls"
          }
        },
        "ef532ce633c248e2b253be3571078f66": {
          "model_module": "@jupyter-widgets/base",
          "model_name": "LayoutModel",
          "state": {
            "_view_name": "LayoutView",
            "grid_template_rows": null,
            "right": null,
            "justify_content": null,
            "_view_module": "@jupyter-widgets/base",
            "overflow": null,
            "_model_module_version": "1.2.0",
            "_view_count": null,
            "flex_flow": null,
            "width": null,
            "min_width": null,
            "border": null,
            "align_items": null,
            "bottom": null,
            "_model_module": "@jupyter-widgets/base",
            "top": null,
            "grid_column": null,
            "overflow_y": null,
            "overflow_x": null,
            "grid_auto_flow": null,
            "grid_area": null,
            "grid_template_columns": null,
            "flex": null,
            "_model_name": "LayoutModel",
            "justify_items": null,
            "grid_row": null,
            "max_height": null,
            "align_content": null,
            "visibility": null,
            "align_self": null,
            "height": null,
            "min_height": null,
            "padding": null,
            "grid_auto_rows": null,
            "grid_gap": null,
            "max_width": null,
            "order": null,
            "_view_module_version": "1.2.0",
            "grid_template_areas": null,
            "object_position": null,
            "object_fit": null,
            "grid_auto_columns": null,
            "margin": null,
            "display": null,
            "left": null
          }
        },
        "39867cf5949d42abb125690a2cf9d40d": {
          "model_module": "@jupyter-widgets/controls",
          "model_name": "DescriptionStyleModel",
          "state": {
            "_view_name": "StyleView",
            "_model_name": "DescriptionStyleModel",
            "description_width": "",
            "_view_module": "@jupyter-widgets/base",
            "_model_module_version": "1.5.0",
            "_view_count": null,
            "_view_module_version": "1.2.0",
            "_model_module": "@jupyter-widgets/controls"
          }
        },
        "c0fdbeb3e1b0473694343576a61e313d": {
          "model_module": "@jupyter-widgets/base",
          "model_name": "LayoutModel",
          "state": {
            "_view_name": "LayoutView",
            "grid_template_rows": null,
            "right": null,
            "justify_content": null,
            "_view_module": "@jupyter-widgets/base",
            "overflow": null,
            "_model_module_version": "1.2.0",
            "_view_count": null,
            "flex_flow": null,
            "width": null,
            "min_width": null,
            "border": null,
            "align_items": null,
            "bottom": null,
            "_model_module": "@jupyter-widgets/base",
            "top": null,
            "grid_column": null,
            "overflow_y": null,
            "overflow_x": null,
            "grid_auto_flow": null,
            "grid_area": null,
            "grid_template_columns": null,
            "flex": null,
            "_model_name": "LayoutModel",
            "justify_items": null,
            "grid_row": null,
            "max_height": null,
            "align_content": null,
            "visibility": null,
            "align_self": null,
            "height": null,
            "min_height": null,
            "padding": null,
            "grid_auto_rows": null,
            "grid_gap": null,
            "max_width": null,
            "order": null,
            "_view_module_version": "1.2.0",
            "grid_template_areas": null,
            "object_position": null,
            "object_fit": null,
            "grid_auto_columns": null,
            "margin": null,
            "display": null,
            "left": null
          }
        },
        "60f7fdae2e5e43f4b19e1d45007b7f8b": {
          "model_module": "@jupyter-widgets/controls",
          "model_name": "HBoxModel",
          "state": {
            "_view_name": "HBoxView",
            "_dom_classes": [],
            "_model_name": "HBoxModel",
            "_view_module": "@jupyter-widgets/controls",
            "_model_module_version": "1.5.0",
            "_view_count": null,
            "_view_module_version": "1.5.0",
            "box_style": "",
            "layout": "IPY_MODEL_868fc5ff5ef84da1883aba866124e13c",
            "_model_module": "@jupyter-widgets/controls",
            "children": [
              "IPY_MODEL_4b2107ec50d04da0a8aa87bea887456d",
              "IPY_MODEL_ff28c155eefb4897abb7e131f900573c"
            ]
          }
        },
        "868fc5ff5ef84da1883aba866124e13c": {
          "model_module": "@jupyter-widgets/base",
          "model_name": "LayoutModel",
          "state": {
            "_view_name": "LayoutView",
            "grid_template_rows": null,
            "right": null,
            "justify_content": null,
            "_view_module": "@jupyter-widgets/base",
            "overflow": null,
            "_model_module_version": "1.2.0",
            "_view_count": null,
            "flex_flow": null,
            "width": null,
            "min_width": null,
            "border": null,
            "align_items": null,
            "bottom": null,
            "_model_module": "@jupyter-widgets/base",
            "top": null,
            "grid_column": null,
            "overflow_y": null,
            "overflow_x": null,
            "grid_auto_flow": null,
            "grid_area": null,
            "grid_template_columns": null,
            "flex": null,
            "_model_name": "LayoutModel",
            "justify_items": null,
            "grid_row": null,
            "max_height": null,
            "align_content": null,
            "visibility": null,
            "align_self": null,
            "height": null,
            "min_height": null,
            "padding": null,
            "grid_auto_rows": null,
            "grid_gap": null,
            "max_width": null,
            "order": null,
            "_view_module_version": "1.2.0",
            "grid_template_areas": null,
            "object_position": null,
            "object_fit": null,
            "grid_auto_columns": null,
            "margin": null,
            "display": null,
            "left": null
          }
        },
        "4b2107ec50d04da0a8aa87bea887456d": {
          "model_module": "@jupyter-widgets/controls",
          "model_name": "FloatProgressModel",
          "state": {
            "_view_name": "ProgressView",
            "style": "IPY_MODEL_9792a03f6b924cb795aad6ba03adaef5",
            "_dom_classes": [],
            "description": "100%",
            "_model_name": "FloatProgressModel",
            "bar_style": "success",
            "max": 3493,
            "_view_module": "@jupyter-widgets/controls",
            "_model_module_version": "1.5.0",
            "value": 3493,
            "_view_count": null,
            "_view_module_version": "1.5.0",
            "orientation": "horizontal",
            "min": 0,
            "description_tooltip": null,
            "_model_module": "@jupyter-widgets/controls",
            "layout": "IPY_MODEL_50e41208119e4d689cd389f8631e20fb"
          }
        },
        "ff28c155eefb4897abb7e131f900573c": {
          "model_module": "@jupyter-widgets/controls",
          "model_name": "HTMLModel",
          "state": {
            "_view_name": "HTMLView",
            "style": "IPY_MODEL_12ff16fcbac44e478f319d17c2379d52",
            "_dom_classes": [],
            "description": "",
            "_model_name": "HTMLModel",
            "placeholder": "​",
            "_view_module": "@jupyter-widgets/controls",
            "_model_module_version": "1.5.0",
            "value": " 3493/3493 [56:24&lt;00:00,  1.03it/s]",
            "_view_count": null,
            "_view_module_version": "1.5.0",
            "description_tooltip": null,
            "_model_module": "@jupyter-widgets/controls",
            "layout": "IPY_MODEL_37aa3c3f19a442669614bfd0af97815a"
          }
        },
        "9792a03f6b924cb795aad6ba03adaef5": {
          "model_module": "@jupyter-widgets/controls",
          "model_name": "ProgressStyleModel",
          "state": {
            "_view_name": "StyleView",
            "_model_name": "ProgressStyleModel",
            "description_width": "initial",
            "_view_module": "@jupyter-widgets/base",
            "_model_module_version": "1.5.0",
            "_view_count": null,
            "_view_module_version": "1.2.0",
            "bar_color": null,
            "_model_module": "@jupyter-widgets/controls"
          }
        },
        "50e41208119e4d689cd389f8631e20fb": {
          "model_module": "@jupyter-widgets/base",
          "model_name": "LayoutModel",
          "state": {
            "_view_name": "LayoutView",
            "grid_template_rows": null,
            "right": null,
            "justify_content": null,
            "_view_module": "@jupyter-widgets/base",
            "overflow": null,
            "_model_module_version": "1.2.0",
            "_view_count": null,
            "flex_flow": null,
            "width": null,
            "min_width": null,
            "border": null,
            "align_items": null,
            "bottom": null,
            "_model_module": "@jupyter-widgets/base",
            "top": null,
            "grid_column": null,
            "overflow_y": null,
            "overflow_x": null,
            "grid_auto_flow": null,
            "grid_area": null,
            "grid_template_columns": null,
            "flex": null,
            "_model_name": "LayoutModel",
            "justify_items": null,
            "grid_row": null,
            "max_height": null,
            "align_content": null,
            "visibility": null,
            "align_self": null,
            "height": null,
            "min_height": null,
            "padding": null,
            "grid_auto_rows": null,
            "grid_gap": null,
            "max_width": null,
            "order": null,
            "_view_module_version": "1.2.0",
            "grid_template_areas": null,
            "object_position": null,
            "object_fit": null,
            "grid_auto_columns": null,
            "margin": null,
            "display": null,
            "left": null
          }
        },
        "12ff16fcbac44e478f319d17c2379d52": {
          "model_module": "@jupyter-widgets/controls",
          "model_name": "DescriptionStyleModel",
          "state": {
            "_view_name": "StyleView",
            "_model_name": "DescriptionStyleModel",
            "description_width": "",
            "_view_module": "@jupyter-widgets/base",
            "_model_module_version": "1.5.0",
            "_view_count": null,
            "_view_module_version": "1.2.0",
            "_model_module": "@jupyter-widgets/controls"
          }
        },
        "37aa3c3f19a442669614bfd0af97815a": {
          "model_module": "@jupyter-widgets/base",
          "model_name": "LayoutModel",
          "state": {
            "_view_name": "LayoutView",
            "grid_template_rows": null,
            "right": null,
            "justify_content": null,
            "_view_module": "@jupyter-widgets/base",
            "overflow": null,
            "_model_module_version": "1.2.0",
            "_view_count": null,
            "flex_flow": null,
            "width": null,
            "min_width": null,
            "border": null,
            "align_items": null,
            "bottom": null,
            "_model_module": "@jupyter-widgets/base",
            "top": null,
            "grid_column": null,
            "overflow_y": null,
            "overflow_x": null,
            "grid_auto_flow": null,
            "grid_area": null,
            "grid_template_columns": null,
            "flex": null,
            "_model_name": "LayoutModel",
            "justify_items": null,
            "grid_row": null,
            "max_height": null,
            "align_content": null,
            "visibility": null,
            "align_self": null,
            "height": null,
            "min_height": null,
            "padding": null,
            "grid_auto_rows": null,
            "grid_gap": null,
            "max_width": null,
            "order": null,
            "_view_module_version": "1.2.0",
            "grid_template_areas": null,
            "object_position": null,
            "object_fit": null,
            "grid_auto_columns": null,
            "margin": null,
            "display": null,
            "left": null
          }
        }
      }
    },
    "accelerator": "GPU"
  },
  "cells": [
    {
      "cell_type": "markdown",
      "metadata": {
        "id": "view-in-github",
        "colab_type": "text"
      },
      "source": [
        "<a href=\"https://colab.research.google.com/github/Offliners/writeup/blob/main/HW7/homework7_2.ipynb\" target=\"_parent\"><img src=\"https://colab.research.google.com/assets/colab-badge.svg\" alt=\"Open In Colab\"/></a>"
      ]
    },
    {
      "cell_type": "markdown",
      "metadata": {
        "id": "xvSGDbExff_I"
      },
      "source": [
        "# **Homework 7 - Bert (Question Answering)**\n",
        "\n",
        "If you have any questions, feel free to email us at ntu-ml-2021spring-ta@googlegroups.com\n",
        "\n",
        "\n",
        "\n",
        "Slide:    [Link](https://docs.google.com/presentation/d/1aQoWogAQo_xVJvMQMrGaYiWzuyfO0QyLLAhiMwFyS2w)　Kaggle: [Link](https://www.kaggle.com/c/ml2021-spring-hw7)　Data: [Link](https://drive.google.com/uc?id=1znKmX08v9Fygp-dgwo7BKiLIf2qL1FH1)\n",
        "\n",
        "\n"
      ]
    },
    {
      "cell_type": "markdown",
      "metadata": {
        "id": "WGOr_eS3wJJf"
      },
      "source": [
        "## Task description\n",
        "- Chinese Extractive Question Answering\n",
        "  - Input: Paragraph + Question\n",
        "  - Output: Answer\n",
        "\n",
        "- Objective: Learn how to fine tune a pretrained model on downstream task using transformers\n",
        "\n",
        "- Todo\n",
        "    - Fine tune a pretrained chinese BERT model\n",
        "    - Change hyperparameters (e.g. doc_stride)\n",
        "    - Apply linear learning rate decay\n",
        "    - Try other pretrained models\n",
        "    - Improve preprocessing\n",
        "    - Improve postprocessing\n",
        "- Training tips\n",
        "    - Automatic mixed precision\n",
        "    - Gradient accumulation\n",
        "    - Ensemble\n",
        "\n",
        "- Estimated training time (tesla t4 with automatic mixed precision enabled)\n",
        "    - Simple: 8mins\n",
        "    - Medium: 8mins\n",
        "    - Strong: 25mins\n",
        "    - Boss: 2hrs\n",
        "  "
      ]
    },
    {
      "cell_type": "markdown",
      "metadata": {
        "id": "TJ1fSAJE2oaC"
      },
      "source": [
        "## Download Dataset"
      ]
    },
    {
      "cell_type": "code",
      "metadata": {
        "id": "d0_OErJqd7CR",
        "colab": {
          "base_uri": "https://localhost:8080/"
        },
        "outputId": "0435fd79-7588-4959-aba9-6eb60053713f"
      },
      "source": [
        "# For this HW, K80 < P4 < T4 < P100 <= T4(fp16) < V100\n",
        "!nvidia-smi"
      ],
      "execution_count": 1,
      "outputs": [
        {
          "output_type": "stream",
          "text": [
            "Tue May 18 10:11:39 2021       \n",
            "+-----------------------------------------------------------------------------+\n",
            "| NVIDIA-SMI 465.19.01    Driver Version: 460.32.03    CUDA Version: 11.2     |\n",
            "|-------------------------------+----------------------+----------------------+\n",
            "| GPU  Name        Persistence-M| Bus-Id        Disp.A | Volatile Uncorr. ECC |\n",
            "| Fan  Temp  Perf  Pwr:Usage/Cap|         Memory-Usage | GPU-Util  Compute M. |\n",
            "|                               |                      |               MIG M. |\n",
            "|===============================+======================+======================|\n",
            "|   0  Tesla T4            Off  | 00000000:00:04.0 Off |                    0 |\n",
            "| N/A   51C    P8    10W /  70W |      0MiB / 15109MiB |      0%      Default |\n",
            "|                               |                      |                  N/A |\n",
            "+-------------------------------+----------------------+----------------------+\n",
            "                                                                               \n",
            "+-----------------------------------------------------------------------------+\n",
            "| Processes:                                                                  |\n",
            "|  GPU   GI   CI        PID   Type   Process name                  GPU Memory |\n",
            "|        ID   ID                                                   Usage      |\n",
            "|=============================================================================|\n",
            "|  No running processes found                                                 |\n",
            "+-----------------------------------------------------------------------------+\n"
          ],
          "name": "stdout"
        }
      ]
    },
    {
      "cell_type": "code",
      "metadata": {
        "id": "YPrc4Eie9Yo5",
        "colab": {
          "base_uri": "https://localhost:8080/"
        },
        "outputId": "98067a5b-279b-4448-8c23-1ee2e61334ba"
      },
      "source": [
        "# Download link 1\n",
        "!gdown --id '1znKmX08v9Fygp-dgwo7BKiLIf2qL1FH1' --output hw7_data.zip\n",
        "\n",
        "# Download Link 2 (if the above link fails) \n",
        "# !gdown --id '1pOu3FdPdvzielUZyggeD7KDnVy9iW1uC' --output hw7_data.zip\n",
        "\n",
        "!unzip -o hw7_data.zip"
      ],
      "execution_count": 2,
      "outputs": [
        {
          "output_type": "stream",
          "text": [
            "Downloading...\n",
            "From: https://drive.google.com/uc?id=1znKmX08v9Fygp-dgwo7BKiLIf2qL1FH1\n",
            "To: /content/hw7_data.zip\n",
            "7.71MB [00:00, 47.2MB/s]\n",
            "Archive:  hw7_data.zip\n",
            "  inflating: hw7_dev.json            \n",
            "  inflating: hw7_test.json           \n",
            "  inflating: hw7_train.json          \n"
          ],
          "name": "stdout"
        }
      ]
    },
    {
      "cell_type": "markdown",
      "metadata": {
        "id": "TevOvhC03m0h"
      },
      "source": [
        "## Install transformers\n",
        "\n",
        "Documentation for the toolkit:　https://huggingface.co/transformers/"
      ]
    },
    {
      "cell_type": "code",
      "metadata": {
        "id": "tbxWFX_jpDom",
        "colab": {
          "base_uri": "https://localhost:8080/"
        },
        "outputId": "5a5508c8-d774-4ca0-d2ca-87e9bc8d7d9f"
      },
      "source": [
        "# You are allowed to change version of transformers or use other toolkits\n",
        "!pip install transformers==4.5.0"
      ],
      "execution_count": 3,
      "outputs": [
        {
          "output_type": "stream",
          "text": [
            "Collecting transformers==4.5.0\n",
            "\u001b[?25l  Downloading https://files.pythonhosted.org/packages/81/91/61d69d58a1af1bd81d9ca9d62c90a6de3ab80d77f27c5df65d9a2c1f5626/transformers-4.5.0-py3-none-any.whl (2.1MB)\n",
            "\r\u001b[K     |▏                               | 10kB 27.7MB/s eta 0:00:01\r\u001b[K     |▎                               | 20kB 33.0MB/s eta 0:00:01\r\u001b[K     |▌                               | 30kB 36.4MB/s eta 0:00:01\r\u001b[K     |▋                               | 40kB 28.0MB/s eta 0:00:01\r\u001b[K     |▊                               | 51kB 29.3MB/s eta 0:00:01\r\u001b[K     |█                               | 61kB 31.3MB/s eta 0:00:01\r\u001b[K     |█                               | 71kB 28.1MB/s eta 0:00:01\r\u001b[K     |█▏                              | 81kB 27.3MB/s eta 0:00:01\r\u001b[K     |█▍                              | 92kB 28.7MB/s eta 0:00:01\r\u001b[K     |█▌                              | 102kB 28.3MB/s eta 0:00:01\r\u001b[K     |█▊                              | 112kB 28.3MB/s eta 0:00:01\r\u001b[K     |█▉                              | 122kB 28.3MB/s eta 0:00:01\r\u001b[K     |██                              | 133kB 28.3MB/s eta 0:00:01\r\u001b[K     |██▏                             | 143kB 28.3MB/s eta 0:00:01\r\u001b[K     |██▎                             | 153kB 28.3MB/s eta 0:00:01\r\u001b[K     |██▍                             | 163kB 28.3MB/s eta 0:00:01\r\u001b[K     |██▋                             | 174kB 28.3MB/s eta 0:00:01\r\u001b[K     |██▊                             | 184kB 28.3MB/s eta 0:00:01\r\u001b[K     |███                             | 194kB 28.3MB/s eta 0:00:01\r\u001b[K     |███                             | 204kB 28.3MB/s eta 0:00:01\r\u001b[K     |███▏                            | 215kB 28.3MB/s eta 0:00:01\r\u001b[K     |███▍                            | 225kB 28.3MB/s eta 0:00:01\r\u001b[K     |███▌                            | 235kB 28.3MB/s eta 0:00:01\r\u001b[K     |███▋                            | 245kB 28.3MB/s eta 0:00:01\r\u001b[K     |███▉                            | 256kB 28.3MB/s eta 0:00:01\r\u001b[K     |████                            | 266kB 28.3MB/s eta 0:00:01\r\u001b[K     |████▏                           | 276kB 28.3MB/s eta 0:00:01\r\u001b[K     |████▎                           | 286kB 28.3MB/s eta 0:00:01\r\u001b[K     |████▍                           | 296kB 28.3MB/s eta 0:00:01\r\u001b[K     |████▋                           | 307kB 28.3MB/s eta 0:00:01\r\u001b[K     |████▊                           | 317kB 28.3MB/s eta 0:00:01\r\u001b[K     |████▉                           | 327kB 28.3MB/s eta 0:00:01\r\u001b[K     |█████                           | 337kB 28.3MB/s eta 0:00:01\r\u001b[K     |█████▏                          | 348kB 28.3MB/s eta 0:00:01\r\u001b[K     |█████▍                          | 358kB 28.3MB/s eta 0:00:01\r\u001b[K     |█████▌                          | 368kB 28.3MB/s eta 0:00:01\r\u001b[K     |█████▋                          | 378kB 28.3MB/s eta 0:00:01\r\u001b[K     |█████▉                          | 389kB 28.3MB/s eta 0:00:01\r\u001b[K     |██████                          | 399kB 28.3MB/s eta 0:00:01\r\u001b[K     |██████                          | 409kB 28.3MB/s eta 0:00:01\r\u001b[K     |██████▎                         | 419kB 28.3MB/s eta 0:00:01\r\u001b[K     |██████▍                         | 430kB 28.3MB/s eta 0:00:01\r\u001b[K     |██████▋                         | 440kB 28.3MB/s eta 0:00:01\r\u001b[K     |██████▊                         | 450kB 28.3MB/s eta 0:00:01\r\u001b[K     |██████▉                         | 460kB 28.3MB/s eta 0:00:01\r\u001b[K     |███████                         | 471kB 28.3MB/s eta 0:00:01\r\u001b[K     |███████▏                        | 481kB 28.3MB/s eta 0:00:01\r\u001b[K     |███████▎                        | 491kB 28.3MB/s eta 0:00:01\r\u001b[K     |███████▌                        | 501kB 28.3MB/s eta 0:00:01\r\u001b[K     |███████▋                        | 512kB 28.3MB/s eta 0:00:01\r\u001b[K     |███████▉                        | 522kB 28.3MB/s eta 0:00:01\r\u001b[K     |████████                        | 532kB 28.3MB/s eta 0:00:01\r\u001b[K     |████████                        | 542kB 28.3MB/s eta 0:00:01\r\u001b[K     |████████▎                       | 552kB 28.3MB/s eta 0:00:01\r\u001b[K     |████████▍                       | 563kB 28.3MB/s eta 0:00:01\r\u001b[K     |████████▌                       | 573kB 28.3MB/s eta 0:00:01\r\u001b[K     |████████▊                       | 583kB 28.3MB/s eta 0:00:01\r\u001b[K     |████████▉                       | 593kB 28.3MB/s eta 0:00:01\r\u001b[K     |█████████                       | 604kB 28.3MB/s eta 0:00:01\r\u001b[K     |█████████▏                      | 614kB 28.3MB/s eta 0:00:01\r\u001b[K     |█████████▎                      | 624kB 28.3MB/s eta 0:00:01\r\u001b[K     |█████████▌                      | 634kB 28.3MB/s eta 0:00:01\r\u001b[K     |█████████▋                      | 645kB 28.3MB/s eta 0:00:01\r\u001b[K     |█████████▊                      | 655kB 28.3MB/s eta 0:00:01\r\u001b[K     |██████████                      | 665kB 28.3MB/s eta 0:00:01\r\u001b[K     |██████████                      | 675kB 28.3MB/s eta 0:00:01\r\u001b[K     |██████████▎                     | 686kB 28.3MB/s eta 0:00:01\r\u001b[K     |██████████▍                     | 696kB 28.3MB/s eta 0:00:01\r\u001b[K     |██████████▌                     | 706kB 28.3MB/s eta 0:00:01\r\u001b[K     |██████████▊                     | 716kB 28.3MB/s eta 0:00:01\r\u001b[K     |██████████▉                     | 727kB 28.3MB/s eta 0:00:01\r\u001b[K     |███████████                     | 737kB 28.3MB/s eta 0:00:01\r\u001b[K     |███████████▏                    | 747kB 28.3MB/s eta 0:00:01\r\u001b[K     |███████████▎                    | 757kB 28.3MB/s eta 0:00:01\r\u001b[K     |███████████▌                    | 768kB 28.3MB/s eta 0:00:01\r\u001b[K     |███████████▋                    | 778kB 28.3MB/s eta 0:00:01\r\u001b[K     |███████████▊                    | 788kB 28.3MB/s eta 0:00:01\r\u001b[K     |████████████                    | 798kB 28.3MB/s eta 0:00:01\r\u001b[K     |████████████                    | 808kB 28.3MB/s eta 0:00:01\r\u001b[K     |████████████▏                   | 819kB 28.3MB/s eta 0:00:01\r\u001b[K     |████████████▍                   | 829kB 28.3MB/s eta 0:00:01\r\u001b[K     |████████████▌                   | 839kB 28.3MB/s eta 0:00:01\r\u001b[K     |████████████▊                   | 849kB 28.3MB/s eta 0:00:01\r\u001b[K     |████████████▉                   | 860kB 28.3MB/s eta 0:00:01\r\u001b[K     |█████████████                   | 870kB 28.3MB/s eta 0:00:01\r\u001b[K     |█████████████▏                  | 880kB 28.3MB/s eta 0:00:01\r\u001b[K     |█████████████▎                  | 890kB 28.3MB/s eta 0:00:01\r\u001b[K     |█████████████▍                  | 901kB 28.3MB/s eta 0:00:01\r\u001b[K     |█████████████▋                  | 911kB 28.3MB/s eta 0:00:01\r\u001b[K     |█████████████▊                  | 921kB 28.3MB/s eta 0:00:01\r\u001b[K     |██████████████                  | 931kB 28.3MB/s eta 0:00:01\r\u001b[K     |██████████████                  | 942kB 28.3MB/s eta 0:00:01\r\u001b[K     |██████████████▏                 | 952kB 28.3MB/s eta 0:00:01\r\u001b[K     |██████████████▍                 | 962kB 28.3MB/s eta 0:00:01\r\u001b[K     |██████████████▌                 | 972kB 28.3MB/s eta 0:00:01\r\u001b[K     |██████████████▋                 | 983kB 28.3MB/s eta 0:00:01\r\u001b[K     |██████████████▉                 | 993kB 28.3MB/s eta 0:00:01\r\u001b[K     |███████████████                 | 1.0MB 28.3MB/s eta 0:00:01\r\u001b[K     |███████████████▏                | 1.0MB 28.3MB/s eta 0:00:01\r\u001b[K     |███████████████▎                | 1.0MB 28.3MB/s eta 0:00:01\r\u001b[K     |███████████████▍                | 1.0MB 28.3MB/s eta 0:00:01\r\u001b[K     |███████████████▋                | 1.0MB 28.3MB/s eta 0:00:01\r\u001b[K     |███████████████▊                | 1.1MB 28.3MB/s eta 0:00:01\r\u001b[K     |███████████████▉                | 1.1MB 28.3MB/s eta 0:00:01\r\u001b[K     |████████████████                | 1.1MB 28.3MB/s eta 0:00:01\r\u001b[K     |████████████████▏               | 1.1MB 28.3MB/s eta 0:00:01\r\u001b[K     |████████████████▍               | 1.1MB 28.3MB/s eta 0:00:01\r\u001b[K     |████████████████▌               | 1.1MB 28.3MB/s eta 0:00:01\r\u001b[K     |████████████████▋               | 1.1MB 28.3MB/s eta 0:00:01\r\u001b[K     |████████████████▉               | 1.1MB 28.3MB/s eta 0:00:01\r\u001b[K     |█████████████████               | 1.1MB 28.3MB/s eta 0:00:01\r\u001b[K     |█████████████████               | 1.1MB 28.3MB/s eta 0:00:01\r\u001b[K     |█████████████████▎              | 1.2MB 28.3MB/s eta 0:00:01\r\u001b[K     |█████████████████▍              | 1.2MB 28.3MB/s eta 0:00:01\r\u001b[K     |█████████████████▌              | 1.2MB 28.3MB/s eta 0:00:01\r\u001b[K     |█████████████████▊              | 1.2MB 28.3MB/s eta 0:00:01\r\u001b[K     |█████████████████▉              | 1.2MB 28.3MB/s eta 0:00:01\r\u001b[K     |██████████████████              | 1.2MB 28.3MB/s eta 0:00:01\r\u001b[K     |██████████████████▏             | 1.2MB 28.3MB/s eta 0:00:01\r\u001b[K     |██████████████████▎             | 1.2MB 28.3MB/s eta 0:00:01\r\u001b[K     |██████████████████▌             | 1.2MB 28.3MB/s eta 0:00:01\r\u001b[K     |██████████████████▋             | 1.2MB 28.3MB/s eta 0:00:01\r\u001b[K     |██████████████████▊             | 1.3MB 28.3MB/s eta 0:00:01\r\u001b[K     |███████████████████             | 1.3MB 28.3MB/s eta 0:00:01\r\u001b[K     |███████████████████             | 1.3MB 28.3MB/s eta 0:00:01\r\u001b[K     |███████████████████▎            | 1.3MB 28.3MB/s eta 0:00:01\r\u001b[K     |███████████████████▍            | 1.3MB 28.3MB/s eta 0:00:01\r\u001b[K     |███████████████████▌            | 1.3MB 28.3MB/s eta 0:00:01\r\u001b[K     |███████████████████▊            | 1.3MB 28.3MB/s eta 0:00:01\r\u001b[K     |███████████████████▉            | 1.3MB 28.3MB/s eta 0:00:01\r\u001b[K     |████████████████████            | 1.3MB 28.3MB/s eta 0:00:01\r\u001b[K     |████████████████████▏           | 1.4MB 28.3MB/s eta 0:00:01\r\u001b[K     |████████████████████▎           | 1.4MB 28.3MB/s eta 0:00:01\r\u001b[K     |████████████████████▌           | 1.4MB 28.3MB/s eta 0:00:01\r\u001b[K     |████████████████████▋           | 1.4MB 28.3MB/s eta 0:00:01\r\u001b[K     |████████████████████▊           | 1.4MB 28.3MB/s eta 0:00:01\r\u001b[K     |█████████████████████           | 1.4MB 28.3MB/s eta 0:00:01\r\u001b[K     |█████████████████████           | 1.4MB 28.3MB/s eta 0:00:01\r\u001b[K     |█████████████████████▏          | 1.4MB 28.3MB/s eta 0:00:01\r\u001b[K     |█████████████████████▍          | 1.4MB 28.3MB/s eta 0:00:01\r\u001b[K     |█████████████████████▌          | 1.4MB 28.3MB/s eta 0:00:01\r\u001b[K     |█████████████████████▊          | 1.5MB 28.3MB/s eta 0:00:01\r\u001b[K     |█████████████████████▉          | 1.5MB 28.3MB/s eta 0:00:01\r\u001b[K     |██████████████████████          | 1.5MB 28.3MB/s eta 0:00:01\r\u001b[K     |██████████████████████▏         | 1.5MB 28.3MB/s eta 0:00:01\r\u001b[K     |██████████████████████▎         | 1.5MB 28.3MB/s eta 0:00:01\r\u001b[K     |██████████████████████▍         | 1.5MB 28.3MB/s eta 0:00:01\r\u001b[K     |██████████████████████▋         | 1.5MB 28.3MB/s eta 0:00:01\r\u001b[K     |██████████████████████▊         | 1.5MB 28.3MB/s eta 0:00:01\r\u001b[K     |███████████████████████         | 1.5MB 28.3MB/s eta 0:00:01\r\u001b[K     |███████████████████████         | 1.5MB 28.3MB/s eta 0:00:01\r\u001b[K     |███████████████████████▏        | 1.6MB 28.3MB/s eta 0:00:01\r\u001b[K     |███████████████████████▍        | 1.6MB 28.3MB/s eta 0:00:01\r\u001b[K     |███████████████████████▌        | 1.6MB 28.3MB/s eta 0:00:01\r\u001b[K     |███████████████████████▋        | 1.6MB 28.3MB/s eta 0:00:01\r\u001b[K     |███████████████████████▉        | 1.6MB 28.3MB/s eta 0:00:01\r\u001b[K     |████████████████████████        | 1.6MB 28.3MB/s eta 0:00:01\r\u001b[K     |████████████████████████▏       | 1.6MB 28.3MB/s eta 0:00:01\r\u001b[K     |████████████████████████▎       | 1.6MB 28.3MB/s eta 0:00:01\r\u001b[K     |████████████████████████▍       | 1.6MB 28.3MB/s eta 0:00:01\r\u001b[K     |████████████████████████▋       | 1.6MB 28.3MB/s eta 0:00:01\r\u001b[K     |████████████████████████▊       | 1.7MB 28.3MB/s eta 0:00:01\r\u001b[K     |████████████████████████▉       | 1.7MB 28.3MB/s eta 0:00:01\r\u001b[K     |█████████████████████████       | 1.7MB 28.3MB/s eta 0:00:01\r\u001b[K     |█████████████████████████▏      | 1.7MB 28.3MB/s eta 0:00:01\r\u001b[K     |█████████████████████████▍      | 1.7MB 28.3MB/s eta 0:00:01\r\u001b[K     |█████████████████████████▌      | 1.7MB 28.3MB/s eta 0:00:01\r\u001b[K     |█████████████████████████▋      | 1.7MB 28.3MB/s eta 0:00:01\r\u001b[K     |█████████████████████████▉      | 1.7MB 28.3MB/s eta 0:00:01\r\u001b[K     |██████████████████████████      | 1.7MB 28.3MB/s eta 0:00:01\r\u001b[K     |██████████████████████████      | 1.8MB 28.3MB/s eta 0:00:01\r\u001b[K     |██████████████████████████▎     | 1.8MB 28.3MB/s eta 0:00:01\r\u001b[K     |██████████████████████████▍     | 1.8MB 28.3MB/s eta 0:00:01\r\u001b[K     |██████████████████████████▋     | 1.8MB 28.3MB/s eta 0:00:01\r\u001b[K     |██████████████████████████▊     | 1.8MB 28.3MB/s eta 0:00:01\r\u001b[K     |██████████████████████████▉     | 1.8MB 28.3MB/s eta 0:00:01\r\u001b[K     |███████████████████████████     | 1.8MB 28.3MB/s eta 0:00:01\r\u001b[K     |███████████████████████████▏    | 1.8MB 28.3MB/s eta 0:00:01\r\u001b[K     |███████████████████████████▎    | 1.8MB 28.3MB/s eta 0:00:01\r\u001b[K     |███████████████████████████▌    | 1.8MB 28.3MB/s eta 0:00:01\r\u001b[K     |███████████████████████████▋    | 1.9MB 28.3MB/s eta 0:00:01\r\u001b[K     |███████████████████████████▉    | 1.9MB 28.3MB/s eta 0:00:01\r\u001b[K     |████████████████████████████    | 1.9MB 28.3MB/s eta 0:00:01\r\u001b[K     |████████████████████████████    | 1.9MB 28.3MB/s eta 0:00:01\r\u001b[K     |████████████████████████████▎   | 1.9MB 28.3MB/s eta 0:00:01\r\u001b[K     |████████████████████████████▍   | 1.9MB 28.3MB/s eta 0:00:01\r\u001b[K     |████████████████████████████▌   | 1.9MB 28.3MB/s eta 0:00:01\r\u001b[K     |████████████████████████████▊   | 1.9MB 28.3MB/s eta 0:00:01\r\u001b[K     |████████████████████████████▉   | 1.9MB 28.3MB/s eta 0:00:01\r\u001b[K     |█████████████████████████████   | 1.9MB 28.3MB/s eta 0:00:01\r\u001b[K     |█████████████████████████████▏  | 2.0MB 28.3MB/s eta 0:00:01\r\u001b[K     |█████████████████████████████▎  | 2.0MB 28.3MB/s eta 0:00:01\r\u001b[K     |█████████████████████████████▌  | 2.0MB 28.3MB/s eta 0:00:01\r\u001b[K     |█████████████████████████████▋  | 2.0MB 28.3MB/s eta 0:00:01\r\u001b[K     |█████████████████████████████▊  | 2.0MB 28.3MB/s eta 0:00:01\r\u001b[K     |██████████████████████████████  | 2.0MB 28.3MB/s eta 0:00:01\r\u001b[K     |██████████████████████████████  | 2.0MB 28.3MB/s eta 0:00:01\r\u001b[K     |██████████████████████████████▎ | 2.0MB 28.3MB/s eta 0:00:01\r\u001b[K     |██████████████████████████████▍ | 2.0MB 28.3MB/s eta 0:00:01\r\u001b[K     |██████████████████████████████▌ | 2.0MB 28.3MB/s eta 0:00:01\r\u001b[K     |██████████████████████████████▊ | 2.1MB 28.3MB/s eta 0:00:01\r\u001b[K     |██████████████████████████████▉ | 2.1MB 28.3MB/s eta 0:00:01\r\u001b[K     |███████████████████████████████ | 2.1MB 28.3MB/s eta 0:00:01\r\u001b[K     |███████████████████████████████▏| 2.1MB 28.3MB/s eta 0:00:01\r\u001b[K     |███████████████████████████████▎| 2.1MB 28.3MB/s eta 0:00:01\r\u001b[K     |███████████████████████████████▌| 2.1MB 28.3MB/s eta 0:00:01\r\u001b[K     |███████████████████████████████▋| 2.1MB 28.3MB/s eta 0:00:01\r\u001b[K     |███████████████████████████████▊| 2.1MB 28.3MB/s eta 0:00:01\r\u001b[K     |████████████████████████████████| 2.1MB 28.3MB/s eta 0:00:01\r\u001b[K     |████████████████████████████████| 2.2MB 28.3MB/s \n",
            "\u001b[?25hRequirement already satisfied: packaging in /usr/local/lib/python3.7/dist-packages (from transformers==4.5.0) (20.9)\n",
            "Requirement already satisfied: tqdm>=4.27 in /usr/local/lib/python3.7/dist-packages (from transformers==4.5.0) (4.41.1)\n",
            "Requirement already satisfied: importlib-metadata; python_version < \"3.8\" in /usr/local/lib/python3.7/dist-packages (from transformers==4.5.0) (4.0.1)\n",
            "Requirement already satisfied: requests in /usr/local/lib/python3.7/dist-packages (from transformers==4.5.0) (2.23.0)\n",
            "Requirement already satisfied: numpy>=1.17 in /usr/local/lib/python3.7/dist-packages (from transformers==4.5.0) (1.19.5)\n",
            "Requirement already satisfied: filelock in /usr/local/lib/python3.7/dist-packages (from transformers==4.5.0) (3.0.12)\n",
            "Requirement already satisfied: regex!=2019.12.17 in /usr/local/lib/python3.7/dist-packages (from transformers==4.5.0) (2019.12.20)\n",
            "Collecting tokenizers<0.11,>=0.10.1\n",
            "\u001b[?25l  Downloading https://files.pythonhosted.org/packages/ae/04/5b870f26a858552025a62f1649c20d29d2672c02ff3c3fb4c688ca46467a/tokenizers-0.10.2-cp37-cp37m-manylinux2010_x86_64.whl (3.3MB)\n",
            "\u001b[K     |████████████████████████████████| 3.3MB 38.5MB/s \n",
            "\u001b[?25hCollecting sacremoses\n",
            "\u001b[?25l  Downloading https://files.pythonhosted.org/packages/75/ee/67241dc87f266093c533a2d4d3d69438e57d7a90abb216fa076e7d475d4a/sacremoses-0.0.45-py3-none-any.whl (895kB)\n",
            "\u001b[K     |████████████████████████████████| 901kB 50.5MB/s \n",
            "\u001b[?25hRequirement already satisfied: pyparsing>=2.0.2 in /usr/local/lib/python3.7/dist-packages (from packaging->transformers==4.5.0) (2.4.7)\n",
            "Requirement already satisfied: typing-extensions>=3.6.4; python_version < \"3.8\" in /usr/local/lib/python3.7/dist-packages (from importlib-metadata; python_version < \"3.8\"->transformers==4.5.0) (3.7.4.3)\n",
            "Requirement already satisfied: zipp>=0.5 in /usr/local/lib/python3.7/dist-packages (from importlib-metadata; python_version < \"3.8\"->transformers==4.5.0) (3.4.1)\n",
            "Requirement already satisfied: urllib3!=1.25.0,!=1.25.1,<1.26,>=1.21.1 in /usr/local/lib/python3.7/dist-packages (from requests->transformers==4.5.0) (1.24.3)\n",
            "Requirement already satisfied: idna<3,>=2.5 in /usr/local/lib/python3.7/dist-packages (from requests->transformers==4.5.0) (2.10)\n",
            "Requirement already satisfied: chardet<4,>=3.0.2 in /usr/local/lib/python3.7/dist-packages (from requests->transformers==4.5.0) (3.0.4)\n",
            "Requirement already satisfied: certifi>=2017.4.17 in /usr/local/lib/python3.7/dist-packages (from requests->transformers==4.5.0) (2020.12.5)\n",
            "Requirement already satisfied: six in /usr/local/lib/python3.7/dist-packages (from sacremoses->transformers==4.5.0) (1.15.0)\n",
            "Requirement already satisfied: click in /usr/local/lib/python3.7/dist-packages (from sacremoses->transformers==4.5.0) (8.0.0)\n",
            "Requirement already satisfied: joblib in /usr/local/lib/python3.7/dist-packages (from sacremoses->transformers==4.5.0) (1.0.1)\n",
            "Installing collected packages: tokenizers, sacremoses, transformers\n",
            "Successfully installed sacremoses-0.0.45 tokenizers-0.10.2 transformers-4.5.0\n"
          ],
          "name": "stdout"
        }
      ]
    },
    {
      "cell_type": "markdown",
      "metadata": {
        "id": "8dKM4yCh4LI_"
      },
      "source": [
        "## Import Packages"
      ]
    },
    {
      "cell_type": "code",
      "metadata": {
        "id": "WOTHHtWJoahe"
      },
      "source": [
        "import json\n",
        "import numpy as np\n",
        "import random\n",
        "import torch\n",
        "from torch.utils.data import DataLoader, Dataset \n",
        "from transformers import AdamW, BertForQuestionAnswering, BertTokenizerFast\n",
        "from transformers import AutoTokenizer, AutoModel\n",
        "from tqdm.auto import tqdm\n",
        "from transformers import get_linear_schedule_with_warmup\n",
        "from random import randint\n",
        "\n",
        "device = \"cuda\" if torch.cuda.is_available() else \"cpu\"\n",
        "\n",
        "# Fix random seed for reproducibility\n",
        "def same_seeds(seed):\n",
        "\t  torch.manual_seed(seed)\n",
        "\t  if torch.cuda.is_available():\n",
        "\t\t    torch.cuda.manual_seed(seed)\n",
        "\t\t    torch.cuda.manual_seed_all(seed)\n",
        "\t  np.random.seed(seed)\n",
        "\t  random.seed(seed)\n",
        "\t  torch.backends.cudnn.benchmark = False\n",
        "\t  torch.backends.cudnn.deterministic = True\n",
        "same_seeds(0)"
      ],
      "execution_count": 15,
      "outputs": []
    },
    {
      "cell_type": "code",
      "metadata": {
        "id": "7pBtSZP1SKQO",
        "colab": {
          "base_uri": "https://localhost:8080/"
        },
        "outputId": "c3cd3713-ce9c-4367-ca3f-8803479db6e2"
      },
      "source": [
        "# Change \"fp16_training\" to True to support automatic mixed precision training (fp16)\t\n",
        "fp16_training = True\n",
        "\n",
        "if fp16_training:\n",
        "    !pip install accelerate==0.2.0\n",
        "    from accelerate import Accelerator\n",
        "    accelerator = Accelerator(fp16=True)\n",
        "    device = accelerator.device\n",
        "\n",
        "# Documentation for the toolkit:  https://huggingface.co/docs/accelerate/"
      ],
      "execution_count": 16,
      "outputs": [
        {
          "output_type": "stream",
          "text": [
            "Requirement already satisfied: accelerate==0.2.0 in /usr/local/lib/python3.7/dist-packages (0.2.0)\n",
            "Requirement already satisfied: pyaml>=20.4.0 in /usr/local/lib/python3.7/dist-packages (from accelerate==0.2.0) (20.4.0)\n",
            "Requirement already satisfied: torch>=1.4.0 in /usr/local/lib/python3.7/dist-packages (from accelerate==0.2.0) (1.8.1+cu101)\n",
            "Requirement already satisfied: PyYAML in /usr/local/lib/python3.7/dist-packages (from pyaml>=20.4.0->accelerate==0.2.0) (3.13)\n",
            "Requirement already satisfied: typing-extensions in /usr/local/lib/python3.7/dist-packages (from torch>=1.4.0->accelerate==0.2.0) (3.7.4.3)\n",
            "Requirement already satisfied: numpy in /usr/local/lib/python3.7/dist-packages (from torch>=1.4.0->accelerate==0.2.0) (1.19.5)\n"
          ],
          "name": "stdout"
        }
      ]
    },
    {
      "cell_type": "markdown",
      "metadata": {
        "id": "2YgXHuVLp_6j"
      },
      "source": [
        "## Load Model and Tokenizer\n",
        "\n",
        "\n",
        "\n",
        "\n",
        " "
      ]
    },
    {
      "cell_type": "code",
      "metadata": {
        "id": "xyBCYGjAp3ym"
      },
      "source": [
        "# model = BertForQuestionAnswering.from_pretrained(\"bert-base-chinese\").to(device)\n",
        "# tokenizer = BertTokenizerFast.from_pretrained(\"bert-base-chinese\")\n",
        "\n",
        "from transformers import AutoTokenizer, AutoModelForQuestionAnswering\n",
        "  \n",
        "tokenizer = AutoTokenizer.from_pretrained(\"nyust-eb210/braslab-bert-drcd-384\")\n",
        "\n",
        "model = AutoModelForQuestionAnswering.from_pretrained(\"nyust-eb210/braslab-bert-drcd-384\")\n",
        "\n",
        "# You can safely ignore the warning message (it pops up because new prediction heads for QA are initialized randomly)"
      ],
      "execution_count": 17,
      "outputs": []
    },
    {
      "cell_type": "markdown",
      "metadata": {
        "id": "3Td-GTmk5OW4"
      },
      "source": [
        "## Read Data\n",
        "\n",
        "- Training set: 26935 QA pairs\n",
        "- Dev set: 3523  QA pairs\n",
        "- Test set: 3492  QA pairs\n",
        "\n",
        "- {train/dev/test}_questions:\t\n",
        "  - List of dicts with the following keys:\n",
        "   - id (int)\n",
        "   - paragraph_id (int)\n",
        "   - question_text (string)\n",
        "   - answer_text (string)\n",
        "   - answer_start (int)\n",
        "   - answer_end (int)\n",
        "- {train/dev/test}_paragraphs: \n",
        "  - List of strings\n",
        "  - paragraph_ids in questions correspond to indexs in paragraphs\n",
        "  - A paragraph may be used by several questions "
      ]
    },
    {
      "cell_type": "code",
      "metadata": {
        "id": "NvX7hlepogvu"
      },
      "source": [
        "def read_data(file):\n",
        "    with open(file, 'r', encoding=\"utf-8\") as reader:\n",
        "        data = json.load(reader)\n",
        "    return data[\"questions\"], data[\"paragraphs\"]\n",
        "\n",
        "train_questions, train_paragraphs = read_data(\"hw7_train.json\")\n",
        "dev_questions, dev_paragraphs = read_data(\"hw7_dev.json\")\n",
        "test_questions, test_paragraphs = read_data(\"hw7_test.json\")"
      ],
      "execution_count": 18,
      "outputs": []
    },
    {
      "cell_type": "markdown",
      "metadata": {
        "id": "Fm0rpTHq0e4N"
      },
      "source": [
        "## Tokenize Data"
      ]
    },
    {
      "cell_type": "code",
      "metadata": {
        "id": "rTZ6B70Hoxie",
        "colab": {
          "base_uri": "https://localhost:8080/"
        },
        "outputId": "9df8c0b2-9c57-4df3-b78e-8089cd7a5e64"
      },
      "source": [
        "# Tokenize questions and paragraphs separately\n",
        "# 「add_special_tokens」 is set to False since special tokens will be added when tokenized questions and paragraphs are combined in datset __getitem__ \n",
        "\n",
        "train_questions_tokenized = tokenizer([train_question[\"question_text\"] for train_question in train_questions], add_special_tokens=False)\n",
        "dev_questions_tokenized = tokenizer([dev_question[\"question_text\"] for dev_question in dev_questions], add_special_tokens=False)\n",
        "test_questions_tokenized = tokenizer([test_question[\"question_text\"] for test_question in test_questions], add_special_tokens=False) \n",
        "\n",
        "train_paragraphs_tokenized = tokenizer(train_paragraphs, add_special_tokens=False)\n",
        "dev_paragraphs_tokenized = tokenizer(dev_paragraphs, add_special_tokens=False)\n",
        "test_paragraphs_tokenized = tokenizer(test_paragraphs, add_special_tokens=False)\n",
        "\n",
        "# You can safely ignore the warning message as tokenized sequences will be futher processed in datset __getitem__ before passing to model"
      ],
      "execution_count": 19,
      "outputs": [
        {
          "output_type": "stream",
          "text": [
            "Token indices sequence length is longer than the specified maximum sequence length for this model (570 > 512). Running this sequence through the model will result in indexing errors\n"
          ],
          "name": "stderr"
        }
      ]
    },
    {
      "cell_type": "markdown",
      "metadata": {
        "id": "Ws8c8_4d5UCI"
      },
      "source": [
        "## Dataset and Dataloader"
      ]
    },
    {
      "cell_type": "code",
      "metadata": {
        "id": "Xjooag-Swnuh"
      },
      "source": [
        "class QA_Dataset(Dataset):\n",
        "    def __init__(self, split, questions, tokenized_questions, tokenized_paragraphs):\n",
        "        self.split = split\n",
        "        self.questions = questions\n",
        "        self.tokenized_questions = tokenized_questions\n",
        "        self.tokenized_paragraphs = tokenized_paragraphs\n",
        "        self.max_question_len = 100\n",
        "        self.max_paragraph_len = 384\n",
        "        \n",
        "        ##### TODO: Change value of doc_stride #####\n",
        "        self.doc_stride = 16\n",
        "\n",
        "        # Input sequence length = [CLS] + question + [SEP] + paragraph + [SEP]\n",
        "        self.max_seq_len = 1 + self.max_question_len + 1 + self.max_paragraph_len + 1\n",
        "\n",
        "    def __len__(self):\n",
        "        return len(self.questions)\n",
        "\n",
        "    def __getitem__(self, idx):\n",
        "        question = self.questions[idx]\n",
        "        tokenized_question = self.tokenized_questions[idx]\n",
        "        tokenized_paragraph = self.tokenized_paragraphs[question[\"paragraph_id\"]]\n",
        "\n",
        "        ##### TODO: Preprocessing #####\n",
        "        # Hint: How to prevent model from learning something it should not learn\n",
        "\n",
        "        if self.split == \"train\":\n",
        "            # Convert answer's start/end positions in paragraph_text to start/end positions in tokenized_paragraph  \n",
        "            answer_start_token = tokenized_paragraph.char_to_token(question[\"answer_start\"])\n",
        "            answer_end_token = tokenized_paragraph.char_to_token(question[\"answer_end\"])\n",
        "\n",
        "            # A single window is obtained by slicing the portion of paragraph containing the answer\n",
        "            pos = randint(answer_start_token, answer_end_token) # (answer_start_token + answer_end_token) // 2\n",
        "            paragraph_start = max(0, min((pos - answer_start_token) // (), len(tokenized_paragraph) - self.max_paragraph_len))\n",
        "            paragraph_end = paragraph_start + self.max_paragraph_len\n",
        "\n",
        "            # Slice question/paragraph and add special tokens (101: CLS, 102: SEP)\n",
        "            input_ids_question = [101] + tokenized_question.ids[:self.max_question_len] + [102] \n",
        "            input_ids_paragraph = tokenized_paragraph.ids[paragraph_start : paragraph_end] + [102]\t\t\n",
        "            \n",
        "            # Convert answer's start/end positions in tokenized_paragraph to start/end positions in the window  \n",
        "            answer_start_token += len(input_ids_question) - paragraph_start\n",
        "            answer_end_token += len(input_ids_question) - paragraph_start\n",
        "\n",
        "            # Pad sequence and obtain inputs to model \n",
        "            input_ids, token_type_ids, attention_mask = self.padding(input_ids_question, input_ids_paragraph)\n",
        "            return torch.tensor(input_ids), torch.tensor(token_type_ids), torch.tensor(attention_mask), answer_start_token, answer_end_token\n",
        "\n",
        "        # Validation/Testing\n",
        "        else:\n",
        "            input_ids_list, token_type_ids_list, attention_mask_list = [], [], []\n",
        "            \n",
        "            # Paragraph is split into several windows, each with start positions separated by step \"doc_stride\"\n",
        "            for i in range(0, len(tokenized_paragraph), self.doc_stride):\n",
        "                \n",
        "                # Slice question/paragraph and add special tokens (101: CLS, 102: SEP)\n",
        "                input_ids_question = [101] + tokenized_question.ids[:self.max_question_len] + [102]\n",
        "                input_ids_paragraph = tokenized_paragraph.ids[i : i + self.max_paragraph_len] + [102]\n",
        "                \n",
        "                # Pad sequence and obtain inputs to model\n",
        "                input_ids, token_type_ids, attention_mask = self.padding(input_ids_question, input_ids_paragraph)\n",
        "                \n",
        "                input_ids_list.append(input_ids)\n",
        "                token_type_ids_list.append(token_type_ids)\n",
        "                attention_mask_list.append(attention_mask)\n",
        "            \n",
        "            return torch.tensor(input_ids_list), torch.tensor(token_type_ids_list), torch.tensor(attention_mask_list)\n",
        "\n",
        "    def padding(self, input_ids_question, input_ids_paragraph):\n",
        "        # Pad zeros if sequence length is shorter than max_seq_len\n",
        "        padding_len = self.max_seq_len - len(input_ids_question) - len(input_ids_paragraph)\n",
        "        # Indices of input sequence tokens in the vocabulary\n",
        "        input_ids = input_ids_question + input_ids_paragraph + [0] * padding_len\n",
        "        # Segment token indices to indicate first and second portions of the inputs. Indices are selected in [0, 1]\n",
        "        token_type_ids = [0] * len(input_ids_question) + [1] * len(input_ids_paragraph) + [0] * padding_len\n",
        "        # Mask to avoid performing attention on padding token indices. Mask values selected in [0, 1]\n",
        "        attention_mask = [1] * (len(input_ids_question) + len(input_ids_paragraph)) + [0] * padding_len\n",
        "        \n",
        "        return input_ids, token_type_ids, attention_mask\n",
        "\n",
        "train_set = QA_Dataset(\"train\", train_questions, train_questions_tokenized, train_paragraphs_tokenized)\n",
        "dev_set = QA_Dataset(\"dev\", dev_questions, dev_questions_tokenized, dev_paragraphs_tokenized)\n",
        "test_set = QA_Dataset(\"test\", test_questions, test_questions_tokenized, test_paragraphs_tokenized)\n",
        "\n",
        "train_batch_size = 16\n",
        "\n",
        "# Note: Do NOT change batch size of dev_loader / test_loader !\n",
        "# Although batch size=1, it is actually a batch consisting of several windows from the same QA pair\n",
        "train_loader = DataLoader(train_set, batch_size=train_batch_size, shuffle=True, pin_memory=True)\n",
        "dev_loader = DataLoader(dev_set, batch_size=1, shuffle=False, pin_memory=True)\n",
        "test_loader = DataLoader(test_set, batch_size=1, shuffle=False, pin_memory=True)"
      ],
      "execution_count": 20,
      "outputs": []
    },
    {
      "cell_type": "markdown",
      "metadata": {
        "id": "5_H1kqhR8CdM"
      },
      "source": [
        "## Function for Evaluation"
      ]
    },
    {
      "cell_type": "code",
      "metadata": {
        "id": "SqeA3PLPxOHu"
      },
      "source": [
        "def evaluate(data, output):\n",
        "    ##### TODO: Postprocessing #####\n",
        "    # There is a bug and room for improvement in postprocessing \n",
        "    # Hint: Open your prediction file to see what is wrong \n",
        "    \n",
        "    answer = ''\n",
        "    max_prob = float('-inf')\n",
        "    num_of_windows = data[0].shape[1]\n",
        "    \n",
        "    for k in range(num_of_windows):\n",
        "        # Obtain answer by choosing the most probable start position / end position\n",
        "        start_prob, start_index = torch.max(output.start_logits[k], dim=0)\n",
        "        end_prob, end_index = torch.max(output.end_logits[k], dim=0)\n",
        "        \n",
        "        # Probability of answer is calculated as sum of start_prob and end_prob\n",
        "        prob = start_prob + end_prob\n",
        "        \n",
        "        # Replace answer if calculated probability is larger than previous windows\n",
        "        if prob > max_prob:\n",
        "            max_prob = prob\n",
        "            # Convert tokens to chars (e.g. [1920, 7032] --> \"大 金\")\n",
        "            answer = tokenizer.decode(data[0][0][k][start_index : end_index + 1])\n",
        "    \n",
        "    # Remove spaces in answer (e.g. \"大 金\" --> \"大金\")\n",
        "    return answer.replace(' ','')"
      ],
      "execution_count": 21,
      "outputs": []
    },
    {
      "cell_type": "markdown",
      "metadata": {
        "id": "rzHQit6eMnKG"
      },
      "source": [
        "## Training"
      ]
    },
    {
      "cell_type": "code",
      "metadata": {
        "id": "3Q-B6ka7xoCM",
        "colab": {
          "base_uri": "https://localhost:8080/",
          "height": 1000,
          "referenced_widgets": [
            "1c9b9b01b606458dae7ee0040a1fa79a",
            "1d00e364911b425f8168eaef046fb2df",
            "15965d6bb2d8486b837aae8324fa795a",
            "53cb6505c1fa4cee85cd5d72a6f50d29",
            "8e706e15e09e402a9e093507b7cdba32",
            "558a4a67ab3944689e53cec4baf17df6",
            "da7b80e71a494862b18d44588b25ca36",
            "9296136545cc46ae8da2106fbeb3e503",
            "dfb6b04c315b465884536a0a52518ede",
            "fa9f81fcb2514c72b58f142a69f0beda",
            "26ec822124f64262839fc3367c474b98",
            "02afb1e75b6941d4a1cc3cd5e6e11c31",
            "a92a87b6bed24602ab77e64d11ee7a82",
            "be29e951155943c381d2f54d2ba53b66",
            "e45e2b0fb0f44105b27aadd7e231a856",
            "c21086b7dd3b47f993a78a85cb0422eb",
            "ee30d7bb39d641da99a4d5d405d0ef6f",
            "0b31b58789f9443bb113a5948be5eeed",
            "f0b6fa4826ba47cfb9f884a9365f200a",
            "19da427faea34244b623396ed2ccbf2f",
            "38358563982449cb9fbc267613bd042d",
            "d8ef7bb8082944f380885bc94c04328c",
            "0c513b78f57c45bca70039653656cfd0",
            "47f8017bd1c343888e32615333086e14",
            "894f638b16c4416bb4247cc24f94f999",
            "5b1ee6b6b664425d937741ce06f52c51",
            "a1e3ca5d40a24641a148eb530167769a",
            "3e5a2cc20b9a43c7838b75954f55566b",
            "dd9a789c1ff241899a151fdb3a93f29f",
            "eaba0f79ce1744c781e934260608ae12",
            "2487d7772200460387eb6527e538dd56",
            "21452871b6cf4acaa166cb74a87b16f8",
            "85a82fe58950426b8522ce59a1b79814",
            "473858cfa897422084e0457ad4084880",
            "6911fb6154084dd5a113c276099d0612",
            "5969944e7d6142b285cd6eee8771eba1",
            "8004c8e4285d4400a74b93bfbc03ad75",
            "b73a59414dff45cbbda6315a1582ac5d",
            "9113a9f30c56459b8faf5f3b4439606d",
            "6982c24f07ae43d49978778f2f1c230e",
            "d3b063be65414cd2916da209faab4409",
            "2593c8bf392a4fe7bdd8ca050102fb7e",
            "ae0b3d33f3be4745b7fd4f81463a1f3e",
            "c4f104b0087742dbbad254526a95de7d",
            "7a73c20037b44815bf6d14568bf63469",
            "ef532ce633c248e2b253be3571078f66",
            "39867cf5949d42abb125690a2cf9d40d",
            "c0fdbeb3e1b0473694343576a61e313d"
          ]
        },
        "outputId": "8a3b11fb-5114-46f0-a6f9-63136701da88"
      },
      "source": [
        "num_epoch = 3\n",
        "validation = True\n",
        "logging_step = 100\n",
        "learning_rate = 3e-5\n",
        "optimizer = AdamW(model.parameters(), lr=learning_rate)\n",
        "total_steps = len(train_loader) * num_epoch\n",
        "scheduler = get_linear_schedule_with_warmup(optimizer, num_warmup_steps=0, num_training_steps=total_steps)\n",
        "\n",
        "if fp16_training:\n",
        "    model, optimizer, train_loader = accelerator.prepare(model, optimizer, train_loader) \n",
        "\n",
        "model.train()\n",
        "\n",
        "print(\"Start Training ...\")\n",
        "\n",
        "for epoch in range(num_epoch):\n",
        "    step = 1\n",
        "    train_loss = train_acc = 0\n",
        "    \n",
        "    for data in tqdm(train_loader):\t\n",
        "        # Load all data into GPU\n",
        "        data = [i.to(device) for i in data]\n",
        "        \n",
        "        # Model inputs: input_ids, token_type_ids, attention_mask, start_positions, end_positions (Note: only \"input_ids\" is mandatory)\n",
        "        # Model outputs: start_logits, end_logits, loss (return when start_positions/end_positions are provided)  \n",
        "        output = model(input_ids=data[0], token_type_ids=data[1], attention_mask=data[2], start_positions=data[3], end_positions=data[4])\n",
        "\n",
        "        # Choose the most probable start position / end position\n",
        "        start_index = torch.argmax(output.start_logits, dim=1)\n",
        "        end_index = torch.argmax(output.end_logits, dim=1)\n",
        "        \n",
        "        # Prediction is correct only if both start_index and end_index are correct\n",
        "        train_acc += ((start_index == data[3]) & (end_index == data[4])).float().mean()\n",
        "        train_loss += output.loss\n",
        "        \n",
        "        if fp16_training:\n",
        "            accelerator.backward(output.loss)\n",
        "        else:\n",
        "            output.loss.backward()\n",
        "        \n",
        "        optimizer.step()\n",
        "        optimizer.zero_grad()\n",
        "        step += 1\n",
        "\n",
        "        ##### TODO: Apply linear learning rate decay #####\n",
        "        scheduler.step()\n",
        "\n",
        "        # Print training loss and accuracy over past logging step\n",
        "        if step % logging_step == 0:\n",
        "            print(f\"Epoch {epoch + 1} | Step {step} | loss = {train_loss.item() / logging_step:.3f}, acc = {train_acc / logging_step:.3f}\")\n",
        "            train_loss = train_acc = 0\n",
        "\n",
        "    if validation:\n",
        "        print(\"Evaluating Dev Set ...\")\n",
        "        model.eval()\n",
        "        with torch.no_grad():\n",
        "            dev_acc = 0\n",
        "            for i, data in enumerate(tqdm(dev_loader)):\n",
        "                output = model(input_ids=data[0].squeeze(dim=0).to(device), token_type_ids=data[1].squeeze(dim=0).to(device),\n",
        "                       attention_mask=data[2].squeeze(dim=0).to(device))\n",
        "                # prediction is correct only if answer text exactly matches\n",
        "                dev_acc += evaluate(data, output) == dev_questions[i][\"answer_text\"]\n",
        "            print(f\"Validation | Epoch {epoch + 1} | acc = {dev_acc / len(dev_loader):.3f}\")\n",
        "        model.train()\n",
        "\n",
        "# Save a model and its configuration file to the directory 「saved_model」 \n",
        "# i.e. there are two files under the direcory 「saved_model」: 「pytorch_model.bin」 and 「config.json」\n",
        "# Saved model can be re-loaded using 「model = BertForQuestionAnswering.from_pretrained(\"saved_model\")」\n",
        "print(\"Saving Model ...\")\n",
        "model_save_dir = \"saved_model\" \n",
        "model.save_pretrained(model_save_dir)"
      ],
      "execution_count": 22,
      "outputs": [
        {
          "output_type": "stream",
          "text": [
            "Start Training ...\n"
          ],
          "name": "stdout"
        },
        {
          "output_type": "display_data",
          "data": {
            "application/vnd.jupyter.widget-view+json": {
              "model_id": "1c9b9b01b606458dae7ee0040a1fa79a",
              "version_minor": 0,
              "version_major": 2
            },
            "text/plain": [
              "HBox(children=(FloatProgress(value=0.0, max=1684.0), HTML(value='')))"
            ]
          },
          "metadata": {
            "tags": []
          }
        },
        {
          "output_type": "stream",
          "text": [
            "/usr/local/lib/python3.7/dist-packages/torch/optim/lr_scheduler.py:134: UserWarning: Detected call of `lr_scheduler.step()` before `optimizer.step()`. In PyTorch 1.1.0 and later, you should call them in the opposite order: `optimizer.step()` before `lr_scheduler.step()`.  Failure to do this will result in PyTorch skipping the first value of the learning rate schedule. See more details at https://pytorch.org/docs/stable/optim.html#how-to-adjust-learning-rate\n",
            "  \"https://pytorch.org/docs/stable/optim.html#how-to-adjust-learning-rate\", UserWarning)\n"
          ],
          "name": "stderr"
        },
        {
          "output_type": "stream",
          "text": [
            "Epoch 1 | Step 100 | loss = 1.333, acc = 0.511\n",
            "Epoch 1 | Step 200 | loss = 0.776, acc = 0.670\n",
            "Epoch 1 | Step 300 | loss = 0.689, acc = 0.699\n",
            "Epoch 1 | Step 400 | loss = 0.617, acc = 0.722\n",
            "Epoch 1 | Step 500 | loss = 0.641, acc = 0.729\n",
            "Epoch 1 | Step 600 | loss = 0.566, acc = 0.749\n",
            "Epoch 1 | Step 700 | loss = 0.572, acc = 0.759\n",
            "Epoch 1 | Step 800 | loss = 0.543, acc = 0.767\n",
            "Epoch 1 | Step 900 | loss = 0.511, acc = 0.774\n",
            "Epoch 1 | Step 1000 | loss = 0.519, acc = 0.768\n",
            "Epoch 1 | Step 1100 | loss = 0.544, acc = 0.781\n",
            "Epoch 1 | Step 1200 | loss = 0.443, acc = 0.803\n",
            "Epoch 1 | Step 1300 | loss = 0.484, acc = 0.782\n",
            "Epoch 1 | Step 1400 | loss = 0.525, acc = 0.768\n",
            "Epoch 1 | Step 1500 | loss = 0.493, acc = 0.786\n",
            "Epoch 1 | Step 1600 | loss = 0.461, acc = 0.797\n",
            "\n",
            "Evaluating Dev Set ...\n"
          ],
          "name": "stdout"
        },
        {
          "output_type": "display_data",
          "data": {
            "application/vnd.jupyter.widget-view+json": {
              "model_id": "dfb6b04c315b465884536a0a52518ede",
              "version_minor": 0,
              "version_major": 2
            },
            "text/plain": [
              "HBox(children=(FloatProgress(value=0.0, max=3524.0), HTML(value='')))"
            ]
          },
          "metadata": {
            "tags": []
          }
        },
        {
          "output_type": "stream",
          "text": [
            "\n",
            "Validation | Epoch 1 | acc = 0.777\n"
          ],
          "name": "stdout"
        },
        {
          "output_type": "display_data",
          "data": {
            "application/vnd.jupyter.widget-view+json": {
              "model_id": "ee30d7bb39d641da99a4d5d405d0ef6f",
              "version_minor": 0,
              "version_major": 2
            },
            "text/plain": [
              "HBox(children=(FloatProgress(value=0.0, max=1684.0), HTML(value='')))"
            ]
          },
          "metadata": {
            "tags": []
          }
        },
        {
          "output_type": "stream",
          "text": [
            "Epoch 2 | Step 100 | loss = 0.275, acc = 0.857\n",
            "Epoch 2 | Step 200 | loss = 0.260, acc = 0.869\n",
            "Epoch 2 | Step 300 | loss = 0.229, acc = 0.882\n",
            "Epoch 2 | Step 400 | loss = 0.239, acc = 0.885\n",
            "Epoch 2 | Step 500 | loss = 0.278, acc = 0.874\n",
            "Epoch 2 | Step 600 | loss = 0.227, acc = 0.888\n",
            "Epoch 2 | Step 700 | loss = 0.235, acc = 0.881\n",
            "Epoch 2 | Step 800 | loss = 0.231, acc = 0.884\n",
            "Epoch 2 | Step 900 | loss = 0.231, acc = 0.884\n",
            "Epoch 2 | Step 1000 | loss = 0.221, acc = 0.889\n",
            "Epoch 2 | Step 1100 | loss = 0.252, acc = 0.871\n",
            "Epoch 2 | Step 1200 | loss = 0.227, acc = 0.886\n",
            "Epoch 2 | Step 1300 | loss = 0.208, acc = 0.886\n",
            "Epoch 2 | Step 1400 | loss = 0.232, acc = 0.885\n",
            "Epoch 2 | Step 1500 | loss = 0.227, acc = 0.877\n",
            "Epoch 2 | Step 1600 | loss = 0.243, acc = 0.877\n",
            "\n",
            "Evaluating Dev Set ...\n"
          ],
          "name": "stdout"
        },
        {
          "output_type": "display_data",
          "data": {
            "application/vnd.jupyter.widget-view+json": {
              "model_id": "894f638b16c4416bb4247cc24f94f999",
              "version_minor": 0,
              "version_major": 2
            },
            "text/plain": [
              "HBox(children=(FloatProgress(value=0.0, max=3524.0), HTML(value='')))"
            ]
          },
          "metadata": {
            "tags": []
          }
        },
        {
          "output_type": "stream",
          "text": [
            "\n",
            "Validation | Epoch 2 | acc = 0.785\n"
          ],
          "name": "stdout"
        },
        {
          "output_type": "display_data",
          "data": {
            "application/vnd.jupyter.widget-view+json": {
              "model_id": "85a82fe58950426b8522ce59a1b79814",
              "version_minor": 0,
              "version_major": 2
            },
            "text/plain": [
              "HBox(children=(FloatProgress(value=0.0, max=1684.0), HTML(value='')))"
            ]
          },
          "metadata": {
            "tags": []
          }
        },
        {
          "output_type": "stream",
          "text": [
            "Epoch 3 | Step 100 | loss = 0.107, acc = 0.931\n",
            "Epoch 3 | Step 200 | loss = 0.102, acc = 0.947\n",
            "Epoch 3 | Step 300 | loss = 0.102, acc = 0.949\n",
            "Epoch 3 | Step 400 | loss = 0.091, acc = 0.957\n",
            "Epoch 3 | Step 500 | loss = 0.100, acc = 0.939\n",
            "Epoch 3 | Step 600 | loss = 0.088, acc = 0.955\n",
            "Epoch 3 | Step 700 | loss = 0.118, acc = 0.941\n",
            "Epoch 3 | Step 800 | loss = 0.120, acc = 0.924\n",
            "Epoch 3 | Step 900 | loss = 0.127, acc = 0.929\n",
            "Epoch 3 | Step 1000 | loss = 0.103, acc = 0.942\n",
            "Epoch 3 | Step 1100 | loss = 0.114, acc = 0.934\n",
            "Epoch 3 | Step 1200 | loss = 0.102, acc = 0.946\n",
            "Epoch 3 | Step 1300 | loss = 0.094, acc = 0.950\n",
            "Epoch 3 | Step 1400 | loss = 0.092, acc = 0.951\n",
            "Epoch 3 | Step 1500 | loss = 0.086, acc = 0.954\n",
            "Epoch 3 | Step 1600 | loss = 0.090, acc = 0.953\n",
            "\n",
            "Evaluating Dev Set ...\n"
          ],
          "name": "stdout"
        },
        {
          "output_type": "display_data",
          "data": {
            "application/vnd.jupyter.widget-view+json": {
              "model_id": "d3b063be65414cd2916da209faab4409",
              "version_minor": 0,
              "version_major": 2
            },
            "text/plain": [
              "HBox(children=(FloatProgress(value=0.0, max=3524.0), HTML(value='')))"
            ]
          },
          "metadata": {
            "tags": []
          }
        },
        {
          "output_type": "stream",
          "text": [
            "\n",
            "Validation | Epoch 3 | acc = 0.789\n",
            "Saving Model ...\n"
          ],
          "name": "stdout"
        }
      ]
    },
    {
      "cell_type": "markdown",
      "metadata": {
        "id": "kMmdLOKBMsdE"
      },
      "source": [
        "## Testing"
      ]
    },
    {
      "cell_type": "code",
      "metadata": {
        "id": "ukUJvpqJAtHe"
      },
      "source": [
        "# Postprocessing\n",
        "\n",
        "def postprocessing(result, index):\n",
        "    if result:\n",
        "        if result.find('[UNK]') != -1:\n",
        "            print(f'ID {index} Before : {result}')\n",
        "            if result[:result.find('[UNK]')] != '' and result[result.find('[UNK]') + len('[UNK]') + 1:] != '':\n",
        "                start = test_paragraphs[test_questions[index]['paragraph_id']].find(result[:result.find('[UNK]')]) + len(result[: result.find('[UNK]')])\n",
        "                end = test_paragraphs[test_questions[index]['paragraph_id']].find(result[result.find('[UNK]') + len('[UNK]') + 1:])\n",
        "                target = test_paragraphs[test_questions[index]['paragraph_id']][start: end - 1]\n",
        "\n",
        "                if len(target) < 10:\n",
        "                    print(f'Target: {target}')\n",
        "                    result = result.replace('[UNK]', target)\n",
        "                else:\n",
        "                    start = test_paragraphs[test_questions[index]['paragraph_id']].find(result[result.find('[UNK]') - 1])\n",
        "                    target = test_paragraphs[test_questions[index]['paragraph_id']][start + 1]\n",
        "                    result = result.replace('[UNK]', target)\n",
        "                print(f'ID {index} After  : {result}')\n",
        "            else:\n",
        "                start = test_paragraphs[test_questions[index]['paragraph_id']].find(result[result.find('[UNK]') - 1])\n",
        "                target = test_paragraphs[test_questions[index]['paragraph_id']][start + 1]\n",
        "                result = result.replace('[UNK]', target)\n",
        "                print(f'ID {index} After  : {result}')\n",
        "             \n",
        "        if result[0] == '，' or result[0] == '。':\n",
        "            print(f'ID {index} Before : {result}')\n",
        "            result = result[1:]\n",
        "            print(f'ID {index} After  : {result}')\n",
        "\n",
        "        if result[0] == '《' and result[-1] != '》' and result.find('》') == -1:\n",
        "            print(f'ID {index} Before : {result}')\n",
        "            result = result + '》'\n",
        "            print(f'ID {index} After  : {result}')\n",
        "        \n",
        "        if result[0] != '《' and result[-1] == '》' and result.find('《') == -1:\n",
        "            print(f'ID {index} Before : {result}')\n",
        "            result = '《' + result  \n",
        "            print(f'ID {index} After  : {result}')\n",
        "        \n",
        "    return result"
      ],
      "execution_count": 26,
      "outputs": []
    },
    {
      "cell_type": "code",
      "metadata": {
        "id": "NKHn4os3qlcK",
        "colab": {
          "base_uri": "https://localhost:8080/"
        },
        "outputId": "a53b771b-68b8-4962-ae97-86eeea5fe27a"
      },
      "source": [
        "# For test\n",
        "\n",
        "data = '部份香港政府機關在九龍灣設置總部，包括機電工程署總部大樓、香港輔助警察隊總部，郵政署亦於2013年在該處設立中央郵件中心。附近亦有九龍灣運動場、公園、體育館等公共設施。九龍灣國際展貿中心是香港主要的國際商品展覽會場之一，附設的辦公室亦可作不同產品陳列室之用。現時國際展貿中心仍繼續舉辦不同的國際展覽，亦會不時舉辦演唱會。2007年，自大型購物中心MegaBox開幕後，改變了九龍灣作為工廠、物流倉庫的印象。MegaBox商場高18層，佔地達110萬平方呎，是觀塘區最大型的購物商場，當中的大型商戶有宜家傢俬、AEON、IMAX影院等。區內的寫字樓自2006年起不斷增建，包括企業廣場三期、國際交易中心、Manhattan Place、傲騰廣場及億京中心等，成為東九龍新商業中心。2012年，香港首座零碳建築零碳天地落成，為香港政府宣布《起動九龍東》計劃後，成為九龍東首批標誌性項目之一。九龍灣也有一些住宅區，有兩大私人屋苑，分別是九龍灣站上蓋的德福花園及麗晶花園。'\n",
        "text = '大型購物中心[UNK]開幕'\n",
        "\n",
        "start_index = data.find(text[: text.find('[UNK]')]) + len(text[: text.find('[UNK]')])\n",
        "end_index = data.find(text[text.find('[UNK]') + len('[UNK]') + 1:])\n",
        "\n",
        "if text[text.find('[UNK]') + len('[UNK]') + 1:]:\n",
        "    print('ok')\n",
        "\n",
        "print(text[: text.find('[UNK]')])\n",
        "print(text[text.find('[UNK]') + len('[UNK]') + 1:])\n",
        "\n",
        "target = data[start_index: end_index - 1]\n",
        "print(target)\n",
        "text = text.replace('[UNK]', target)\n",
        "print(text)"
      ],
      "execution_count": 24,
      "outputs": [
        {
          "output_type": "stream",
          "text": [
            "大型購物中心\n",
            "\n",
            "MegaBox開幕後，改變了九龍灣作為工廠、物流倉庫的印象。MegaBox商場高18層，佔地達110萬平方呎，是觀塘區最大型的購物商場，當中的大型商戶有宜家傢俬、AEON、IMAX影院等。區內的寫字樓自2006年起不斷增建，包括企業廣場三期、國際交易中心、Manhattan Place、傲騰廣場及億京中心等，成為東九龍新商業中心。2012年，香港首座零碳建築零碳天地落成，為香港政府宣布《起動九龍東》計劃後，成為九龍東首批標誌性項目之一。九龍灣也有一些住宅區，有兩大私人屋苑，分別是九龍灣站上蓋的德福花園及麗晶花園\n",
            "大型購物中心MegaBox開幕後，改變了九龍灣作為工廠、物流倉庫的印象。MegaBox商場高18層，佔地達110萬平方呎，是觀塘區最大型的購物商場，當中的大型商戶有宜家傢俬、AEON、IMAX影院等。區內的寫字樓自2006年起不斷增建，包括企業廣場三期、國際交易中心、Manhattan Place、傲騰廣場及億京中心等，成為東九龍新商業中心。2012年，香港首座零碳建築零碳天地落成，為香港政府宣布《起動九龍東》計劃後，成為九龍東首批標誌性項目之一。九龍灣也有一些住宅區，有兩大私人屋苑，分別是九龍灣站上蓋的德福花園及麗晶花園\n"
          ],
          "name": "stdout"
        }
      ]
    },
    {
      "cell_type": "code",
      "metadata": {
        "id": "U5scNKC9xz0C",
        "colab": {
          "base_uri": "https://localhost:8080/",
          "height": 1000,
          "referenced_widgets": [
            "60f7fdae2e5e43f4b19e1d45007b7f8b",
            "868fc5ff5ef84da1883aba866124e13c",
            "4b2107ec50d04da0a8aa87bea887456d",
            "ff28c155eefb4897abb7e131f900573c",
            "9792a03f6b924cb795aad6ba03adaef5",
            "50e41208119e4d689cd389f8631e20fb",
            "12ff16fcbac44e478f319d17c2379d52",
            "37aa3c3f19a442669614bfd0af97815a"
          ]
        },
        "outputId": "b5df5e68-a935-4120-d46a-b506e5ed23e6"
      },
      "source": [
        "print(\"Evaluating Test Set ...\")\n",
        "\n",
        "result = []\n",
        "\n",
        "model.eval()\n",
        "with torch.no_grad():\n",
        "    for data in tqdm(test_loader):\n",
        "        output = model(input_ids=data[0].squeeze(dim=0).to(device), token_type_ids=data[1].squeeze(dim=0).to(device),\n",
        "                       attention_mask=data[2].squeeze(dim=0).to(device))\n",
        "        result.append(evaluate(data, output))\n",
        "\n",
        "result_file = \"result.csv\"\n",
        "with open(result_file, 'w') as f:\t\n",
        "\t  f.write(\"ID,Answer\\n\")\n",
        "\t  for i, test_question in enumerate(test_questions):\n",
        "        # Replace commas in answers with empty strings (since csv is separated by comma)\n",
        "        # Answers in kaggle are processed in the same way\n",
        "                result[i] = postprocessing(result[i], i)\n",
        "                f.write(f\"{test_question['id']},{result[i].replace(',','')}\\n\")\n",
        "\n",
        "print(f\"Completed! Result is in {result_file}\")"
      ],
      "execution_count": 27,
      "outputs": [
        {
          "output_type": "stream",
          "text": [
            "Evaluating Test Set ...\n"
          ],
          "name": "stdout"
        },
        {
          "output_type": "display_data",
          "data": {
            "application/vnd.jupyter.widget-view+json": {
              "model_id": "60f7fdae2e5e43f4b19e1d45007b7f8b",
              "version_minor": 0,
              "version_major": 2
            },
            "text/plain": [
              "HBox(children=(FloatProgress(value=0.0, max=3493.0), HTML(value='')))"
            ]
          },
          "metadata": {
            "tags": []
          }
        },
        {
          "output_type": "stream",
          "text": [
            "\n",
            "ID 250 Before : 溥[UNK]\n",
            "ID 250 After  : 溥儁\n",
            "ID 261 Before : 商業及人均[UNK]都不如\n",
            "Target: GDP\n",
            "ID 261 After  : 商業及人均GDP都不如\n",
            "ID 332 Before : 目前沒有觀察到任何語言純[UNK]以力道來區分不同輔音\n",
            "Target: 綷\n",
            "ID 332 After  : 目前沒有觀察到任何語言純綷以力道來區分不同輔音\n",
            "ID 490 Before : [UNK][UNK]\n",
            "ID 490 After  : 高高\n",
            "ID 553 Before : 欸樓逼[UNK]1806-20\n",
            "Target: 咇\n",
            "ID 553 After  : 欸樓逼咇1806-20\n",
            "ID 563 Before : 馬[UNK]\n",
            "ID 563 After  : 馬馼\n",
            "ID 635 Before : 東晉常[UNK]\n",
            "ID 635 After  : 東晉常璩\n",
            "ID 938 Before : [UNK]稻\n",
            "ID 938 After  : 米稻\n",
            "ID 991 Before : 白[UNK]紀滅絕事件\n",
            "ID 991 After  : 白堊紀滅絕事件\n",
            "ID 1007 Before : 欸樓逼[UNK]1806-20\n",
            "Target: 咇\n",
            "ID 1007 After  : 欸樓逼咇1806-20\n",
            "ID 1212 Before : [UNK]州縣實際解散\n",
            "ID 1212 After  : ，州縣實際解散\n",
            "ID 1212 Before : ，州縣實際解散\n",
            "ID 1212 After  : 州縣實際解散\n",
            "ID 1423 Before : 抗佝[UNK]病\n",
            "ID 1423 After  : 抗佝僂病\n",
            "ID 1476 Before : [UNK]總能量\n",
            "ID 1476 After  : 是總能量\n",
            "ID 1494 Before : [UNK]以下的聲音對基底膜的影響\n",
            "ID 1494 After  : 。以下的聲音對基底膜的影響\n",
            "ID 1494 Before : 。以下的聲音對基底膜的影響\n",
            "ID 1494 After  : 以下的聲音對基底膜的影響\n",
            "ID 1502 Before : [UNK]\n",
            "ID 1502 After  : 雷\n",
            "ID 1533 Before : 落馬洲支線穿過[UNK]原濕地\n",
            "Target: 塱\n",
            "ID 1533 After  : 落馬洲支線穿過塱原濕地\n",
            "ID 1534 Before : 杭州[UNK]橋機場\n",
            "Target: 筧\n",
            "ID 1534 After  : 杭州筧橋機場\n",
            "ID 1557 Before : 蔡[UNK]\n",
            "ID 1557 After  : 蔡鍔\n",
            "ID 1666 Before : [UNK]\n",
            "ID 1666 After  : 生\n",
            "ID 1680 Before : 丁[UNK]\n",
            "ID 1680 After  : 丁旿\n",
            "ID 1750 Before : 隋[UNK]帝\n",
            "ID 1750 After  : 隋朝帝\n",
            "ID 1812 Before : [UNK]\n",
            "ID 1812 After  : 白\n",
            "ID 1913 Before : 胡季[UNK]\n",
            "ID 1913 After  : 胡季犛\n",
            "ID 2042 Before : 其英文縮寫首字母為「[UNK]·ㄎㄟ·ㄨㄞ」\n",
            "Target: ㄟㄙ\n",
            "ID 2042 After  : 其英文縮寫首字母為「ㄟㄙ·ㄎㄟ·ㄨㄞ」\n",
            "ID 2128 Before : [UNK]-16\n",
            "ID 2128 After  : ，-16\n",
            "ID 2128 Before : ，-16\n",
            "ID 2128 After  : -16\n",
            "ID 2242 Before : [UNK]-51戰鬥機\n",
            "ID 2242 After  : 對-51戰鬥機\n",
            "ID 2275 Before : [UNK]\n",
            "ID 2275 After  : 生\n",
            "ID 2349 Before : 憲法》\n",
            "ID 2349 After  : 《憲法》\n",
            "ID 2393 Before : [UNK]連線酶\n",
            "ID 2393 After  : ，連線酶\n",
            "ID 2393 Before : ，連線酶\n",
            "ID 2393 After  : 連線酶\n",
            "ID 2398 Before : 梁[UNK]\n",
            "ID 2398 After  : 梁鵠\n",
            "ID 2434 Before : [UNK]\n",
            "ID 2434 After  : 因\n",
            "ID 2512 Before : [UNK]靼海峽\n",
            "ID 2512 After  : 。靼海峽\n",
            "ID 2512 Before : 。靼海峽\n",
            "ID 2512 After  : 靼海峽\n",
            "ID 2619 Before : 白[UNK]紀末滅絕事件\n",
            "ID 2619 After  : 白堊紀末滅絕事件\n",
            "ID 2753 Before : [UNK]集團\n",
            "ID 2753 After  : 各集團\n",
            "ID 2767 Before : 侏[UNK]紀\n",
            "ID 2767 After  : 侏儸紀\n",
            "ID 2958 Before : 《國防報告書\n",
            "ID 2958 After  : 《國防報告書》\n",
            "ID 3004 Before : 日韓合併條約》\n",
            "ID 3004 After  : 《日韓合併條約》\n",
            "ID 3026 Before : 克里米亞[UNK]靼人\n",
            "Target: \n",
            "ID 3026 After  : 克里米亞靼人\n",
            "ID 3166 Before : [UNK]\n",
            "ID 3166 After  : 重\n",
            "ID 3169 Before : [UNK].[UNK].[UNK][UNK]\n",
            "ID 3169 After  : 南.南.南南\n",
            "ID 3369 Before : 白[UNK]紀中期\n",
            "Target: 堊\n",
            "ID 3369 After  : 白堊紀中期\n",
            "ID 3430 Before : 美國[UNK]電視台\n",
            "ID 3430 After  : 美國暢電視台\n",
            "Completed! Result is in result.csv\n"
          ],
          "name": "stdout"
        }
      ]
    },
    {
      "cell_type": "code",
      "metadata": {
        "id": "sR4NKfwTfcM1",
        "colab": {
          "base_uri": "https://localhost:8080/",
          "height": 17
        },
        "outputId": "4e38677c-d382-40de-a4d8-0c452a51cee1"
      },
      "source": [
        "from google.colab import files\n",
        "files.download(\"result.csv\")"
      ],
      "execution_count": 28,
      "outputs": [
        {
          "output_type": "display_data",
          "data": {
            "application/javascript": [
              "\n",
              "    async function download(id, filename, size) {\n",
              "      if (!google.colab.kernel.accessAllowed) {\n",
              "        return;\n",
              "      }\n",
              "      const div = document.createElement('div');\n",
              "      const label = document.createElement('label');\n",
              "      label.textContent = `Downloading \"${filename}\": `;\n",
              "      div.appendChild(label);\n",
              "      const progress = document.createElement('progress');\n",
              "      progress.max = size;\n",
              "      div.appendChild(progress);\n",
              "      document.body.appendChild(div);\n",
              "\n",
              "      const buffers = [];\n",
              "      let downloaded = 0;\n",
              "\n",
              "      const channel = await google.colab.kernel.comms.open(id);\n",
              "      // Send a message to notify the kernel that we're ready.\n",
              "      channel.send({})\n",
              "\n",
              "      for await (const message of channel.messages) {\n",
              "        // Send a message to notify the kernel that we're ready.\n",
              "        channel.send({})\n",
              "        if (message.buffers) {\n",
              "          for (const buffer of message.buffers) {\n",
              "            buffers.push(buffer);\n",
              "            downloaded += buffer.byteLength;\n",
              "            progress.value = downloaded;\n",
              "          }\n",
              "        }\n",
              "      }\n",
              "      const blob = new Blob(buffers, {type: 'application/binary'});\n",
              "      const a = document.createElement('a');\n",
              "      a.href = window.URL.createObjectURL(blob);\n",
              "      a.download = filename;\n",
              "      div.appendChild(a);\n",
              "      a.click();\n",
              "      div.remove();\n",
              "    }\n",
              "  "
            ],
            "text/plain": [
              "<IPython.core.display.Javascript object>"
            ]
          },
          "metadata": {
            "tags": []
          }
        },
        {
          "output_type": "display_data",
          "data": {
            "application/javascript": [
              "download(\"download_e5444c16-6be4-4688-8afe-38021cf83f6a\", \"result.csv\", 66456)"
            ],
            "text/plain": [
              "<IPython.core.display.Javascript object>"
            ]
          },
          "metadata": {
            "tags": []
          }
        }
      ]
    },
    {
      "cell_type": "markdown",
      "metadata": {
        "id": "CMroJcDGQ9ci"
      },
      "source": [
        ""
      ]
    }
  ]
}